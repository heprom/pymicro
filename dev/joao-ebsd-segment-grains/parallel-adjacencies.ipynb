{
 "cells": [
  {
   "cell_type": "markdown",
   "metadata": {},
   "source": [
    "# data"
   ]
  },
  {
   "cell_type": "code",
   "execution_count": 1,
   "metadata": {},
   "outputs": [],
   "source": [
    "%load_ext autoreload"
   ]
  },
  {
   "cell_type": "code",
   "execution_count": 2,
   "metadata": {},
   "outputs": [
    {
     "name": "stderr",
     "output_type": "stream",
     "text": [
      "In /home/esrf/casagran/miniconda3/envs/pymicro-esrf-slurm-intel/lib/python3.9/site-packages/matplotlib/mpl-data/stylelib/_classic_test.mplstyle: \n",
      "The text.latex.preview rcparam was deprecated in Matplotlib 3.3 and will be removed two minor releases later.\n",
      "In /home/esrf/casagran/miniconda3/envs/pymicro-esrf-slurm-intel/lib/python3.9/site-packages/matplotlib/mpl-data/stylelib/_classic_test.mplstyle: \n",
      "The mathtext.fallback_to_cm rcparam was deprecated in Matplotlib 3.3 and will be removed two minor releases later.\n",
      "In /home/esrf/casagran/miniconda3/envs/pymicro-esrf-slurm-intel/lib/python3.9/site-packages/matplotlib/mpl-data/stylelib/_classic_test.mplstyle: Support for setting the 'mathtext.fallback_to_cm' rcParam is deprecated since 3.3 and will be removed two minor releases later; use 'mathtext.fallback : 'cm' instead.\n",
      "In /home/esrf/casagran/miniconda3/envs/pymicro-esrf-slurm-intel/lib/python3.9/site-packages/matplotlib/mpl-data/stylelib/_classic_test.mplstyle: \n",
      "The validate_bool_maybe_none function was deprecated in Matplotlib 3.3 and will be removed two minor releases later.\n",
      "In /home/esrf/casagran/miniconda3/envs/pymicro-esrf-slurm-intel/lib/python3.9/site-packages/matplotlib/mpl-data/stylelib/_classic_test.mplstyle: \n",
      "The savefig.jpeg_quality rcparam was deprecated in Matplotlib 3.3 and will be removed two minor releases later.\n",
      "In /home/esrf/casagran/miniconda3/envs/pymicro-esrf-slurm-intel/lib/python3.9/site-packages/matplotlib/mpl-data/stylelib/_classic_test.mplstyle: \n",
      "The keymap.all_axes rcparam was deprecated in Matplotlib 3.3 and will be removed two minor releases later.\n",
      "In /home/esrf/casagran/miniconda3/envs/pymicro-esrf-slurm-intel/lib/python3.9/site-packages/matplotlib/mpl-data/stylelib/_classic_test.mplstyle: \n",
      "The animation.avconv_path rcparam was deprecated in Matplotlib 3.3 and will be removed two minor releases later.\n",
      "In /home/esrf/casagran/miniconda3/envs/pymicro-esrf-slurm-intel/lib/python3.9/site-packages/matplotlib/mpl-data/stylelib/_classic_test.mplstyle: \n",
      "The animation.avconv_args rcparam was deprecated in Matplotlib 3.3 and will be removed two minor releases later.\n"
     ]
    },
    {
     "name": "stdout",
     "output_type": "stream",
     "text": [
      "Ti_ebsd_demo .h5\n",
      "reading EBSD scan Pattern cropped cleaned-Dil from file /home/esrf/casagran/pymicro/dev/joao-ebsd-segment-grains/Ti_ebsd_demo.h5\n"
     ]
    }
   ],
   "source": [
    "%autoreload 2\n",
    "from pathlib import Path\n",
    "from pymicro.crystal.ebsd import OimScan\n",
    "\n",
    "filename = \"Ti_ebsd_demo.h5\"\n",
    "filepath = Path(filename).absolute()\n",
    "assert filepath.exists()\n",
    "\n",
    "scan = OimScan.from_file(str(filepath))\n",
    "\n",
    "del filename, filepath"
   ]
  },
  {
   "cell_type": "markdown",
   "metadata": {},
   "source": [
    "# linear algo"
   ]
  },
  {
   "cell_type": "code",
   "execution_count": 3,
   "metadata": {},
   "outputs": [],
   "source": [
    "%autoreload 2\n",
    "import numpy as np\n",
    "from skimage.future.graph import RAG\n",
    "import itertools\n",
    "from scipy.spatial.distance import cdist\n",
    "import progressbar\n",
    "from pymicro.crystal.microstructure import Orientation\n",
    "from pymicro.crystal.lattice import Symmetry\n",
    "from skimage.future.graph import cut_threshold\n",
    "\n",
    "def skimage_method(scan_):\n",
    "    shape = scan_.iq.shape\n",
    "    size = shape[0] * shape[1]\n",
    "    # each pixel has its own label\n",
    "    labels = np.arange(size).reshape(shape)\n",
    "    rag = RAG(label_image=labels, connectivity=1) \n",
    "    for node in rag.nodes:\n",
    "        rag.nodes[node]['labels'] = [node]\n",
    "    pixel_indices = np.array(list(itertools.product(range(shape[0]), range(shape[1]))))\n",
    "    pixel_position_distances = cdist(pixel_indices, pixel_indices, metric='cityblock')\n",
    "    pixels_to_get = np.stack(np.where(pixel_position_distances == 1)).T\n",
    "    pixels_to_get = pixels_to_get[pixels_to_get[:, 0] < pixels_to_get[:, 1]]  # get rid of duplicates\n",
    "    for pix1_idx, pix2_idx in progressbar.progressbar(pixels_to_get):\n",
    "        pixel1_pos = tuple(pixel_indices[pix1_idx])\n",
    "        pixel2_pos = tuple(pixel_indices[pix2_idx])\n",
    "        euler1 = scan_.euler[pixel1_pos]\n",
    "        euler2 = scan_.euler[pixel2_pos]\n",
    "        o1 = Orientation.from_euler(np.degrees(euler1))\n",
    "        o2 = Orientation.from_euler(np.degrees(euler2))\n",
    "        disor = o1.disorientation(o2, crystal_structure=Symmetry.hexagonal)  # angles (weights) are in radians\n",
    "        angle = disor[0]\n",
    "        lab1 = labels[pixel1_pos]\n",
    "        lab2 = labels[pixel2_pos]\n",
    "        rag.add_edge(lab1, lab2, dict(weight=angle))\n",
    "    threshold_deg = 5 \n",
    "    threshold_rad = np.radians(threshold_deg)\n",
    "    return cut_threshold(labels, rag, threshold_rad)    "
   ]
  },
  {
   "cell_type": "code",
   "execution_count": 4,
   "metadata": {},
   "outputs": [
    {
     "name": "stderr",
     "output_type": "stream",
     "text": [
      "N/A% (0 of 20200) |                      | Elapsed Time: 0:00:00 ETA:  --:--:--/home/esrf/casagran/pymicro/pymicro/crystal/microstructure.py:335: RuntimeWarning: invalid value encountered in true_divide\n",
      "  n /= np.sqrt((delta[1, 2] - delta[2, 1]) ** 2 +\n",
      "/home/esrf/casagran/pymicro/pymicro/crystal/microstructure.py:373: RuntimeWarning: invalid value encountered in arccos\n",
      "  omega = np.arccos(cw)\n",
      "100% (20200 of 20200) |##################| Elapsed Time: 0:01:02 Time:  0:01:02\n"
     ]
    },
    {
     "name": "stdout",
     "output_type": "stream",
     "text": [
      "CPU times: user 1min 3s, sys: 794 ms, total: 1min 4s\n",
      "Wall time: 1min 3s\n"
     ]
    }
   ],
   "source": [
    "%%time\n",
    "grain_ids_linear = skimage_method(scan)"
   ]
  },
  {
   "cell_type": "markdown",
   "metadata": {},
   "source": [
    "# parallel algo"
   ]
  },
  {
   "cell_type": "code",
   "execution_count": 72,
   "metadata": {},
   "outputs": [
    {
     "name": "stdout",
     "output_type": "stream",
     "text": [
      "Overwriting skimage_method_parallel.py\n"
     ]
    }
   ],
   "source": [
    "%%writefile skimage_method_parallel.py\n",
    "\n",
    "import numpy as np\n",
    "from skimage.future.graph import RAG\n",
    "import itertools\n",
    "from scipy.spatial.distance import cdist\n",
    "import progressbar\n",
    "from pymicro.crystal.microstructure import Orientation\n",
    "from pymicro.crystal.lattice import Symmetry\n",
    "from skimage.future.graph import cut_threshold\n",
    "from multiprocessing import Pool\n",
    "import os\n",
    "\n",
    "import contextlib\n",
    "\n",
    "    \n",
    "    \n",
    "def worker(lab1, lab2, euler1, euler2):\n",
    "    o1 = Orientation.from_euler(np.degrees(euler1))\n",
    "    o2 = Orientation.from_euler(np.degrees(euler2))\n",
    "    disor = o1.disorientation(o2, crystal_structure=Symmetry.hexagonal)  # angles (weights) are in radians\n",
    "    return (lab1, lab2, disor[0])\n",
    "    \n",
    "\n",
    "def skimage_method_parallel(scan_, threshold_deg, nprocs):\n",
    "    shape = scan_.iq.shape\n",
    "    size = shape[0] * shape[1]\n",
    "    # each pixel has its own label\n",
    "    labels = np.arange(size).reshape(shape)\n",
    "    rag = RAG(label_image=labels, connectivity=1) \n",
    "    for node in rag.nodes:\n",
    "        rag.nodes[node]['labels'] = [node]\n",
    "    pixel_indices = np.array(list(itertools.product(range(shape[0]), range(shape[1]))))\n",
    "    pixel_position_distances = cdist(pixel_indices, pixel_indices, metric='cityblock')\n",
    "    pixels_to_get = np.stack(np.where(pixel_position_distances == 1)).T\n",
    "    pixels_to_get = pixels_to_get[pixels_to_get[:, 0] < pixels_to_get[:, 1]]  # get rid of duplicates\n",
    "    args_list = []\n",
    "    for pix1_idx, pix2_idx in pixels_to_get:\n",
    "        pixel1_pos = tuple(pixel_indices[pix1_idx])\n",
    "        pixel2_pos = tuple(pixel_indices[pix2_idx])\n",
    "        euler1 = scan_.euler[pixel1_pos]\n",
    "        euler2 = scan_.euler[pixel2_pos]\n",
    "        lab1 = labels[pixel1_pos]\n",
    "        lab2 = labels[pixel2_pos]\n",
    "        args_list.append((lab1, lab2, euler1, euler2))\n",
    "    \n",
    "    with contextlib.closing(Pool(processes=nprocs,)) as pool:\n",
    "        edges = pool.starmap_async(worker, args_list)\n",
    "    pool.join()\n",
    "    assert edges.ready()\n",
    "    assert edges.successful()\n",
    "    edges = [e for e in edges.get()]\n",
    "    \n",
    "    for lab1, lab2, angle in edges:\n",
    "        rag.add_edge(lab1, lab2, dict(weight=angle))\n",
    "        \n",
    "     \n",
    "    threshold_rad = np.radians(threshold_deg)\n",
    "    \n",
    "    return cut_threshold(labels, rag, threshold_rad)    "
   ]
  },
  {
   "cell_type": "code",
   "execution_count": 73,
   "metadata": {},
   "outputs": [],
   "source": [
    "del skimage_method_parallel"
   ]
  },
  {
   "cell_type": "code",
   "execution_count": 74,
   "metadata": {},
   "outputs": [
    {
     "name": "stderr",
     "output_type": "stream",
     "text": [
      "/home/esrf/casagran/pymicro/pymicro/crystal/microstructure.py:335: RuntimeWarning: invalid value encountered in true_divide\n",
      "  n /= np.sqrt((delta[1, 2] - delta[2, 1]) ** 2 +\n",
      "/home/esrf/casagran/pymicro/pymicro/crystal/microstructure.py:335: RuntimeWarning: invalid value encountered in true_divide\n",
      "  n /= np.sqrt((delta[1, 2] - delta[2, 1]) ** 2 +\n",
      "/home/esrf/casagran/pymicro/pymicro/crystal/microstructure.py:335: RuntimeWarning: invalid value encountered in true_divide\n",
      "  n /= np.sqrt((delta[1, 2] - delta[2, 1]) ** 2 +\n",
      "/home/esrf/casagran/pymicro/pymicro/crystal/microstructure.py:373: RuntimeWarning: invalid value encountered in arccos\n",
      "  omega = np.arccos(cw)\n",
      "/home/esrf/casagran/pymicro/pymicro/crystal/microstructure.py:335: RuntimeWarning: invalid value encountered in true_divide\n",
      "  n /= np.sqrt((delta[1, 2] - delta[2, 1]) ** 2 +\n",
      "/home/esrf/casagran/pymicro/pymicro/crystal/microstructure.py:373: RuntimeWarning: invalid value encountered in arccos\n",
      "  omega = np.arccos(cw)\n",
      "/home/esrf/casagran/pymicro/pymicro/crystal/microstructure.py:335: RuntimeWarning: invalid value encountered in true_divide\n",
      "  n /= np.sqrt((delta[1, 2] - delta[2, 1]) ** 2 +\n",
      "/home/esrf/casagran/pymicro/pymicro/crystal/microstructure.py:335: RuntimeWarning: invalid value encountered in true_divide\n",
      "  n /= np.sqrt((delta[1, 2] - delta[2, 1]) ** 2 +\n",
      "/home/esrf/casagran/pymicro/pymicro/crystal/microstructure.py:373: RuntimeWarning: invalid value encountered in arccos\n",
      "  omega = np.arccos(cw)\n",
      "/home/esrf/casagran/pymicro/pymicro/crystal/microstructure.py:335: RuntimeWarning: invalid value encountered in true_divide\n",
      "  n /= np.sqrt((delta[1, 2] - delta[2, 1]) ** 2 +\n",
      "/home/esrf/casagran/pymicro/pymicro/crystal/microstructure.py:373: RuntimeWarning: invalid value encountered in arccos\n",
      "  omega = np.arccos(cw)\n",
      "/home/esrf/casagran/pymicro/pymicro/crystal/microstructure.py:373: RuntimeWarning: invalid value encountered in arccos\n",
      "  omega = np.arccos(cw)\n",
      "/home/esrf/casagran/pymicro/pymicro/crystal/microstructure.py:335: RuntimeWarning: invalid value encountered in true_divide\n",
      "  n /= np.sqrt((delta[1, 2] - delta[2, 1]) ** 2 +\n",
      "/home/esrf/casagran/pymicro/pymicro/crystal/microstructure.py:373: RuntimeWarning: invalid value encountered in arccos\n",
      "  omega = np.arccos(cw)\n",
      "/home/esrf/casagran/pymicro/pymicro/crystal/microstructure.py:373: RuntimeWarning: invalid value encountered in arccos\n",
      "  omega = np.arccos(cw)\n",
      "/home/esrf/casagran/pymicro/pymicro/crystal/microstructure.py:373: RuntimeWarning: invalid value encountered in arccos\n",
      "  omega = np.arccos(cw)\n"
     ]
    },
    {
     "name": "stdout",
     "output_type": "stream",
     "text": [
      "CPU times: user 1.02 s, sys: 296 ms, total: 1.31 s\n",
      "Wall time: 8.37 s\n"
     ]
    }
   ],
   "source": [
    "%%time\n",
    "%autoreload\n",
    "from skimage_method_parallel import skimage_method_parallel\n",
    "grain_ids_linear = skimage_method_parallel(scan, 5, nprocs=8)"
   ]
  },
  {
   "cell_type": "code",
   "execution_count": 75,
   "metadata": {
    "tags": []
   },
   "outputs": [
    {
     "name": "stderr",
     "output_type": "stream",
     "text": [
      "/home/esrf/casagran/pymicro/pymicro/crystal/microstructure.py:335: RuntimeWarning: invalid value encountered in true_divide\n",
      "  n /= np.sqrt((delta[1, 2] - delta[2, 1]) ** 2 +\n",
      "/home/esrf/casagran/pymicro/pymicro/crystal/microstructure.py:335: RuntimeWarning: invalid value encountered in true_divide\n",
      "  n /= np.sqrt((delta[1, 2] - delta[2, 1]) ** 2 +\n",
      "/home/esrf/casagran/pymicro/pymicro/crystal/microstructure.py:373: RuntimeWarning: invalid value encountered in arccos\n",
      "  omega = np.arccos(cw)\n",
      "/home/esrf/casagran/pymicro/pymicro/crystal/microstructure.py:335: RuntimeWarning: invalid value encountered in true_divide\n",
      "  n /= np.sqrt((delta[1, 2] - delta[2, 1]) ** 2 +\n",
      "/home/esrf/casagran/pymicro/pymicro/crystal/microstructure.py:335: RuntimeWarning: invalid value encountered in true_divide\n",
      "  n /= np.sqrt((delta[1, 2] - delta[2, 1]) ** 2 +\n",
      "/home/esrf/casagran/pymicro/pymicro/crystal/microstructure.py:335: RuntimeWarning: invalid value encountered in true_divide\n",
      "  n /= np.sqrt((delta[1, 2] - delta[2, 1]) ** 2 +\n",
      "/home/esrf/casagran/pymicro/pymicro/crystal/microstructure.py:335: RuntimeWarning: invalid value encountered in true_divide\n",
      "  n /= np.sqrt((delta[1, 2] - delta[2, 1]) ** 2 +\n",
      "/home/esrf/casagran/pymicro/pymicro/crystal/microstructure.py:373: RuntimeWarning: invalid value encountered in arccos\n",
      "  omega = np.arccos(cw)\n",
      "/home/esrf/casagran/pymicro/pymicro/crystal/microstructure.py:335: RuntimeWarning: invalid value encountered in true_divide\n",
      "  n /= np.sqrt((delta[1, 2] - delta[2, 1]) ** 2 +\n",
      "/home/esrf/casagran/pymicro/pymicro/crystal/microstructure.py:335: RuntimeWarning: invalid value encountered in true_divide\n",
      "  n /= np.sqrt((delta[1, 2] - delta[2, 1]) ** 2 +\n",
      "/home/esrf/casagran/pymicro/pymicro/crystal/microstructure.py:335: RuntimeWarning: invalid value encountered in true_divide\n",
      "  n /= np.sqrt((delta[1, 2] - delta[2, 1]) ** 2 +\n",
      "/home/esrf/casagran/pymicro/pymicro/crystal/microstructure.py:373: RuntimeWarning: invalid value encountered in arccos\n",
      "  omega = np.arccos(cw)\n",
      "/home/esrf/casagran/pymicro/pymicro/crystal/microstructure.py:373: RuntimeWarning: invalid value encountered in arccos\n",
      "  omega = np.arccos(cw)\n",
      "/home/esrf/casagran/pymicro/pymicro/crystal/microstructure.py:335: RuntimeWarning: invalid value encountered in true_divide\n",
      "  n /= np.sqrt((delta[1, 2] - delta[2, 1]) ** 2 +\n",
      "/home/esrf/casagran/pymicro/pymicro/crystal/microstructure.py:335: RuntimeWarning: invalid value encountered in true_divide\n",
      "  n /= np.sqrt((delta[1, 2] - delta[2, 1]) ** 2 +\n",
      "/home/esrf/casagran/pymicro/pymicro/crystal/microstructure.py:335: RuntimeWarning: invalid value encountered in true_divide\n",
      "  n /= np.sqrt((delta[1, 2] - delta[2, 1]) ** 2 +\n",
      "/home/esrf/casagran/pymicro/pymicro/crystal/microstructure.py:335: RuntimeWarning: invalid value encountered in true_divide\n",
      "  n /= np.sqrt((delta[1, 2] - delta[2, 1]) ** 2 +\n",
      "/home/esrf/casagran/pymicro/pymicro/crystal/microstructure.py:373: RuntimeWarning: invalid value encountered in arccos\n",
      "  omega = np.arccos(cw)\n",
      "/home/esrf/casagran/pymicro/pymicro/crystal/microstructure.py:335: RuntimeWarning: invalid value encountered in true_divide\n",
      "  n /= np.sqrt((delta[1, 2] - delta[2, 1]) ** 2 +\n",
      "/home/esrf/casagran/pymicro/pymicro/crystal/microstructure.py:335: RuntimeWarning: invalid value encountered in true_divide\n",
      "  n /= np.sqrt((delta[1, 2] - delta[2, 1]) ** 2 +\n",
      "/home/esrf/casagran/pymicro/pymicro/crystal/microstructure.py:373: RuntimeWarning: invalid value encountered in arccos\n",
      "  omega = np.arccos(cw)\n",
      "/home/esrf/casagran/pymicro/pymicro/crystal/microstructure.py:373: RuntimeWarning: invalid value encountered in arccos\n",
      "  omega = np.arccos(cw)\n",
      "/home/esrf/casagran/pymicro/pymicro/crystal/microstructure.py:373: RuntimeWarning: invalid value encountered in arccos\n",
      "  omega = np.arccos(cw)\n",
      "/home/esrf/casagran/pymicro/pymicro/crystal/microstructure.py:373: RuntimeWarning: invalid value encountered in arccos\n",
      "  omega = np.arccos(cw)\n",
      "/home/esrf/casagran/pymicro/pymicro/crystal/microstructure.py:335: RuntimeWarning: invalid value encountered in true_divide\n",
      "  n /= np.sqrt((delta[1, 2] - delta[2, 1]) ** 2 +\n",
      "/home/esrf/casagran/pymicro/pymicro/crystal/microstructure.py:373: RuntimeWarning: invalid value encountered in arccos\n",
      "  omega = np.arccos(cw)\n",
      "/home/esrf/casagran/pymicro/pymicro/crystal/microstructure.py:373: RuntimeWarning: invalid value encountered in arccos\n",
      "  omega = np.arccos(cw)\n",
      "/home/esrf/casagran/pymicro/pymicro/crystal/microstructure.py:373: RuntimeWarning: invalid value encountered in arccos\n",
      "  omega = np.arccos(cw)\n",
      "/home/esrf/casagran/pymicro/pymicro/crystal/microstructure.py:373: RuntimeWarning: invalid value encountered in arccos\n",
      "  omega = np.arccos(cw)\n",
      "/home/esrf/casagran/pymicro/pymicro/crystal/microstructure.py:373: RuntimeWarning: invalid value encountered in arccos\n",
      "  omega = np.arccos(cw)\n",
      "/home/esrf/casagran/pymicro/pymicro/crystal/microstructure.py:373: RuntimeWarning: invalid value encountered in arccos\n",
      "  omega = np.arccos(cw)\n",
      "/home/esrf/casagran/pymicro/pymicro/crystal/microstructure.py:373: RuntimeWarning: invalid value encountered in arccos\n",
      "  omega = np.arccos(cw)\n"
     ]
    },
    {
     "name": "stdout",
     "output_type": "stream",
     "text": [
      "CPU times: user 1.02 s, sys: 358 ms, total: 1.38 s\n",
      "Wall time: 5.01 s\n"
     ]
    }
   ],
   "source": [
    "%%time\n",
    "%autoreload\n",
    "from skimage_method_parallel import skimage_method_parallel\n",
    "grain_ids_linear = skimage_method_parallel(scan, 5, nprocs=16)"
   ]
  }
 ],
 "metadata": {
  "kernelspec": {
   "display_name": "pymicro-esrf-slurm-intel",
   "language": "python",
   "name": "pymicro-esrf-slurm-intel"
  },
  "language_info": {
   "codemirror_mode": {
    "name": "ipython",
    "version": 3
   },
   "file_extension": ".py",
   "mimetype": "text/x-python",
   "name": "python",
   "nbconvert_exporter": "python",
   "pygments_lexer": "ipython3",
   "version": "3.9.6"
  }
 },
 "nbformat": 4,
 "nbformat_minor": 4
}
