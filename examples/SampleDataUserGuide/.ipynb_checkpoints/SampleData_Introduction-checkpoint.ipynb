{
 "cells": [
  {
   "cell_type": "markdown",
   "id": "381d1376",
   "metadata": {},
   "source": [
    "# Introduction to the SampleData data platform\n",
    "\n",
    "Introduction lesson to the SampleData class. Temporary version."
   ]
  },
  {
   "cell_type": "code",
   "execution_count": 2,
   "id": "21dad62e",
   "metadata": {},
   "outputs": [],
   "source": [
    "from pymicro.core.samples import SampleData"
   ]
  },
  {
   "cell_type": "code",
   "execution_count": 3,
   "id": "7b7e839e",
   "metadata": {},
   "outputs": [
    {
     "name": "stdout",
     "output_type": "stream",
     "text": [
      "\n",
      "-- File \"test.h5\" not found : file created\n",
      "-- File \"test.xdmf\" not found : file created\n",
      ".... writing xdmf file : test.xdmf\n",
      "\n",
      "Minimal data model initialization....\n",
      "\n",
      "Minimal data model initialization done\n",
      "\n",
      ".... Storing content index in test.h5:/Index attributes\n",
      ".... writing xdmf file : test.xdmf\n",
      ".... flushing data in file test.h5\n",
      "File test.h5 synchronized with in memory data tree\n"
     ]
    }
   ],
   "source": [
    "data = SampleData(filename='test', autodelete=True, verbose=True)"
   ]
  },
  {
   "cell_type": "code",
   "execution_count": 4,
   "id": "ee48e8e6",
   "metadata": {},
   "outputs": [
    {
     "name": "stdout",
     "output_type": "stream",
     "text": [
      "\n",
      "Deleting DataSample object \n",
      ".... Storing content index in test.h5:/Index attributes\n",
      ".... writing xdmf file : test.xdmf\n",
      ".... flushing data in file test.h5\n",
      "File test.h5 synchronized with in memory data tree\n",
      "\n",
      "Dataset and Datafiles closed\n",
      "SampleData Autodelete: \n",
      " Removing hdf5 file test.h5 and xdmf file test.xdmf\n"
     ]
    }
   ],
   "source": [
    "del data"
   ]
  },
  {
   "cell_type": "code",
   "execution_count": null,
   "id": "f6ce0aa4",
   "metadata": {},
   "outputs": [],
   "source": []
  }
 ],
 "metadata": {
  "kernelspec": {
   "display_name": "py3bI",
   "language": "python",
   "name": "py3bi"
  },
  "language_info": {
   "codemirror_mode": {
    "name": "ipython",
    "version": 3
   },
   "file_extension": ".py",
   "mimetype": "text/x-python",
   "name": "python",
   "nbconvert_exporter": "python",
   "pygments_lexer": "ipython3",
   "version": "3.7.8"
  }
 },
 "nbformat": 4,
 "nbformat_minor": 5
}
