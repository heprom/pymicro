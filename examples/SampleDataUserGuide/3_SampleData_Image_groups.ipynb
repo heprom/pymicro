{
 "cells": [
  {
   "cell_type": "markdown",
   "id": "b57c8ba2",
   "metadata": {},
   "source": [
    "# 4 - Creating, getting and visualizing Image Groups and Image Fields "
   ]
  },
  {
   "cell_type": "markdown",
   "id": "4297f61d",
   "metadata": {},
   "source": [
    "**This Notebook will introduce you to**:\n",
    "\n",
    "1. what is an Image Group  \n",
    "2. the Image Group data model\n",
    "3. how to create an image Group\n",
    "4. the Image Field data model\n",
    "5. how to add a field to an Image Group\n",
    "6. how to get image groups and image fields \n",
    "         \n",
    "         \n",
    "<div class=\"alert alert-info\">\n",
    "\n",
    "**Note** \n",
    "    \n",
    "Throughout this notebook, it will be assumed that the reader is familiar with the overview of the SampleData file format and data model presented in the [first notebook of this User Guide](./SampleData_Introduction.ipynb) of this User Guide.\n",
    "\n",
    "</div>"
   ]
  },
  {
   "cell_type": "markdown",
   "id": "0c448efa",
   "metadata": {},
   "source": [
    "## I - SampleData Image Groups"
   ]
  },
  {
   "cell_type": "markdown",
   "id": "ca41bfde",
   "metadata": {},
   "source": [
    "### SampleData Grids"
   ]
  },
  {
   "cell_type": "markdown",
   "id": "926b0489",
   "metadata": {},
   "source": [
    "In the [last tutorial](./2_SampleData_basic_data_items.ipynb), the basic data item types that can be loaded into a *SampleData* dataset have been presented. They consist in various types of data arrays (numeric arrays, structured arrays, string arrays) and attributes, that can be stored in Groups to organize them. \n",
    "\n",
    "However, the main focus of the class has been put on spatially organized data. This type of data, which includes field measurements, imaging techniques and numerical simulation outputs, is central to modern materials and microstructure science. Each of those outputs can be seen as a set of fields supported by a grid. \n",
    "\n",
    "A grid is a set of nodes and elements that define a discretization of a geometrical domain. A field is a function defined on this geometrical domain. On the discrete grid, field are defined by an array containing the values that it takes at on grid nodes or grid elements.  Hence, geometrical data and field data are intrinsically linked. Therefore, in addition to storing the data arrays containing the node/elements/fields values data, some geometrical organization connecting these data items must be stored as well in the datasets.\n",
    "\n",
    "To connect data together within *SampleData* datasets, we can use Groups and Attributes (metadata). So, to handle spatially organized data, *SampleData* defines **Grid groups**, that have a specific data model (sub-groups, arrays and metadata). In addition to this, these group are syncrhronized with a **Grid** node in the XDMF dataset file, to ensure that the data stored in the Grid group can be visualized with its correct spatial organization in the *Paraview* software.  \n",
    "\n",
    "There are two types of *Grid groups*: *Image* groups, and *Mesh* groups. In this tutorial, we will learn everything that is to know on Image groups."
   ]
  },
  {
   "cell_type": "markdown",
   "id": "47dbc292",
   "metadata": {},
   "source": [
    "### SampleData Images "
   ]
  },
  {
   "cell_type": "markdown",
   "id": "493b6d54",
   "metadata": {},
   "source": [
    "As indicated by their name, **Image Groups** are a specific type of Grid group whose data model is adapted to store images. Images are 2D or 3D regular grids of pixels(2D)/voxels(3D), all having the same dimensions. To this pixel/voxel grid is also associated a node grid, composed by the vertexes of the pixels/voxels. Three types of *Image Groups* can be handled by *SampleData*:\n",
    "\n",
    "\n",
    "1. `emptyImage`: an empty group that can be used to set the organization and metadata of the dataset before adding actual data to it (similar to [empty data arrays, see tutorial 2, section IV](./2_SampleData_basic_data_items.ipynb))\n",
    "2. `2DImage`: a regular grid of pixels \n",
    "3. `3DImage`: a regular grid of voxels\n",
    "\n",
    "An Image field is a data array that has one value associated to each pixel/voxel or each node of the image. "
   ]
  },
  {
   "cell_type": "markdown",
   "id": "4ec59daa",
   "metadata": {},
   "source": [
    "Hence, *Image Groups* contain metadata indicating the image topology, data arrays containing the image fields values, and metadata to synchronize with the XDMF Grid node associated to the Image. To explore in details this data model, we will once again open the reference test dataset of the *SampleData* unit tests, in the next section."
   ]
  },
  {
   "cell_type": "markdown",
   "id": "53400502",
   "metadata": {},
   "source": [
    "## II - Image Groups Data Model"
   ]
  },
  {
   "cell_type": "code",
   "execution_count": 2,
   "id": "9f5caf21",
   "metadata": {},
   "outputs": [],
   "source": [
    "from pymicro.core.samples import SampleData as SD"
   ]
  },
  {
   "cell_type": "code",
   "execution_count": 3,
   "id": "f4c9c4ac",
   "metadata": {},
   "outputs": [],
   "source": [
    "from config import PYMICRO_EXAMPLES_DATA_DIR # import file directory path\n",
    "import os\n",
    "dataset_file = os.path.join(PYMICRO_EXAMPLES_DATA_DIR, 'test_sampledata_ref') # test dataset file path\n",
    "data = SD(filename=dataset_file)"
   ]
  },
  {
   "cell_type": "markdown",
   "id": "e292c879",
   "metadata": {},
   "source": [
    "Let us print the content of the dataset to remember its composition:"
   ]
  },
  {
   "cell_type": "code",
   "execution_count": 3,
   "id": "36dde027",
   "metadata": {},
   "outputs": [
    {
     "name": "stdout",
     "output_type": "stream",
     "text": [
      "Dataset Content Index :\n",
      "------------------------:\n",
      "index printed with max depth `3` and under local root `/`\n",
      "\n",
      "\t Name : array                                     H5_Path : /test_group/test_array \t\n",
      "\t Name : group                                     H5_Path : /test_group \t\n",
      "\t Name : image                                     H5_Path : /test_image \t\n",
      "\t Name : image_Field_index                         H5_Path : /test_image/Field_index \t\n",
      "\t Name : image_test_image_field                    H5_Path : /test_image/test_image_field \t\n",
      "\t Name : mesh                                      H5_Path : /test_mesh \t\n",
      "\t Name : mesh_Field_index                          H5_Path : /test_mesh/Field_index \t\n",
      "\t Name : mesh_Test_field1                          H5_Path : /test_mesh/Test_field1 \t\n",
      "\t Name : mesh_Test_field2                          H5_Path : /test_mesh/Test_field2 \t\n",
      "\t Name : test_mesh_ElTagsList                      H5_Path : /test_mesh/Geometry/Elem_tags_list \t\n",
      "\t Name : test_mesh_ElTagsTypeList                  H5_Path : /test_mesh/Geometry/Elem_tag_type_list \t\n",
      "\t Name : test_mesh_ElemTags                        H5_Path : /test_mesh/Geometry/ElementsTags \t\n",
      "\t Name : test_mesh_Elements                        H5_Path : /test_mesh/Geometry/Elements \t\n",
      "\t Name : test_mesh_Geometry                        H5_Path : /test_mesh/Geometry \t\n",
      "\t Name : test_mesh_NodeTags                        H5_Path : /test_mesh/Geometry/NodeTags \t\n",
      "\t Name : test_mesh_NodeTagsList                    H5_Path : /test_mesh/Geometry/Node_tags_list \t\n",
      "\t Name : test_mesh_Nodes                           H5_Path : /test_mesh/Geometry/Nodes \t\n",
      "\t Name : test_mesh_Nodes_ID                        H5_Path : /test_mesh/Geometry/Nodes_ID \t\n",
      "\n",
      "Printing dataset content with max depth 3\n",
      "  |--GROUP test_group: /test_group (Group) \n",
      "     --NODE test_array: /test_group/test_array (data_array) (   64.000 Kb)\n",
      "\n",
      "  |--GROUP test_image: /test_image (3DImage) \n",
      "     --NODE Field_index: /test_image/Field_index (string array) (   63.999 Kb)\n",
      "     --NODE test_image_field: /test_image/test_image_field (field_array) (   63.867 Kb)\n",
      "\n",
      "  |--GROUP test_mesh: /test_mesh (3DMesh) \n",
      "     --NODE Field_index: /test_mesh/Field_index (string array) (   63.999 Kb)\n",
      "    |--GROUP Geometry: /test_mesh/Geometry (Group) \n",
      "       --NODE Elem_tag_type_list: /test_mesh/Geometry/Elem_tag_type_list (string array) (   63.999 Kb)\n",
      "       --NODE Elem_tags_list: /test_mesh/Geometry/Elem_tags_list (string array) (   63.999 Kb)\n",
      "       --NODE Elements: /test_mesh/Geometry/Elements (data_array) (   64.000 Kb)\n",
      "      |--GROUP ElementsTags: /test_mesh/Geometry/ElementsTags (Group) \n",
      "      |--GROUP NodeTags: /test_mesh/Geometry/NodeTags (Group) \n",
      "       --NODE Node_tags_list: /test_mesh/Geometry/Node_tags_list (string array) (    0.000 bytes)\n",
      "       --NODE Nodes: /test_mesh/Geometry/Nodes (data_array) (   63.984 Kb)\n",
      "       --NODE Nodes_ID: /test_mesh/Geometry/Nodes_ID (data_array) (   64.000 Kb)\n",
      "\n",
      "     --NODE Test_field1: /test_mesh/Test_field1 (field_array) (   64.000 Kb)\n",
      "     --NODE Test_field2: /test_mesh/Test_field2 (field_array) (   64.000 Kb)\n",
      "\n",
      "\n"
     ]
    }
   ],
   "source": [
    "print(data)"
   ]
  },
  {
   "cell_type": "markdown",
   "id": "a901d1c0",
   "metadata": {},
   "source": [
    "The test dataset contains one *3DImage* Group, the `test_image` group, with indexname `image`. Let us print more information about this Group:"
   ]
  },
  {
   "cell_type": "code",
   "execution_count": 4,
   "id": "2084c82f",
   "metadata": {},
   "outputs": [
    {
     "name": "stdout",
     "output_type": "stream",
     "text": [
      "\n",
      " GROUP test_image\n",
      "=====================\n",
      " -- Parent Group : /\n",
      " -- Group attributes : \n",
      "\t * description :  \n",
      "\t * dimension : [9 9 9]\n",
      "\t * empty : False\n",
      "\t * group_type : 3DImage\n",
      "\t * nodes_dimension : [10 10 10]\n",
      "\t * nodes_dimension_xdmf : [10 10 10]\n",
      "\t * origin : [-1. -1. -1.]\n",
      "\t * spacing : [0.2 0.2 0.2]\n",
      "\t * xdmf_gridname : test_image\n",
      " -- Childrens : Field_index, test_image_field, \n",
      "----------------\n",
      "\n"
     ]
    }
   ],
   "source": [
    "data.print_node_info('image')"
   ]
  },
  {
   "cell_type": "markdown",
   "id": "30c7ff29",
   "metadata": {},
   "source": [
    "As you can observe, this 3DImage group already contains a lot of metadata. All of them are automatically created when adding a new Image to a *SampleData* dataset, and are part of the *SampleData* Image data model. We will review them in detail, except for the generic `description` attribute, already discussed in the last tutorial.\n",
    "\n",
    "First, the `group_type` attribute informs us the the Group is a *3DImage* group. In the case of a 2D image, it would have the value *2DImage*.\n",
    "\n",
    "Then, you can see several attributes linked to the topology of the image:\n",
    "\n",
    "\n",
    "1. `dimension`: the number of pixels/voxels in each direction of the grid\n",
    "2. `nodes_dimension`: the number of nodes in each direction of the grid (always `dimension` + 1)\n",
    "3. `origin`: the coordinate of the first node of the grid\n",
    "4. `spacing`: the size along each direction of each pixel/voxel of the grid\n",
    "\n",
    "**For all those attributes, the order of the values in the arrays correspond in the same order to the directions (X,Y) or (X,Y,Z)**. \n",
    "\n",
    "You may have noticed the `nodes_dimension_xdmf` attribute, that is in this case equal to the `nodes_dimension` attribute.  This is due to the fact that, **the Paraview software interprets the dimensions of the arrays loaded from a SampleData dataset with an inverse coordinate order (Z,Y,X)**. For that reason, some data need a transposition to yield a correct visualization through Paraview. The `nodes_dimension_xdmf` is one of those, and is in practice the transposition of `nodes_dimension` where the X and Z dimensions have been swapped. \n",
    "\n",
    "You can also note that the no *length unit* attribute is stored in the data model: `origin` and `spacing` attributes are thus dimensionless values. In fact, **no *unit length* is accounted for by *SampleData*, the user as to ensure that the unit of geometrical data provided for various grid groups are consistent with each other.** However, user are free to create attribute to specify the unit length corresponding to the numbers in the dataset.\n",
    "\n",
    "The `empty` attribute is False, indicating that the image contains non empty fields.\n",
    "\n",
    "Finally, note that there is a `xdmf_gridname` attribute. This one indicates the value of the *Name* tag of the Grid node in the XDMF dataset file, that is synchronized with this *Image Group*. Let us print the content of the XDMF tree to see if we can find it: "
   ]
  },
  {
   "cell_type": "code",
   "execution_count": 5,
   "id": "2c6cc478",
   "metadata": {},
   "outputs": [
    {
     "name": "stdout",
     "output_type": "stream",
     "text": [
      "<!DOCTYPE Xdmf SYSTEM \"Xdmf.dtd\">\n",
      "<Xdmf xmlns:xi=\"http://www.w3.org/2003/XInclude\" Version=\"2.2\">\n",
      "  <Domain>\n",
      "    <Grid Name=\"test_mesh\" GridType=\"Uniform\">\n",
      "      <Geometry Type=\"XYZ\">\n",
      "        <DataItem Format=\"HDF\" Dimensions=\"6  3\" NumberType=\"Float\" Precision=\"64\">test_sampledata_ref.h5:/test_mesh/Geometry/Nodes</DataItem>\n",
      "      </Geometry>\n",
      "      <Topology TopologyType=\"Triangle\" NumberOfElements=\"8\">\n",
      "        <DataItem Format=\"HDF\" Dimensions=\"24 \" NumberType=\"Int\" Precision=\"64\">test_sampledata_ref.h5:/test_mesh/Geometry/Elements</DataItem>\n",
      "      </Topology>\n",
      "      <Attribute Name=\"Test_field1\" AttributeType=\"Scalar\" Center=\"Node\">\n",
      "        <DataItem Format=\"HDF\" Dimensions=\"6 \" NumberType=\"Float\" Precision=\"64\">test_sampledata_ref.h5:/test_mesh/Test_field1</DataItem>\n",
      "      </Attribute>\n",
      "      <Attribute Name=\"Test_field2\" AttributeType=\"Scalar\" Center=\"Node\">\n",
      "        <DataItem Format=\"HDF\" Dimensions=\"6 \" NumberType=\"Float\" Precision=\"64\">test_sampledata_ref.h5:/test_mesh/Test_field2</DataItem>\n",
      "      </Attribute>\n",
      "    </Grid>\n",
      "    <Grid Name=\"test_image\" GridType=\"Uniform\">\n",
      "      <Topology TopologyType=\"3DCoRectMesh\" Dimensions=\"10 10 10\"/>\n",
      "      <Geometry Type=\"ORIGIN_DXDYDZ\">\n",
      "        <DataItem Format=\"XML\" Dimensions=\"3\">-1. -1. -1.</DataItem>\n",
      "        <DataItem Format=\"XML\" Dimensions=\"3\">0.2 0.2 0.2</DataItem>\n",
      "      </Geometry>\n",
      "      <Attribute Name=\"test_image_field\" AttributeType=\"Scalar\" Center=\"Node\">\n",
      "        <DataItem Format=\"HDF\" Dimensions=\"10  10  10\" NumberType=\"Int\" Precision=\"16\">test_sampledata_ref.h5:/test_image/test_image_field</DataItem>\n",
      "      </Attribute>\n",
      "    </Grid>\n",
      "  </Domain>\n",
      "</Xdmf>\n",
      "\n"
     ]
    }
   ],
   "source": [
    "data.print_xdmf()"
   ]
  },
  {
   "cell_type": "markdown",
   "id": "e8cac842",
   "metadata": {},
   "source": [
    "You can see that the XDMF tree contains 2 grids: one named `test_mesh`, the other one named `test_image`, which is the value of the `xdmf_gridname` attribute of our *Image Group*. Hence, our Group is synchronized with the second node of the XDMF tree of our dataset. You can see that this node has two sub-nodes that are `Topology` and `Geometry`. In the first one, you see the indication that the grid is a regular 3D grid (a `3DCoRectMesh`), with its dimensions detailed. In the second one, you recognize the Image `origin` and `spacing` values. Finally, you can see that it has another sub-node, named `Attribute`. These nodes allow to describe grid fields in the XDMF data model. Here, our image only has one field, named `test_image_field`."
   ]
  },
  {
   "cell_type": "markdown",
   "id": "49a4e49e",
   "metadata": {},
   "source": [
    "As already explained in the [tutorial 1 (sec. V)](./1_Getting_Information_from_SampleData_datasets.ipynb), the XDMF file allows to directly visualize the data described in it with the *Paraview* software. Before closing our reference dataset, Let us try to visualize its image Group, with the `pause_for_visualization` method and the Paraview software.\n",
    "\n",
    "You have to choose the **XdmfReader** to open the file,  so that Paraview may properly read the data. You will see in the Property panel, the presence of two **Blocks** of data, one for each grid of the dataset: \n",
    "\n",
    "<img src=\"./Images/Tutorial_3/paraview_blocks.png\" width=\"50%\">\n",
    "\n",
    "To easily visualize the Image group, untick the mesh group box in the appropriate panel, like in the image below: \n",
    "\n",
    "<img src=\"./Images/Tutorial_3/paraview_untick.png\" width=\"50%\">\n",
    "\n",
    "Now you can click on the `Apply` button: you should now see the 3D image. You can choose to plot `test_image_field`, which should render like this: \n",
    "\n",
    "<img src=\"./Images/Tutorial_3/test_image.png\" width=\"80%\">"
   ]
  },
  {
   "cell_type": "code",
   "execution_count": 6,
   "id": "020f8359",
   "metadata": {},
   "outputs": [],
   "source": [
    "# Use the second code line if you want to specify the path of the paraview executable you want to use\n",
    "# otherwise use the first line \n",
    "#data.pause_for_visualization(Paraview=True)\n",
    "#data.pause_for_visualization(Paraview=True, Paraview_path='/home/amarano/Sources/ParaView-5.9.0-RC1-MPI-Linux-Python3.8-64bit/bin/paraview')"
   ]
  },
  {
   "cell_type": "markdown",
   "id": "48885c63",
   "metadata": {},
   "source": [
    "We will print again the information on the Image Group, to focus on another aspect of the data model:"
   ]
  },
  {
   "cell_type": "code",
   "execution_count": 4,
   "id": "eb4e032c",
   "metadata": {},
   "outputs": [
    {
     "name": "stdout",
     "output_type": "stream",
     "text": [
      "\n",
      " GROUP test_image\n",
      "=====================\n",
      " -- Parent Group : /\n",
      " -- Group attributes : \n",
      "\t * description : \n",
      "\t * dimension : [9 9 9]\n",
      "\t * empty : False\n",
      "\t * group_type : 3DImage\n",
      "\t * nodes_dimension : [10 10 10]\n",
      "\t * nodes_dimension_xdmf : [10 10 10]\n",
      "\t * origin : [-1. -1. -1.]\n",
      "\t * spacing : [0.2 0.2 0.2]\n",
      "\t * xdmf_gridname : test_image\n",
      " -- Childrens : Field_index, test_image_field, \n",
      "----------------\n",
      "\n"
     ]
    }
   ],
   "source": [
    "data.print_node_info('image')"
   ]
  },
  {
   "cell_type": "markdown",
   "id": "d67c33d7",
   "metadata": {},
   "source": [
    "You can see that the Image group has 2 childrens, `test_image_field` and `Field_index`. Let us look at their content:"
   ]
  },
  {
   "cell_type": "code",
   "execution_count": 5,
   "id": "b7b19bce",
   "metadata": {},
   "outputs": [
    {
     "name": "stdout",
     "output_type": "stream",
     "text": [
      "\n",
      " NODE: /test_image/test_image_field\n",
      "====================\n",
      " -- Parent Group : test_image\n",
      " -- Node name : test_image_field\n",
      " -- test_image_field attributes : \n",
      "\t * empty : False\n",
      "\t * field_dimensionality : Scalar\n",
      "\t * field_type : Nodal_field\n",
      "\t * node_type : field_array\n",
      "\t * padding : None\n",
      "\t * parent_grid_path : /test_image\n",
      "\t * transpose_indices : [2, 1, 0]\n",
      "\t * xdmf_fieldname : test_image_field\n",
      "\t * xdmf_gridname : test_image\n",
      "\n",
      " -- content : /test_image/test_image_field (CArray(10, 10, 10)) 'image_test_image_field'\n",
      " -- Compression options for node `test_image_field`:\n",
      "\tcomplevel=0, shuffle=False, bitshuffle=False, fletcher32=False, least_significant_digit=None\n",
      " -- Node memory size :    63.867 Kb\n",
      "----------------\n",
      "\n",
      "\n"
     ]
    }
   ],
   "source": [
    "data.print_node_info('test_image_field')"
   ]
  },
  {
   "cell_type": "markdown",
   "id": "2e9969d3",
   "metadata": {},
   "source": [
    "This node is a field data item, as indicated by the `node_type` attribute. Those are data item designed to store the spatially organized data that are defined on grids. They will be discussed in details in section IV below. "
   ]
  },
  {
   "cell_type": "code",
   "execution_count": 7,
   "id": "e625b416",
   "metadata": {},
   "outputs": [
    {
     "name": "stdout",
     "output_type": "stream",
     "text": [
      "\n",
      " NODE: /test_image/Field_index\n",
      "====================\n",
      " -- Parent Group : test_image\n",
      " -- Node name : Field_index\n",
      " -- Field_index attributes : \n",
      "\t * node_type : string array\n",
      "\n",
      " -- content : /test_image/Field_index (EArray(1,)) ''\n",
      " -- Compression options for node `image_Field_index`:\n",
      "\tcomplevel=0, shuffle=False, bitshuffle=False, fletcher32=False, least_significant_digit=None\n",
      " -- Node memory size :    63.999 Kb\n",
      "----------------\n",
      "\n",
      "\n"
     ]
    }
   ],
   "source": [
    "data.print_node_info('image_Field_index')"
   ]
  },
  {
   "cell_type": "markdown",
   "id": "bbdc78af",
   "metadata": {},
   "source": [
    "The Field Index is a *String Array* (see [previous tutorial (section V)](./2_SampleData_basic_data_items.ipynb)) that stores a list of strings that are the names of the fields stored in this Image group. You can get the list of field stored on the group by looking at this string array content:"
   ]
  },
  {
   "cell_type": "code",
   "execution_count": 4,
   "id": "bd0e5c95",
   "metadata": {
    "scrolled": true
   },
   "outputs": [
    {
     "data": {
      "text/plain": [
       "'image_test_image_field'"
      ]
     },
     "execution_count": 4,
     "metadata": {},
     "output_type": "execute_result"
    }
   ],
   "source": [
    "data['image_Field_index'][0].decode('utf-8')"
   ]
  },
  {
   "cell_type": "markdown",
   "id": "0df0ebb8",
   "metadata": {},
   "source": [
    "It can also be accessed easily using the `get_grid_field_list` method:"
   ]
  },
  {
   "cell_type": "code",
   "execution_count": 5,
   "id": "ba281825",
   "metadata": {},
   "outputs": [
    {
     "data": {
      "text/plain": [
       "['image_test_image_field']"
      ]
     },
     "execution_count": 5,
     "metadata": {},
     "output_type": "execute_result"
    }
   ],
   "source": [
    "data.get_grid_field_list('image')"
   ]
  },
  {
   "cell_type": "markdown",
   "id": "5ec8c399",
   "metadata": {},
   "source": [
    "Now that we know what composes an Image Group, and how to visualize it, we will close the reference dataset and create one to train ourselves to create images."
   ]
  },
  {
   "cell_type": "code",
   "execution_count": 6,
   "id": "b602e620",
   "metadata": {},
   "outputs": [],
   "source": [
    "del data"
   ]
  },
  {
   "cell_type": "markdown",
   "id": "fd4c269a",
   "metadata": {},
   "source": [
    "## III - Creating Image Groups "
   ]
  },
  {
   "cell_type": "markdown",
   "id": "dc5c7d88",
   "metadata": {},
   "source": [
    "There are three ways to create an Image group in a *SampleData* dataset:\n",
    "1. creating an image from a data array\n",
    "2. creating an image from an image object indicating its topology\n",
    "3. creating an empty image\n",
    "\n",
    "We will try all three. But first, we will once again create a temporary dataset, to try the examples of this tutorial, with verbose mode on:"
   ]
  },
  {
   "cell_type": "code",
   "execution_count": 11,
   "id": "5745a5f9",
   "metadata": {},
   "outputs": [
    {
     "name": "stdout",
     "output_type": "stream",
     "text": [
      "\n",
      "-- File \"/home/amarano/Codes/pymicro/examples/SampleDataUserGuide/tutorial_dataset.h5\" exists  and will be overwritten\n",
      "\n",
      "-- File \"tutorial_dataset.h5\" not found : file created\n",
      "-- File \"tutorial_dataset.xdmf\" not found : file created\n",
      ".... writing xdmf file : tutorial_dataset.xdmf\n",
      "\n",
      "Minimal data model initialization....\n",
      "\n",
      "Minimal data model initialization done\n",
      "\n",
      ".... Storing content index in tutorial_dataset.h5:/Index attributes\n",
      ".... writing xdmf file : tutorial_dataset.xdmf\n",
      ".... flushing data in file tutorial_dataset.h5\n",
      "File tutorial_dataset.h5 synchronized with in memory data tree\n"
     ]
    }
   ],
   "source": [
    "data = SD(filename='tutorial_dataset', sample_name='test_sample', verbose = True, autodelete=True, overwrite_hdf5=True)"
   ]
  },
  {
   "cell_type": "markdown",
   "id": "e0252eec",
   "metadata": {},
   "source": [
    "### Creation an image from a data array"
   ]
  },
  {
   "cell_type": "markdown",
   "id": "111774e8",
   "metadata": {},
   "source": [
    "We will start by creating two *numpy* arrays that will be image fields. Their dimension will define the topology of the image. To have simple and visual examples, we will create:\n",
    "1. a 2D field of dimension 51x51  representing a matrix with a circular fiber at its center, with a diameter of half the image\n",
    "2. a random 3D field of dimension 50x50x50x3 \n",
    "\n",
    "We will start with the bidimensional field."
   ]
  },
  {
   "cell_type": "code",
   "execution_count": 12,
   "id": "db06edb6",
   "metadata": {},
   "outputs": [],
   "source": [
    "# first we need to import the Numpy package\n",
    "import numpy as np"
   ]
  },
  {
   "cell_type": "code",
   "execution_count": 13,
   "id": "0897f2c0",
   "metadata": {},
   "outputs": [],
   "source": [
    "dX = 1/101\n",
    "# we create a grid of coordinates to compute the distance to the center of the image\n",
    "X = np.linspace(dX, 1-dX,101)\n",
    "Y = np.linspace(dX, 1-dX,101)\n",
    "XX, YY = np.meshgrid(X,Y)\n",
    "# compute the distance function\n",
    "Dist = np.sqrt(np.square(XX - 0.5) + np.square(YY - 0.5))\n",
    "# creation of the 2D array: 0 indicate the matrix, 1 the fiber\n",
    "field_2D = np.int16(Dist <= 0.25)"
   ]
  },
  {
   "cell_type": "markdown",
   "id": "af868ece",
   "metadata": {},
   "source": [
    "#### The add_image_from_field method"
   ]
  },
  {
   "cell_type": "markdown",
   "id": "b89b5311",
   "metadata": {},
   "source": [
    "Now that our field is created, we can introduce the method `add_image_from_field`. It will create an appropriate *Image* group and store the data array inputed as an image field. "
   ]
  },
  {
   "cell_type": "code",
   "execution_count": 14,
   "id": "e0712bd6",
   "metadata": {},
   "outputs": [
    {
     "name": "stdout",
     "output_type": "stream",
     "text": [
      "\n",
      " (get_attribute) neither indexname nor node_path passed, node return aborted\n",
      "\n",
      "Creating Group group `first_2D_image` in file tutorial_dataset.h5 at /\n",
      "Updating xdmf tree...\n",
      "\n",
      "Adding field `test_2D_field` into Grid `/first_2D_image`\n",
      "\n",
      "Adding array `test_2D_field` into Group `/first_2D_image`\n",
      "\n",
      "(get_node) ERROR : Node name does not fit any hdf5 path nor index name.\n",
      "\n",
      "Adding String Array `Field_index` into Group `/first_2D_image`\n"
     ]
    }
   ],
   "source": [
    "data.add_image_from_field(field_array=field_2D, fieldname='test_2D_field', imagename='first_2D_image',\n",
    "                         indexname='image2D', location='/', \n",
    "                         description=\"Test image group created from a bidimensional Numpy array.\")"
   ]
  },
  {
   "cell_type": "markdown",
   "id": "9a378b1c",
   "metadata": {},
   "source": [
    "The verbose mode of the class instructed us that the image group has been created, along with a field/array object. You see that the method accepts similar arguments that the ones studied in the [previous tutorial](./2_SampleData_basic_data_items.ipynb). Note that here the `indexname` argument is for the image group indexname, the field indexname being constructed from the `field_name` argument (see below). To add another name to the field, you may use the `add_alias` method. Note also that the `description` argument here allows to set the `description` attribute of the created image group.\n",
    "\n",
    "We will now print the content of our dataset to see the results of the image group creation:"
   ]
  },
  {
   "cell_type": "code",
   "execution_count": 15,
   "id": "63c13f8d",
   "metadata": {},
   "outputs": [
    {
     "name": "stdout",
     "output_type": "stream",
     "text": [
      "Printing dataset content with max depth 3\n",
      "\n",
      "****** DATA SET CONTENT ******\n",
      " -- File: tutorial_dataset.h5\n",
      " -- Size:     3.469 Kb\n",
      " -- Data Model Class: SampleData\n",
      "\n",
      " GROUP /\n",
      "=====================\n",
      " -- Parent Group : /\n",
      " -- Group attributes : \n",
      "\t * description :  \n",
      "\t * sample_name : test_sample\n",
      " -- Childrens : Index, first_2D_image, \n",
      "----------------\n",
      "************************************************\n",
      "\n",
      "\n",
      " GROUP first_2D_image\n",
      "=====================\n",
      " -- Parent Group : /\n",
      " -- Group attributes : \n",
      "\t * description : Test image group created from a bidimensional Numpy array.\n",
      "\t * dimension : [101 101]\n",
      "\t * empty : False\n",
      "\t * group_type : 2DImage\n",
      "\t * nodes_dimension : [102 102]\n",
      "\t * nodes_dimension_xdmf : [102 102]\n",
      "\t * origin : [0. 0.]\n",
      "\t * spacing : [1. 1.]\n",
      "\t * xdmf_gridname : first_2D_image\n",
      " -- Childrens : test_2D_field, Field_index, \n",
      "----------------\n",
      "****** Group /first_2D_image CONTENT ******\n",
      "\n",
      " NODE: /first_2D_image/Field_index\n",
      "====================\n",
      " -- Parent Group : first_2D_image\n",
      " -- Node name : Field_index\n",
      " -- Field_index attributes : \n",
      "\t * node_type : string array\n",
      "\n",
      " -- content : /first_2D_image/Field_index (EArray(1,)) ''\n",
      " -- Compression options for node `/first_2D_image/Field_index`:\n",
      "\tcomplevel=0, shuffle=False, bitshuffle=False, fletcher32=False, least_significant_digit=None\n",
      " -- Node memory size :    63.999 Kb\n",
      "----------------\n",
      "\n",
      " NODE: /first_2D_image/test_2D_field\n",
      "====================\n",
      " -- Parent Group : first_2D_image\n",
      " -- Node name : test_2D_field\n",
      " -- test_2D_field attributes : \n",
      "\t * empty : False\n",
      "\t * field_dimensionality : Scalar\n",
      "\t * field_type : Element_field\n",
      "\t * node_type : field_array\n",
      "\t * padding : None\n",
      "\t * parent_grid_path : /first_2D_image\n",
      "\t * transpose_indices : [1, 0]\n",
      "\t * xdmf_fieldname : test_2D_field\n",
      "\t * xdmf_gridname : first_2D_image\n",
      "\n",
      " -- content : /first_2D_image/test_2D_field (CArray(101, 101)) 'image2D_test_2D_field'\n",
      " -- Compression options for node `/first_2D_image/test_2D_field`:\n",
      "\tcomplevel=0, shuffle=False, bitshuffle=False, fletcher32=False, least_significant_digit=None\n",
      " -- Node memory size :    63.914 Kb\n",
      "----------------\n",
      "\n",
      "\n",
      "************************************************\n",
      "\n",
      "\n"
     ]
    }
   ],
   "source": [
    "data.print_dataset_content()"
   ]
  },
  {
   "cell_type": "markdown",
   "id": "ac98541c",
   "metadata": {},
   "source": [
    "Reading its attributes, we can observe that a *2DImage* group has been created, with a dimension of 51x51 pixels, in accordance with the inputed numpy array shape. We also can see that two childrens have been created for this group, a `Field_index` children, and a `test_2D_field` containing our data array (51x51 Carray).\n",
    "\n",
    "If we look at the dataset Index, we obtain:"
   ]
  },
  {
   "cell_type": "code",
   "execution_count": 16,
   "id": "1ae1fbae",
   "metadata": {},
   "outputs": [
    {
     "name": "stdout",
     "output_type": "stream",
     "text": [
      "Dataset Content Index :\n",
      "------------------------:\n",
      "index printed with max depth `3` and under local root `/`\n",
      "\n",
      "\t Name : image2D                                   H5_Path : /first_2D_image \t\n",
      "\t Name : image2D_test_2D_field                     H5_Path : /first_2D_image/test_2D_field \t\n",
      "\t Name : image2D_Field_index                       H5_Path : /first_2D_image/Field_index \t\n",
      "\n"
     ]
    }
   ],
   "source": [
    "data.print_index()"
   ]
  },
  {
   "cell_type": "markdown",
   "id": "dc5a43b6",
   "metadata": {},
   "source": [
    "You can see that the *indexnames* of the field and Field Index data items have been automatically constructed, following the rule: \n",
    "\n",
    "`indexname = grid_name + '_' + node_name`.\n",
    "\n",
    "We will look now at the other topology attributes of our *Image group*:"
   ]
  },
  {
   "cell_type": "code",
   "execution_count": 17,
   "id": "c2c6933e",
   "metadata": {},
   "outputs": [
    {
     "name": "stdout",
     "output_type": "stream",
     "text": [
      " -- first_2D_image attributes : \n",
      "\t * description : Test image group created from a bidimensional Numpy array.\n",
      "\t * dimension : [101 101]\n",
      "\t * empty : False\n",
      "\t * group_type : 2DImage\n",
      "\t * nodes_dimension : [102 102]\n",
      "\t * nodes_dimension_xdmf : [102 102]\n",
      "\t * origin : [0. 0.]\n",
      "\t * spacing : [1. 1.]\n",
      "\t * xdmf_gridname : first_2D_image\n",
      "\n"
     ]
    }
   ],
   "source": [
    "data.print_node_attributes('image2D')"
   ]
  },
  {
   "cell_type": "markdown",
   "id": "b0f45025",
   "metadata": {},
   "source": [
    "You can observe that the `origin` and `spacing` attributes have been set to their default value (`[0.,0.]` and `[1.,1.]`), as they have not been specified in `add_image_from_field` arguments. \n",
    "We will see how to modify values for these attributes in the next subsection of this tutorial."
   ]
  },
  {
   "cell_type": "markdown",
   "id": "42c35e29",
   "metadata": {},
   "source": [
    "#### Create an image with specific pixel/voxel size and origin"
   ]
  },
  {
   "cell_type": "markdown",
   "id": "cc42b91b",
   "metadata": {},
   "source": [
    "We will now use again the image group add method to recreate our image, this time specifying the value of the grid spacing and origin:"
   ]
  },
  {
   "cell_type": "code",
   "execution_count": 18,
   "id": "f19f8931",
   "metadata": {},
   "outputs": [
    {
     "name": "stdout",
     "output_type": "stream",
     "text": [
      "\n",
      "Removing group first_2D_image to replace it by new one.\n",
      "\n",
      "Removing  node /first_2D_image in content index....\n",
      "\n",
      "Removing  node /first_2D_image/test_2D_field in content index....\n",
      "\n",
      "\n",
      "item image2D_test_2D_field : /first_2D_image/test_2D_field removed from context index dictionary\n",
      ".... Storing content index in tutorial_dataset.h5:/Index attributes\n",
      ".... writing xdmf file : tutorial_dataset.xdmf\n",
      ".... flushing data in file tutorial_dataset.h5\n",
      "File tutorial_dataset.h5 synchronized with in memory data tree\n",
      "\n",
      "Node <closed tables.carray.CArray at 0x7f6cb9f89c30> sucessfully removed\n",
      "\n",
      "Removing  node /first_2D_image/Field_index in content index....\n",
      "\n",
      "\n",
      "item image2D_Field_index : /first_2D_image/Field_index removed from context index dictionary\n",
      ".... Storing content index in tutorial_dataset.h5:/Index attributes\n",
      ".... writing xdmf file : tutorial_dataset.xdmf\n",
      ".... flushing data in file tutorial_dataset.h5\n",
      "File tutorial_dataset.h5 synchronized with in memory data tree\n",
      "\n",
      "Node <closed tables.earray.EArray at 0x7f6cb9f5e690> sucessfully removed\n",
      "\n",
      "item image2D : /first_2D_image removed from context index dictionary\n",
      ".... Storing content index in tutorial_dataset.h5:/Index attributes\n",
      ".... writing xdmf file : tutorial_dataset.xdmf\n",
      ".... flushing data in file tutorial_dataset.h5\n",
      "File tutorial_dataset.h5 synchronized with in memory data tree\n",
      "\n",
      "Node /first_2D_image sucessfully removed\n",
      "\n",
      "Creating Group group `first_2D_image` in file tutorial_dataset.h5 at /\n",
      "Updating xdmf tree...\n",
      "\n",
      "Adding field `test_2D_field` into Grid `/first_2D_image`\n",
      "\n",
      "Adding array `test_2D_field` into Group `/first_2D_image`\n",
      "\n",
      "(get_node) ERROR : Node name does not fit any hdf5 path nor index name.\n",
      "\n",
      "Adding String Array `Field_index` into Group `/first_2D_image`\n"
     ]
    }
   ],
   "source": [
    "data.add_image_from_field(field_array=field_2D, fieldname='test_2D_field', imagename='first_2D_image',\n",
    "                         indexname='image2D', location='/', replace=True,\n",
    "                         description=\"Test image group created from a bidimensional Numpy array.\",\n",
    "                         origin=[0.,10.], spacing=[2.,2.])"
   ]
  },
  {
   "cell_type": "markdown",
   "id": "619861e8",
   "metadata": {},
   "source": [
    "**Note that we had to set the `replace` argument to `True` to be able to overwrite our Image group in the dataset.**"
   ]
  },
  {
   "cell_type": "code",
   "execution_count": 19,
   "id": "8f995778",
   "metadata": {},
   "outputs": [
    {
     "name": "stdout",
     "output_type": "stream",
     "text": [
      " -- first_2D_image attributes : \n",
      "\t * description : Test image group created from a bidimensional Numpy array.\n",
      "\t * dimension : [101 101]\n",
      "\t * empty : False\n",
      "\t * group_type : 2DImage\n",
      "\t * nodes_dimension : [102 102]\n",
      "\t * nodes_dimension_xdmf : [102 102]\n",
      "\t * origin : [ 0. 10.]\n",
      "\t * spacing : [2. 2.]\n",
      "\t * xdmf_gridname : first_2D_image\n",
      "\n"
     ]
    }
   ],
   "source": [
    "data.print_node_attributes('image2D')"
   ]
  },
  {
   "cell_type": "markdown",
   "id": "813a76f1",
   "metadata": {},
   "source": [
    "This time, the `origin` and `spacing` attributes have been set accordingly to our choice. Have they also been set in the XDMF file ?"
   ]
  },
  {
   "cell_type": "code",
   "execution_count": 20,
   "id": "3f7a3ddd",
   "metadata": {},
   "outputs": [
    {
     "name": "stdout",
     "output_type": "stream",
     "text": [
      "<Xdmf xmlns:xi=\"http://www.w3.org/2003/XInclude\" Version=\"2.2\">\n",
      "  <Domain>\n",
      "    <Grid Name=\"first_2D_image\" GridType=\"Uniform\">\n",
      "      <Topology TopologyType=\"2DCoRectMesh\" Dimensions=\"102 102\"/>\n",
      "      <Geometry Type=\"ORIGIN_DXDY\">\n",
      "        <DataItem Format=\"XML\" Dimensions=\"2\">10.  0.</DataItem>\n",
      "        <DataItem Format=\"XML\" Dimensions=\"2\">2. 2.</DataItem>\n",
      "      </Geometry>\n",
      "      <Attribute Name=\"test_2D_field\" AttributeType=\"Scalar\" Center=\"Cell\">\n",
      "        <DataItem Format=\"HDF\" Dimensions=\"101  101\" NumberType=\"Int\" Precision=\"16\">tutorial_dataset.h5:/first_2D_image/test_2D_field</DataItem>\n",
      "      </Attribute>\n",
      "    </Grid>\n",
      "  </Domain>\n",
      "</Xdmf>\n",
      "\n"
     ]
    }
   ],
   "source": [
    "data.print_xdmf()"
   ]
  },
  {
   "cell_type": "markdown",
   "id": "a7f92697",
   "metadata": {},
   "source": [
    "The answer is yes !\n",
    "\n",
    "**You may note that in the XDMF file, the grid origin is stored as** $[10, 0]$ **and not** $[0, 10]$, **as it was inputed. This is due to the inverse interpretation of coordinate order by Paraview when visually rendering data. Hence, the values of the various data items in the XDMF file are written with an inverse coordinate order.**"
   ]
  },
  {
   "cell_type": "markdown",
   "id": "83b835ce",
   "metadata": {},
   "source": [
    "To modify an image spacing or origin, you can use the `set_voxel_size` and `set_origin` methods:"
   ]
  },
  {
   "cell_type": "code",
   "execution_count": 21,
   "id": "579dcbd8",
   "metadata": {},
   "outputs": [
    {
     "name": "stdout",
     "output_type": "stream",
     "text": [
      ".... Storing content index in tutorial_dataset.h5:/Index attributes\n",
      ".... writing xdmf file : tutorial_dataset.xdmf\n",
      ".... flushing data in file tutorial_dataset.h5\n",
      "File tutorial_dataset.h5 synchronized with in memory data tree\n",
      ".... Storing content index in tutorial_dataset.h5:/Index attributes\n",
      ".... writing xdmf file : tutorial_dataset.xdmf\n",
      ".... flushing data in file tutorial_dataset.h5\n",
      "File tutorial_dataset.h5 synchronized with in memory data tree\n",
      " -- first_2D_image attributes : \n",
      "\t * description : Test image group created from a bidimensional Numpy array.\n",
      "\t * dimension : [101 101]\n",
      "\t * empty : False\n",
      "\t * group_type : 2DImage\n",
      "\t * nodes_dimension : [102 102]\n",
      "\t * nodes_dimension_xdmf : [102 102]\n",
      "\t * origin : [10.  0.]\n",
      "\t * spacing : [4. 4.]\n",
      "\t * xdmf_gridname : first_2D_image\n",
      "\n",
      "<Xdmf xmlns:xi=\"http://www.w3.org/2003/XInclude\" Version=\"2.2\">\n",
      "  <Domain>\n",
      "    <Grid Name=\"first_2D_image\" GridType=\"Uniform\">\n",
      "      <Topology TopologyType=\"2DCoRectMesh\" Dimensions=\"102 102\"/>\n",
      "      <Geometry Type=\"ORIGIN_DXDY\">\n",
      "        <DataItem Format=\"XML\" Dimensions=\"2\"> 0. 10.</DataItem>\n",
      "        <DataItem Format=\"XML\" Dimensions=\"2\">4. 4.</DataItem>\n",
      "      </Geometry>\n",
      "      <Attribute Name=\"test_2D_field\" AttributeType=\"Scalar\" Center=\"Cell\">\n",
      "        <DataItem Format=\"HDF\" Dimensions=\"101  101\" NumberType=\"Int\" Precision=\"16\">tutorial_dataset.h5:/first_2D_image/test_2D_field</DataItem>\n",
      "      </Attribute>\n",
      "    </Grid>\n",
      "  </Domain>\n",
      "</Xdmf>\n",
      "\n"
     ]
    }
   ],
   "source": [
    "data.set_voxel_size(image_group='image2D', voxel_size=np.array([4.,4.]))\n",
    "data.set_origin(image_group='image2D', origin=np.array([10.,0.]))\n",
    "data.print_node_attributes('image2D')\n",
    "data.print_xdmf()"
   ]
  },
  {
   "cell_type": "markdown",
   "id": "e744a391",
   "metadata": {},
   "source": [
    "The *Image Group* spacing and origin have indeed been modified in the group attributes, and the XDMF file. \n",
    "\n",
    "**You can use those methods to translate and dilate your image group in the visualization rendered by Paraview, which can be usefull to avoid grid superposition if you want to visualize them in the same RenderView, or, on the contrary, to force visual superposition of grids that had not the same position/scale when added to the dataset.** "
   ]
  },
  {
   "cell_type": "markdown",
   "id": "267cb945",
   "metadata": {},
   "source": [
    "#### Creating images from pixel wise or nodal value defined fields"
   ]
  },
  {
   "cell_type": "markdown",
   "id": "02213b18",
   "metadata": {},
   "source": [
    "By using the `is_elemField` argument of `add_image_from_field`, we can change this standard behavior. By setting it to `False`, the method will consider the inputed array as a nodal value field: each value will be associated with a node of the image regular grid. We can test it by creating another image group from the same array:"
   ]
  },
  {
   "cell_type": "code",
   "execution_count": 22,
   "id": "a82296b0",
   "metadata": {},
   "outputs": [
    {
     "name": "stdout",
     "output_type": "stream",
     "text": [
      "\n",
      " (get_attribute) neither indexname nor node_path passed, node return aborted\n",
      "\n",
      "Creating Group group `image_2D_bis` in file tutorial_dataset.h5 at /\n",
      "Updating xdmf tree...\n",
      "\n",
      "Adding field `field_nodes_2D` into Grid `/image_2D_bis`\n",
      "\n",
      "Adding array `field_nodes_2D` into Group `/image_2D_bis`\n",
      "\n",
      "(get_node) ERROR : Node name does not fit any hdf5 path nor index name.\n",
      "\n",
      "Adding String Array `Field_index` into Group `/image_2D_bis`\n"
     ]
    }
   ],
   "source": [
    "data.add_image_from_field(field_array=field_2D, fieldname='field_nodes_2D', imagename='image_2D_bis',\n",
    "                         indexname='image2D_bis', location='/', \n",
    "                         description=\"Test image group created from a bidimensional Numpy array.\",\n",
    "                         origin=[0.,10.], spacing=[2.,2.], is_elemField=False)"
   ]
  },
  {
   "cell_type": "code",
   "execution_count": 23,
   "id": "64e0314a",
   "metadata": {},
   "outputs": [
    {
     "name": "stdout",
     "output_type": "stream",
     "text": [
      "<Xdmf xmlns:xi=\"http://www.w3.org/2003/XInclude\" Version=\"2.2\">\n",
      "  <Domain>\n",
      "    <Grid Name=\"first_2D_image\" GridType=\"Uniform\">\n",
      "      <Topology TopologyType=\"2DCoRectMesh\" Dimensions=\"102 102\"/>\n",
      "      <Geometry Type=\"ORIGIN_DXDY\">\n",
      "        <DataItem Format=\"XML\" Dimensions=\"2\"> 0. 10.</DataItem>\n",
      "        <DataItem Format=\"XML\" Dimensions=\"2\">4. 4.</DataItem>\n",
      "      </Geometry>\n",
      "      <Attribute Name=\"test_2D_field\" AttributeType=\"Scalar\" Center=\"Cell\">\n",
      "        <DataItem Format=\"HDF\" Dimensions=\"101  101\" NumberType=\"Int\" Precision=\"16\">tutorial_dataset.h5:/first_2D_image/test_2D_field</DataItem>\n",
      "      </Attribute>\n",
      "    </Grid>\n",
      "    <Grid Name=\"image_2D_bis\" GridType=\"Uniform\">\n",
      "      <Topology TopologyType=\"2DCoRectMesh\" Dimensions=\"101 101\"/>\n",
      "      <Geometry Type=\"ORIGIN_DXDY\">\n",
      "        <DataItem Format=\"XML\" Dimensions=\"2\">10.  0.</DataItem>\n",
      "        <DataItem Format=\"XML\" Dimensions=\"2\">2. 2.</DataItem>\n",
      "      </Geometry>\n",
      "      <Attribute Name=\"field_nodes_2D\" AttributeType=\"Scalar\" Center=\"Node\">\n",
      "        <DataItem Format=\"HDF\" Dimensions=\"101  101\" NumberType=\"Int\" Precision=\"16\">tutorial_dataset.h5:/image_2D_bis/field_nodes_2D</DataItem>\n",
      "      </Attribute>\n",
      "    </Grid>\n",
      "  </Domain>\n",
      "</Xdmf>\n",
      "\n",
      "\n",
      " GROUP image_2D_bis\n",
      "=====================\n",
      " -- Parent Group : /\n",
      " -- Group attributes : \n",
      "\t * description : Test image group created from a bidimensional Numpy array.\n",
      "\t * dimension : [100 100]\n",
      "\t * empty : False\n",
      "\t * group_type : 2DImage\n",
      "\t * nodes_dimension : [101 101]\n",
      "\t * nodes_dimension_xdmf : [101 101]\n",
      "\t * origin : [ 0. 10.]\n",
      "\t * spacing : [2. 2.]\n",
      "\t * xdmf_gridname : image_2D_bis\n",
      " -- Childrens : field_nodes_2D, Field_index, \n",
      "----------------\n",
      "\n"
     ]
    }
   ],
   "source": [
    "data.print_xdmf()\n",
    "data.print_node_info('image2D_bis')"
   ]
  },
  {
   "cell_type": "markdown",
   "id": "aad32440",
   "metadata": {},
   "source": [
    "As you can see, the second image group has now dimensions reduced by one for each coordinate compared to the first image group, and the associated xdmf Grid node has an attribute that is defined on **Nodes**.\n",
    "\n",
    "We can now visualize the fields to see what differencies does it make. Use the code of the following cell to open the dataset with Paraview. Then, you can open again the same file in Paraview, and only activate the rendering of one image group for each file, by ticking it in the property panel, as shown on the image below: \n",
    "\n",
    "<img src=\"./Images/Tutorial_3/Visualizing_multiple_blocks.png\" width=\"80%\">"
   ]
  },
  {
   "cell_type": "code",
   "execution_count": 66,
   "id": "e0237c2a",
   "metadata": {},
   "outputs": [],
   "source": [
    "# Use the second code line if you want to specify the path of the paraview executable you want to use\n",
    "# otherwise use the first line \n",
    "#data.pause_for_visualization(Paraview=True)\n",
    "#data.pause_for_visualization(Paraview=True, Paraview_path='path to paraview executable')"
   ]
  },
  {
   "cell_type": "markdown",
   "id": "2a3cd37d",
   "metadata": {},
   "source": [
    "What you should see, is, for the pixel wise field, an rendering close to this:\n",
    "\n",
    "<img src=\"./Images/Tutorial_3/pixel_wise_field.png\" width=\"70%\">\n",
    "\n",
    "And, for the nodal value field, you should have a rendering close to this:\n",
    "\n",
    "<img src=\"./Images/Tutorial_3/test_image_field.png\" width=\"70%\">\n",
    "\n",
    "**The visual difference is clear, even if it is exactly the same data array that is plotted in both cases**. In the first case, with **Cell centered** data, Paraview interprets the data as a field constant within each element. On the contrary, in the second case, with **Node centered** data, Paraview interprets the data as values that the field takes at grid vertexes, and interpolate linearly field values in the pixels (the grid elements) to render the visualization. That is why the field appears continuous at the interface between the fiber and the matrix.  "
   ]
  },
  {
   "cell_type": "markdown",
   "id": "1e96deab",
   "metadata": {},
   "source": [
    "#### Creating images from scalar, vector or tensor fields"
   ]
  },
  {
   "cell_type": "markdown",
   "id": "2f910bbb",
   "metadata": {},
   "source": [
    "There is another argument that changes the way `add_image_from_field` interprets the field data array: the `is_scalar` argument. Its default value is `True`. In this case the shape of the field is interpreted as a the dimension of the image to create. In the case just above, we inputed a (101x101) field, and the method created an image group of 101x101 pixels, containing a **scalar field**, *i.e.* a field with only one value per pixel.\n",
    "\n",
    "However, we may want to create an image from a field whose values are vector or tensors. In that case, there is an ambiguity for arrays with 3 dimensions. They can either represent a $(x,y,z)$ array, or a $(x,y,i)$ array, where $i$ denotes the field component index. \n",
    "\n",
    "**The `is_scalar` argument role is to avoid this ambiguity. If it is `True` (default) value, a 3D array will be interpreted as a 3D $(x,y,z)$ scalar field, and if it is `False`, it will be interpreted as a  $(x,y,i)$ 2D vector or tensor field.**\n",
    "\n",
    "Time to test this feature:"
   ]
  },
  {
   "cell_type": "code",
   "execution_count": 24,
   "id": "6a4edbf8",
   "metadata": {},
   "outputs": [
    {
     "name": "stdout",
     "output_type": "stream",
     "text": [
      "\n",
      " (get_attribute) neither indexname nor node_path passed, node return aborted\n",
      "\n",
      "Creating Group group `image_3D` in file tutorial_dataset.h5 at /\n",
      "Updating xdmf tree...\n",
      "\n",
      "Adding field `field_3D` into Grid `/image_3D`\n",
      "\n",
      "Adding array `field_3D` into Group `/image_3D`\n",
      "\n",
      "(get_node) ERROR : Node name does not fit any hdf5 path nor index name.\n",
      "\n",
      "Adding String Array `Field_index` into Group `/image_3D`\n",
      "\n",
      " (get_attribute) neither indexname nor node_path passed, node return aborted\n",
      "\n",
      "Creating Group group `image_2D_3` in file tutorial_dataset.h5 at /\n",
      "Updating xdmf tree...\n",
      "\n",
      "Adding field `field_vect` into Grid `/image_2D_3`\n",
      "\n",
      "Adding array `field_vect` into Group `/image_2D_3`\n",
      "\n",
      "(get_node) ERROR : Node name does not fit any hdf5 path nor index name.\n",
      "\n",
      "Adding String Array `Field_index` into Group `/image_2D_3`\n"
     ]
    }
   ],
   "source": [
    "# creation of a random 3D field :\n",
    "field_3D = np.random.rand(50,50,3)\n",
    "\n",
    "# creation of a 3D image group --> is_scalar set to True (default value)\n",
    "data.add_image_from_field(field_array=field_3D, fieldname='field_3D', imagename='image_3D',\n",
    "                          indexname='image3D', location='/', \n",
    "                          description=\"\"\"\n",
    "                          Test 3D image group created from a tridimensional Numpy array with `is_scalar` = True.\"\"\")\n",
    "\n",
    "# creation of a 2D image group --> is_scalar set to False\n",
    "data.add_image_from_field(field_array=field_3D, fieldname='field_vect', imagename='image_2D_3',\n",
    "                          indexname='image2D_3', location='/', is_scalar=False,\n",
    "                          description=\"\"\"\n",
    "                          Test 2D image group created from a tridimensional Numpy array with `is_scalar` = False.\"\"\")"
   ]
  },
  {
   "cell_type": "code",
   "execution_count": 25,
   "id": "91602a08",
   "metadata": {},
   "outputs": [
    {
     "name": "stdout",
     "output_type": "stream",
     "text": [
      "Dataset Content Index :\n",
      "------------------------:\n",
      "index printed with max depth `3` and under local root `/`\n",
      "\n",
      "\t Name : image2D                                   H5_Path : /first_2D_image \t\n",
      "\t Name : image2D_test_2D_field                     H5_Path : /first_2D_image/test_2D_field \t\n",
      "\t Name : image2D_Field_index                       H5_Path : /first_2D_image/Field_index \t\n",
      "\t Name : image2D_bis                               H5_Path : /image_2D_bis \t\n",
      "\t Name : image2D_bis_field_nodes_2D                H5_Path : /image_2D_bis/field_nodes_2D \t\n",
      "\t Name : image2D_bis_Field_index                   H5_Path : /image_2D_bis/Field_index \t\n",
      "\t Name : image3D                                   H5_Path : /image_3D \t\n",
      "\t Name : image3D_field_3D                          H5_Path : /image_3D/field_3D \t\n",
      "\t Name : image3D_Field_index                       H5_Path : /image_3D/Field_index \t\n",
      "\t Name : image2D_3                                 H5_Path : /image_2D_3 \t\n",
      "\t Name : image2D_3_field_vect                      H5_Path : /image_2D_3/field_vect \t\n",
      "\t Name : image2D_3_Field_index                     H5_Path : /image_2D_3/Field_index \t\n",
      "\n",
      "Printing dataset content with max depth 3\n",
      "  |--GROUP first_2D_image: /first_2D_image (2DImage) \n",
      "     --NODE Field_index: /first_2D_image/Field_index (string array) (   63.999 Kb)\n",
      "     --NODE test_2D_field: /first_2D_image/test_2D_field (field_array) (   63.914 Kb)\n",
      "\n",
      "  |--GROUP image_2D_3: /image_2D_3 (2DImage) \n",
      "     --NODE Field_index: /image_2D_3/Field_index (string array) (   63.999 Kb)\n",
      "     --NODE field_vect: /image_2D_3/field_vect (field_array) (   63.281 Kb)\n",
      "\n",
      "  |--GROUP image_2D_bis: /image_2D_bis (2DImage) \n",
      "     --NODE Field_index: /image_2D_bis/Field_index (string array) (   63.999 Kb)\n",
      "     --NODE field_nodes_2D: /image_2D_bis/field_nodes_2D (field_array) (   63.914 Kb)\n",
      "\n",
      "  |--GROUP image_3D: /image_3D (3DImage) \n",
      "     --NODE Field_index: /image_3D/Field_index (string array) (   63.999 Kb)\n",
      "     --NODE field_3D: /image_3D/field_3D (field_array) (   58.594 Kb)\n",
      "\n",
      "\n",
      "\n",
      " GROUP image_3D\n",
      "=====================\n",
      " -- Parent Group : /\n",
      " -- Group attributes : \n",
      "\t * description : \n",
      "                          Test 3D image group created from a tridimensional Numpy array with `is_scalar` = True.\n",
      "\t * dimension : [50 50  3]\n",
      "\t * empty : False\n",
      "\t * group_type : 3DImage\n",
      "\t * nodes_dimension : [51 51  4]\n",
      "\t * nodes_dimension_xdmf : [ 4 51 51]\n",
      "\t * origin : [0. 0. 0.]\n",
      "\t * spacing : [1. 1. 1.]\n",
      "\t * xdmf_gridname : image_3D\n",
      " -- Childrens : field_3D, Field_index, \n",
      "----------------\n",
      "\n",
      "\n",
      " GROUP image_2D_3\n",
      "=====================\n",
      " -- Parent Group : /\n",
      " -- Group attributes : \n",
      "\t * description : \n",
      "                          Test 2D image group created from a tridimensional Numpy array with `is_scalar` = False.\n",
      "\t * dimension : [50 50]\n",
      "\t * empty : False\n",
      "\t * group_type : 2DImage\n",
      "\t * nodes_dimension : [51 51]\n",
      "\t * nodes_dimension_xdmf : [51 51]\n",
      "\t * origin : [0. 0.]\n",
      "\t * spacing : [1. 1.]\n",
      "\t * xdmf_gridname : image_2D_3\n",
      " -- Childrens : field_vect, Field_index, \n",
      "----------------\n",
      "\n"
     ]
    }
   ],
   "source": [
    "# Getting information on the dataset and the created image groups\n",
    "print(data)\n",
    "data.print_node_info('image_3D')\n",
    "data.print_node_info('image_2D_3')"
   ]
  },
  {
   "cell_type": "code",
   "execution_count": 26,
   "id": "07c237e1",
   "metadata": {},
   "outputs": [
    {
     "name": "stdout",
     "output_type": "stream",
     "text": [
      "\n",
      " NODE: /image_3D/field_3D\n",
      "====================\n",
      " -- Parent Group : image_3D\n",
      " -- Node name : field_3D\n",
      " -- field_3D attributes : \n",
      "\t * empty : False\n",
      "\t * field_dimensionality : Scalar\n",
      "\t * field_type : Element_field\n",
      "\t * node_type : field_array\n",
      "\t * padding : None\n",
      "\t * parent_grid_path : /image_3D\n",
      "\t * transpose_indices : [2, 1, 0]\n",
      "\t * xdmf_fieldname : field_3D\n",
      "\t * xdmf_gridname : image_3D\n",
      "\n",
      " -- content : /image_3D/field_3D (CArray(3, 50, 50)) 'image3D_field_3D'\n",
      " -- Compression options for node `image3D_field_3D`:\n",
      "\tcomplevel=0, shuffle=False, bitshuffle=False, fletcher32=False, least_significant_digit=None\n",
      " -- Node memory size :    58.594 Kb\n",
      "----------------\n",
      "\n",
      "\n",
      "\n",
      " NODE: /image_2D_3/field_vect\n",
      "====================\n",
      " -- Parent Group : image_2D_3\n",
      " -- Node name : field_vect\n",
      " -- field_vect attributes : \n",
      "\t * empty : False\n",
      "\t * field_dimensionality : Vector\n",
      "\t * field_type : Element_field\n",
      "\t * node_type : field_array\n",
      "\t * padding : None\n",
      "\t * parent_grid_path : /image_2D_3\n",
      "\t * transpose_indices : [1, 0, 2]\n",
      "\t * xdmf_fieldname : field_vect\n",
      "\t * xdmf_gridname : image_2D_3\n",
      "\n",
      " -- content : /image_2D_3/field_vect (CArray(50, 50, 3)) 'image2D_3_field_vect'\n",
      " -- Compression options for node `image2D_3_field_vect`:\n",
      "\tcomplevel=0, shuffle=False, bitshuffle=False, fletcher32=False, least_significant_digit=None\n",
      " -- Node memory size :    63.281 Kb\n",
      "----------------\n",
      "\n",
      "\n"
     ]
    }
   ],
   "source": [
    "# Getting information on created image fields\n",
    "data.print_node_info('image3D_field_3D')\n",
    "data.print_node_info('image2D_3_field_vect')"
   ]
  },
  {
   "cell_type": "markdown",
   "id": "4edb109a",
   "metadata": {},
   "source": [
    "If you look at the two created image groups, you see indeed that one has been created as a *3DImage* group (with `is_scalar=True`), and one as a *2DImage* Group (with `is_scalar=False`). Moreover, the `field_dimensionality` attribute of the two created image fields state clearly that the field of the 3D image is a scalar field, whereas the other one is a vector field. \n",
    "\n",
    "We can now visualize them:"
   ]
  },
  {
   "cell_type": "code",
   "execution_count": 29,
   "id": "6a512b89",
   "metadata": {},
   "outputs": [],
   "source": [
    "# Use the second code line if you want to specify the path of the paraview executable you want to use\n",
    "# otherwise use the first line \n",
    "#data.pause_for_visualization(Paraview=True)\n",
    "#data.pause_for_visualization(Paraview=True, Paraview_path='path to paraview executable')"
   ]
  },
  {
   "cell_type": "markdown",
   "id": "e5f4b109",
   "metadata": {},
   "source": [
    "The rendering of the 3D image group with Paraview, containing a random 3D scalar field, should look the image below:\n",
    "\n",
    "<img src=\"./Images/Tutorial_3/3D_random_scalar.png\" width=\"60%\">\n",
    "\n",
    "*To obtain the rendering above, we only activated the rendering of the `image_3D` block in Paraview's window Property Panel, and plotted it with the Surface renderer.* \n",
    "\n",
    "The rendering of the 2D image group with Paraview, containing a random 2D vector field, should look the this:\n",
    "\n",
    "<img src=\"./Images/Tutorial_3/2D_random_vect.png\" width=\"60%\">\n",
    "\n",
    "*To obtain the rendering above, we only activated the rendering of the `image_2D_3` block in Paraview's window Property Panel, added a Glyph filter in Arrow mode (that is how to plot vector field with Paraview) and colored the arrows with the vector field magnitude. We also bounded the maximum number of plotted arrows to 500.*\n",
    "\n",
    "**We will stress again that here, those two very different visual rendering where obtained by creating two image groups with stricly the same input field data array.** This illustrate the formatting possibilities offered by the *SampleData* class, but also highlight the need to be familiar with them, and to clearly specify in what form the data must be stored, to avoid unwanted behaviors. \n",
    "\n",
    "Note that you can see in the attributes of the 3D image group the dimension transposition between $X$ and $Z$ coordinates, mentioned in section II, when comparing the values of attributes `nodes_dimension` and `nodes_dimension_xdmf`."
   ]
  },
  {
   "cell_type": "markdown",
   "id": "2b09bcac",
   "metadata": {},
   "source": [
    "Note that we could have executed the same lines with an array of shape $(50,50,6)$ or $(50,50,9)$. The resulting 2D image would have in those cases supported a symetric tensor or tensor field.   \n",
    "\n",
    "This closes the presentation of the first and more straightforward way to create an Image group in a *SampleData* dataset. "
   ]
  },
  {
   "cell_type": "markdown",
   "id": "2756b3b1",
   "metadata": {},
   "source": [
    "### Creating images from image objects"
   ]
  },
  {
   "cell_type": "markdown",
   "id": "febf5e96",
   "metadata": {},
   "source": [
    "The second way to create Image groups, requires the creation of an image object. To handle grids, the *SampleData* class relies on the *BasicTools* Python package, developed by the industrial group Safran. This package offers some classes to represent meshes, and in particular rectilinear meshes, *i.e.* regular grids. What whe refer to as an *image object*, is in fact a *BasicTools* rectilinear mesh object. Let us see how it works with an example."
   ]
  },
  {
   "cell_type": "markdown",
   "id": "80eca186",
   "metadata": {},
   "source": [
    "First, we need to import the rectilinear mesh class from Basictools, that should be accessible in your python environment as it is a SampleData dependence:"
   ]
  },
  {
   "cell_type": "code",
   "execution_count": 27,
   "id": "23c48eb4",
   "metadata": {},
   "outputs": [],
   "source": [
    "from BasicTools.Containers.ConstantRectilinearMesh import ConstantRectilinearMesh"
   ]
  },
  {
   "cell_type": "markdown",
   "id": "e2e2da30",
   "metadata": {},
   "source": [
    "Then, we will create our image object as an instance of this class. For that, we need to set its dimenion (2D or 3D) image. For this example, we will try to recreate the 3D image with the random scalar field:"
   ]
  },
  {
   "cell_type": "code",
   "execution_count": 28,
   "id": "0ab4f9db",
   "metadata": {},
   "outputs": [
    {
     "name": "stdout",
     "output_type": "stream",
     "text": [
      "<class 'BasicTools.Containers.ConstantRectilinearMesh.ConstantRectilinearMesh'>\n"
     ]
    }
   ],
   "source": [
    "image_object = ConstantRectilinearMesh(dim=3)\n",
    "print(type(image_object))"
   ]
  },
  {
   "cell_type": "markdown",
   "id": "6f9368b6",
   "metadata": {},
   "source": [
    "We can now set the topology of the image, by using the following methods:"
   ]
  },
  {
   "cell_type": "code",
   "execution_count": 29,
   "id": "dd38f484",
   "metadata": {},
   "outputs": [],
   "source": [
    "image_object.SetDimensions((50,50,3))\n",
    "image_object.SetOrigin([0.,0.,0.])\n",
    "image_object.SetSpacing([1.,1.,1.])"
   ]
  },
  {
   "cell_type": "markdown",
   "id": "5bb49205",
   "metadata": {},
   "source": [
    "Finally, image objects have two attributes that are dictionaries, the `elemFields` and the `nodeFields`, that allow to add fields to the image. Of course, these fields should have dimensions that match the image object dimensions. We will then add our random 3D array as a field of this image:"
   ]
  },
  {
   "cell_type": "code",
   "execution_count": 30,
   "id": "369e59d7",
   "metadata": {},
   "outputs": [],
   "source": [
    "image_object.elemFields['im_object_field'] = field_3D "
   ]
  },
  {
   "cell_type": "markdown",
   "id": "1f9754ad",
   "metadata": {},
   "source": [
    "We can print our image object to get information on it:"
   ]
  },
  {
   "cell_type": "code",
   "execution_count": 31,
   "id": "b964480f",
   "metadata": {},
   "outputs": [
    {
     "name": "stdout",
     "output_type": "stream",
     "text": [
      "ConstantRectilinearMesh \n",
      "  Number of Nodes    : 7500\n",
      "    Tags : \n",
      "  Number of Elements : 4802\n",
      "  dimensions         : [50 50  3]\n",
      "  origin             : [0. 0. 0.]\n",
      "  spacing            : [1. 1. 1.]\n",
      "    ConstantRectilinearElementContainer,   Type : (hex8,4802),   Tags : \n",
      "\n",
      "  Node Tags          : []\n",
      "  Cell Tags          : []\n",
      "  elemFields         : ['im_object_field']\n",
      "\n"
     ]
    }
   ],
   "source": [
    "print(image_object)"
   ]
  },
  {
   "cell_type": "markdown",
   "id": "18e92588",
   "metadata": {},
   "source": [
    "You can see that it has an attribute that is an Element container, that has 4802 elements of type `hex8`, *i.e.* linear hexaedra, which is consistent with a grid of voxels. "
   ]
  },
  {
   "cell_type": "markdown",
   "id": "821a5609",
   "metadata": {},
   "source": [
    "Now we can add the image into the dataset with the `add_image` method. Its arguments are exactly the same as those of the `add_image_from_field` method, without the `field_array`, `fieldname`, `is_scalar`, `elemField` arguments:"
   ]
  },
  {
   "cell_type": "code",
   "execution_count": 32,
   "id": "4f2b000c",
   "metadata": {},
   "outputs": [
    {
     "name": "stdout",
     "output_type": "stream",
     "text": [
      "\n",
      " (get_attribute) neither indexname nor node_path passed, node return aborted\n",
      "\n",
      "Creating Group group `image_from_object` in file tutorial_dataset.h5 at /\n",
      "Updating xdmf tree...\n",
      "\n",
      "Adding field `im_object_field` into Grid `/image_from_object`\n",
      "\n",
      "Adding array `im_object_field` into Group `/image_from_object`\n",
      "\n",
      "(get_node) ERROR : Node name does not fit any hdf5 path nor index name.\n",
      "\n",
      "Adding String Array `Field_index` into Group `/image_from_object`\n"
     ]
    },
    {
     "data": {
      "text/plain": [
       "<BasicTools.Containers.ConstantRectilinearMesh.ConstantRectilinearMesh at 0x7f6cb9eba190>"
      ]
     },
     "execution_count": 32,
     "metadata": {},
     "output_type": "execute_result"
    }
   ],
   "source": [
    "data.add_image(image_object, imagename='image_from_object', indexname='imageO', location='/', \n",
    "               description=\"\"\"Test 3D image group created from an image object.\"\"\")"
   ]
  },
  {
   "cell_type": "code",
   "execution_count": 33,
   "id": "e8dbde2c",
   "metadata": {},
   "outputs": [
    {
     "name": "stdout",
     "output_type": "stream",
     "text": [
      "\n",
      " GROUP image_from_object\n",
      "=====================\n",
      " -- Parent Group : /\n",
      " -- Group attributes : \n",
      "\t * description : Test 3D image group created from an image object.\n",
      "\t * dimension : [49 49  2]\n",
      "\t * empty : False\n",
      "\t * group_type : 3DImage\n",
      "\t * nodes_dimension : [50 50  3]\n",
      "\t * nodes_dimension_xdmf : [ 3 50 50]\n",
      "\t * origin : [0. 0. 0.]\n",
      "\t * spacing : [1. 1. 1.]\n",
      "\t * xdmf_gridname : image_from_object\n",
      " -- Childrens : im_object_field, Field_index, \n",
      "----------------\n",
      "\n"
     ]
    }
   ],
   "source": [
    "data.print_node_info('imageO')"
   ]
  },
  {
   "cell_type": "markdown",
   "id": "5a218428",
   "metadata": {},
   "source": [
    "The image group has been created. Though, you can see that the dimension we indicated, actually prescribed the image `nodes_dimension`. Hence, remember that **the `SetDimensions` method of image objects set the dimension of the node grid. The pixel/voxel grid has the same dimensions minus one along each direction**.\n",
    "\n",
    "As a result, we should expect here that the field loaded into the image object has been added to the image group as a nodal field. We can verify it by printing its attributes:"
   ]
  },
  {
   "cell_type": "code",
   "execution_count": 34,
   "id": "0888295c",
   "metadata": {},
   "outputs": [
    {
     "name": "stdout",
     "output_type": "stream",
     "text": [
      " -- im_object_field attributes : \n",
      "\t * empty : False\n",
      "\t * field_dimensionality : Scalar\n",
      "\t * field_type : Nodal_field\n",
      "\t * node_type : field_array\n",
      "\t * padding : None\n",
      "\t * parent_grid_path : /image_from_object\n",
      "\t * transpose_indices : [2, 1, 0]\n",
      "\t * xdmf_fieldname : im_object_field\n",
      "\t * xdmf_gridname : image_from_object\n",
      "\n"
     ]
    }
   ],
   "source": [
    "data.print_node_attributes('imageO_im_object_field')"
   ]
  },
  {
   "cell_type": "markdown",
   "id": "23c9b76a",
   "metadata": {},
   "source": [
    "which, confirms our guess."
   ]
  },
  {
   "cell_type": "markdown",
   "id": "9d89ef56",
   "metadata": {},
   "source": [
    "All the variations linked to the fields presented in above can still be achieved with this way of adding images in the datasets. For instance, if you passed to `SetDimension` the tuple $(N_x,N_y,N_z)$, to add a nodal vector field to your image group add a $(N_x,N_y,N_z,3)$ array to the image object `elemFields` list. "
   ]
  },
  {
   "cell_type": "markdown",
   "id": "7149e652",
   "metadata": {},
   "source": [
    "### Creating empty images"
   ]
  },
  {
   "cell_type": "markdown",
   "id": "e3f45b90",
   "metadata": {},
   "source": [
    "*SampleData* also offers the possibility to create empty image objects. To do this, you proceed also with the `add_image` method, but without providing any *image object*:"
   ]
  },
  {
   "cell_type": "code",
   "execution_count": 35,
   "id": "d18a7073",
   "metadata": {},
   "outputs": [
    {
     "name": "stdout",
     "output_type": "stream",
     "text": [
      "\n",
      " (get_attribute) neither indexname nor node_path passed, node return aborted\n",
      "\n",
      "Creating Group group `image_empty` in file tutorial_dataset.h5 at /\n"
     ]
    }
   ],
   "source": [
    "data.add_image(imagename='image_empty', indexname='imageE', location='/', \n",
    "               description=\"\"\"Test empty image group.\"\"\")"
   ]
  },
  {
   "cell_type": "code",
   "execution_count": 36,
   "id": "e960c304",
   "metadata": {},
   "outputs": [
    {
     "name": "stdout",
     "output_type": "stream",
     "text": [
      "\n",
      " GROUP image_empty\n",
      "=====================\n",
      " -- Parent Group : /\n",
      " -- Group attributes : \n",
      "\t * empty : True\n",
      "\t * group_type : emptyImage\n",
      " -- Childrens : \n",
      "----------------\n",
      "\n"
     ]
    }
   ],
   "source": [
    "data.print_node_info('imageE')"
   ]
  },
  {
   "cell_type": "markdown",
   "id": "a812d9dc",
   "metadata": {},
   "source": [
    "Like empty data arrays presented in the [tutorial 2 (section IV)](./2_SampleData_basic_data_items), empty images are used to create the internal organization of your dataset without having to add any data to it. It allows for instance to preempt some data item names, indexnames, and to already add metadata. When you have data to add, you can then create an image group with the same name/location, the empty image will be replace by an actual image group, but all metadata that was added to it before will be preserved.\n",
    "\n",
    "To test this, we start by adding metadata to our empty image group:"
   ]
  },
  {
   "cell_type": "code",
   "execution_count": 37,
   "id": "267a2dec",
   "metadata": {},
   "outputs": [
    {
     "name": "stdout",
     "output_type": "stream",
     "text": [
      " -- image_empty attributes : \n",
      "\t * empty : True\n",
      "\t * group_type : emptyImage\n",
      "\t * tutorial_file : 3_SampleData_Image_groups.ipynb\n",
      "\t * tutorial_section : III\n",
      "\n"
     ]
    }
   ],
   "source": [
    "data.add_attributes({'tutorial_file':'3_SampleData_Image_groups.ipynb', 'tutorial_section':'III'}, 'imageE')\n",
    "data.print_node_attributes('imageE')"
   ]
  },
  {
   "cell_type": "markdown",
   "id": "27624711",
   "metadata": {},
   "source": [
    "Now we will overwrite the empty image group by creating a 3D image group (same as in last subsection). In this case we do not need to set the `replace` argument to `True`. "
   ]
  },
  {
   "cell_type": "code",
   "execution_count": 38,
   "id": "77a22940",
   "metadata": {},
   "outputs": [
    {
     "name": "stdout",
     "output_type": "stream",
     "text": [
      "\n",
      "item imageE : /image_empty removed from context index dictionary\n",
      "Updating xdmf tree...\n",
      "\n",
      "Adding field `im_object_field` into Grid `/image_empty`\n",
      "\n",
      "Adding array `im_object_field` into Group `/image_empty`\n",
      "\n",
      "(get_node) ERROR : Node name does not fit any hdf5 path nor index name.\n",
      "\n",
      "Adding String Array `Field_index` into Group `/image_empty`\n",
      "\n",
      " GROUP image_empty\n",
      "=====================\n",
      " -- Parent Group : /\n",
      " -- Group attributes : \n",
      "\t * description : Test empty image group overwritten with actual data.\n",
      "\t * dimension : [49 49  2]\n",
      "\t * empty : False\n",
      "\t * group_type : 3DImage\n",
      "\t * nodes_dimension : [50 50  3]\n",
      "\t * nodes_dimension_xdmf : [ 3 50 50]\n",
      "\t * origin : [0. 0. 0.]\n",
      "\t * spacing : [1. 1. 1.]\n",
      "\t * tutorial_file : 3_SampleData_Image_groups.ipynb\n",
      "\t * tutorial_section : III\n",
      "\t * xdmf_gridname : image_empty\n",
      " -- Childrens : im_object_field, Field_index, \n",
      "----------------\n",
      "\n"
     ]
    }
   ],
   "source": [
    "# first, we will change the name of the field stored in the image object ti avoid duplicates in the dataset \n",
    "data.add_image(image_object, imagename='image_empty', indexname='imageE', location='/', \n",
    "               description=\"\"\"Test empty image group overwritten with actual data.\"\"\")\n",
    "data.print_node_info('imageE')"
   ]
  },
  {
   "cell_type": "markdown",
   "id": "21314bb8",
   "metadata": {},
   "source": [
    "The creation of the image group with actual data has indeed preserved the attributes attached to the former empty node."
   ]
  },
  {
   "cell_type": "markdown",
   "id": "23f2a947",
   "metadata": {},
   "source": [
    "Now, you know all about the three methods to create image groups in SampleData datasets. "
   ]
  },
  {
   "cell_type": "markdown",
   "id": "8ac19142",
   "metadata": {},
   "source": [
    "## IV - Image Fields data model"
   ]
  },
  {
   "cell_type": "markdown",
   "id": "d9e3a98d",
   "metadata": {},
   "source": [
    "In this new section, we will now focus on the definition of **image fields** data items. Fields are data arrays with additional metadata allowing to interpret them as spatially organized data. For the *SampleData* class, these metadata main roles are to ensure that:\n",
    "1. the correspondance between dimensions of the field array values and their physical meaning is preserved from the user perspective\n",
    "2. that the fields visualization with Paraview through the XDMF format properly renders the geometry and dimensionality of fields values\n",
    "\n",
    "To that, some conventions have been defined."
   ]
  },
  {
   "cell_type": "markdown",
   "id": "e3fbadad",
   "metadata": {},
   "source": [
    "### SampleData Image fields conventions"
   ]
  },
  {
   "cell_type": "markdown",
   "id": "8951381d",
   "metadata": {},
   "source": [
    "#### Image grids coordinates"
   ]
  },
  {
   "cell_type": "markdown",
   "id": "8f2d4fc6",
   "metadata": {},
   "source": [
    "Two grids are associated to *Image Groups*:\n",
    "\n",
    "\n",
    "* a grid of pixel/voxel centers, of dimensions $(N_x, N_y)$ or $(N_x, N_y, N_z)$, that can be seen as a set of points indentified by a doublet/triplet index: \n",
    "    - $P^c (i,j) = (x^c_i,y^c_j)$ (2D images) \n",
    "    - $ P^c (i,j,k) = (x^c_i,y^c_j,z^c_k)$ (3D images) \n",
    "  \n",
    "  \n",
    "* a grid of nodes (pixel/voxel vertexes), of dimensions $(N_x+1, N_y+1)$ or $(N_x+1, N_y+1, N_z+1)$, similarly defined:\n",
    "    - $P^n (i,j) = (x^n_i, y^n_ j)$ (2D images)\n",
    "    - $P^n (i,j,k) = (x^n_i, y^n_ j, z^n_ k)$ (3D images) \n",
    "\n",
    "with $x^c,y^c$ and $z^c$ representing the coordinates or pixel/voxel centers and $x^n,y^n$ and $z^n$ representing the coordinates or pixel/voxel centers. "
   ]
  },
  {
   "cell_type": "markdown",
   "id": "29556fb7",
   "metadata": {},
   "source": [
    "#### Fields array possible shapes"
   ]
  },
  {
   "cell_type": "markdown",
   "id": "3d3b7ae4",
   "metadata": {},
   "source": [
    "You can add *numpy* arrays as fields to *SampleData* image groups. This array specifies the data of the field for each point of one of those two grids. It must have at least as many dimensions as the grid. **Fields array are only allowed to have one more dimension that the grid they are defined on, and their first dimension sizes must comply with the grid dimensions.** This implies that field arrays can only have 8 different types of shapes:\n",
    "\n",
    "\n",
    "1. **2D grids:**\n",
    "    1. $F(i,j) \\longrightarrow$ size $(N_x,N_y)$\n",
    "    2. $F(i,j,c) \\longrightarrow$ size $(N_x,N_y,N_c)$\n",
    "    3. $F(i,j) \\longrightarrow$ size $(N_x+1,N_y+1)$\n",
    "    4. $F(i,j,c) \\longrightarrow$ size $(N_x+1,N_y+1,N_c+1)$\n",
    "    \n",
    "    \n",
    "2. **3D grids:**\n",
    "    1.  $F(i,j,k) \\longrightarrow$ size $(N_x,N_y, N_z)$\n",
    "    2.  $F(i,j,k,c) \\longrightarrow$ size $(N_x,N_y, N_c)$ \n",
    "    3.  $F(i,j,k) \\longrightarrow$ size $(N_x +1,N_y +1, N_z +1)$\n",
    "    4.  $F(i,j,k,c) \\longrightarrow$ size $(N_x +1,N_y +1, N_c +1)$ \n",
    "    "
   ]
  },
  {
   "cell_type": "markdown",
   "id": "06d266f7",
   "metadata": {},
   "source": [
    "#### Field dimensionality"
   ]
  },
  {
   "cell_type": "markdown",
   "id": "f8a27abd",
   "metadata": {},
   "source": [
    "The size of the last dimension of the array determines the **number of field components** $N_c$, which defines the **field dimensionality**. If the array has no supplementary dimension with respect to the grid, *i.e.* no $c$ index, then $N_c=1$.\n",
    "\n",
    "*SampleData* will interpret the field dimensionality (scalar, vector, or tensor) depending on the grid topology and the array shape. All possibilities are listed hereafter:\n",
    "* $N_c=1$: **scalar field**\n",
    "* $N_c=3$: **vector field**\n",
    "* $N_c=6$: **symetric tensor field** (*2nd order tensor*)\n",
    "* $N_c=9$: **tensor field** (*2nd order tensor*)\n",
    "\n",
    "The dimensionality of the field has the following implications:\n",
    "* **XDMF**: the dimensionality of the field is one of the metadata stored in the XDMF file, for Fields (`Attribute` nodes)\n",
    "* **visualization**: as it is stored in the XDMF file, Paraview can correctly interpret the fields according to their dimensionality. Il allows to plot separately each field component, and the field norm (magnitude). It also allows to use the Paraview *Glyph* filter to plot vector fields with arrows\n",
    "* **indexing**: The order of the value in the last dimension for non-scalar fields correspond to a specific order of the field components, according to a specific convention. These conventions will be detailed in the next subsection. \n",
    "* **compression**: Specific lossy compression options exist for fields. See dedicated tutorial.\n",
    "* **interface with external tools**: when interfacing SampleData with external softwares, such as numerical simulation tools, it is very practical to have fields with appropriate dimensionality accounted for (for instance to use a displacement or temperature gradient vector field stored in a *SampleData* dataset as input for a finite element simulation). "
   ]
  },
  {
   "cell_type": "markdown",
   "id": "49179f46",
   "metadata": {},
   "source": [
    "#### Field components indexing"
   ]
  },
  {
   "cell_type": "markdown",
   "id": "6f9103e5",
   "metadata": {},
   "source": [
    "We will now review the conventions for the correspondance between field data arrays indexing and field components, hence field arrays whose indexing is $F[i,j,c]$ or $F[i,j,k,c]$. To detail the convention, we will omit the spatial indexes $i,j$ or $k$ and only consider the last dimension of the field: $F[i,j,k,c] = F[c]$. We additionally use the subscript notation $F[c] = F_c$.\n",
    "\n",
    "The indexing conventions are:\n",
    "\n",
    "\n",
    "* For **vector fields** (3 components), the convention is $[F_0,F_1,F_2] = [F_x,F_y,F_z]$\n",
    "* For **symetric tensor fields** (2nd order, 6 components), the convention is\n",
    "  $[F_0,F_1,F_2,F_3,F_4,F_5] = [F_{xx},F_{yy},F_{zz},F_{xy},F_{yz},F_{zx}]$\n",
    "* For **tensor fields** (2nd order, 9 components), the convention is \n",
    "  $[F_0,F_1,F_2,F_3,F_4,F_5,F_6,F_7,F_8] = [F_{xx},F_{yy},F_{zz},F_{xy},F_{yz},F_{zx},F_{yx},F_{zy},F_{xz}]$\n",
    "\n",
    "For the first indices, the convention is $F[i,j,c] = F(x_i,y_i)[c]$ (2D) and $F[i,j,k,c] = F(x_i,y_j,z_k)[c]$ (3D)\n",
    "\n",
    "Here are a few examples to illustrate those conventions:\n",
    "\n",
    "\n",
    "* $F[10,23]$ can only be interpreted as:\n",
    "\n",
    "    - the field value at the grid point $(x_{10},y_{23})$\n",
    "\n",
    "\n",
    "\n",
    "* $F[10,23,2]$ can be interpreted as:\n",
    "\n",
    "    - if $F$ is a *scalar field*: the field value at the grid point $(x_{10},y_{23}, z_2)$\n",
    "    - if $F$ is a *vector field*: the $F_z$ component value at the grid point $(x_{10},y_{23})$\n",
    "    - if $F$ is a *tensor field*: the $F_{zz}$ component value at the grid point $(x_{10},y_{23})$\n",
    "\n",
    "\n",
    "\n",
    "* $F[10,23,7]$ can be interpreted as:\n",
    "    - if $F$ is a *scalar field*: the field value at the grid point $(x_{10},y_{23}, z_{7})$\n",
    "    - if $F$ is a *tensor field* (non-symetric): the $F_{zy}$ component value at the grid point $(x_{10},y_{23})$\n",
    "\n",
    "\n",
    "\n",
    "* $F[10,23,24,1]$ can be interpreted as:\n",
    "    - if $F$ is a *vector field*: the $F_y$ component value at the grid point $(x_{10},y_{23},z_{24})$\n",
    "    - if $F$ is a *tensor field*: the $F_{yy}$ component value at the grid point $(x_{10},y_{23},z_{24})$\n",
    "\n",
    "\n",
    "\n",
    "* $F[10,23,24,5]$ can only be interpreted as:\n",
    "\n",
    "    - the $F_{zy}$ component value (tensor field) at the grid point $(x_{10},y_{23},z_{24})$\n",
    "\n",
    "<div class=\"alert alert-warning\">\n",
    "\n",
    "**Warning** \n",
    "    \n",
    "Field components (example: $x,y,xx,zy$...) are assumed to be defined in the same frame as the grid. However, that cannot be ensured simply by providing a data array. Hence, the user must ensure to have this coincidence between the grid and the data. It is not mandatory, but not respecting this implicit convention may lead to confusions and geometrical misinterpretation of the data by other users or software. If you want to do it, a good idea would be to add attributes to the field to specify and explain the nature of the field components. \n",
    "\n",
    "</div>"
   ]
  },
  {
   "cell_type": "markdown",
   "id": "734f733a",
   "metadata": {},
   "source": [
    "#### Field indices in-memory transposition "
   ]
  },
  {
   "cell_type": "markdown",
   "id": "2b1dbdf5",
   "metadata": {},
   "source": [
    "The indexing convention presented in the last subsection apply to data array that we add to *Image groups* as fields, and to data array that are retrieved from dataset *Image group* fields. However, you will see below that the fields are not stored in the HDF5 file with the same ordering. In practice, two transpositions are applied to the data arrays before loading them into the dataset, to ensure proper visualization with the Paraview software. There are two reasons for it,  linked to Paraview indexing conventions:\n",
    "\n",
    "1. **Paraview convention for spatial indices is inverse to *SampleData* condition:**\n",
    "    * 2D: the dimensions $0$ and $1$ must be inverted:  $F[i,j,...] \\longrightarrow F[j,i,...]$ \n",
    "    * 3D: the dimensions $0$ and $2$ must be inverted:  $F[i,j,k,...] \\longrightarrow F[k,j,i,...]$\n",
    "    \n",
    "\n",
    "For these reason, fields are stored with indices transposition in *SampleData* datasets so that their visualization with Paraview yield a rendering that is consistent with the ordering convention presented in the previous subsection. These transposition are automatically handled, as well as the back transposition when a field is retrieved, as you will see in the last section of this tutorial. \n",
    "\n",
    "**An attribute `transpose_indices` is added to field data items. Its values represent the order in the first columns of the original array are stored in memory** (see examples below). \n",
    "    \n",
    "2. **Paraview component order convention is different from *SampleData* condition for tensors.** The convention in Paraview is:\n",
    "    * $[F_0,F_1,F_2,F_3,F_4,F_5] = [F_{xx},F_{xy},F_{xz},F_{yy},F_{yz},F_{zz}]$ for symetric tensors\n",
    "    * $[F_0,F_1,F_2,F_3,F_4,F_5,F_6,F_7,F_8] = [F_{xx},F_{xy},F_{xz},F_{yx},F_{yy},F_{yz},F_{zx},F_{zy},F_{zz}]$ for non symetric tensors\n",
    "    \n",
    "For these reason, fields are stored with indices transposition in *SampleData* datasets so that their visualization with Paraview yield a rendering that is consistent with the ordering convention presented in the previous subsection. These transposition are automatically handled, as well as the back transposition when a field is retrieved, as you will see in the last section of this tutorial. \n",
    "\n",
    "**An attribute `transpose_components` is added to field data items. Its values represent the order in which components or the original array are stored in memory** (see examples below).\n",
    "\n",
    "\n",
    "<div class=\"alert alert-info\">\n",
    "\n",
    "**Note** \n",
    "    \n",
    "When visualizing a field in paraview, you may choose which component (including field magnitude) you are plotting in the box (*highlighted in red in the image below*) located in between the boxes for the choice of the visualization mode (*Surface in the image below*) and the data item choice (*tensor_field2D in the image below*).  \n",
    "    \n",
    "In this box, you will have to choose between 9 (0 to 8) components, even for symetric tensors. In the later case, the corresponding equal components (1 and 3: $xy$&$yx$, 2 and 6: $xz$&$zx$, 5 and 7: $yz$&$zy$) will yield the same visualization.  \n",
    "\n",
    "<img src=\"./Images/Tutorial_3/Paraview_components.png\" width=\"100%\">\n",
    "\n",
    "</div>"
   ]
  },
  {
   "cell_type": "markdown",
   "id": "9808bedf",
   "metadata": {},
   "source": [
    "#### Field type"
   ]
  },
  {
   "cell_type": "markdown",
   "id": "282547c2",
   "metadata": {},
   "source": [
    "In addition to their dimensionality, **Image Fields** data items also have a field type. You already encountered the two field types that can be supported by image groups in section III:\n",
    "\n",
    "* **element field**: \n",
    "    - described by an array of values defined at pixel/voxel centers $P^c$ (dimension $(N_x,N_y,N_c)$ or $(N_x,N_y,N_z,N_c)$ )\n",
    "    - visualization: a pixel/voxel wise constant fields\n",
    "\n",
    "\n",
    "* **nodal field**: \n",
    "    - described by an array of values defined at grid nodes (pixel/voxel vertexes) $P^n$ (dimension $(N_x+1,N_y+1, N_c)$ or $(N_x+1,N_y+1,N_z+1,N_c)$ )\n",
    "    - visualization: field linearly interpolated within each pixel/voxel from values at nodes\n",
    "    \n",
    "This feature is stored in the field data item attribute `field_type` (see examples above in section III). \n",
    "\n",
    "\n",
    "<div class=\"alert alert-warning\">\n",
    "\n",
    "**Warning** \n",
    "\n",
    "Paraview seems to be unable to read non-scalar nodal fields XDMF Attributes for nodal regular grids. However, element vector or tensor fields can be visualized normally. \n",
    "\n",
    "</div>"
   ]
  },
  {
   "cell_type": "markdown",
   "id": "35fb4848",
   "metadata": {},
   "source": [
    "#### Field attributes"
   ]
  },
  {
   "cell_type": "markdown",
   "id": "2580f490",
   "metadata": {},
   "source": [
    "For each field, the value of all features presented above are stored as attributes. Let us see an example: "
   ]
  },
  {
   "cell_type": "code",
   "execution_count": 39,
   "id": "30aa4e98",
   "metadata": {},
   "outputs": [
    {
     "name": "stdout",
     "output_type": "stream",
     "text": [
      "Dataset Content Index :\n",
      "------------------------:\n",
      "index printed with max depth `3` and under local root `/`\n",
      "\n",
      "\t Name : image2D                                   H5_Path : /first_2D_image \t\n",
      "\t Name : image2D_test_2D_field                     H5_Path : /first_2D_image/test_2D_field \t\n",
      "\t Name : image2D_Field_index                       H5_Path : /first_2D_image/Field_index \t\n",
      "\t Name : image2D_bis                               H5_Path : /image_2D_bis \t\n",
      "\t Name : image2D_bis_field_nodes_2D                H5_Path : /image_2D_bis/field_nodes_2D \t\n",
      "\t Name : image2D_bis_Field_index                   H5_Path : /image_2D_bis/Field_index \t\n",
      "\t Name : image3D                                   H5_Path : /image_3D \t\n",
      "\t Name : image3D_field_3D                          H5_Path : /image_3D/field_3D \t\n",
      "\t Name : image3D_Field_index                       H5_Path : /image_3D/Field_index \t\n",
      "\t Name : image2D_3                                 H5_Path : /image_2D_3 \t\n",
      "\t Name : image2D_3_field_vect                      H5_Path : /image_2D_3/field_vect \t\n",
      "\t Name : image2D_3_Field_index                     H5_Path : /image_2D_3/Field_index \t\n",
      "\t Name : imageO                                    H5_Path : /image_from_object \t\n",
      "\t Name : imageO_im_object_field                    H5_Path : /image_from_object/im_object_field \t\n",
      "\t Name : imageO_Field_index                        H5_Path : /image_from_object/Field_index \t\n",
      "\t Name : imageE                                    H5_Path : /image_empty \t\n",
      "\t Name : imageE_im_object_field                    H5_Path : /image_empty/im_object_field \t\n",
      "\t Name : imageE_Field_index                        H5_Path : /image_empty/Field_index \t\n",
      "\n"
     ]
    }
   ],
   "source": [
    "data.print_index()"
   ]
  },
  {
   "cell_type": "code",
   "execution_count": 40,
   "id": "6c5a54ad",
   "metadata": {},
   "outputs": [
    {
     "name": "stdout",
     "output_type": "stream",
     "text": [
      "\n",
      " NODE: /image_2D_3/field_vect\n",
      "====================\n",
      " -- Parent Group : image_2D_3\n",
      " -- Node name : field_vect\n",
      " -- field_vect attributes : \n",
      "\t * empty : False\n",
      "\t * field_dimensionality : Vector\n",
      "\t * field_type : Element_field\n",
      "\t * node_type : field_array\n",
      "\t * padding : None\n",
      "\t * parent_grid_path : /image_2D_3\n",
      "\t * transpose_indices : [1, 0, 2]\n",
      "\t * xdmf_fieldname : field_vect\n",
      "\t * xdmf_gridname : image_2D_3\n",
      "\n",
      " -- content : /image_2D_3/field_vect (CArray(50, 50, 3)) 'image2D_3_field_vect'\n",
      " -- Compression options for node `image2D_3_field_vect`:\n",
      "\tcomplevel=0, shuffle=False, bitshuffle=False, fletcher32=False, least_significant_digit=None\n",
      " -- Node memory size :    63.281 Kb\n",
      "----------------\n",
      "\n",
      "\n"
     ]
    }
   ],
   "source": [
    "data.print_node_info('image2D_3_field_vect')"
   ]
  },
  {
   "cell_type": "markdown",
   "id": "cae38d86",
   "metadata": {},
   "source": [
    "The attribute printed above inform us on the field data item features. The `field_dimensionality` attribute indicates that the field is a vector field. Has its data array has a dimension of 3 (see the `content` line in the output), it is a scalar field of a 2D image. The `field_type` attribute indicates that the field is defined at pixel centers.\n",
    "\n",
    "The `transpose_indices` show that the first and second column of the original inputed array have been inverted in memory (inversion of $X$ and $Y$ direction between SampleData and Paraview conventions).\n",
    "\n",
    "The `parent_grid_path` and `xdmf_gridname` attribute provides the path of the *Image Group* and the XDMF Grid Node name to which this field belongs. \n",
    "The `xdmf_fieldname` provides the name of the XDMF Attribute Node associated to the field.\n",
    "The `padding` attribute is of no use for Image fields. It will be presented in the next tutorial for mesh fields."
   ]
  },
  {
   "cell_type": "markdown",
   "id": "c695c913",
   "metadata": {},
   "source": [
    "## V - Adding Fields to Image Groups"
   ]
  },
  {
   "cell_type": "markdown",
   "id": "bf9e763f",
   "metadata": {},
   "source": [
    "Now that we know all elements that compose and define a field data item in a *SampleData* dataset, we will see how to create fields. As for other creation tasks, the *SampleData* class provides a method to do it with an explicit name: the `add_field` method. It is very similar to the `add_data_array` method, with two main additions presented below."
   ]
  },
  {
   "cell_type": "markdown",
   "id": "90428ca9",
   "metadata": {},
   "source": [
    "### Adding a field to a grid"
   ]
  },
  {
   "cell_type": "markdown",
   "id": "53ac5ffd",
   "metadata": {},
   "source": [
    "To add a field to a grid from a *numpy* array, you just have to call `add_field` like you would have called `add_data_array`, with an additional argument `gridname`, that indicates the grid group to which you want to add the field. In the case of the present tutorial, we can hence provide the Name, Indexname, Path or Alias of an image group to add a field. \n",
    "\n",
    "The analysis of the field dimensionality, nature and required transpositions is automatically handled by the class."
   ]
  },
  {
   "cell_type": "markdown",
   "id": "c568e969",
   "metadata": {},
   "source": [
    "We will try to add a symetric tensor element field to the first 2D image that we have created, at the beginning of section III. Let us recall the image group features:"
   ]
  },
  {
   "cell_type": "code",
   "execution_count": 41,
   "id": "386e4bee",
   "metadata": {},
   "outputs": [
    {
     "name": "stdout",
     "output_type": "stream",
     "text": [
      "\n",
      " GROUP first_2D_image\n",
      "=====================\n",
      " -- Parent Group : /\n",
      " -- Group attributes : \n",
      "\t * description : Test image group created from a bidimensional Numpy array.\n",
      "\t * dimension : [101 101]\n",
      "\t * empty : False\n",
      "\t * group_type : 2DImage\n",
      "\t * nodes_dimension : [102 102]\n",
      "\t * nodes_dimension_xdmf : [102 102]\n",
      "\t * origin : [10.  0.]\n",
      "\t * spacing : [4. 4.]\n",
      "\t * xdmf_gridname : first_2D_image\n",
      " -- Childrens : test_2D_field, Field_index, \n",
      "----------------\n",
      "\n"
     ]
    }
   ],
   "source": [
    "data.print_node_info('image2D')"
   ]
  },
  {
   "cell_type": "markdown",
   "id": "f807d303",
   "metadata": {},
   "source": [
    "The image has a `nodes_dimension` of 102x102. We can retrieve this attribute to presscribe the shape of the array that we have to create. As we want to create a symetric tensor field, we also need to add a last dimension of size 6. \n",
    "\n",
    "We will create a very simple field, whose values are defined by $F(i,j,c) = c$ for $y <= 51$ and $F(i,j,c) = 2c$ for $y > 51$:"
   ]
  },
  {
   "cell_type": "code",
   "execution_count": 42,
   "id": "1bb13b27",
   "metadata": {},
   "outputs": [],
   "source": [
    "# first we get the image nodal grid dimensions\n",
    "dim = data.get_attribute('dimension','image2D')\n",
    "\n",
    "# then, we create a field of 0 with the right dimensions\n",
    "Nc = 6\n",
    "tensor_field = np.zeros(shape=(dim[0],dim[1],Nc))\n",
    "\n",
    "# finally we set the values of our tensor field\n",
    "for c in range(Nc):\n",
    "    tensor_field[:,:52,c] = c\n",
    "    tensor_field[:,52:,c] = 2*c"
   ]
  },
  {
   "cell_type": "code",
   "execution_count": 43,
   "id": "6d5b0fbe",
   "metadata": {},
   "outputs": [
    {
     "name": "stdout",
     "output_type": "stream",
     "text": [
      "[[[ 0.  1.  2.  3.  4.  5.]\n",
      "  [ 0.  1.  2.  3.  4.  5.]\n",
      "  [ 0.  1.  2.  3.  4.  5.]\n",
      "  ...\n",
      "  [ 0.  2.  4.  6.  8. 10.]\n",
      "  [ 0.  2.  4.  6.  8. 10.]\n",
      "  [ 0.  2.  4.  6.  8. 10.]]\n",
      "\n",
      " [[ 0.  1.  2.  3.  4.  5.]\n",
      "  [ 0.  1.  2.  3.  4.  5.]\n",
      "  [ 0.  1.  2.  3.  4.  5.]\n",
      "  ...\n",
      "  [ 0.  2.  4.  6.  8. 10.]\n",
      "  [ 0.  2.  4.  6.  8. 10.]\n",
      "  [ 0.  2.  4.  6.  8. 10.]]\n",
      "\n",
      " [[ 0.  1.  2.  3.  4.  5.]\n",
      "  [ 0.  1.  2.  3.  4.  5.]\n",
      "  [ 0.  1.  2.  3.  4.  5.]\n",
      "  ...\n",
      "  [ 0.  2.  4.  6.  8. 10.]\n",
      "  [ 0.  2.  4.  6.  8. 10.]\n",
      "  [ 0.  2.  4.  6.  8. 10.]]\n",
      "\n",
      " ...\n",
      "\n",
      " [[ 0.  1.  2.  3.  4.  5.]\n",
      "  [ 0.  1.  2.  3.  4.  5.]\n",
      "  [ 0.  1.  2.  3.  4.  5.]\n",
      "  ...\n",
      "  [ 0.  2.  4.  6.  8. 10.]\n",
      "  [ 0.  2.  4.  6.  8. 10.]\n",
      "  [ 0.  2.  4.  6.  8. 10.]]\n",
      "\n",
      " [[ 0.  1.  2.  3.  4.  5.]\n",
      "  [ 0.  1.  2.  3.  4.  5.]\n",
      "  [ 0.  1.  2.  3.  4.  5.]\n",
      "  ...\n",
      "  [ 0.  2.  4.  6.  8. 10.]\n",
      "  [ 0.  2.  4.  6.  8. 10.]\n",
      "  [ 0.  2.  4.  6.  8. 10.]]\n",
      "\n",
      " [[ 0.  1.  2.  3.  4.  5.]\n",
      "  [ 0.  1.  2.  3.  4.  5.]\n",
      "  [ 0.  1.  2.  3.  4.  5.]\n",
      "  ...\n",
      "  [ 0.  2.  4.  6.  8. 10.]\n",
      "  [ 0.  2.  4.  6.  8. 10.]\n",
      "  [ 0.  2.  4.  6.  8. 10.]]]\n"
     ]
    }
   ],
   "source": [
    "print(tensor_field)"
   ]
  },
  {
   "cell_type": "code",
   "execution_count": 44,
   "id": "0e6ae473",
   "metadata": {},
   "outputs": [
    {
     "name": "stdout",
     "output_type": "stream",
     "text": [
      "\n",
      "Adding field `tensor_field2D` into Grid `image2D`\n",
      "\n",
      "Adding array `tensor_field2D` into Group `image2D`\n"
     ]
    },
    {
     "data": {
      "text/plain": [
       "/first_2D_image/tensor_field2D (CArray(101, 101, 6)) 'tensorF'\n",
       "  atom := Float64Atom(shape=(), dflt=0.0)\n",
       "  maindim := 0\n",
       "  flavor := 'numpy'\n",
       "  byteorder := 'little'\n",
       "  chunkshape := (13, 101, 6)"
      ]
     },
     "execution_count": 44,
     "metadata": {},
     "output_type": "execute_result"
    }
   ],
   "source": [
    "# now we can add our field to the image group\n",
    "data.add_field(gridname='image2D', fieldname='tensor_field2D', location='image2D', indexname='tensorF',\n",
    "               array=tensor_field, replace=True)"
   ]
  },
  {
   "cell_type": "code",
   "execution_count": 45,
   "id": "e3126e6a",
   "metadata": {},
   "outputs": [
    {
     "name": "stdout",
     "output_type": "stream",
     "text": [
      "\n",
      " NODE: /first_2D_image/tensor_field2D\n",
      "====================\n",
      " -- Parent Group : first_2D_image\n",
      " -- Node name : tensor_field2D\n",
      " -- tensor_field2D attributes : \n",
      "\t * empty : False\n",
      "\t * field_dimensionality : Tensor6\n",
      "\t * field_type : Element_field\n",
      "\t * node_type : field_array\n",
      "\t * padding : None\n",
      "\t * parent_grid_path : /first_2D_image\n",
      "\t * transpose_components : [0, 3, 5, 1, 4, 2]\n",
      "\t * transpose_indices : [1, 0, 2]\n",
      "\t * xdmf_fieldname : tensor_field2D\n",
      "\t * xdmf_gridname : first_2D_image\n",
      "\n",
      " -- content : /first_2D_image/tensor_field2D (CArray(101, 101, 6)) 'tensorF'\n",
      " -- Compression options for node `tensorF`:\n",
      "\tcomplevel=0, shuffle=False, bitshuffle=False, fletcher32=False, least_significant_digit=None\n",
      " -- Node memory size :   492.375 Kb\n",
      "----------------\n",
      "\n",
      "\n"
     ]
    }
   ],
   "source": [
    "data.print_node_info('tensorF')"
   ]
  },
  {
   "cell_type": "markdown",
   "id": "b5a8b093",
   "metadata": {},
   "source": [
    "As you can observe, the field has automatically been created as a symetric tensor (Tensor6) nodal field, with the transposition of its first and second column (see `transpose_indices` value) and of its components (see `transpose_indices` value).\n",
    "\n",
    "We can already visualize our created field:"
   ]
  },
  {
   "cell_type": "code",
   "execution_count": 49,
   "id": "626952b2",
   "metadata": {},
   "outputs": [],
   "source": [
    "# Use the second code line if you want to specify the path of the paraview executable you want to use\n",
    "# otherwise use the first line \n",
    "#data.pause_for_visualization(Paraview=True)\n",
    "#data.pause_for_visualization(Paraview=True, Paraview_path='path to paraview executable')"
   ]
  },
  {
   "cell_type": "markdown",
   "id": "a11bf1d0",
   "metadata": {},
   "source": [
    "You should be able to visualization the tensor field magnitude and components individually: \n",
    "\n",
    "<img src=\"./Images/Tutorial_3/tensor_visualization.png\" width=\"100%\">"
   ]
  },
  {
   "cell_type": "markdown",
   "id": "ca217f87",
   "metadata": {},
   "source": [
    "You can try to redo these last cells by changing the dimension of the field, to try to change its type, its dimensionality, or the image group on which you add it."
   ]
  },
  {
   "cell_type": "markdown",
   "id": "e879d474",
   "metadata": {},
   "source": [
    "### Adding time serie of fields"
   ]
  },
  {
   "cell_type": "markdown",
   "id": "1c33305d",
   "metadata": {},
   "source": [
    "The XDMF format also allows to have a temporal organization of data, by attaching a `Time` node to Grid nodes. The *SampleData* allows to leverage this possibility and create a set of fields array that are related in time. Each of them will represent the value of one field at different instants. \n",
    "\n",
    "To do that, you just have to set the value of the `time` argument when calling the `add_field` method. This value will be registered as the instant at which the field takes the value in the provided data array. We will illustrate this possibility with an example.   "
   ]
  },
  {
   "cell_type": "markdown",
   "id": "52fdfedf",
   "metadata": {},
   "source": [
    "We will create a 2D vector field that will take different values at 3 different instants, and add it to same image to which we added the previous field. At each instant, the whole field will be uniform and have the value of one of the 3 base vectors. As we are providing different time values of the same field, we should provide the same Name each time we provide an time value of this field. "
   ]
  },
  {
   "cell_type": "code",
   "execution_count": 46,
   "id": "b287de68",
   "metadata": {},
   "outputs": [],
   "source": [
    "# get the image nodal grid dimensions\n",
    "dim = data.get_attribute('dimension','image2D')\n",
    "\n",
    "# create of a data array of 0 of dimension (Nx,Ny,3,Ninstants)\n",
    "temporal_field = np.zeros((dim[0],dim[1],3,3))\n",
    "\n",
    "# Set the value of the field to the first unit vector at instant 0\n",
    "temporal_field[:,:,0,0] = 1\n",
    "\n",
    "# Set the value of the field to the second unit vector at instant 1\n",
    "temporal_field[:,:,1,1] = 1\n",
    "\n",
    "# Set the value of the field to the third unit vector at instant 2\n",
    "temporal_field[:,:,2,2] = 1\n",
    "\n",
    "# Set the value of time instants:\n",
    "instants = [1.,10., 100.]"
   ]
  },
  {
   "cell_type": "code",
   "execution_count": 47,
   "id": "fb95dcdc",
   "metadata": {},
   "outputs": [
    {
     "name": "stdout",
     "output_type": "stream",
     "text": [
      "\n",
      "Adding field `time_field` into Grid `image2D`\n",
      "\n",
      "Adding array `time_field_T0` into Group `image2D`\n",
      "\n",
      " (get_attribute) neither indexname nor node_path passed, node return aborted\n",
      "\n",
      "Adding field `time_field` into Grid `image2D`\n",
      "\n",
      "Adding array `time_field_T1` into Group `image2D`\n",
      "\n",
      " (get_attribute) neither indexname nor node_path passed, node return aborted\n",
      "\n",
      "Adding field `time_field` into Grid `image2D`\n",
      "\n",
      "Adding array `time_field_T2` into Group `image2D`\n",
      "\n",
      " (get_attribute) neither indexname nor node_path passed, node return aborted\n"
     ]
    },
    {
     "data": {
      "text/plain": [
       "/first_2D_image/time_field_T2 (CArray(101, 101, 3)) 'Field_T2'\n",
       "  atom := Float64Atom(shape=(), dflt=0.0)\n",
       "  maindim := 0\n",
       "  flavor := 'numpy'\n",
       "  byteorder := 'little'\n",
       "  chunkshape := (27, 101, 3)"
      ]
     },
     "execution_count": 47,
     "metadata": {},
     "output_type": "execute_result"
    }
   ],
   "source": [
    "# now we can add for each instant the right slice of the array as a field to the image group\n",
    "# instant 0\n",
    "data.add_field(gridname='image2D', fieldname='time_field', location='image2D', indexname='Field',\n",
    "               array=temporal_field[:,:,:,0], time=instants[0])\n",
    "# instant 1\n",
    "data.add_field(gridname='image2D', fieldname='time_field', location='image2D', indexname='Field',\n",
    "               array=temporal_field[:,:,:,1], time=instants[1])\n",
    "# instant 2\n",
    "data.add_field(gridname='image2D', fieldname='time_field', location='image2D', indexname='Field',\n",
    "               array=temporal_field[:,:,:,1], time=instants[2])"
   ]
  },
  {
   "cell_type": "markdown",
   "id": "f1914f3f",
   "metadata": {},
   "source": [
    "### Time series Grids and time series attributes"
   ]
  },
  {
   "cell_type": "markdown",
   "id": "201c09b0",
   "metadata": {},
   "source": [
    "You will see that creating this time serie of fields has slighlty modified the dataset. We will explore these modifications, and start by looking at our dataset organization to see if it has changed:"
   ]
  },
  {
   "cell_type": "code",
   "execution_count": 48,
   "id": "569499dd",
   "metadata": {
    "scrolled": true
   },
   "outputs": [
    {
     "name": "stdout",
     "output_type": "stream",
     "text": [
      "Dataset Content Index :\n",
      "------------------------:\n",
      "index printed with max depth `3` and under local root `/`\n",
      "\n",
      "\t Name : image2D                                   H5_Path : /first_2D_image \t\n",
      "\t Name : image2D_test_2D_field                     H5_Path : /first_2D_image/test_2D_field \t\n",
      "\t Name : image2D_Field_index                       H5_Path : /first_2D_image/Field_index \t\n",
      "\t Name : image2D_bis                               H5_Path : /image_2D_bis \t\n",
      "\t Name : image2D_bis_field_nodes_2D                H5_Path : /image_2D_bis/field_nodes_2D \t\n",
      "\t Name : image2D_bis_Field_index                   H5_Path : /image_2D_bis/Field_index \t\n",
      "\t Name : image3D                                   H5_Path : /image_3D \t\n",
      "\t Name : image3D_field_3D                          H5_Path : /image_3D/field_3D \t\n",
      "\t Name : image3D_Field_index                       H5_Path : /image_3D/Field_index \t\n",
      "\t Name : image2D_3                                 H5_Path : /image_2D_3 \t\n",
      "\t Name : image2D_3_field_vect                      H5_Path : /image_2D_3/field_vect \t\n",
      "\t Name : image2D_3_Field_index                     H5_Path : /image_2D_3/Field_index \t\n",
      "\t Name : imageO                                    H5_Path : /image_from_object \t\n",
      "\t Name : imageO_im_object_field                    H5_Path : /image_from_object/im_object_field \t\n",
      "\t Name : imageO_Field_index                        H5_Path : /image_from_object/Field_index \t\n",
      "\t Name : imageE                                    H5_Path : /image_empty \t\n",
      "\t Name : imageE_im_object_field                    H5_Path : /image_empty/im_object_field \t\n",
      "\t Name : imageE_Field_index                        H5_Path : /image_empty/Field_index \t\n",
      "\t Name : tensorF                                   H5_Path : /first_2D_image/tensor_field2D \t\n",
      "\t Name : Field_T0                                  H5_Path : /first_2D_image/time_field_T0 \t\n",
      "\t Name : Field_T1                                  H5_Path : /first_2D_image/time_field_T1 \t\n",
      "\t Name : Field_T2                                  H5_Path : /first_2D_image/time_field_T2 \t\n",
      "\n",
      "Printing dataset content with max depth 3\n",
      "  |--GROUP first_2D_image: /first_2D_image (2DImage) \n",
      "     --NODE Field_index: /first_2D_image/Field_index (string array) (   63.999 Kb)\n",
      "     --NODE tensor_field2D: /first_2D_image/tensor_field2D (field_array) (  492.375 Kb)\n",
      "     --NODE test_2D_field: /first_2D_image/test_2D_field (field_array) (   63.914 Kb)\n",
      "     --NODE time_field_T0: /first_2D_image/time_field_T0 (field_array) (  255.656 Kb)\n",
      "     --NODE time_field_T1: /first_2D_image/time_field_T1 (field_array) (  255.656 Kb)\n",
      "     --NODE time_field_T2: /first_2D_image/time_field_T2 (field_array) (  255.656 Kb)\n",
      "\n",
      "  |--GROUP image_2D_3: /image_2D_3 (2DImage) \n",
      "     --NODE Field_index: /image_2D_3/Field_index (string array) (   63.999 Kb)\n",
      "     --NODE field_vect: /image_2D_3/field_vect (field_array) (   63.281 Kb)\n",
      "\n",
      "  |--GROUP image_2D_bis: /image_2D_bis (2DImage) \n",
      "     --NODE Field_index: /image_2D_bis/Field_index (string array) (   63.999 Kb)\n",
      "     --NODE field_nodes_2D: /image_2D_bis/field_nodes_2D (field_array) (   63.914 Kb)\n",
      "\n",
      "  |--GROUP image_3D: /image_3D (3DImage) \n",
      "     --NODE Field_index: /image_3D/Field_index (string array) (   63.999 Kb)\n",
      "     --NODE field_3D: /image_3D/field_3D (field_array) (   58.594 Kb)\n",
      "\n",
      "  |--GROUP image_empty: /image_empty (3DImage) \n",
      "     --NODE Field_index: /image_empty/Field_index (string array) (   63.999 Kb)\n",
      "     --NODE im_object_field: /image_empty/im_object_field (field_array) (   58.594 Kb)\n",
      "\n",
      "  |--GROUP image_from_object: /image_from_object (3DImage) \n",
      "     --NODE Field_index: /image_from_object/Field_index (string array) (   63.999 Kb)\n",
      "     --NODE im_object_field: /image_from_object/im_object_field (field_array) (   58.594 Kb)\n",
      "\n",
      "\n"
     ]
    }
   ],
   "source": [
    "print(data)"
   ]
  },
  {
   "cell_type": "markdown",
   "id": "b488510c",
   "metadata": {},
   "source": [
    "The structure of the HDF5 dataset features no surprises. The three fields have been added as arrays under the Image Group, and added to the index. As you can observe, the names and indexnames of the fields have automatically been completed with a suffix indicating the instant they represent: `time_field_T0`, `time_field_T1` etc...\n",
    "\n",
    "We can now look at the XDMF file:"
   ]
  },
  {
   "cell_type": "code",
   "execution_count": 49,
   "id": "605a0b1f",
   "metadata": {},
   "outputs": [
    {
     "name": "stdout",
     "output_type": "stream",
     "text": [
      "<Xdmf xmlns:xi=\"http://www.w3.org/2003/XInclude\" Version=\"2.2\">\n",
      "  <Domain>\n",
      "    <Grid Name=\"image_2D_bis\" GridType=\"Uniform\">\n",
      "      <Topology TopologyType=\"2DCoRectMesh\" Dimensions=\"101 101\"/>\n",
      "      <Geometry Type=\"ORIGIN_DXDY\">\n",
      "        <DataItem Format=\"XML\" Dimensions=\"2\">10.  0.</DataItem>\n",
      "        <DataItem Format=\"XML\" Dimensions=\"2\">2. 2.</DataItem>\n",
      "      </Geometry>\n",
      "      <Attribute Name=\"field_nodes_2D\" AttributeType=\"Scalar\" Center=\"Node\">\n",
      "        <DataItem Format=\"HDF\" Dimensions=\"101  101\" NumberType=\"Int\" Precision=\"16\">tutorial_dataset.h5:/image_2D_bis/field_nodes_2D</DataItem>\n",
      "      </Attribute>\n",
      "    </Grid>\n",
      "    <Grid Name=\"image_3D\" GridType=\"Uniform\">\n",
      "      <Topology TopologyType=\"3DCoRectMesh\" Dimensions=\" 4 51 51\"/>\n",
      "      <Geometry Type=\"ORIGIN_DXDYDZ\">\n",
      "        <DataItem Format=\"XML\" Dimensions=\"3\">0. 0. 0.</DataItem>\n",
      "        <DataItem Format=\"XML\" Dimensions=\"3\">1. 1. 1.</DataItem>\n",
      "      </Geometry>\n",
      "      <Attribute Name=\"field_3D\" AttributeType=\"Scalar\" Center=\"Cell\">\n",
      "        <DataItem Format=\"HDF\" Dimensions=\"3  50  50\" NumberType=\"Float\" Precision=\"64\">tutorial_dataset.h5:/image_3D/field_3D</DataItem>\n",
      "      </Attribute>\n",
      "    </Grid>\n",
      "    <Grid Name=\"image_2D_3\" GridType=\"Uniform\">\n",
      "      <Topology TopologyType=\"2DCoRectMesh\" Dimensions=\"51 51\"/>\n",
      "      <Geometry Type=\"ORIGIN_DXDY\">\n",
      "        <DataItem Format=\"XML\" Dimensions=\"2\">0. 0.</DataItem>\n",
      "        <DataItem Format=\"XML\" Dimensions=\"2\">1. 1.</DataItem>\n",
      "      </Geometry>\n",
      "      <Attribute Name=\"field_vect\" AttributeType=\"Vector\" Center=\"Cell\">\n",
      "        <DataItem Format=\"HDF\" Dimensions=\"50  50  3\" NumberType=\"Float\" Precision=\"64\">tutorial_dataset.h5:/image_2D_3/field_vect</DataItem>\n",
      "      </Attribute>\n",
      "    </Grid>\n",
      "    <Grid Name=\"image_from_object\" GridType=\"Uniform\">\n",
      "      <Topology TopologyType=\"3DCoRectMesh\" Dimensions=\" 3 50 50\"/>\n",
      "      <Geometry Type=\"ORIGIN_DXDYDZ\">\n",
      "        <DataItem Format=\"XML\" Dimensions=\"3\">0. 0. 0.</DataItem>\n",
      "        <DataItem Format=\"XML\" Dimensions=\"3\">1. 1. 1.</DataItem>\n",
      "      </Geometry>\n",
      "      <Attribute Name=\"im_object_field\" AttributeType=\"Scalar\" Center=\"Node\">\n",
      "        <DataItem Format=\"HDF\" Dimensions=\"3  50  50\" NumberType=\"Float\" Precision=\"64\">tutorial_dataset.h5:/image_from_object/im_object_field</DataItem>\n",
      "      </Attribute>\n",
      "    </Grid>\n",
      "    <Grid Name=\"image_empty\" GridType=\"Uniform\">\n",
      "      <Topology TopologyType=\"3DCoRectMesh\" Dimensions=\" 3 50 50\"/>\n",
      "      <Geometry Type=\"ORIGIN_DXDYDZ\">\n",
      "        <DataItem Format=\"XML\" Dimensions=\"3\">0. 0. 0.</DataItem>\n",
      "        <DataItem Format=\"XML\" Dimensions=\"3\">1. 1. 1.</DataItem>\n",
      "      </Geometry>\n",
      "      <Attribute Name=\"im_object_field\" AttributeType=\"Scalar\" Center=\"Node\">\n",
      "        <DataItem Format=\"HDF\" Dimensions=\"3  50  50\" NumberType=\"Float\" Precision=\"64\">tutorial_dataset.h5:/image_empty/im_object_field</DataItem>\n",
      "      </Attribute>\n",
      "    </Grid>\n",
      "    <Grid Name=\"first_2D_image\" GridType=\"Collection\" CollectionType=\"Temporal\">\n",
      "      <Grid Name=\"first_2D_image_T0\" GridType=\"Uniform\">\n",
      "        <Topology TopologyType=\"2DCoRectMesh\" Dimensions=\"102 102\"/>\n",
      "        <Geometry Type=\"ORIGIN_DXDY\">\n",
      "          <DataItem Format=\"XML\" Dimensions=\"2\"> 0. 10.</DataItem>\n",
      "          <DataItem Format=\"XML\" Dimensions=\"2\">4. 4.</DataItem>\n",
      "        </Geometry>\n",
      "        <Attribute Name=\"test_2D_field\" AttributeType=\"Scalar\" Center=\"Cell\">\n",
      "          <DataItem Format=\"HDF\" Dimensions=\"101  101\" NumberType=\"Int\" Precision=\"16\">tutorial_dataset.h5:/first_2D_image/test_2D_field</DataItem>\n",
      "        </Attribute>\n",
      "        <Attribute Name=\"tensor_field2D\" AttributeType=\"Tensor6\" Center=\"Cell\">\n",
      "          <DataItem Format=\"HDF\" Dimensions=\"101  101  6\" NumberType=\"Float\" Precision=\"64\">tutorial_dataset.h5:/first_2D_image/tensor_field2D</DataItem>\n",
      "        </Attribute>\n",
      "        <Time Value=\"1.0\"/>\n",
      "        <Attribute Name=\"time_field\" AttributeType=\"Vector\" Center=\"Cell\">\n",
      "          <DataItem Format=\"HDF\" Dimensions=\"101  101  3\" NumberType=\"Float\" Precision=\"64\">tutorial_dataset.h5:/first_2D_image/time_field_T0</DataItem>\n",
      "        </Attribute>\n",
      "      </Grid>\n",
      "      <Grid Name=\"first_2D_image_T1\" GridType=\"Uniform\">\n",
      "        <Time Value=\"10.0\"/>\n",
      "        <Topology TopologyType=\"2DCoRectMesh\" Dimensions=\"102 102\"/>\n",
      "        <Geometry Type=\"ORIGIN_DXDY\">\n",
      "          <DataItem Format=\"XML\" Dimensions=\"2\"> 0. 10.</DataItem>\n",
      "          <DataItem Format=\"XML\" Dimensions=\"2\">4. 4.</DataItem>\n",
      "        </Geometry>\n",
      "        <Attribute Name=\"time_field\" AttributeType=\"Vector\" Center=\"Cell\">\n",
      "          <DataItem Format=\"HDF\" Dimensions=\"101  101  3\" NumberType=\"Float\" Precision=\"64\">tutorial_dataset.h5:/first_2D_image/time_field_T1</DataItem>\n",
      "        </Attribute>\n",
      "      </Grid>\n",
      "      <Grid Name=\"first_2D_image_T2\" GridType=\"Uniform\">\n",
      "        <Time Value=\"100.0\"/>\n",
      "        <Topology TopologyType=\"2DCoRectMesh\" Dimensions=\"102 102\"/>\n",
      "        <Geometry Type=\"ORIGIN_DXDY\">\n",
      "          <DataItem Format=\"XML\" Dimensions=\"2\"> 0. 10.</DataItem>\n",
      "          <DataItem Format=\"XML\" Dimensions=\"2\">4. 4.</DataItem>\n",
      "        </Geometry>\n",
      "        <Attribute Name=\"time_field\" AttributeType=\"Vector\" Center=\"Cell\">\n",
      "          <DataItem Format=\"HDF\" Dimensions=\"101  101  3\" NumberType=\"Float\" Precision=\"64\">tutorial_dataset.h5:/first_2D_image/time_field_T2</DataItem>\n",
      "        </Attribute>\n",
      "      </Grid>\n",
      "    </Grid>\n",
      "  </Domain>\n",
      "</Xdmf>\n",
      "\n"
     ]
    }
   ],
   "source": [
    "data.print_xdmf()"
   ]
  },
  {
   "cell_type": "markdown",
   "id": "6e24bebf",
   "metadata": {},
   "source": [
    "The XDMF file of the dataset has become rather large now. As the creation of a time serie of grids requires to rewrite the 2D image XDMF grid node, you will find it at the end of the file. You see that the Grid node named `first_2D_image` has changed, and is no more a `Uniform` type of grid, like the other images. \n",
    "\n",
    "It is now a `Collection` of grid, and has the collection type `Temporal`. Three sub grid nodes that are `Uniform` have been created, each with a Time element, corresponding to one of the instant values that we provided. Ultimately, note that the gris of instants 2 and 3 only have one *Attribute* field. The fields that were attached to the image group before adding this time serie have been automatically attached to the grid of the first instant. "
   ]
  },
  {
   "cell_type": "markdown",
   "id": "3e948c5c",
   "metadata": {},
   "source": [
    "We can now look at our image group, to find out how it has changed:"
   ]
  },
  {
   "cell_type": "code",
   "execution_count": 50,
   "id": "f78797c0",
   "metadata": {},
   "outputs": [
    {
     "name": "stdout",
     "output_type": "stream",
     "text": [
      "\n",
      " GROUP first_2D_image\n",
      "=====================\n",
      " -- Parent Group : /\n",
      " -- Group attributes : \n",
      "\t * description : Test image group created from a bidimensional Numpy array.\n",
      "\t * dimension : [101 101]\n",
      "\t * empty : False\n",
      "\t * group_type : 2DImage\n",
      "\t * nodes_dimension : [102 102]\n",
      "\t * nodes_dimension_xdmf : [102 102]\n",
      "\t * origin : [10.  0.]\n",
      "\t * spacing : [4. 4.]\n",
      "\t * time_list : [1.0, 10.0, 100.0]\n",
      "\t * xdmf_gridname : first_2D_image\n",
      " -- Childrens : test_2D_field, Field_index, tensor_field2D, time_field_T0, time_field_T1, time_field_T2, \n",
      "----------------\n",
      "\n"
     ]
    }
   ],
   "source": [
    "data.print_node_info('image2D')"
   ]
  },
  {
   "cell_type": "markdown",
   "id": "20ac3448",
   "metadata": {},
   "source": [
    "The only difference that we can see, is the creation of a `time_list` attribute, that gather all the time instants that have been defined for the fields of this image group. \n",
    "\n",
    "To conclude this subsection, we will look at the content of one of the field data items added in the time serie:"
   ]
  },
  {
   "cell_type": "code",
   "execution_count": 51,
   "id": "362b1c4b",
   "metadata": {},
   "outputs": [
    {
     "name": "stdout",
     "output_type": "stream",
     "text": [
      "\n",
      " NODE: /first_2D_image/time_field_T1\n",
      "====================\n",
      " -- Parent Group : first_2D_image\n",
      " -- Node name : time_field_T1\n",
      " -- time_field_T1 attributes : \n",
      "\t * empty : False\n",
      "\t * field_dimensionality : Vector\n",
      "\t * field_type : Element_field\n",
      "\t * node_type : field_array\n",
      "\t * padding : None\n",
      "\t * parent_grid_path : /first_2D_image\n",
      "\t * time : 10.0\n",
      "\t * time_serie_name : time_field\n",
      "\t * transpose_indices : [1, 0, 2]\n",
      "\t * xdmf_fieldname : time_field\n",
      "\t * xdmf_gridname : first_2D_image_T1\n",
      "\n",
      " -- content : /first_2D_image/time_field_T1 (CArray(101, 101, 3)) 'Field_T1'\n",
      " -- Compression options for node `time_field_T1`:\n",
      "\tcomplevel=0, shuffle=False, bitshuffle=False, fletcher32=False, least_significant_digit=None\n",
      " -- Node memory size :   255.656 Kb\n",
      "----------------\n",
      "\n",
      "\n"
     ]
    }
   ],
   "source": [
    "data.print_node_info('time_field_T1')"
   ]
  },
  {
   "cell_type": "markdown",
   "id": "2fb176d5",
   "metadata": {},
   "source": [
    "This field node is absolutely similar to the field data items that we created earlier without time value. The only difference is that it has two additional attributes `time` and `time_serie_name` that indicate at which instant its values correspond, and was is the name of the time serie field."
   ]
  },
  {
   "cell_type": "markdown",
   "id": "3758789d",
   "metadata": {},
   "source": [
    "## VI - Getting Images and Fields "
   ]
  },
  {
   "cell_type": "markdown",
   "id": "9c912863",
   "metadata": {},
   "source": [
    "To conclude this tutorial, we will now try to retrieve the data that we created, in the form of field arrays or image objects. "
   ]
  },
  {
   "cell_type": "markdown",
   "id": "3635aee3",
   "metadata": {},
   "source": [
    "### Getting image objects from datasets"
   ]
  },
  {
   "cell_type": "markdown",
   "id": "80bcc650",
   "metadata": {},
   "source": [
    "Getting an image object from a dataset image Group is very straightforward with the *SampleData* class. You just have to use the `get_image` method. It takes two arguments, the name (or indexname etc...) of the image Group, and a `with_fields` boolean argument, that allow you to chooe if you want or not to load the field data arrays into the image object.\n",
    "\n",
    "We will start by printing again the content of our dataset, to remember the image groups and fields stored in it:"
   ]
  },
  {
   "cell_type": "code",
   "execution_count": 52,
   "id": "653c3ade",
   "metadata": {},
   "outputs": [
    {
     "name": "stdout",
     "output_type": "stream",
     "text": [
      "Dataset Content Index :\n",
      "------------------------:\n",
      "index printed with max depth `3` and under local root `/`\n",
      "\n",
      "\t Name : image2D                                   H5_Path : /first_2D_image \t\n",
      "\t Name : image2D_test_2D_field                     H5_Path : /first_2D_image/test_2D_field \t\n",
      "\t Name : image2D_Field_index                       H5_Path : /first_2D_image/Field_index \t\n",
      "\t Name : image2D_bis                               H5_Path : /image_2D_bis \t\n",
      "\t Name : image2D_bis_field_nodes_2D                H5_Path : /image_2D_bis/field_nodes_2D \t\n",
      "\t Name : image2D_bis_Field_index                   H5_Path : /image_2D_bis/Field_index \t\n",
      "\t Name : image3D                                   H5_Path : /image_3D \t\n",
      "\t Name : image3D_field_3D                          H5_Path : /image_3D/field_3D \t\n",
      "\t Name : image3D_Field_index                       H5_Path : /image_3D/Field_index \t\n",
      "\t Name : image2D_3                                 H5_Path : /image_2D_3 \t\n",
      "\t Name : image2D_3_field_vect                      H5_Path : /image_2D_3/field_vect \t\n",
      "\t Name : image2D_3_Field_index                     H5_Path : /image_2D_3/Field_index \t\n",
      "\t Name : imageO                                    H5_Path : /image_from_object \t\n",
      "\t Name : imageO_im_object_field                    H5_Path : /image_from_object/im_object_field \t\n",
      "\t Name : imageO_Field_index                        H5_Path : /image_from_object/Field_index \t\n",
      "\t Name : imageE                                    H5_Path : /image_empty \t\n",
      "\t Name : imageE_im_object_field                    H5_Path : /image_empty/im_object_field \t\n",
      "\t Name : imageE_Field_index                        H5_Path : /image_empty/Field_index \t\n",
      "\t Name : tensorF                                   H5_Path : /first_2D_image/tensor_field2D \t\n",
      "\t Name : Field_T0                                  H5_Path : /first_2D_image/time_field_T0 \t\n",
      "\t Name : Field_T1                                  H5_Path : /first_2D_image/time_field_T1 \t\n",
      "\t Name : Field_T2                                  H5_Path : /first_2D_image/time_field_T2 \t\n",
      "\n",
      "Printing dataset content with max depth 3\n",
      "  |--GROUP first_2D_image: /first_2D_image (2DImage) \n",
      "     --NODE Field_index: /first_2D_image/Field_index (string array) (   63.999 Kb)\n",
      "     --NODE tensor_field2D: /first_2D_image/tensor_field2D (field_array) (  492.375 Kb)\n",
      "     --NODE test_2D_field: /first_2D_image/test_2D_field (field_array) (   63.914 Kb)\n",
      "     --NODE time_field_T0: /first_2D_image/time_field_T0 (field_array) (  255.656 Kb)\n",
      "     --NODE time_field_T1: /first_2D_image/time_field_T1 (field_array) (  255.656 Kb)\n",
      "     --NODE time_field_T2: /first_2D_image/time_field_T2 (field_array) (  255.656 Kb)\n",
      "\n",
      "  |--GROUP image_2D_3: /image_2D_3 (2DImage) \n",
      "     --NODE Field_index: /image_2D_3/Field_index (string array) (   63.999 Kb)\n",
      "     --NODE field_vect: /image_2D_3/field_vect (field_array) (   63.281 Kb)\n",
      "\n",
      "  |--GROUP image_2D_bis: /image_2D_bis (2DImage) \n",
      "     --NODE Field_index: /image_2D_bis/Field_index (string array) (   63.999 Kb)\n",
      "     --NODE field_nodes_2D: /image_2D_bis/field_nodes_2D (field_array) (   63.914 Kb)\n",
      "\n",
      "  |--GROUP image_3D: /image_3D (3DImage) \n",
      "     --NODE Field_index: /image_3D/Field_index (string array) (   63.999 Kb)\n",
      "     --NODE field_3D: /image_3D/field_3D (field_array) (   58.594 Kb)\n",
      "\n",
      "  |--GROUP image_empty: /image_empty (3DImage) \n",
      "     --NODE Field_index: /image_empty/Field_index (string array) (   63.999 Kb)\n",
      "     --NODE im_object_field: /image_empty/im_object_field (field_array) (   58.594 Kb)\n",
      "\n",
      "  |--GROUP image_from_object: /image_from_object (3DImage) \n",
      "     --NODE Field_index: /image_from_object/Field_index (string array) (   63.999 Kb)\n",
      "     --NODE im_object_field: /image_from_object/im_object_field (field_array) (   58.594 Kb)\n",
      "\n",
      "\n"
     ]
    }
   ],
   "source": [
    "print(data)"
   ]
  },
  {
   "cell_type": "markdown",
   "id": "b212c4f7",
   "metadata": {},
   "source": [
    "Let us retrieve the image group `image_from_object`, with its internal fields:"
   ]
  },
  {
   "cell_type": "code",
   "execution_count": 53,
   "id": "13797a94",
   "metadata": {
    "scrolled": true
   },
   "outputs": [
    {
     "name": "stdout",
     "output_type": "stream",
     "text": [
      "ConstantRectilinearMesh \n",
      "  Number of Nodes    : 7500\n",
      "    Tags : \n",
      "  Number of Elements : 4802\n",
      "  dimensions         : [50 50  3]\n",
      "  origin             : [0. 0. 0.]\n",
      "  spacing            : [1. 1. 1.]\n",
      "    ConstantRectilinearElementContainer,   Type : (hex8,4802),   Tags : \n",
      "\n",
      "  Node Tags          : []\n",
      "  Cell Tags          : []\n",
      "  nodeFields         : ['imageO_im_object_field']\n",
      "\n"
     ]
    }
   ],
   "source": [
    "im_object = data.get_image('imageO', with_fields=True)\n",
    "print(im_object)"
   ]
  },
  {
   "cell_type": "markdown",
   "id": "c511c1c4",
   "metadata": {},
   "source": [
    "It is as simple as that. Setting the `with_fields` argument to `False` would have resulted in the same image object, but with en empty `nodeFields` attribute.\n",
    "\n",
    "Now you have an image object that contains all the relevant information to recreate a *SampleData* image group with the same fields, and the same topology as the retrieved group `image0`. This is particularly usefull to transfer an image group from a dataset to another, as illustrated in the next cell:"
   ]
  },
  {
   "cell_type": "code",
   "execution_count": 54,
   "id": "12c90b14",
   "metadata": {},
   "outputs": [
    {
     "name": "stdout",
     "output_type": "stream",
     "text": [
      "Dataset Content Index :\n",
      "------------------------:\n",
      "index printed with max depth `3` and under local root `/`\n",
      "\n",
      "\t Name : imageTr                                   H5_Path : /transfered_image \t\n",
      "\t Name : imageTr_imageO_im_object_field            H5_Path : /transfered_image/imageO_im_object_field \t\n",
      "\t Name : imageTr_Field_index                       H5_Path : /transfered_image/Field_index \t\n",
      "\n",
      "Printing dataset content with max depth 3\n",
      "  |--GROUP transfered_image: /transfered_image (3DImage) \n",
      "     --NODE Field_index: /transfered_image/Field_index (string array) (   63.999 Kb)\n",
      "     --NODE imageO_im_object_field: /transfered_image/imageO_im_object_field (field_array) (   58.594 Kb)\n",
      "\n",
      "\n",
      "\n",
      " GROUP image_from_object\n",
      "=====================\n",
      " -- Parent Group : /\n",
      " -- Group attributes : \n",
      "\t * description : Test 3D image group created from an image object.\n",
      "\t * dimension : [49 49  2]\n",
      "\t * empty : False\n",
      "\t * group_type : 3DImage\n",
      "\t * nodes_dimension : [50 50  3]\n",
      "\t * nodes_dimension_xdmf : [ 3 50 50]\n",
      "\t * origin : [0. 0. 0.]\n",
      "\t * spacing : [1. 1. 1.]\n",
      "\t * xdmf_gridname : image_from_object\n",
      " -- Childrens : im_object_field, Field_index, \n",
      "----------------\n",
      "\n",
      "\n",
      " GROUP transfered_image\n",
      "=====================\n",
      " -- Parent Group : /\n",
      " -- Group attributes : \n",
      "\t * description : \n",
      "\t * dimension : [49 49  2]\n",
      "\t * empty : False\n",
      "\t * group_type : 3DImage\n",
      "\t * nodes_dimension : [50 50  3]\n",
      "\t * nodes_dimension_xdmf : [ 3 50 50]\n",
      "\t * origin : [0. 0. 0.]\n",
      "\t * spacing : [1. 1. 1.]\n",
      "\t * xdmf_gridname : transfered_image\n",
      " -- Childrens : imageO_im_object_field, Field_index, \n",
      "----------------\n",
      "\n",
      "SampleData Autodelete: \n",
      " Removing hdf5 file tmp_dataset.h5 and xdmf file tmp_dataset.xdmf\n"
     ]
    }
   ],
   "source": [
    "# We want to transfer our image group to a new dataset --> here we create a new dataset \n",
    "# (we could have also opened a pre-existing one)\n",
    "data2 = SD(filename='tmp_dataset', autodelete=True)\n",
    "\n",
    "# We add our image object\n",
    "data2.add_image(im_object, imagename='transfered_image', indexname='imageTr', location='/')\n",
    "\n",
    "# We print the data set content to verify that our image group has been created\n",
    "print(data2)\n",
    "\n",
    "# We compare information about the two images group (the one from the original dataset and the created one)\n",
    "data.print_node_info('imageO')\n",
    "data2.print_node_info('imageTr')\n",
    "\n",
    "# We close our new dataset \n",
    "del data2"
   ]
  },
  {
   "cell_type": "markdown",
   "id": "e04297f4",
   "metadata": {},
   "source": [
    "You see that the image group has been easily transfered too another dataset, with its fields and metadata linked to the Image group and Image field data models. \n",
    "\n",
    "\n",
    "<div class=\"alert alert-info\">\n",
    "\n",
    "**Note** \n",
    "    \n",
    "Other attributes that belonged to the original image group have not been transfered (see for instance the `description` attribute). Transfering these attributes between the two datasets would require to use the `get_dic_from_attribute` and `add_attributes` methods.\n",
    "\n",
    "</div>"
   ]
  },
  {
   "cell_type": "markdown",
   "id": "3e64cf99",
   "metadata": {},
   "source": [
    "The `get_node` method has been presented in the [last tutorial (section IV)](./2_SampleData_basic_data_items.ipynb), which is the generic *SampleData* method to retrieve data. What happens if we use it on an Image Group ?"
   ]
  },
  {
   "cell_type": "code",
   "execution_count": 55,
   "id": "3b23b3a3",
   "metadata": {},
   "outputs": [
    {
     "name": "stdout",
     "output_type": "stream",
     "text": [
      "/image_from_object (Group) 'image_from_object'\n",
      "<class 'tables.group.Group'>\n"
     ]
    }
   ],
   "source": [
    "image = data.get_node('imageO')\n",
    "print(image)\n",
    "print(type(image))"
   ]
  },
  {
   "cell_type": "markdown",
   "id": "2e9b91a9",
   "metadata": {},
   "source": [
    "What we get is simply a *Pytables* HDF5 Group object, that contains no data or metadata stored into the Image object that we tried to retrieve. Trying to get the image node with the dictionary or attribute like access would yield the same behavior."
   ]
  },
  {
   "cell_type": "markdown",
   "id": "493050bf",
   "metadata": {},
   "source": [
    "### Getting field arrays"
   ]
  },
  {
   "cell_type": "markdown",
   "id": "1edb2d6f",
   "metadata": {},
   "source": [
    "As for images, it is straightforward to retrieve image fields stored in a *SampleData* dataset. The associated method is `get_field`, and requires only the name of the field (or indexname etc...)."
   ]
  },
  {
   "cell_type": "code",
   "execution_count": 56,
   "id": "9139afc9",
   "metadata": {},
   "outputs": [
    {
     "name": "stdout",
     "output_type": "stream",
     "text": [
      "\n",
      " NODE: /first_2D_image/tensor_field2D\n",
      "====================\n",
      " -- Parent Group : first_2D_image\n",
      " -- Node name : tensor_field2D\n",
      " -- tensor_field2D attributes : \n",
      "\t * empty : False\n",
      "\t * field_dimensionality : Tensor6\n",
      "\t * field_type : Element_field\n",
      "\t * node_type : field_array\n",
      "\t * padding : None\n",
      "\t * parent_grid_path : /first_2D_image\n",
      "\t * transpose_components : [0, 3, 5, 1, 4, 2]\n",
      "\t * transpose_indices : [1, 0, 2]\n",
      "\t * xdmf_fieldname : tensor_field2D\n",
      "\t * xdmf_gridname : first_2D_image\n",
      "\n",
      " -- content : /first_2D_image/tensor_field2D (CArray(101, 101, 6)) 'tensorF'\n",
      " -- Compression options for node `tensorF`:\n",
      "\tcomplevel=0, shuffle=False, bitshuffle=False, fletcher32=False, least_significant_digit=None\n",
      " -- Node memory size :   492.375 Kb\n",
      "----------------\n",
      "\n",
      "\n",
      "<class 'numpy.ndarray'>\n",
      "(101, 101, 6) \n",
      "\n",
      " Is the field the same as the one used to create the field data item ? True\n"
     ]
    }
   ],
   "source": [
    "data.print_node_info('tensorF')\n",
    "field_tmp = data.get_field('tensorF')\n",
    "print(type(field_tmp))\n",
    "print(field_tmp.shape,'\\n')\n",
    "\n",
    "print(f' Is the field the same as the one used to create the field data item ? {np.all(field_tmp == tensor_field)}')"
   ]
  },
  {
   "cell_type": "markdown",
   "id": "8023e88e",
   "metadata": {},
   "source": [
    "You see that all the transformation applied to the data before in-memory storage (transposition of columns, of the field component indices) have been transformed back automatically: the method returned exactly the same *numpy* array passed as argument of `add_field` to create the field data item in the dataset.\n",
    "\n",
    "What would the `get_node` method return here ? That depends on the value of its `as_numpy` argument. What about the attribute or dictionary like access ? Here follow some examples:"
   ]
  },
  {
   "cell_type": "code",
   "execution_count": 57,
   "id": "118c97c5",
   "metadata": {},
   "outputs": [
    {
     "name": "stdout",
     "output_type": "stream",
     "text": [
      "test 1 :  <class 'tables.carray.CArray'>\n",
      "test 2 :  <class 'numpy.ndarray'>\n",
      "test 3 :  <class 'numpy.ndarray'>\n"
     ]
    }
   ],
   "source": [
    "test_field1 = data.get_node('tensorF')\n",
    "test_field2 = data.get_node('tensorF', as_numpy=True)\n",
    "test_field3 = data['tensorF']\n",
    "\n",
    "print('test 1 : ', type(test_field1))\n",
    "print('test 2 : ', type(test_field2))\n",
    "print('test 3 : ', type(test_field3))"
   ]
  },
  {
   "cell_type": "markdown",
   "id": "529e4e0c",
   "metadata": {},
   "source": [
    "We see that the `get_node`method returned a *Pytables* node object with no option specified, and a *numpy* array with the `as_numpy=True` option. \n",
    "\n",
    "As you can see below, the dictionary like access method returned the same results as the `get_node` method with `as_numpy=True` option: "
   ]
  },
  {
   "cell_type": "code",
   "execution_count": 58,
   "id": "8cb3ba60",
   "metadata": {},
   "outputs": [
    {
     "data": {
      "text/plain": [
       "True"
      ]
     },
     "execution_count": 58,
     "metadata": {},
     "output_type": "execute_result"
    }
   ],
   "source": [
    "np.all(test_field2 == test_field3)"
   ]
  },
  {
   "cell_type": "markdown",
   "id": "b82583cc",
   "metadata": {},
   "source": [
    "Are those outputs equivalent to the original field ?"
   ]
  },
  {
   "cell_type": "code",
   "execution_count": 59,
   "id": "9768653d",
   "metadata": {},
   "outputs": [
    {
     "data": {
      "text/plain": [
       "True"
      ]
     },
     "execution_count": 59,
     "metadata": {},
     "output_type": "execute_result"
    }
   ],
   "source": [
    "np.all(test_field2 == tensor_field) "
   ]
  },
  {
   "cell_type": "markdown",
   "id": "0a16ae13",
   "metadata": {},
   "source": [
    "**You see that the `get_field(...)`, `get_node(..., as_numpy=True)` and dictionary like access to fields data items methods are strictly equivalent**.\n",
    "\n",
    "Now, note that *Pytables* node objects behave in some ways as numpy arrays. Then, are there equivalent to the original data array ?"
   ]
  },
  {
   "cell_type": "code",
   "execution_count": 60,
   "id": "533d2e53",
   "metadata": {},
   "outputs": [
    {
     "data": {
      "text/plain": [
       "False"
      ]
     },
     "execution_count": 60,
     "metadata": {},
     "output_type": "execute_result"
    }
   ],
   "source": [
    "np.all(test_field1 == tensor_field)"
   ]
  },
  {
   "cell_type": "markdown",
   "id": "b794c826",
   "metadata": {},
   "source": [
    "No, they are not ! The reason behind that is that the **`get_node(..., as_numpy=False)` method returns a Node object that is a link to the data stored in memory in the HDF5 dataset**. As explained before, this data has been transformed in memory to comply with indexing conventions, that is why the arrays are no longer equivalent !\n",
    "\n",
    "You can remember that:\n",
    "\n",
    "\n",
    "* **To access field array values as they have been added to the dataset, you need to retrieve them with one of the following methods:**\n",
    "\n",
    "    - `add_field` method\n",
    "    - `get_node(..., as_numpy=True)` method\n",
    "    - dictionary or attribute like access: `data['fieldname']` or `data.fieldname`\n",
    "  \n",
    "  \n",
    "* **To access field array values are they are stored in memory in the HDF5 file, you must use the `get_node(...,as_numpy=False)` method.**"
   ]
  },
  {
   "cell_type": "markdown",
   "id": "668e5f41",
   "metadata": {},
   "source": [
    "*****\n",
    "This is the end of this tutorial on *SampleData Image Groups and Image Fields*. We can now close our dataset.\n"
   ]
  },
  {
   "cell_type": "code",
   "execution_count": 61,
   "id": "42079ab0",
   "metadata": {},
   "outputs": [
    {
     "name": "stdout",
     "output_type": "stream",
     "text": [
      "\n",
      "Deleting DataSample object \n",
      ".... Storing content index in tutorial_dataset.h5:/Index attributes\n",
      ".... writing xdmf file : tutorial_dataset.xdmf\n",
      ".... flushing data in file tutorial_dataset.h5\n",
      "File tutorial_dataset.h5 synchronized with in memory data tree\n",
      "\n",
      "Dataset and Datafiles closed\n",
      "SampleData Autodelete: \n",
      " Removing hdf5 file tutorial_dataset.h5 and xdmf file tutorial_dataset.xdmf\n"
     ]
    }
   ],
   "source": [
    "del data"
   ]
  },
  {
   "cell_type": "markdown",
   "id": "692c997f",
   "metadata": {},
   "source": [
    "***** \n",
    "\n",
    "## Tutorial summary"
   ]
  },
  {
   "cell_type": "markdown",
   "id": "0117fbd6",
   "metadata": {},
   "source": [
    "<div class=\"alert alert-warning\">\n",
    "\n",
    "**Warning** \n",
    "    \n",
    "**Do not execute the following cells in the *pymicro* package notebooks. They need to be unexecuted to successfully build the documentation.**\n",
    "</div>"
   ]
  },
  {
   "cell_type": "markdown",
   "id": "9a9da770",
   "metadata": {},
   "source": [
    "### Creating Image groups from fields"
   ]
  },
  {
   "cell_type": "code",
   "execution_count": null,
   "id": "40141a7b",
   "metadata": {},
   "outputs": [],
   "source": [
    "# Create an Image Group from a Numpy array `field_array` interpreted as a pixel/voxel wise constant scalar field\n",
    "data.add_image_from_field(field_array=field_array, fieldname='node_name', imagename='group_name',\n",
    "                          indexname='image_indexname', location='parent_name', \n",
    "                          description=\"Write image group description here.\", origin=[0.,10.], spacing=[2.,2.])\n",
    "\n",
    "# Create an Image Group from a Numpy array `field_array` interpreted as a node value scalar field\n",
    "data.add_image_from_field(field_array=field_array, fieldname='node_name', imagename='group_name',\n",
    "                          indexname='image_indexname', location='parent_name', is_elemField=False,\n",
    "                          description=\"Write image group description here.\", origin=[0.,10.], spacing=[2.,2.])\n",
    "\n",
    "# Create an Image Group from a Numpy array `field_array` interpreted as a non scalar field\n",
    "data.add_image_from_field(field_array=field_array, fieldname='node_name', imagename='group_name',\n",
    "                          indexname='image_indexname', location='parent_name', is_scalar=False,\n",
    "                          description=\"Write image group description here.\", origin=[0.,10.], spacing=[2.,2.])\n",
    "\n",
    "# Set image position and dimensions\n",
    "data.set_voxel_size(image_group='image_indexname', voxel_size=np.array([4.,4.]))\n",
    "data.set_origin(image_group='image_indexname', origin=np.array([10.,0.]))"
   ]
  },
  {
   "cell_type": "markdown",
   "id": "ee2e4817",
   "metadata": {},
   "source": [
    "### Creating image groups from image objects"
   ]
  },
  {
   "cell_type": "code",
   "execution_count": null,
   "id": "de63c8b2",
   "metadata": {},
   "outputs": [],
   "source": [
    "# import BasicTools image object `ConstantRectilinearMesh`\n",
    "from BasicTools.Containers.ConstantRectilinearMesh import ConstantRectilinearMesh\n",
    "# Initialize image object, image dimension, origin and pixel/voxel size\n",
    "image_object = ConstantRectilinearMesh(dim=3)\n",
    "image_object.SetDimensions((50,50,3))\n",
    "image_object.SetOrigin([0.,0.,0.])\n",
    "image_object.SetSpacing([1.,1.,1.]) # pixel/voxel size in each dimension\n",
    "# Create Image Group in dataset\n",
    "data.add_image(image_object, imagename='group_name', indexname='image_indexname', location='parent_name', \n",
    "               description=\"\"\"Write image group description here.\"\"\")"
   ]
  },
  {
   "cell_type": "markdown",
   "id": "366e1b62",
   "metadata": {},
   "source": [
    "### Creating empty images"
   ]
  },
  {
   "cell_type": "code",
   "execution_count": null,
   "id": "6df69b70",
   "metadata": {},
   "outputs": [],
   "source": [
    "data.add_image(imagename='group_name', indexname='image_indexname', location='parent_name',\n",
    "               description=\"\"\"Write image group description here.\"\"\")"
   ]
  },
  {
   "cell_type": "markdown",
   "id": "b5a691b4",
   "metadata": {},
   "source": [
    "### Get image object from Image Group"
   ]
  },
  {
   "cell_type": "code",
   "execution_count": null,
   "id": "4712cb29",
   "metadata": {},
   "outputs": [],
   "source": [
    "# Get BasicTools image object from SampleData image group `group_name` including image group fields data arrays \n",
    "im_object = data.get_image('group_name', with_fields=True)"
   ]
  },
  {
   "cell_type": "markdown",
   "id": "e4ba2853",
   "metadata": {},
   "source": [
    "### Creating and getting image Fields"
   ]
  },
  {
   "cell_type": "code",
   "execution_count": null,
   "id": "11635d07",
   "metadata": {},
   "outputs": [],
   "source": [
    "# Creating a field for image group `group_name` from Numpy array `tensor_field`\n",
    "data.add_field(gridname='group_name', fieldname='node_name', location='parent_name', indexname='field_indexname',\n",
    "               array=tensor_field, replace=True) # replace = True allows to overwrite preexisting field with same name\n",
    "\n",
    "# Getting image fields \n",
    "# --> field returned as Numpy array\n",
    "field = data.get_field('node_name') \n",
    "field = data.get_node('node_name', as_numpy=True)\n",
    "field = data['node_name']\n",
    "field = data.node_name\n",
    "# --> field returned as a Pytables Node object\n",
    "field = data.get_node('node_name')"
   ]
  },
  {
   "cell_type": "markdown",
   "id": "383bbd08",
   "metadata": {},
   "source": [
    "### Creating a field time serie"
   ]
  },
  {
   "cell_type": "code",
   "execution_count": null,
   "id": "0257d9ca",
   "metadata": {},
   "outputs": [],
   "source": [
    "instants = [1.,10., 100.]\n",
    "# Add three temporal values for the field `node_name` in image group `group_name` for 3 different time values given in\n",
    "# `instants` array. Field values are stored in *Numpy* arrays temporal_field_0, temporal_field_1, temporal_field_2\n",
    "data.add_field(gridname='group_name', fieldname='node_name', location='parent_name', indexname='Field',\n",
    "               array=temporal_field_0, time=instants[0])\n",
    "# instant 1\n",
    "data.add_field(gridname='group_name', fieldname='node_name', location='parent_name', indexname='Field',\n",
    "               array=temporal_field_1, time=instants[1])\n",
    "# instant 2\n",
    "data.add_field(gridname='group_name', fieldname='node_name', location='parent_name', indexname='Field',\n",
    "               array=temporal_field_2, time=instants[2])"
   ]
  },
  {
   "cell_type": "markdown",
   "id": "fc84dc47",
   "metadata": {},
   "source": [
    "<div class=\"alert alert-warning\">\n",
    "\n",
    "**Warning** \n",
    "    \n",
    "**Do not execute the following cells in the *pymicro* package notebooks. They need to be unexecuted to successfully build the documentation.**\n",
    "</div>"
   ]
  }
 ],
 "metadata": {
  "kernelspec": {
   "display_name": "py3bI",
   "language": "python",
   "name": "py3bi"
  },
  "language_info": {
   "codemirror_mode": {
    "name": "ipython",
    "version": 3
   },
   "file_extension": ".py",
   "mimetype": "text/x-python",
   "name": "python",
   "nbconvert_exporter": "python",
   "pygments_lexer": "ipython3",
   "version": "3.7.8"
  }
 },
 "nbformat": 4,
 "nbformat_minor": 5
}
