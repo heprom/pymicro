{
 "cells": [
  {
   "cell_type": "markdown",
   "id": "5256cf09",
   "metadata": {},
   "source": [
    "# 6 - Data Compression "
   ]
  },
  {
   "cell_type": "markdown",
   "id": "0945f582",
   "metadata": {},
   "source": [
    "**This  Notebook will introduce you to**:\n",
    "\n",
    "1. what is a Mesh Group\n",
    "2. the Mesh Group data model\n",
    "3. how to create a mesh Group\n",
    "4. the Mesh Field data model\n",
    "5. how to add a field to a Mesh Group\n",
    "6. how to get Mesh Groups and Mesh Fields \n",
    "         \n",
    "         \n",
    "<div class=\"alert alert-info\">\n",
    "\n",
    "**Note** \n",
    "    \n",
    "Throughout this notebook, it will be assumed that the reader is familiar with the overview of the SampleData file format and data model presented in the [first notebook of this User Guide](./SampleData_Introduction.ipynb) of this User Guide.\n",
    "\n",
    "</div>"
   ]
  },
  {
   "cell_type": "code",
   "execution_count": null,
   "id": "a89ef92d",
   "metadata": {},
   "outputs": [],
   "source": []
  }
 ],
 "metadata": {
  "kernelspec": {
   "display_name": "py3bI",
   "language": "python",
   "name": "py3bi"
  },
  "language_info": {
   "codemirror_mode": {
    "name": "ipython",
    "version": 3
   },
   "file_extension": ".py",
   "mimetype": "text/x-python",
   "name": "python",
   "nbconvert_exporter": "python",
   "pygments_lexer": "ipython3",
   "version": "3.7.8"
  }
 },
 "nbformat": 4,
 "nbformat_minor": 5
}
