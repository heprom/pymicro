{
 "cells": [
  {
   "cell_type": "markdown",
   "id": "38aa16f3",
   "metadata": {},
   "source": [
    "# 7 - Sample Data Inheritance - The Microstructure Class "
   ]
  },
  {
   "cell_type": "markdown",
   "id": "09512322",
   "metadata": {},
   "source": [
    "**This sixth Notebook will introduce you to**:\n",
    "\n",
    "1. the SampleData class inheritance mechanisms\n",
    "2. The Microstructure class of the pymicro package\n",
    "3. The different ways that exist to create a Microstructure object         \n",
    "         \n",
    "<div class=\"alert alert-info\">\n",
    "\n",
    "**Note** \n",
    "    \n",
    "Throughout this notebook, it will be assumed that the reader is familiar with the overview of the SampleData file format and data model presented in the [first notebook of this User Guide](./SampleData_Introduction.ipynb) of this User Guide.\n",
    "\n",
    "</div>"
   ]
  },
  {
   "cell_type": "markdown",
   "id": "e384dcab",
   "metadata": {},
   "source": [
    "## SampleData Inheritance"
   ]
  },
  {
   "cell_type": "markdown",
   "id": "3cce50e7",
   "metadata": {},
   "source": [
    "The *SampleData* class implements a generic interface between users, numeric tools, and HDF5/XDMF multimodal datasets for material science and mechanics. It allows to create empty datasets or open existing ones, and leaves entirely to the user the definition of the dataset internal content and organization.\n",
    "\n",
    "For specific and repeated applications, that always involve the same type of datasets, it may be convenient to standardize and predefine the internal organization of the dataset. For instance, to manage the data of a serie of material samples that are studied through SEM, EBSD imaging, and numerical simulation of the imaging digital twins, you will to define for each the same Image Group to store the imaging outputs, and a Mesh or Image group at least to store the simulation output. \n",
    "\n",
    "For such cases, it becomes convenient to define a more specific interface, for which all the internal organization of datasets (their data mode), is already defined. For that purpose, the *SampleData* class offers the possibility to create  inherited classes with a predefined data model through two particular and simple mechanisms, that are the subject of the present section."
   ]
  },
  {
   "cell_type": "markdown",
   "id": "112c09d4",
   "metadata": {},
   "source": [
    "### Custom Data Model"
   ]
  },
  {
   "cell_type": "markdown",
   "id": "769b0711",
   "metadata": {},
   "source": []
  },
  {
   "cell_type": "code",
   "execution_count": null,
   "id": "b77a976d",
   "metadata": {},
   "outputs": [],
   "source": []
  },
  {
   "cell_type": "markdown",
   "id": "b8509bc6",
   "metadata": {},
   "source": []
  },
  {
   "cell_type": "code",
   "execution_count": null,
   "id": "d1748d82",
   "metadata": {},
   "outputs": [],
   "source": []
  },
  {
   "cell_type": "markdown",
   "id": "54727e21",
   "metadata": {},
   "source": []
  },
  {
   "cell_type": "markdown",
   "id": "b139203f",
   "metadata": {},
   "source": [
    "### Custom initialization"
   ]
  },
  {
   "cell_type": "markdown",
   "id": "a722e521",
   "metadata": {},
   "source": []
  },
  {
   "cell_type": "code",
   "execution_count": null,
   "id": "0c9b7352",
   "metadata": {},
   "outputs": [],
   "source": []
  },
  {
   "cell_type": "markdown",
   "id": "4fa53013",
   "metadata": {},
   "source": []
  },
  {
   "cell_type": "code",
   "execution_count": null,
   "id": "c62b1ec5",
   "metadata": {},
   "outputs": [],
   "source": []
  },
  {
   "cell_type": "markdown",
   "id": "60ca3142",
   "metadata": {},
   "source": []
  },
  {
   "cell_type": "markdown",
   "id": "0d2cf6b4",
   "metadata": {},
   "source": [
    "## The Microstructure Data Model"
   ]
  },
  {
   "cell_type": "markdown",
   "id": "60b773c3",
   "metadata": {},
   "source": [
    "### A SampleData children class"
   ]
  },
  {
   "cell_type": "markdown",
   "id": "41c25dfc",
   "metadata": {},
   "source": [
    "### The CellData Group"
   ]
  },
  {
   "cell_type": "markdown",
   "id": "1d832d3a",
   "metadata": {},
   "source": [
    "### The MeshData Group "
   ]
  },
  {
   "cell_type": "markdown",
   "id": "1fa21bec",
   "metadata": {},
   "source": [
    "### The GrainDataTable"
   ]
  },
  {
   "cell_type": "markdown",
   "id": "0daa96c6",
   "metadata": {},
   "source": [
    "### Phases"
   ]
  },
  {
   "cell_type": "markdown",
   "id": "81aaf785",
   "metadata": {},
   "source": [
    "## Creating a Microstructure object"
   ]
  },
  {
   "cell_type": "markdown",
   "id": "8c0a382b",
   "metadata": {},
   "source": [
    "### From scratch"
   ]
  },
  {
   "cell_type": "markdown",
   "id": "3a5f14d6",
   "metadata": {},
   "source": [
    "#### Empty Microstructure"
   ]
  },
  {
   "cell_type": "markdown",
   "id": "d8772184",
   "metadata": {},
   "source": [
    "#### Voronoi Microstructure"
   ]
  },
  {
   "cell_type": "markdown",
   "id": "0dda608b",
   "metadata": {},
   "source": [
    "### From a data file"
   ]
  },
  {
   "cell_type": "markdown",
   "id": "0755ca78",
   "metadata": {},
   "source": [
    "### From an existing Microstructure"
   ]
  },
  {
   "cell_type": "markdown",
   "id": "21aca867",
   "metadata": {},
   "source": [
    "#### Copy an existing Microstructure"
   ]
  },
  {
   "cell_type": "markdown",
   "id": "00b516cc",
   "metadata": {},
   "source": [
    "#### Crop an existing Microstructure"
   ]
  },
  {
   "cell_type": "markdown",
   "id": "4075b0ba",
   "metadata": {},
   "source": [
    "## Tutorial Summary"
   ]
  },
  {
   "cell_type": "code",
   "execution_count": null,
   "id": "cb428610",
   "metadata": {},
   "outputs": [],
   "source": [
    "# code here"
   ]
  }
 ],
 "metadata": {
  "kernelspec": {
   "display_name": "py3bI",
   "language": "python",
   "name": "py3bi"
  },
  "language_info": {
   "codemirror_mode": {
    "name": "ipython",
    "version": 3
   },
   "file_extension": ".py",
   "mimetype": "text/x-python",
   "name": "python",
   "nbconvert_exporter": "python",
   "pygments_lexer": "ipython3",
   "version": "3.7.8"
  }
 },
 "nbformat": 4,
 "nbformat_minor": 5
}
