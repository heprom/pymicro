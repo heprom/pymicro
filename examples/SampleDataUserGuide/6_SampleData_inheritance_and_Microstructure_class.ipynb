{
 "cells": [
  {
   "cell_type": "markdown",
   "id": "38aa16f3",
   "metadata": {},
   "source": [
    "# 7 - Sample Data Inheritance - The Microstructure Class "
   ]
  },
  {
   "cell_type": "markdown",
   "id": "09512322",
   "metadata": {},
   "source": [
    "**This sixth Notebook will introduce you to**:\n",
    "\n",
    "1. the SampleData class inheritance mechanisms\n",
    "2. the Microstructure class of the pymicro package\n",
    "3. the Microstructure class data model and how to browse through its content\n",
    "4. the different ways that exist to create a Microstructure object\n",
    "5. the basic methods to get and set the data that compose a Microstructure object \n",
    "         \n",
    "<div class=\"alert alert-info\">\n",
    "\n",
    "**Note** \n",
    "    \n",
    "Throughout this notebook, it will be assumed that the reader is familiar with the overview of the SampleData file format and data model presented in the [first notebook of this User Guide](./SampleData_Introduction.ipynb) of this User Guide.\n",
    "\n",
    "</div>"
   ]
  },
  {
   "cell_type": "markdown",
   "id": "e384dcab",
   "metadata": {},
   "source": [
    "## SampleData Inheritance"
   ]
  },
  {
   "cell_type": "markdown",
   "id": "3cce50e7",
   "metadata": {},
   "source": [
    "The *SampleData* class implements a generic interface between users, numeric tools, and HDF5/XDMF multimodal datasets for material science and mechanics. It allows to create empty datasets or open existing ones, and leaves entirely to the user the definition of the dataset internal content and organization.\n",
    "\n",
    "For specific and repeated applications, that always involve the same type of datasets, it may be convenient to standardize and predefine the internal organization of the dataset. For instance, to manage the data of a serie of material samples that are studied through SEM, EBSD imaging, and numerical simulation of the imaging digital twins, you will to define for each the same Image Group to store the imaging outputs, and a Mesh or Image group at least to store the simulation output. \n",
    "\n",
    "For such cases, it becomes convenient to define a more specific interface, for which all the internal organization of datasets (their data mode), is already defined. For that purpose, the *SampleData* class offers the possibility to create  inherited classes with a predefined data model through two particular and simple mechanisms, that are the subject of the present section."
   ]
  },
  {
   "cell_type": "markdown",
   "id": "112c09d4",
   "metadata": {},
   "source": [
    "### Custom Data Model"
   ]
  },
  {
   "cell_type": "markdown",
   "id": "769b0711",
   "metadata": {},
   "source": [
    "The *SampleData* class defines a minimal data model for all the datasets created with the class. This data model is a collection of data item *indexnames, pathes* and *types*, in the form of two dictionaries. The keys of these two dictionaries must be identical, and define all the *indexnames* of the items in the data model. There values are:\n",
    "\n",
    "1. `minimal_content_index_dic`: the path of each data item in the data model\n",
    "2. `minimal_content_type_dic`: the type of each data item in the data model"
   ]
  },
  {
   "cell_type": "markdown",
   "id": "b384a8a6",
   "metadata": {},
   "source": [
    "#### The content index dictionary"
   ]
  },
  {
   "cell_type": "markdown",
   "id": "abc4ccbf",
   "metadata": {},
   "source": [
    "Each item of this dictionary will define a data item of the model. Its key will be the *indexname* given to the data item in the dataset, and the item value must be a string giving a valid path for the data item in the dataset. For a path to be valid, the different levels of depth in it must have been declared within the dictionary.\n",
    "\n",
    "This dictionary should hence look like this:\n",
    "\n",
    "```python\n",
    "       minimal_content_index_dic = {'item1': '/path_to_item1',\n",
    "                                    'item2': '/path_to_item1/path_to_item2',\n",
    "                                    'item3': '/path_to_item3',\n",
    "                                     '...': '...',}\n",
    "```\n",
    "\n",
    "An item of the form `'wrongitem': '/undeclared_item/path_to_wrong_item'` would have been a non valid path.\n",
    "\n",
    "The dictionary example just above would lead to the creation of at least 3 data items, with names `item1`, `item2` and `item3`, with items 1 and 3 being directly attached to the dataset *Root Group*, and the item 2 being a children of item 1. "
   ]
  },
  {
   "cell_type": "markdown",
   "id": "1463f960",
   "metadata": {},
   "source": [
    "#### The content type dictionary"
   ]
  },
  {
   "cell_type": "markdown",
   "id": "35fa03c3",
   "metadata": {},
   "source": [
    "The second dictionary that has to be declared must have the same keys as the `minimal_content_index_dic`. Its values must be valid *SampleData* data item types. This dictionary will determine the type of data item that will be automatically created at the dataset creation, by the subclass. \n",
    "\n",
    "Possible values and associated data types are (see previous tutorials for description of these data types):\n",
    "\n",
    "* 'Group': creates a HDF5 group data item\n",
    "* '2DImage', '3DImage', or 'Image': creates an empty Image group\n",
    "* '2DMesh', '3DMesh', 'Mesh': creates an empty Mesh group\n",
    "* 'data_array': creates an empty Data Array\n",
    "* 'field_array': creates an empty Field Array (its path must be a children of a an Image or Mesh group)\n",
    "* 'string_array': creates an empty String Array \n",
    "* a `numpy.dtype` or a `tables.IsDescription` class ([see here](https://www.pytables.org/usersguide/libref/declarative_classes.html#the-isdescription-class) and [tutorial 3](./2_SampleData_basic_data_items.ipynb)):"
   ]
  },
  {
   "cell_type": "markdown",
   "id": "abb029ab",
   "metadata": {},
   "source": [
    "This dictionary should look like this (assuming that it corresponds to the content dictionary of the subsection above):\n",
    "\n",
    "```python\n",
    "       minimal_content_index_dic = {'item1': '3DMesh',\n",
    "                                    'item2': 'field_array',\n",
    "                                    'item3': 'data_array',\n",
    "                                     '...': '...',}\n",
    "```\n",
    "\n",
    "In this case, the first item would be created as a *Mesh Group*, the second will be created as a field data item stored in this mesh, and the last as a data array attached to the *Root Group*."
   ]
  },
  {
   "cell_type": "markdown",
   "id": "822fa77b",
   "metadata": {},
   "source": [
    "*****\n",
    "These two dictionaries are returned by the `minimal_data_model` method of the `SampleData` class. They are used during the dataset object initialization, to create the prescribed data model, and populate it with empty objects, with the right names and organization. This allows to prepend a set of names and pathes that form a particular data model that all objects created by the class should have."
   ]
  },
  {
   "cell_type": "markdown",
   "id": "549614bc",
   "metadata": {},
   "source": [
    "It is labelled as a **minimal data model**, as it only prescribes the data items and organization that will be present in each dataset of the subclass. The user is free to enrich the datasets created with this class with any additional data item that he would want to add.\n",
    "\n",
    "In the `SampleData` code, they are returned empty, so that no actual data model is created within a new `SampleData` dataset. This method is actually designed to create subclasses of SampleData associated to a specific data model. To achieve this, you have to:\n",
    "\n",
    "1. Create a new class, inherited from SampleData\n",
    "2. Override the `minimal_data_model` method and write your data model in the two dictionaries returned by the class "
   ]
  },
  {
   "cell_type": "markdown",
   "id": "fd2f39c3",
   "metadata": {},
   "source": [
    "You will then get a class derived from *SampleData* (hence with all its methods and features), that creates datasets with this prescribed data model. You will see an example of it in the next section dedicated to the Microstructure class, which is designed this way."
   ]
  },
  {
   "cell_type": "markdown",
   "id": "b139203f",
   "metadata": {},
   "source": [
    "### Custom initialization"
   ]
  },
  {
   "cell_type": "markdown",
   "id": "a722e521",
   "metadata": {},
   "source": [
    "The other mechanisms that is important to design subclasses of *SampleData*, is the specification of all initialization commands that must be run each time the dataset files are closed and opened again (this happens for instance when repacking the dataset, or calling the `pause_for_visualization` method). These operations can include, for instance, the definition of class attributes that points toward a specific node in the dataset, the loading of data from the dataset files in some class attributes, some sanity checks on the data etc.....\n",
    "\n",
    "All these operations must be implemented in the `_after_file_open` method of the subclass. Again, the `Microstructure` class described in the next section will provide an example."
   ]
  },
  {
   "cell_type": "markdown",
   "id": "0d2cf6b4",
   "metadata": {},
   "source": [
    "## The Microstructure Class"
   ]
  },
  {
   "cell_type": "markdown",
   "id": "fabbdf77",
   "metadata": {},
   "source": [
    "The `Microstructure` class has been designed to handle multimodal datasets representing polycrystalline material samples. These materials have a specific microstructure composed of crystalline grains, that are characterized by a specific geometry and a crystalline orientation. The microstructure of polycrystalline materials strongly determines their physical and mechanical properties, and is thus extensively studied by material scientists.\n",
    "\n",
    "The `Microstructure` class offers methods to easily manipulate multiomdal 4D data of granular material samples, in particular regarding geometrical and crystallographic aspects of data management and processing. As this type of data is a particular case of the  of datasets for which the `SampleData` class has been designed, the `Microstructure` has been derived from the `SampleData` class."
   ]
  },
  {
   "cell_type": "markdown",
   "id": "60b773c3",
   "metadata": {},
   "source": [
    "### A SampleData children class"
   ]
  },
  {
   "cell_type": "markdown",
   "id": "afee4ee9",
   "metadata": {},
   "source": [
    "Indeend, the `Microstructure` class is a subclass of the `SampleData` class:\n",
    "```python\n",
    "class Microstructure(SampleData):\n",
    "```"
   ]
  },
  {
   "cell_type": "markdown",
   "id": "270a469a",
   "metadata": {},
   "source": [
    "As a children of `SampleData`, it inherits all of its features: a *Microstructure* object is associated with a HDF5/XDMF file pair, and allows to create/get/remove/compress all types of data items handeled by the `SampleData` class, presented in the previous tutorials. As a children of `SampleData`, the `Microstructure` class benefits of the two mechanisms presented in the first section of this tutorial. We will see now how they are implemented for this class."
   ]
  },
  {
   "cell_type": "markdown",
   "id": "cf7f8848",
   "metadata": {},
   "source": [
    "### The minimal data model"
   ]
  },
  {
   "cell_type": "markdown",
   "id": "f08c5e5f",
   "metadata": {},
   "source": [
    "This subsection will present the `Microstructure` class data model, and will also serve as a demonstrator of the data model mechanism described in the first section of this tutorial.\n",
    "\n",
    "The code of the `minimal_data_model` method of the *Microstructure* class contains the following declaration of the data model dictionaries:\n",
    "\n",
    "```python\n",
    "        minimal_content_index_dic = {'Image_data': '/CellData',\n",
    "                                     'grain_map': '/CellData/grain_map',\n",
    "                                     'phase_map': '/CellData/phase_map',\n",
    "                                     'mask': '/CellData/mask',\n",
    "                                     'Mesh_data': '/MeshData',\n",
    "                                     'Grain_data': '/GrainData',\n",
    "                                     'GrainDataTable': '/GrainData/GrainDataTable',\n",
    "                                     'Phase_data': '/PhaseData'}\n",
    "        minimal_content_type_dic = {'Image_data': '3DImage',\n",
    "                                    'grain_map': 'field_array',\n",
    "                                    'phase_map': 'field_array',\n",
    "                                    'mask': 'field_array',\n",
    "                                    'Mesh_data': 'Mesh',\n",
    "                                    'Grain_data': 'Group',\n",
    "                                    'GrainDataTable': GrainData,\n",
    "                                    'Phase_data': 'Group'}\n",
    "```"
   ]
  },
  {
   "cell_type": "markdown",
   "id": "da29c1bf",
   "metadata": {},
   "source": [
    "You can see that this data model contains a `GrainData` data item type. This is a `tables.IsDescription` object, inducing hence the creation of a *Structured Array* data item. The definition of this description in the `Microstructure` class code will be provided further in this tutorial, in the subsection dedicated to the *Grain Data Table* data item of the class."
   ]
  },
  {
   "cell_type": "markdown",
   "id": "bccc7a37",
   "metadata": {},
   "source": [
    "As you can see, the data model contains one Image Group, with three fields declared, one Mesh Group, two Groups, one containing a *Structured Array* data item. It will be detailed in the next section of this tutorial."
   ]
  },
  {
   "cell_type": "markdown",
   "id": "99e5ef76",
   "metadata": {},
   "source": [
    "### The after file open operations "
   ]
  },
  {
   "cell_type": "markdown",
   "id": "8c8e8b0b",
   "metadata": {},
   "source": [
    "The `_after_file_open` method of the `Microstructure` class is very simple, it contains juste one line of code:\n",
    "```python\n",
    "    def _after_file_open(self):\n",
    "        \"\"\"Initialization code to run after opening a Sample Data file.\"\"\"\n",
    "        self.grains = self.get_node('GrainDataTable')\n",
    "        return\n",
    "```"
   ]
  },
  {
   "cell_type": "markdown",
   "id": "7ea70d56",
   "metadata": {},
   "source": [
    "This method creates a class attribute `grains` that is associated with the *Structured Array* node `GrainDataTable`.  Therefore, this attribute is an alias for the *Pytable* *Node* object associated to this array (see [here](https://www.pytables.org/usersguide/tutorials.html) how to handle these objects).\n",
    "\n",
    "This `grains` attribute is used by many of the class methods, and hence must always be properly associated to the *GrainDataTable*. To ensure that it is the case, it is initialized in the `_after_file_open` method. Hence, this attribute is initialized at dataset opening, but also after in the methods that close and re-open the dataset (like `pause_for_visualization` or `repack_h5file`."
   ]
  },
  {
   "cell_type": "markdown",
   "id": "3307706b",
   "metadata": {},
   "source": [
    "## Microstructure Data Model & Getting Microstructure data"
   ]
  },
  {
   "cell_type": "markdown",
   "id": "784c442c",
   "metadata": {},
   "source": [
    "### What data defines a Microstructure ?"
   ]
  },
  {
   "cell_type": "markdown",
   "id": "0c793d5a",
   "metadata": {},
   "source": [
    "To define the microstructure and geometry of a polycrystalline sample, the following information are needed:\n",
    "\n",
    "* the description of the geometry of the sample\n",
    "* inside the sample, the description of the crystalline phases that compose the sample\n",
    "* within each phase, the description of the grains that compose the phase\n",
    "\n",
    "**To easily identify these elements, in a `Microstructure` dataset, each phase and grain in the microstructure has a identification number.** These numbers are used to gather phasewise or grainwise data in data arrays, but is used as well in fields to describe the geometry of these phases/grains. These features are detailed in the following. "
   ]
  },
  {
   "cell_type": "markdown",
   "id": "62b799f8",
   "metadata": {},
   "source": [
    "We will now review the various elements of the `Microstructure` class data model. To illustrate them, we will use a dataset from the example data base of the pymicro package."
   ]
  },
  {
   "cell_type": "markdown",
   "id": "4b90afbc",
   "metadata": {},
   "source": [
    "### Opening a Microstructure file"
   ]
  },
  {
   "cell_type": "markdown",
   "id": "1c0b9d5d",
   "metadata": {},
   "source": [
    "Opening an already existing microstructure dataset is done exactly like opening a `SampleData` dataset. We will look at a material science dataset that is part of the *Pymicro* example datasets, that is already used in the [previous tutorial](5_SampleData_data_compression.ipynb) on data compression."
   ]
  },
  {
   "cell_type": "code",
   "execution_count": null,
   "id": "5bfa7d5c",
   "metadata": {},
   "outputs": [],
   "source": [
    "from config import PYMICRO_EXAMPLES_DATA_DIR # import file directory path\n",
    "import os\n",
    "dataset_file = os.path.join(PYMICRO_EXAMPLES_DATA_DIR, 'example_microstructure') # test dataset file path\n",
    "tar_file = os.path.join(PYMICRO_EXAMPLES_DATA_DIR, 'example_microstructure.tar.gz') # dataset archive path"
   ]
  },
  {
   "cell_type": "markdown",
   "id": "061eb446",
   "metadata": {},
   "source": [
    "This file is zipped in the package to reduce its size. We will have to unzip it to use it and learn how to reduce its size with the *SampleData* methods. If you are just reading the documentation and not executing it, you may just skip this cell and the next one."
   ]
  },
  {
   "cell_type": "code",
   "execution_count": null,
   "id": "7b6aefa2",
   "metadata": {},
   "outputs": [],
   "source": [
    "# Save current directory\n",
    "cwd = os.getcwd()\n",
    "# move to example data directory\n",
    "os.chdir(PYMICRO_EXAMPLES_DATA_DIR)\n",
    "# unarchive the dataset\n",
    "os.system(f'tar -xvf {tar_file}')\n",
    "# get back to UserGuide directory\n",
    "os.chdir(cwd)"
   ]
  },
  {
   "cell_type": "markdown",
   "id": "26a30f37",
   "metadata": {},
   "source": [
    "Let us now open the dataset, using the `Microstructure` class constructor this time:"
   ]
  },
  {
   "cell_type": "code",
   "execution_count": null,
   "id": "573e1fb9",
   "metadata": {},
   "outputs": [],
   "source": [
    "# import SampleData class\n",
    "from pymicro.crystal.microstructure import Microstructure \n",
    "# import Numpy\n",
    "import numpy as np"
   ]
  },
  {
   "cell_type": "code",
   "execution_count": null,
   "id": "444ac2c5",
   "metadata": {},
   "outputs": [],
   "source": [
    "# Open Microstructure dataset\n",
    "micro = Microstructure(filename=dataset_file)"
   ]
  },
  {
   "cell_type": "markdown",
   "id": "b4097bae",
   "metadata": {},
   "source": [
    "The dataset is now open, we can now look at its content:"
   ]
  },
  {
   "cell_type": "code",
   "execution_count": null,
   "id": "9dea30a4",
   "metadata": {},
   "outputs": [],
   "source": [
    "print(micro)"
   ]
  },
  {
   "cell_type": "markdown",
   "id": "3a85190f",
   "metadata": {},
   "source": [
    "We can also print the description attribute of the dataset to read information written by its creators:"
   ]
  },
  {
   "cell_type": "code",
   "execution_count": null,
   "id": "eaaf46ae",
   "metadata": {},
   "outputs": [],
   "source": [
    "print(micro.get_description())"
   ]
  },
  {
   "cell_type": "markdown",
   "id": "6aa1dee4",
   "metadata": {},
   "source": [
    "As you can see, this dataset is a digital twin of a real polycristalline microstructure of a grade 2 Titanium sample, gathering both experimental and numerical data obtained through Diffraction Contrast Tomography imaging, and FFT-based mechanical simulation. \n",
    "\n",
    "This dataset will serve as an illustration of the `Microstructure` class data model. In the dataset content printed above, we indeed recognize the 4 groups defined by the `minimal_data_model`. They all contain essential data to represent the microstructure, and are presented in details in the next subsections. "
   ]
  },
  {
   "cell_type": "markdown",
   "id": "0daa96c6",
   "metadata": {},
   "source": [
    "### Phases"
   ]
  },
  {
   "cell_type": "markdown",
   "id": "2e443ad7",
   "metadata": {},
   "source": [
    "Obviously, the first information that must be provided when describing a polycrystalline material sample, is its composition. Polycrystalline samples may be composed of multiple phases, having all distinct crystallographic and physical properties. The `PhaseData` group in the `Microstructure` data model is designed to store this essential information on the various material phases composing the sample, and their properties. \n",
    "\n",
    "We can see in the dataset content above that this *Group* only contains another group `phase_01`. Their content is:"
   ]
  },
  {
   "cell_type": "code",
   "execution_count": null,
   "id": "f01d1bf8",
   "metadata": {},
   "outputs": [],
   "source": [
    "micro.print_node_info('PhaseData')\n",
    "micro.print_node_info('phase_01')"
   ]
  },
  {
   "cell_type": "markdown",
   "id": "8ffefc68",
   "metadata": {},
   "source": [
    "As you may observe, these groups only contain data in the form of attributes, *i.e.* metadata, on the crystalline phase that compose the dataset. **The `PhaseData` group has as many children groups as there are phases in the dataset**. Each one of these groups has a predefined name, following the pattern `phase_+ phase_number`. They provide the name, number, and crystallographic (symmetry, lattice parameters), chemical (formula) and physical information (elasticity constants) of each phase.\n",
    "\n",
    "         \n",
    "<div class=\"alert alert-warning\">\n",
    "\n",
    "**Warning** \n",
    "    \n",
    "Working with multiple phases in `Microstructure` datasets is still a feature under development, not yet stable. It is possible to have mutliple phase groups within a dataset, but some class methods working with Phases may not yet be compatible with multiple phase datasets. \n",
    "\n",
    "</div>"
   ]
  },
  {
   "cell_type": "markdown",
   "id": "ded70c57",
   "metadata": {},
   "source": [
    "#### Getting Phase objects from a dataset"
   ]
  },
  {
   "cell_type": "markdown",
   "id": "778594ca",
   "metadata": {},
   "source": [
    "The medata content of a `phase_XX` *Group* can be retrieved as a *Pymicro* Phase object, which is a container object, with the `get_phase` method:"
   ]
  },
  {
   "cell_type": "code",
   "execution_count": null,
   "id": "fc45a3d4",
   "metadata": {},
   "outputs": [],
   "source": [
    "phase_01 = micro.get_phase(phase_id=1)\n",
    "print(phase_01)"
   ]
  },
  {
   "cell_type": "markdown",
   "id": "41c25dfc",
   "metadata": {},
   "source": [
    "### The CellData Group"
   ]
  },
  {
   "cell_type": "markdown",
   "id": "622b6a33",
   "metadata": {},
   "source": [
    "#### Group aim and content\n",
    "\n",
    "We will move now to the description of the `CellData` group. As you can see, it is an *Image Group* (3D image in the case of this example file). **The `CellData` group is aimed at storing descriptions of the polycristalline microstructure of the sample, in the form of images.** They may describe the geometry and orientation of the grains, the presence of damage or the micromechanical state of the sample. \n",
    "\n",
    "These images can be 2D or 3D, and be:\n",
    "\n",
    "* outputs of real imaging experiments (DCT, CT, EBSD ...)\n",
    "* digitally generated microstructure images (Voronoi tesselations, outputs from softwares like Neper, DREAM3D ...)\n",
    "* outputs of numerical simulations techniques that provide images (such as FFT-based solvers)\n",
    "\n",
    "This group is a classical *Image Group*, with the usual set of attributes (see [dedicated tutorial](./3_SampleData_Image_groups.ipynb)):"
   ]
  },
  {
   "cell_type": "code",
   "execution_count": null,
   "id": "85d63fda",
   "metadata": {},
   "outputs": [],
   "source": [
    "micro.print_node_info('CellData')"
   ]
  },
  {
   "cell_type": "markdown",
   "id": "bef5a7a9",
   "metadata": {},
   "source": [
    "#### Group minimal content\n",
    "\n",
    "The `minimal_data_model` of the class contains three fields data items that are attached to the *CellData* group. **These scalar fields of integers allow to completely describe the geometry and microstructure of the polycrystalline material sample associated to the `Microstructure` dataset.** They are:\n",
    "\n",
    "* `mask`: a field describing the geometry of the sample. It has a 1 value inside the sample, and a 0 value outside the sample (typically, segmented X-ray Contrast Tomography outputs can be used as Microstructure mask). \n",
    "* `phase_map`: a field indicating for each pixel/voxel the ID of the phase in which it is located. In areas of the Image that are not part of the material sample, the *grain_map* field takes a zero or negative value.\n",
    "* `grain_map`: a field indicating for each pixel/voxel the ID of the grain in which it is located. In areas of the Image that are not part of the material sample, the *grain_map* field takes a zero or negative value.\n",
    "\n",
    "You can retrieve the value of these fields as shown in the previous tutorials (`get_field`, attribute or dict like access). You can also use the `Microstructure` class dedicated methods, that ensure to return arrays of dimension 3 (with a 1 sized 3 dimension when getting 2D images fields), used just below:"
   ]
  },
  {
   "cell_type": "code",
   "execution_count": null,
   "id": "1599eb35",
   "metadata": {},
   "outputs": [],
   "source": [
    "mask = micro.get_mask()\n",
    "phase_map = micro.get_phase_map()\n",
    "grain_map = micro.get_grain_map()\n",
    "\n",
    "print(f'List of values in the mask:\\n {np.unique(mask)}\\n')\n",
    "print(f'List of values in the phase map:\\n {np.unique(phase_map)}\\n')\n",
    "print(f'List of values in the grain map:\\n {np.unique(grain_map)}\\n')\n",
    "\n",
    "print(f'Number of grains in the grain map: {len(np.unique(grain_map))}')"
   ]
  },
  {
   "cell_type": "markdown",
   "id": "39548273",
   "metadata": {},
   "source": [
    "As you can see, the *phase map* is not defined here, which is not a problem when the sample only has one crystalline phase (which is the case here). The mask also contains only 1 values, which means that the dataset represents a full cube of the sample microstructure. The grain map contains 111 grain IDs values. "
   ]
  },
  {
   "cell_type": "markdown",
   "id": "2117c4cb",
   "metadata": {},
   "source": [
    "#### The active grain map class attribute"
   ]
  },
  {
   "cell_type": "markdown",
   "id": "6182e1c4",
   "metadata": {},
   "source": [
    "It may be relevant, for some datasets, to store several fields for the same information. For instance, when reconstructing a microstructure from an imaging experiment, the microstructure in the reconstruction process raw output may be incomplete, and require some image processing. In that case, storing both versions of the array (raw reconstruction output and image after processing) is relevant. \n",
    "\n",
    "In the specific case of the `grain_map` field, if you have several arrays for this information in your dataset, you may use the `active_grain_map` class attribute to specify which one is to be considered as the sample main grain map by setting the `Microstructure.active_grain_map` attribute to a name of this field data item. This implies that the `get_grain_map` method will return specifically this field, and that all `Microstructure` methods working with the sample grain map will use this field as well."
   ]
  },
  {
   "cell_type": "markdown",
   "id": "e7a281f4",
   "metadata": {},
   "source": [
    "Our example dataset has two version of the grain map information: the `grain_map` and `grain_map_raw` fields. They represent the processed and raw version of the DCT reconstruction algorithm output data. We will use them to illustrate the role of the `active_grain_map` attribute. \n",
    "\n",
    "You can set its value with the `set_active_grain_map` method: "
   ]
  },
  {
   "cell_type": "code",
   "execution_count": null,
   "id": "4f2e0c73",
   "metadata": {},
   "outputs": [],
   "source": [
    "# print active grain map\n",
    "print(f'The active grain map is {micro.active_grain_map}')\n",
    "\n",
    "# change active grain map\n",
    "micro.set_active_grain_map('grain_map_raw')\n",
    "print(f'The active grain map is {micro.active_grain_map}')"
   ]
  },
  {
   "cell_type": "markdown",
   "id": "093f17eb",
   "metadata": {},
   "source": [
    "We can now chekc the return of `get_grain_map`:"
   ]
  },
  {
   "cell_type": "code",
   "execution_count": null,
   "id": "5c98691d",
   "metadata": {},
   "outputs": [],
   "source": [
    "# get both grain maps arrays\n",
    "grain_map = micro['grain_map']\n",
    "grain_map_raw = micro['grain_map_raw']\n",
    "\n",
    "# check class method return grain map\n",
    "print(f'Is the active grain map equal to \"grain_map\" array ? {np.all(grain_map == micro.get_grain_map())}')\n",
    "print(f'Is the active grain map equal to \"grain_map_raw\" array ? {np.all(grain_map_raw == micro.get_grain_map())}\\n')\n",
    "\n",
    "# let us change again the grain map and redo the test\n",
    "micro.set_active_grain_map('grain_map')\n",
    "print(f'Is the active grain map equal to \"grain_map\" array ? {np.all(grain_map == micro.get_grain_map())}')\n",
    "print(f'Is the active grain map equal to \"grain_map_raw\" array ? {np.all(grain_map_raw == micro.get_grain_map())}')\n"
   ]
  },
  {
   "cell_type": "markdown",
   "id": "3d7742b1",
   "metadata": {},
   "source": [
    "<div class=\"alert alert-info\">\n",
    "\n",
    "**Note** \n",
    "    \n",
    "Note that the same mechanism will be implemented soon for the phase map field.\n",
    "\n",
    "\n",
    "</div>"
   ]
  },
  {
   "cell_type": "markdown",
   "id": "b6e336fc",
   "metadata": {},
   "source": [
    "#### Visualize sample microstructure image: View Slice method"
   ]
  },
  {
   "cell_type": "markdown",
   "id": "b0c449b4",
   "metadata": {},
   "source": [
    "These three arrays, as *Field data items* of the *CellData* group can be visualized by opening the HDF5 dataset file with the Paraview software, as the `Microstructure` class inherits this feature from `SampleData`. In addition, the `Microstructure` class provides a visualization method to plot a slice of the microstructure (hence the whole image if it is a 2D microstructure) using the `grain_map` and `mask` arrays.\n",
    "\n",
    "This method is the `view_slice_method`. It has many input arguments, but can be called without any one. In that, you should obtain an output like this: \n",
    "\n",
    "<img src=\"./Images/Tutorial_7/Slice1.png\" width=\"40%\">\n",
    "\n",
    "If you are executing interactively this Notebook, you may try to reproduce this figure by setting the `display` option to `True` in the following line:"
   ]
  },
  {
   "cell_type": "code",
   "execution_count": null,
   "id": "72f62694",
   "metadata": {},
   "outputs": [],
   "source": [
    "micro.view_slice(display=False)"
   ]
  },
  {
   "cell_type": "markdown",
   "id": "4bd346ac",
   "metadata": {},
   "source": [
    "When no argument is provided, the method plots the middle (X,Y)-wise slice of the sample grain map, with a random color map for the grain ids, and shows the mask on the foreground in transparency mode. Here the mask cannot be actually seen as it is uniform on the slice. \n",
    "\n",
    "Let us plot a slice of an other example dataset that allows to see the mask: "
   ]
  },
  {
   "cell_type": "code",
   "execution_count": null,
   "id": "d683a54b",
   "metadata": {},
   "outputs": [],
   "source": [
    "micro2 = Microstructure(filename=os.path.join(PYMICRO_EXAMPLES_DATA_DIR,'t5_dct_slice_data.h5'))\n",
    "micro2.view_slice(display=False) # change display to True to try to reproduce the figure below \n",
    "del micro2"
   ]
  },
  {
   "cell_type": "markdown",
   "id": "6004ba0a",
   "metadata": {},
   "source": [
    "You should get a figure like this one:\n",
    "\n",
    "<img src=\"./Images/Tutorial_7/Slice2.png\" width=\"40%\">\n",
    "\n",
    "The mask shows two regions, a black region representing the outside of the sample, and a red region, representing the sample geometry. The grain map appear below this transparent mask color layer."
   ]
  },
  {
   "cell_type": "markdown",
   "id": "251b9e2a",
   "metadata": {},
   "source": [
    "The `view_slice` method has many optional arguments. The most important are:\n",
    "\n",
    "* `slice`: this argument allows you to choose the index of the slice that is plotted. The default value is the middle slice.\n",
    "* `color`: allows you to chose the color map used to plot the grains. `random` is the default value, alternatives are `grain_ids`, `ipf` (inverse pole figure coloring) and `schmid` (plot intensity of grain maximal schmid factor for the load direction specified by the `axis` argument, and for the slip system object provided in the `slip_system` argument)\n",
    "* `show_mask`: set to *False* if you do not want to plot the mask \n",
    "* `show_grain_ids`: set to *True* to annotate the grains with their ID number \n",
    "* `show_slip_traces`: set to *True* to annotate the grains with the trace of a slip plane (provided as a slip system object to the `hkl_planes` argument)\n",
    "* `display`: is set to *False*, the image is not plotted. The matplotlib figure and axis created are returned anyway by the method.\n",
    "\n",
    "You will find below two examples. If you are reading through the Notebook version of the documentation, you may try to change the value of these arguments to experiment the various possibilities offered by the `view_slice` method."
   ]
  },
  {
   "cell_type": "code",
   "execution_count": null,
   "id": "e3b9b7b7",
   "metadata": {},
   "outputs": [],
   "source": [
    "import matplotlib.pyplot as plt"
   ]
  },
  {
   "cell_type": "code",
   "execution_count": null,
   "id": "a3cf1208",
   "metadata": {},
   "outputs": [],
   "source": [
    "# set display to True to try reproducing the figure below !\n",
    "micro.view_slice(slice=15, color='grain_ids', show_grain_ids=True, highlight_ids=[98,953,1019,1335,1534,1560,1905],\n",
    "                           display=False)"
   ]
  },
  {
   "cell_type": "markdown",
   "id": "551d6952",
   "metadata": {},
   "source": [
    "You should get:\n",
    "\n",
    "<img src=\"./Images/Tutorial_7/Slice3.png\" width=\"40%\">"
   ]
  },
  {
   "cell_type": "code",
   "execution_count": null,
   "id": "8255acd1",
   "metadata": {},
   "outputs": [],
   "source": [
    "# get one basal slip system to compute its schmid factors and plot them on the slice\n",
    "from pymicro.crystal.lattice import SlipSystem\n",
    "lattice = micro.get_phase().get_lattice()\n",
    "slip_system = lattice.get_slip_systems('basal')[1]\n",
    "\n",
    "# plot slice with schmid factor colormap\n",
    "# set display to True to try reproducing the figure below !\n",
    "micro.view_slice(slice=15, color='schmid', slip_system=slip_system, display=False)"
   ]
  },
  {
   "cell_type": "markdown",
   "id": "d6aba7cf",
   "metadata": {},
   "source": [
    "You should get:\n",
    "\n",
    "<img src=\"./Images/Tutorial_7/Slice4.png\" width=\"40%\">"
   ]
  },
  {
   "cell_type": "code",
   "execution_count": null,
   "id": "09996df6",
   "metadata": {},
   "outputs": [],
   "source": [
    "# Get two slip planes (basal and one prismatic) to plot slip plane traces on the selected grains, \n",
    "# coloured with inverse pole figure color map\n",
    "plane_list = []\n",
    "\n",
    "slip_system = lattice.get_slip_systems('basal')[0]\n",
    "plane_list.append(slip_system.get_slip_plane())\n",
    "slip_system = lattice.get_slip_systems('prism')[1]\n",
    "plane_list.append(slip_system.get_slip_plane())\n",
    "# set display to True to try reproducing the figure below !\n",
    "micro.view_slice(slice=15, color='ipf', slip_system=slip_system, show_slip_traces=True, display=False, \n",
    "                hkl_planes=plane_list, highlight_ids=[98,953,1019,1335,1534,1560,1905])\n",
    "print(plane_list)"
   ]
  },
  {
   "cell_type": "markdown",
   "id": "cba84e1a",
   "metadata": {},
   "source": [
    "You should get:\n",
    "\n",
    "<img src=\"./Images/Tutorial_7/Slice5.png\" width=\"40%\">"
   ]
  },
  {
   "cell_type": "markdown",
   "id": "1fa21bec",
   "metadata": {},
   "source": [
    "### The GrainData Group"
   ]
  },
  {
   "cell_type": "markdown",
   "id": "d6f34454",
   "metadata": {},
   "source": [
    "#### Group aim and content\n",
    "\n",
    "We will move now to the description of the `GrainData` group. As you can see, it is a classical HDF5 *Group*. **The `GrainData` group is aimed at storing statistical data describing the sample grains.** In the data model as well as in the example dataset, this Group has contains only one data item, the **GrainDataTable**.\n",
    "\n",
    "The **GrainDataTable** is a structured array that contains the statistical data describing the grains. Its description in the *Pymicro* code is:\n",
    "\n",
    "```python\n",
    "class GrainData(tables.IsDescription):\n",
    "    \"\"\"\n",
    "       Description class specifying structured storage of grain data in\n",
    "       Microstructure Class, in HDF5 node /GrainData/GrainDataTable\n",
    "    \"\"\"\n",
    "    # grain identity number\n",
    "    idnumber = tables.Int32Col()  # Signed 32-bit integer\n",
    "    # grain volume\n",
    "    volume = tables.Float32Col()  # float\n",
    "    # grain center of mass coordinates\n",
    "    center = tables.Float32Col(shape=(3,))  # float  (double-precision)\n",
    "    # Rodrigues vector defining grain orientation\n",
    "    orientation = tables.Float32Col(shape=(3,))  # float  (double-precision)\n",
    "    # Grain Bounding box\n",
    "    bounding_box = tables.Int32Col(shape=(3, 2))  # Signed 64-bit integer\n",
    "```\n",
    "\n",
    "As you can see, each row contains:\n",
    "\n",
    "* the identity number of the grain\n",
    "* two columns describing the grain geometry: grain volume, position of grain center of mass\n",
    "* the orientation of the grain provided as a **Rodrigues** vector\n",
    "* the indices of the grain bounding box in the `CellData` image field arrays"
   ]
  },
  {
   "cell_type": "markdown",
   "id": "2ec9863c",
   "metadata": {},
   "source": [
    "#### Getting information on grains from Grain Data Table\n",
    "\n",
    "Like for the *CellData* group items, you can retrieve the *GrainDataTable* columns value as shown in the previous tutorials (`get_node`, attribute or dict like access). You can also use the `Microstructure` class dedicated methods, used just below:"
   ]
  },
  {
   "cell_type": "code",
   "execution_count": null,
   "id": "db3830bd",
   "metadata": {},
   "outputs": [],
   "source": [
    "# retrieve table as numpy structured array with dictionary like access\n",
    "GrainDataTable = micro['GrainDataTable']\n",
    "\n",
    "# get table columns from class methods and compare to numpy array\n",
    "grain_ids = micro.get_grain_ids()\n",
    "print(f'grain ids equal ? {np.all(grain_ids == GrainDataTable[\"idnumber\"])}')\n",
    "grain_centers = micro.get_grain_centers()\n",
    "print(f'grain centers equal ? {np.all(grain_centers == GrainDataTable[\"center\"])}')\n",
    "grain_volumes = micro.get_grain_volumes()\n",
    "print(f'grain volumes equal ? {np.all(grain_volumes == GrainDataTable[\"volume\"])}')\n",
    "grain_bboxes = micro.get_grain_bounding_boxes()\n",
    "print(f'grain bounding boxes equal ? {np.all(grain_bboxes == GrainDataTable[\"bounding_box\"])}')\n",
    "grain_rodrigues = micro.get_grain_rodrigues()\n",
    "print(f'grain orientations equal ? {np.all(grain_rodrigues == GrainDataTable[\"orientation\"])}')"
   ]
  },
  {
   "cell_type": "markdown",
   "id": "dd57b0ff",
   "metadata": {},
   "source": [
    "Other methods to get specific grain data are also available in the class interface:"
   ]
  },
  {
   "cell_type": "code",
   "execution_count": null,
   "id": "008b2b34",
   "metadata": {},
   "outputs": [],
   "source": [
    "centers = micro.get_grain_positions()\n",
    "print(f'The position of the 10 first grain centers of mass are:\\n {centers[:10]}\\n')\n",
    "\n",
    "volume_fractions = micro.get_grain_volume_fractions()\n",
    "print(f'The 10 first grain volume fractions are:\\n {volume_fractions[:10]}\\n')\n",
    "\n",
    "volume_fr = micro.get_grain_volume_fraction(1335)\n",
    "print(f'Volume fraction of grain 1335 is {volume_fr*100}%')"
   ]
  },
  {
   "cell_type": "markdown",
   "id": "c34b5140",
   "metadata": {},
   "source": [
    "#### Getting grain objects\n",
    "\n",
    "*Pymicro* also has *Grain* objects that are specific containers equivalent to a row of the dataset *GrainDataTable*. You can get them with the following methods: "
   ]
  },
  {
   "cell_type": "code",
   "execution_count": null,
   "id": "214c103a",
   "metadata": {},
   "outputs": [],
   "source": [
    "# get the grain object of a specific grain\n",
    "grain = micro.get_grain(1335)\n",
    "print(f'Grain 1335 grain object:\\n {grain}')\n",
    "\n",
    "Schmid = grain.schmid_factor(lattice.get_slip_systems('basal')[0]) \n",
    "print(f'Schmid factor of grain {grain.id} for first basal slip system is {Schmid}')"
   ]
  },
  {
   "cell_type": "code",
   "execution_count": null,
   "id": "6cfe99fe",
   "metadata": {},
   "outputs": [],
   "source": [
    "# get a list of all grain objects in the microstructure\n",
    "grains_list = micro.get_all_grains()\n",
    "print(f'First 2 grain objects of the microstructure:\\n {grains_list[:2]}')"
   ]
  },
  {
   "cell_type": "markdown",
   "id": "424b231c",
   "metadata": {},
   "source": [
    "#### The grains class attribute\n",
    "\n",
    "The `Microstructure.grains` attribute is, as mentioned earlier, an alias for the *Pytables* node associated to the *GrainDataTable* data item. As such, it allows to manipulate and interact with the *GrainDataTable* content directly in the dataset. \n",
    "\n",
    "You can use this attribute to access grain data just like you would manipulate a *Numpy* structured array: "
   ]
  },
  {
   "cell_type": "code",
   "execution_count": null,
   "id": "154e4b65",
   "metadata": {},
   "outputs": [],
   "source": [
    "print(micro.grains[0]['center'],'\\n')\n",
    "print(micro.grains[4:10]['orientation'])"
   ]
  },
  {
   "cell_type": "markdown",
   "id": "3935b5c3",
   "metadata": {},
   "source": [
    "This attribute can also be iterated:"
   ]
  },
  {
   "cell_type": "code",
   "execution_count": null,
   "id": "719b93a6",
   "metadata": {},
   "outputs": [],
   "source": [
    "# iterate through grains with ID number below 100\n",
    "for g in micro.grains:\n",
    "    if g[\"idnumber\"] > 100:\n",
    "        break\n",
    "    print(f'Grain {g[\"idnumber\"]} center of mass is located at {g[\"center\"]}')"
   ]
  },
  {
   "cell_type": "markdown",
   "id": "1d832d3a",
   "metadata": {},
   "source": [
    "### The MeshData Group "
   ]
  },
  {
   "cell_type": "markdown",
   "id": "8671b6d0",
   "metadata": {},
   "source": [
    "**The `MeshData` group is aimed at storing descriptions of the polycristalline microstructure of the sample, in the form of a mesh.** In the present dataset, this group is used as a container group for a *Mesh Group*, `grains_mesh`. Mesh support has not yet been developped for *Pymicro* `Microstructure` class, and hence the data model of this group is for now empty.  "
   ]
  },
  {
   "cell_type": "markdown",
   "id": "72783ef9",
   "metadata": {},
   "source": [
    "### Additional data items"
   ]
  },
  {
   "cell_type": "markdown",
   "id": "8acf5347",
   "metadata": {},
   "source": [
    "As you can see above, the example dataset also contains data items that are not defined in the data model of the `Microstructure` class (the `Amitex_Results` *Group*, several fields of the `CellData` image...). Obviously, as a *SampleData* children class, with *Microstructure* class, you may add any additional data item to your datasets, as you would with *SampleData* datasets."
   ]
  },
  {
   "cell_type": "markdown",
   "id": "272496c4",
   "metadata": {},
   "source": [
    "This concludes the presentation of the `Microstructure` class data model and data access."
   ]
  },
  {
   "cell_type": "markdown",
   "id": "81aaf785",
   "metadata": {},
   "source": [
    "## Creating and setting Microstructures"
   ]
  },
  {
   "cell_type": "markdown",
   "id": "47b489e2",
   "metadata": {},
   "source": [
    "Now that the class data model has been presented, we will now introduce how to create and fill *Microstructure* objects.\n",
    "\n",
    "There are three ways to create a *Microstructure* dataset:\n",
    "\n",
    "1. Creating an empty microstructure dataset \n",
    "2. Copying an existing microstructure dataset, or a croped version of this microstructure\n",
    "3. Create a Microstructure object from a compatible data file contaning microstructure data. These files can be outputs of imaging techniques (reconstruction of DCT or EBSD scans for instance) or microstructure generation tools (such as Neper)\n",
    "\n",
    "The third point will be the subject of detailed and specific Notebook. The first will be presented further in the tutorial to build a full microstructure dataset. Hence, we will start by presenting how a *Microstructure* object/dataset can be created from an already existing one. "
   ]
  },
  {
   "cell_type": "markdown",
   "id": "0755ca78",
   "metadata": {},
   "source": [
    "### From an existing Microstructure"
   ]
  },
  {
   "cell_type": "markdown",
   "id": "21aca867",
   "metadata": {},
   "source": [
    "#### Copy an existing Microstructure"
   ]
  },
  {
   "cell_type": "markdown",
   "id": "5ac40993",
   "metadata": {},
   "source": [
    "As for *SampleData* datasets, *Microstructure* datasets can be copied from already existing one, using the `copy_sample` method:"
   ]
  },
  {
   "cell_type": "code",
   "execution_count": null,
   "id": "257159b8",
   "metadata": {},
   "outputs": [],
   "source": [
    "original_file = os.path.join(PYMICRO_EXAMPLES_DATA_DIR,'t5_dct_slice_data.h5')\n",
    "micro_copy = Microstructure.copy_sample(src_micro_file=original_file, dst_micro_file='micro_copy',\n",
    "                                       get_object=True, autodelete=True, overwrite=True)\n",
    "print(micro_copy)\n",
    "del micro_copy"
   ]
  },
  {
   "cell_type": "markdown",
   "id": "00b516cc",
   "metadata": {},
   "source": [
    "#### Crop an existing Microstructure"
   ]
  },
  {
   "cell_type": "markdown",
   "id": "231f8943",
   "metadata": {},
   "source": [
    "Sometimes, it may be desirable not to copy a complete microstructure, but only a specific region of it to build a dataset dedicated to this region. For that, you may use the `crop` method of the Microstructure class, that return a new microstructure object. \n",
    "\n",
    "The method:\n",
    "\n",
    "* creates a new Microstructure dataset, with the same name plus the suffix `_crop`, or the name specified by the optional argument `crop_name`\n",
    "* crops all fields of the `CellData` group of the original Microstructure, by extracting the subregion indicated by the `x_start, x_end, y_start, y_end, z_start, z_end` arguments (bounds indices of the cropped region). Then, it adds them to the `CellData` group of the new Microstructure.\n",
    "* fills the *GrainDataTable* of the new microstructure with only the grains contained in the cropped region, and recomputes the grains geometric data for the new grain map, unless argument `recompute_geometry` is set to `False`.\n",
    "\n",
    "Like the `copy_sample` method, the `crop` method also has an `autodelete` optional argument that sets the autodelete mode of the cropped microstructure instance.\n",
    "\n",
    "Let us try to crop a small region of our example microstructure dataset:"
   ]
  },
  {
   "cell_type": "code",
   "execution_count": null,
   "id": "04c5de8c",
   "metadata": {},
   "outputs": [],
   "source": [
    "micro_crop = micro.crop(x_start=30, x_end=70, y_start=30, y_end=70, z_start=30, z_end=70, crop_name='test_crop',\n",
    "                       autodelete=True)\n",
    "micro_crop.print_dataset_content(short=True)\n",
    "micro_crop.view_slice(display=False) # set to True to try reproducing the figure below !"
   ]
  },
  {
   "cell_type": "markdown",
   "id": "7d7ef00f",
   "metadata": {},
   "source": [
    "You should get:\n",
    "\n",
    "<img src=\"./Images/Tutorial_7/Slice6.png\" width=\"40%\">"
   ]
  },
  {
   "cell_type": "markdown",
   "id": "19837498",
   "metadata": {},
   "source": [
    "You can observe that the data that was not in the `CellData` group nor in the class data model in the original file has not been added to the cropped Microstructure (the `AmitexResults` Group for instance)."
   ]
  },
  {
   "cell_type": "markdown",
   "id": "73e9cf0f",
   "metadata": {},
   "source": [
    "         \n",
    "<div class=\"alert alert-warning\">\n",
    "\n",
    "**Warning** \n",
    "    \n",
    "Cropping a microstructure can be long if the original microstructure is heavy and has a lot a fields for the `CellData` group. If you only want to crop some of these fields, you may want to create a new microstructure, add to its `CellData` group only the fields you want to crop, and then create your crop from this new instance.\n",
    "\n",
    "</div>"
   ]
  },
  {
   "cell_type": "markdown",
   "id": "8c0a382b",
   "metadata": {},
   "source": [
    "### Creating and filling an Empty Microstructure"
   ]
  },
  {
   "cell_type": "markdown",
   "id": "4c34fbad",
   "metadata": {},
   "source": [
    "We will now see how to create from scratch a complete Microstructure dataset. As an exercise for this tutorial, we will attempt to recreate the cropped microstructure that has been created in the cell just above.\n",
    "\n",
    "For that, we first need to create an empty *Microstructure* object. The *Microstructure* class can be used as the *SampleData* class constructor ([see here](./1_Getting_Information_from_SampleData_datasets.ipynb)):"
   ]
  },
  {
   "cell_type": "code",
   "execution_count": null,
   "id": "5ec30174",
   "metadata": {},
   "outputs": [],
   "source": [
    "micro2 = Microstructure(filename='Crop_remake.h5', overwrite_hdf5=True, autodelete=True)\n",
    "print(micro2)"
   ]
  },
  {
   "cell_type": "code",
   "execution_count": null,
   "id": "29d8dd77",
   "metadata": {},
   "outputs": [],
   "source": [
    "print(micro2.GrainDataTable)"
   ]
  },
  {
   "cell_type": "markdown",
   "id": "5d6b8b82",
   "metadata": {},
   "source": [
    "The new microstructure has been created, with the complete class data model filled with empty data items. We will now fill it with data corresponding to the cropped region in the previous subsection."
   ]
  },
  {
   "cell_type": "markdown",
   "id": "fa406e84",
   "metadata": {},
   "source": [
    "### Setting CellData items"
   ]
  },
  {
   "cell_type": "markdown",
   "id": "60bf4dd3",
   "metadata": {},
   "source": [
    "As an *Image Group*, you can add fields to the `CellData` with the *SampleData* method `add_field`. In the specific case of the `Microstructure` class, you can use specific methods to set the value of the fields that are part of the class data model: `set_mask` , `set_grain_map` and `set_phase_map`.\n",
    "\n",
    "We are trying to recreate a cropped microstructure with a uniform mask and no phase map. We need to create the appropriate grain map and mask arrays to set their value in the dataset:"
   ]
  },
  {
   "cell_type": "code",
   "execution_count": null,
   "id": "4d6018c8",
   "metadata": {},
   "outputs": [],
   "source": [
    "# Crop manually the original grain map\n",
    "grain_map_original = micro.get_grain_map()\n",
    "grain_map_crop = grain_map_original[30:70,30:70,30:70]\n",
    "\n",
    "# Create a mask array full of ones with appropriate shape\n",
    "mask_crop = np.ones_like(grain_map_crop)"
   ]
  },
  {
   "cell_type": "markdown",
   "id": "56cf99b2",
   "metadata": {},
   "source": [
    "Now that we have created our arrays, we can set the `CellData` fields. **Note that when you add the first CellData field, you have to specify a pixel/voxel size to set the scale of the image**. "
   ]
  },
  {
   "cell_type": "code",
   "execution_count": null,
   "id": "3bc2b13d",
   "metadata": {},
   "outputs": [],
   "source": [
    "# retrieve voxel size of original microstructure\n",
    "voxel_size = micro.get_voxel_size()\n",
    "\n",
    "# set the grain map of our new microstructure\n",
    "micro2.set_grain_map(grain_map_crop, voxel_size)\n",
    "\n",
    "# set the mask\n",
    "micro2.set_mask(mask_crop)\n",
    "\n",
    "# visualize slice of added arrays\n",
    "micro2.view_slice(display=False) # set to True to try reproducing the figure below !"
   ]
  },
  {
   "cell_type": "markdown",
   "id": "f4840a39",
   "metadata": {},
   "source": [
    "You should get:\n",
    "\n",
    "<img src=\"./Images/Tutorial_7/Slice6.png\" width=\"40%\">"
   ]
  },
  {
   "cell_type": "markdown",
   "id": "95d6bde1",
   "metadata": {},
   "source": [
    "To add the other fields that were part of the original microstructure Image Group, we have to go back to *SampleData* methods:"
   ]
  },
  {
   "cell_type": "code",
   "execution_count": null,
   "id": "b7129346",
   "metadata": {},
   "outputs": [],
   "source": [
    "uncertainty_map_crop = micro['uncertainty_map'][30:70,30:70,30:70]\n",
    "micro2.add_field(gridname='CellData', fieldname='uncertainty_map', array=uncertainty_map_crop)\n",
    "\n",
    "uncertainty_map_crop = micro['grain_map_raw'][30:70,30:70,30:70]\n",
    "micro2.add_field(gridname='CellData', fieldname='grain_map_raw', array=uncertainty_map_crop)\n",
    "\n",
    "micro2.print_group_content('CellData', short=True)"
   ]
  },
  {
   "cell_type": "markdown",
   "id": "c3bb79b3",
   "metadata": {},
   "source": [
    "### Setting the phase"
   ]
  },
  {
   "cell_type": "markdown",
   "id": "80bd63dc",
   "metadata": {},
   "source": [
    "Likewise, we can take advantage of the `get_phase` and `set_phase` methods to transfer the phase data from the original dataset to our new one. The `set_phase` method takes as argument a *pymicro* *CrystallinePhase* object. These object contain an identification number for the phase. If a phase with same number already exists in the dataset, it is overwritten by the inputted one.\n",
    "\n",
    "Let us add phase data to our dataset:"
   ]
  },
  {
   "cell_type": "code",
   "execution_count": null,
   "id": "8c40c843",
   "metadata": {},
   "outputs": [],
   "source": [
    "phase = micro.get_phase(1)\n",
    "print(phase)\n",
    "\n",
    "micro2.set_phase(phase)\n",
    "print(micro2.get_phase_ids_list())\n",
    "print(micro2.get_phase(1))"
   ]
  },
  {
   "cell_type": "markdown",
   "id": "fb6d5156",
   "metadata": {},
   "source": [
    "Note that phases can also be added with the `set_phases` method, that takes as input a list of *pymicro* *CrystallinePhase* objects. You can also use the `add_phase` method, that adds a *CrystallinePhase* object to the dataset with the next available phase identification number of the microstructure."
   ]
  },
  {
   "cell_type": "markdown",
   "id": "3eb033f7",
   "metadata": {},
   "source": [
    "### Setting the GrainDataTable"
   ]
  },
  {
   "cell_type": "markdown",
   "id": "f3d84024",
   "metadata": {},
   "source": [
    "The *Microstructure* class offers several ways to fill the GrainDataTable, that are successively reviewed in this subsection."
   ]
  },
  {
   "cell_type": "markdown",
   "id": "a824cb5f",
   "metadata": {},
   "source": [
    "#### From the grain map"
   ]
  },
  {
   "cell_type": "markdown",
   "id": "a5b51e9b",
   "metadata": {},
   "source": [
    "As detailed earlier, the *GrainDataTable* contains data describing the grains position and morphology. These values can be computed from the grain map, that provides the full geometry of each grain. Specific methods of the `Microstucture` class allow to compute those values and automatically fill the *GrainDataTable* with them. They are:\n",
    "\n",
    "* `recompute_grain_centers`: computes and fills the `center` column of the *GrainDataTable* from the grains geometry in grain map\n",
    "* `recompute_grain_volumes`: computes and fills the `volume` column of the *GrainDataTable* from the grains geometry in grain map\n",
    "* `recompute_grain_bounding_boxes`: computes and fills the `bounding_box` column of the *GrainDataTable* from the grains geometry in grain map\n",
    "\n",
    "If you need to call them all, you can do it at once with the `build_grain_table_from_grain_map`, that will first synchronize the grain ids that are in the *grain map* and the *GrainDataTable*, and then call the 3 previous methods to fill the geometric grain data in the table. We will use for our tutorial exercise:"
   ]
  },
  {
   "cell_type": "code",
   "execution_count": null,
   "id": "ec9b6a21",
   "metadata": {},
   "outputs": [],
   "source": [
    "micro2.build_grain_table_from_grain_map()\n",
    "print(micro2.GrainDataTable)"
   ]
  },
  {
   "cell_type": "markdown",
   "id": "7548c810",
   "metadata": {},
   "source": [
    "The table has been updated with the geometric data of 9 grains, the grain identity number. **You can also see that the method has added a random orientation to each grain.** If you want to avoid this, you may use instead the `compute_grains_geometry` method, that do not generates random orientations for the grains but fills orientation with zeros."
   ]
  },
  {
   "cell_type": "markdown",
   "id": "0db8590c",
   "metadata": {},
   "source": [
    "#### From data arrays"
   ]
  },
  {
   "cell_type": "markdown",
   "id": "ac507524",
   "metadata": {},
   "source": [
    "So, at this point, our *GrainDataTable* has its geometric values in accordance with the grain map, but wrong grain orientations, that have been randomly generated. We can however get the correct grain orientations from the original example microstructure dataset, with the `get_grain_rodrigues` method: "
   ]
  },
  {
   "cell_type": "code",
   "execution_count": null,
   "id": "58daa6a5",
   "metadata": {},
   "outputs": [],
   "source": [
    "# get the list of grain ids of the new microstructure\n",
    "new_ids = micro2.get_grain_ids().tolist()\n",
    "\n",
    "# get the orientations of this list of grains\n",
    "orientations = micro.get_grain_rodrigues(new_ids)"
   ]
  },
  {
   "cell_type": "code",
   "execution_count": null,
   "id": "4d140e6c",
   "metadata": {},
   "outputs": [],
   "source": [
    "print(orientations)"
   ]
  },
  {
   "cell_type": "markdown",
   "id": "380f6f93",
   "metadata": {},
   "source": [
    "Now, we can use the `set_orientations` method to add this information to our data table:"
   ]
  },
  {
   "cell_type": "code",
   "execution_count": null,
   "id": "3964f034",
   "metadata": {},
   "outputs": [],
   "source": [
    "micro2.set_orientations(orientations)\n",
    "\n",
    "print(micro2.GrainDataTable['orientation'])"
   ]
  },
  {
   "cell_type": "markdown",
   "id": "679b605a",
   "metadata": {},
   "source": [
    "Similar methods exist for the rest of the data in the table: \n",
    "\n",
    "* `set_centers`\n",
    "* `set_bounding_boxes`\n",
    "* `set_volumes`"
   ]
  },
  {
   "cell_type": "markdown",
   "id": "ff22d667",
   "metadata": {},
   "source": [
    "#### Getting/Setting data for/from a specific grain"
   ]
  },
  {
   "cell_type": "markdown",
   "id": "457a9fbc",
   "metadata": {},
   "source": [
    "To get information from a specific grain, you use the *GrainDataTable* as a standard *Numpy* structured array:"
   ]
  },
  {
   "cell_type": "code",
   "execution_count": null,
   "id": "a819f720",
   "metadata": {},
   "outputs": [],
   "source": [
    "grain_index = np.where(micro2.GrainDataTable['idnumber'] == 485)\n",
    "print(f'Grain 485 center is {micro2.GrainDataTable[grain_index][\"center\"]}')\n",
    "print(f'Grain 485 volume is {micro2.GrainDataTable[grain_index][\"volume\"]}')"
   ]
  },
  {
   "cell_type": "markdown",
   "id": "ccaf5273",
   "metadata": {},
   "source": [
    "But you can also iterate the `grains` attribute of the class. By doing this, you will get at each iteration a *Pytables Row* object representing a row of data in the table, *i.e.* a grain. You can access its values exactly as if it was a Numpy structured array: "
   ]
  },
  {
   "cell_type": "code",
   "execution_count": null,
   "id": "1d29ac78",
   "metadata": {},
   "outputs": [],
   "source": [
    "for g in micro2.grains:\n",
    "    if g['idnumber'] == 485:\n",
    "        print(f'Grain 485 center is {g[\"center\"]}')\n",
    "        print(f'Grain 485 volume is {g[\"volume\"]}')"
   ]
  },
  {
   "cell_type": "markdown",
   "id": "1d5e4e53",
   "metadata": {},
   "source": [
    "You can also use this process to set specifically some values for one grain. You can iterate the table to find your grain object, set one of its values as if it was a *Numpy* structured array. Then you have to use the specific `update` method of the *Pytables Row* class to set the value in the dataset, as follows:"
   ]
  },
  {
   "cell_type": "code",
   "execution_count": null,
   "id": "f8939af0",
   "metadata": {},
   "outputs": [],
   "source": [
    "# get old orientation value \n",
    "grain_orientation = micro2.GrainDataTable[grain_index]['orientation']\n",
    "print(f'The orientation of the grain is {micro2.GrainDataTable[grain_index][\"orientation\"]}')\n",
    "\n",
    "# iterate to find the grain and set its orientation to a random value \n",
    "for g in micro2.grains:\n",
    "    if g['idnumber'] == 485:\n",
    "        g['orientation'] = np.random.rand(3)\n",
    "        g.update()\n",
    "print(f'The new orientation of the grain is {micro2.GrainDataTable[grain_index][\"orientation\"]}')\n",
    "\n",
    "# Set back the original value of the orientation \n",
    "for g in micro2.grains:\n",
    "    if g['idnumber'] == 485:\n",
    "        g['orientation'] = grain_orientation\n",
    "        g.update()\n",
    "\n",
    "print(f'The orientation of the grain is back at {micro2.GrainDataTable[grain_index][\"orientation\"]}')"
   ]
  },
  {
   "cell_type": "markdown",
   "id": "e33194d2",
   "metadata": {},
   "source": [
    "Obviously, you can use the same method to get/set other columns of the table (centers, bounding boxes...)"
   ]
  },
  {
   "cell_type": "markdown",
   "id": "20821759",
   "metadata": {},
   "source": [
    "****\n",
    "\n",
    "**We have now completed this introduction to the Microstructure class. More advanced features of the class are already implemented in the code, and many more will be in the next years. Specific tutorial Notebooks about this features will be released in the future, as well as examples presented in the documentation Cookbook.** \n",
    "\n",
    "We can now close our datasets, and remove the original unarchived file:"
   ]
  },
  {
   "cell_type": "code",
   "execution_count": null,
   "id": "f4748842",
   "metadata": {},
   "outputs": [],
   "source": [
    "# remove SampleData instance\n",
    "del micro2\n",
    "del micro"
   ]
  },
  {
   "cell_type": "code",
   "execution_count": null,
   "id": "0bef0cd2",
   "metadata": {},
   "outputs": [],
   "source": [
    "os.remove(dataset_file+'.h5')\n",
    "os.remove(dataset_file+'.xdmf')"
   ]
  }
 ],
 "metadata": {
  "kernelspec": {
   "display_name": "py3bI",
   "language": "python",
   "name": "py3bi"
  },
  "language_info": {
   "codemirror_mode": {
    "name": "ipython",
    "version": 3
   },
   "file_extension": ".py",
   "mimetype": "text/x-python",
   "name": "python",
   "nbconvert_exporter": "python",
   "pygments_lexer": "ipython3",
   "version": "3.7.8"
  }
 },
 "nbformat": 4,
 "nbformat_minor": 5
}
