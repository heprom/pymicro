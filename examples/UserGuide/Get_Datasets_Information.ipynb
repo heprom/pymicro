{
 "cells": [
  {
   "cell_type": "markdown",
   "metadata": {},
   "source": [
    "# Getting Information on Datasets"
   ]
  },
  {
   "cell_type": "markdown",
   "metadata": {},
   "source": [
    "This second User Guide tutorial will introduce you to getting information on Pymicro's datasets, and how to visualize datasets content. You will find a short summary of all methods reviewed in this tutorial at the end of this page. \n",
    "\n",
    "<div class=\"alert alert-warning\">\n",
    "\n",
    "**Warning** \n",
    "    \n",
    "This Notebook review the methods to get information on SampleData HDF5 datsets content. Some of the methods detailed here produce very long outputs, that have been conserved in the documentation version. Reading completely the content of this output is absolutely not necessary to learn what is detailed on this page, they are just provided here as examples. So do not be afraid free to scroll down quickly when you see large prints !\n",
    "</div>"
   ]
  },
  {
   "cell_type": "code",
   "execution_count": 2,
   "metadata": {},
   "outputs": [],
   "source": [
    "from pymicro.core.samples import SampleData as SD"
   ]
  },
  {
   "cell_type": "markdown",
   "metadata": {},
   "source": [
    "## I - The SampleData Naming system "
   ]
  },
  {
   "cell_type": "markdown",
   "metadata": {},
   "source": [
    "SampleData datasets are composed of a set of organized data items. When handling datasets, you will need to specify which item you want to interact with or create. The `SampleData` class provides 4 different ways to refer to datasets. The first type of data item identificator is :\n",
    "\n",
    "1. the **Path** of the data item in the HDF5 file. \n",
    "\n",
    "Like a file within a filesystem has a path, HDF5 data items have a Path within the dataset. Each data item is the children of a HDF5 Group (analogous to a file contained in a directory), and each Group  may also be children of a Group (analogous to a directory contained in a directory). The origin directory, that we already encountered above, is called the *root* group, and has the path `'/'`. The Path offers a completely non-ambiguous way to designate a data item within the dataset, as it is unique. A typical path of a dataitem will look like that : `/Parent_Group1/Parent_Group2/ItemName`. However, pathes can become very long strings, and are usually not a convenient way to name data items. For that reason, you also can refer to them in `SampleData` methods using:\n",
    "\n",
    "2. the **Name** of the data item.\n",
    "\n",
    "It is the last element of its **Path**, that comes after the last `/` character. For a dataset that has the path `/Parent_Group1/Parent_Group2/ItemName`, the dataset Name is `ItemName`. It allows to refer quickly to the data item without writing its whole Path.\n",
    "\n",
    "However, note that two different datasets may have the same Name (but different pathes), and thus it may be necessary to use additional names to refer to them with no ambiguity without having to write their full path. In addition, it may be convenient to be able to use, in addition to its storage name, one or more additional and meaningfull names to designate a data item. For these reasons, two additional identificators can be used:\n",
    "\n",
    "3. the **Indexname** of the data item\n",
    "4. the **Alias** or aliases of the data item\n",
    "\n",
    "Those two types of indentificators are strings that can be used as additional data item **Names**. They play completely similar roles. The **Indexname** is also used in the dataset Index (see below), that gather the data item indexnames together with their pathes within the dataset. **All data items must have an Indexname**, that can be identical to their Name. If additionnal names are given to a dataset, they are stored as an **Alias**.\n",
    "\n",
    "Many `SampleData` methods have a `nodename` or `name` argument. Everytime you will encounter it, you may use one of the 4 identificators presented in this section, to provide the name of the dataset you want to create or interact with. Many examples will follow in the rest of this Notebook, and of this User Guide.\n",
    "\n",
    "Let us now move on to discover the methods that allow to explore the datasets content."
   ]
  },
  {
   "cell_type": "markdown",
   "metadata": {},
   "source": [
    "## II- Interactively get information on datasets content "
   ]
  },
  {
   "cell_type": "markdown",
   "metadata": {},
   "source": [
    "The goal of this section is to review the various way to get interactive information on your SampleData dataset (interactive in the sens that you can get them by executing SampleData class methods calls into a Python interpreter console).\n",
    "\n",
    "For this purpose, we will use a pre-existing dataset that already has some data stored, and look into its content. This dataset is a reference SampleData dataset used for the `core` package unit tests. "
   ]
  },
  {
   "cell_type": "code",
   "execution_count": 3,
   "metadata": {},
   "outputs": [],
   "source": [
    "from config import PYMICRO_EXAMPLES_DATA_DIR # import file directory path\n",
    "import os\n",
    "dataset_file = os.path.join(PYMICRO_EXAMPLES_DATA_DIR, 'test_sampledata_ref') # test dataset file path\n",
    "data = SD(filename=dataset_file)"
   ]
  },
  {
   "cell_type": "markdown",
   "metadata": {},
   "source": [
    "### 1- The Dataset Index"
   ]
  },
  {
   "cell_type": "markdown",
   "metadata": {},
   "source": [
    "As explained in the previous section, all data items have a **Path**, and an **Indexname**. The collection of **Indexname/Path** pairs forms the Index of the dataset. For each `SampleData` dataset, an `Index` Group is stored in the root Group, and the collection of those pairs is stored as attributes of this `Index` Group. Additionnaly, a class attribute `content_index` stores them as a dictionary in the clas instance, and allows to access them easily. The dictionary and the `Index` Group attributes are automatically synchronized by the class. \n",
    "\n",
    "Let us see if we can see the dictionary content:"
   ]
  },
  {
   "cell_type": "code",
   "execution_count": 4,
   "metadata": {},
   "outputs": [
    {
     "data": {
      "text/plain": [
       "{'array': '/test_group/test_array',\n",
       " 'group': '/test_group',\n",
       " 'image': '/test_image',\n",
       " 'image_Field_index': '/test_image/Field_index',\n",
       " 'mesh': '/test_mesh',\n",
       " 'mesh_ElTagsList': '/test_mesh/Geometry/Elem_tags_list',\n",
       " 'mesh_ElTagsTypeList': '/test_mesh/Geometry/Elem_tag_type_list',\n",
       " 'mesh_ElemTags': '/test_mesh/Geometry/ElementsTags',\n",
       " 'mesh_Elements': '/test_mesh/Geometry/Elements',\n",
       " 'mesh_Field_index': '/test_mesh/Field_index',\n",
       " 'mesh_Geometry': '/test_mesh/Geometry',\n",
       " 'mesh_NodeTags': '/test_mesh/Geometry/NodeTags',\n",
       " 'mesh_NodeTagsList': '/test_mesh/Geometry/Node_tags_list',\n",
       " 'mesh_Nodes': '/test_mesh/Geometry/Nodes',\n",
       " 'mesh_Nodes_ID': '/test_mesh/Geometry/Nodes_ID',\n",
       " 'mesh_Test_field1': '/test_mesh/Test_field1',\n",
       " 'mesh_Test_field2': '/test_mesh/Test_field2',\n",
       " 'mesh_Test_field3': '/test_mesh/Test_field3',\n",
       " 'mesh_Test_field4': '/test_mesh/Test_field4',\n",
       " 'tensor9_T1_0': '/test_image/test_tensor_T1_0',\n",
       " 'tensor9_T2_0': '/test_image/test_tensor_T2_0',\n",
       " 'tensor9_T3_0': '/test_image/test_tensor_T3_0',\n",
       " 'test_image_field': '/test_image/test_image_field',\n",
       " 'test_table': '/test_group/test_table',\n",
       " 'vector_T1_0': '/test_mesh/test_vector_T1_0',\n",
       " 'vector_T2_0': '/test_mesh/test_vector_T2_0'}"
      ]
     },
     "execution_count": 4,
     "metadata": {},
     "output_type": "execute_result"
    }
   ],
   "source": [
    "data.content_index"
   ]
  },
  {
   "cell_type": "markdown",
   "metadata": {},
   "source": [
    "You should see the dictionary keys that are names of data items, and associated values, that are hdf5 pathes. You can see also data item Names at the end of their Pathes. The data item **aliases** are also stored in a dictionary, that is an attribute of the class, named `aliases`: "
   ]
  },
  {
   "cell_type": "code",
   "execution_count": 5,
   "metadata": {},
   "outputs": [
    {
     "data": {
      "text/plain": [
       "{}"
      ]
     },
     "execution_count": 5,
     "metadata": {},
     "output_type": "execute_result"
    }
   ],
   "source": [
    "data.aliases"
   ]
  },
  {
   "cell_type": "markdown",
   "metadata": {},
   "source": [
    "You can see that this dictionary contains keys only for data item that have additional names, and also that those keys are the data item indexnames.\n",
    "\n",
    "The dataset index can be plotted together with the aliases, with a prettier aspect, by calling the method `print_index`:"
   ]
  },
  {
   "cell_type": "code",
   "execution_count": 6,
   "metadata": {},
   "outputs": [
    {
     "name": "stdout",
     "output_type": "stream",
     "text": [
      "Dataset Content Index :\n",
      "------------------------:\n",
      "index printed with max depth `3` and under local root `/`\n",
      "\n",
      "\t Name : array                                     H5_Path : /test_group/test_array \t\n",
      "\t Name : group                                     H5_Path : /test_group \t\n",
      "\t Name : image                                     H5_Path : /test_image \t\n",
      "\t Name : image_Field_index                         H5_Path : /test_image/Field_index \t\n",
      "\t Name : mesh                                      H5_Path : /test_mesh \t\n",
      "\t Name : mesh_ElTagsList                           H5_Path : /test_mesh/Geometry/Elem_tags_list \t\n",
      "\t Name : mesh_ElTagsTypeList                       H5_Path : /test_mesh/Geometry/Elem_tag_type_list \t\n",
      "\t Name : mesh_ElemTags                             H5_Path : /test_mesh/Geometry/ElementsTags \t\n",
      "\t Name : mesh_Elements                             H5_Path : /test_mesh/Geometry/Elements \t\n",
      "\t Name : mesh_Field_index                          H5_Path : /test_mesh/Field_index \t\n",
      "\t Name : mesh_Geometry                             H5_Path : /test_mesh/Geometry \t\n",
      "\t Name : mesh_NodeTags                             H5_Path : /test_mesh/Geometry/NodeTags \t\n",
      "\t Name : mesh_NodeTagsList                         H5_Path : /test_mesh/Geometry/Node_tags_list \t\n",
      "\t Name : mesh_Nodes                                H5_Path : /test_mesh/Geometry/Nodes \t\n",
      "\t Name : mesh_Nodes_ID                             H5_Path : /test_mesh/Geometry/Nodes_ID \t\n",
      "\t Name : mesh_Test_field1                          H5_Path : /test_mesh/Test_field1 \t\n",
      "\t Name : mesh_Test_field2                          H5_Path : /test_mesh/Test_field2 \t\n",
      "\t Name : mesh_Test_field3                          H5_Path : /test_mesh/Test_field3 \t\n",
      "\t Name : mesh_Test_field4                          H5_Path : /test_mesh/Test_field4 \t\n",
      "\t Name : tensor9_T1_0                              H5_Path : /test_image/test_tensor_T1_0 \t\n",
      "\t Name : tensor9_T2_0                              H5_Path : /test_image/test_tensor_T2_0 \t\n",
      "\t Name : tensor9_T3_0                              H5_Path : /test_image/test_tensor_T3_0 \t\n",
      "\t Name : test_image_field                          H5_Path : /test_image/test_image_field \t\n",
      "\t Name : test_table                                H5_Path : /test_group/test_table \t\n",
      "\t Name : vector_T1_0                               H5_Path : /test_mesh/test_vector_T1_0 \t\n",
      "\t Name : vector_T2_0                               H5_Path : /test_mesh/test_vector_T2_0 \t\n",
      "\n"
     ]
    }
   ],
   "source": [
    "data.print_index()"
   ]
  },
  {
   "cell_type": "markdown",
   "metadata": {},
   "source": [
    "This method prints the content of the dataset Index, with a given depth and from a specific root. The depth is the number of parents that a data item has. The root Group has thus a depth of 0, its childrens a depth of 1, the childrens of its childrens a depth of 2, and so on... The *local root* argument can be changed, to print only the Index for data items that are children of a specific group. When used without arguments, `print_index` uses a depth of 3 and the dataset root as default settings.\n",
    "\n",
    "As you can see, our dataset already contains some data items. We can already identify 3 HDF5 Groups (`test_group`, `test_image`, `test_group`), as they have childrens, and a lot of other data items. \n",
    "\n",
    "Let us try different to print Indexes with different parameters. To start, Let us try to print the Index from a different local root, for instance the group with the path `/test_image`. The way to do it is to use the `local_root` argument. We will hence give it the value of the `/test_image` path. "
   ]
  },
  {
   "cell_type": "code",
   "execution_count": 7,
   "metadata": {},
   "outputs": [
    {
     "name": "stdout",
     "output_type": "stream",
     "text": [
      "Dataset Content Index :\n",
      "------------------------:\n",
      "index printed with max depth `3` and under local root `/test_image`\n",
      "\n",
      "\t Name : image_Field_index                         H5_Path : /test_image/Field_index \t\n",
      "\t Name : tensor9_T1_0                              H5_Path : /test_image/test_tensor_T1_0 \t\n",
      "\t Name : tensor9_T2_0                              H5_Path : /test_image/test_tensor_T2_0 \t\n",
      "\t Name : tensor9_T3_0                              H5_Path : /test_image/test_tensor_T3_0 \t\n",
      "\t Name : test_image_field                          H5_Path : /test_image/test_image_field \t\n",
      "\n"
     ]
    }
   ],
   "source": [
    "data.print_index(local_root=\"/test_image\")"
   ]
  },
  {
   "cell_type": "markdown",
   "metadata": {},
   "source": [
    "The `print_index` method local root arguments needs the name of the Group whose children Index must be printed. As explained in section II, you may use for this other identificators than its **Path**. Let us try its **Name** (last part of its path), which is `test_image`, or its **Indexname**, which is `image`:"
   ]
  },
  {
   "cell_type": "code",
   "execution_count": 8,
   "metadata": {},
   "outputs": [
    {
     "name": "stdout",
     "output_type": "stream",
     "text": [
      "Dataset Content Index :\n",
      "------------------------:\n",
      "index printed with max depth `3` and under local root `test_image`\n",
      "\n",
      "\t Name : image_Field_index                         H5_Path : /test_image/Field_index \t\n",
      "\t Name : tensor9_T1_0                              H5_Path : /test_image/test_tensor_T1_0 \t\n",
      "\t Name : tensor9_T2_0                              H5_Path : /test_image/test_tensor_T2_0 \t\n",
      "\t Name : tensor9_T3_0                              H5_Path : /test_image/test_tensor_T3_0 \t\n",
      "\t Name : test_image_field                          H5_Path : /test_image/test_image_field \t\n",
      "\n",
      "Dataset Content Index :\n",
      "------------------------:\n",
      "index printed with max depth `3` and under local root `image`\n",
      "\n",
      "\t Name : image_Field_index                         H5_Path : /test_image/Field_index \t\n",
      "\t Name : tensor9_T1_0                              H5_Path : /test_image/test_tensor_T1_0 \t\n",
      "\t Name : tensor9_T2_0                              H5_Path : /test_image/test_tensor_T2_0 \t\n",
      "\t Name : tensor9_T3_0                              H5_Path : /test_image/test_tensor_T3_0 \t\n",
      "\t Name : test_image_field                          H5_Path : /test_image/test_image_field \t\n",
      "\n"
     ]
    }
   ],
   "source": [
    "data.print_index(local_root=\"test_image\")\n",
    "data.print_index(local_root=\"image\")"
   ]
  },
  {
   "cell_type": "markdown",
   "metadata": {},
   "source": [
    "As you can see, the result is the same in the 3 cases.\n",
    "\n",
    "Let us now try to print the dataset Index with a maximal data item depth of 2, using the `max_depth` argument:"
   ]
  },
  {
   "cell_type": "code",
   "execution_count": 9,
   "metadata": {},
   "outputs": [
    {
     "name": "stdout",
     "output_type": "stream",
     "text": [
      "Dataset Content Index :\n",
      "------------------------:\n",
      "index printed with max depth `2` and under local root `/`\n",
      "\n",
      "\t Name : array                                     H5_Path : /test_group/test_array \t\n",
      "\t Name : group                                     H5_Path : /test_group \t\n",
      "\t Name : image                                     H5_Path : /test_image \t\n",
      "\t Name : image_Field_index                         H5_Path : /test_image/Field_index \t\n",
      "\t Name : mesh                                      H5_Path : /test_mesh \t\n",
      "\t Name : mesh_Field_index                          H5_Path : /test_mesh/Field_index \t\n",
      "\t Name : mesh_Geometry                             H5_Path : /test_mesh/Geometry \t\n",
      "\t Name : mesh_Test_field1                          H5_Path : /test_mesh/Test_field1 \t\n",
      "\t Name : mesh_Test_field2                          H5_Path : /test_mesh/Test_field2 \t\n",
      "\t Name : mesh_Test_field3                          H5_Path : /test_mesh/Test_field3 \t\n",
      "\t Name : mesh_Test_field4                          H5_Path : /test_mesh/Test_field4 \t\n",
      "\t Name : tensor9_T1_0                              H5_Path : /test_image/test_tensor_T1_0 \t\n",
      "\t Name : tensor9_T2_0                              H5_Path : /test_image/test_tensor_T2_0 \t\n",
      "\t Name : tensor9_T3_0                              H5_Path : /test_image/test_tensor_T3_0 \t\n",
      "\t Name : test_image_field                          H5_Path : /test_image/test_image_field \t\n",
      "\t Name : test_table                                H5_Path : /test_group/test_table \t\n",
      "\t Name : vector_T1_0                               H5_Path : /test_mesh/test_vector_T1_0 \t\n",
      "\t Name : vector_T2_0                               H5_Path : /test_mesh/test_vector_T2_0 \t\n",
      "\n"
     ]
    }
   ],
   "source": [
    "data.print_index(max_depth=2)"
   ]
  },
  {
   "cell_type": "markdown",
   "metadata": {},
   "source": [
    "As you can see, the information about data items stored into the `/test_mesh/Geometry` group, that have a depth of 3, has not been printed. \n",
    "\n",
    "Of course, you can combine those two arguments:"
   ]
  },
  {
   "cell_type": "code",
   "execution_count": 10,
   "metadata": {},
   "outputs": [
    {
     "name": "stdout",
     "output_type": "stream",
     "text": [
      "Dataset Content Index :\n",
      "------------------------:\n",
      "index printed with max depth `2` and under local root `mesh`\n",
      "\n",
      "\t Name : mesh_Field_index                          H5_Path : /test_mesh/Field_index \t\n",
      "\t Name : mesh_Geometry                             H5_Path : /test_mesh/Geometry \t\n",
      "\t Name : mesh_Test_field1                          H5_Path : /test_mesh/Test_field1 \t\n",
      "\t Name : mesh_Test_field2                          H5_Path : /test_mesh/Test_field2 \t\n",
      "\t Name : mesh_Test_field3                          H5_Path : /test_mesh/Test_field3 \t\n",
      "\t Name : mesh_Test_field4                          H5_Path : /test_mesh/Test_field4 \t\n",
      "\t Name : vector_T1_0                               H5_Path : /test_mesh/test_vector_T1_0 \t\n",
      "\t Name : vector_T2_0                               H5_Path : /test_mesh/test_vector_T2_0 \t\n",
      "\n"
     ]
    }
   ],
   "source": [
    "data.print_index(max_depth=2, local_root='mesh')"
   ]
  },
  {
   "cell_type": "markdown",
   "metadata": {},
   "source": [
    "The `print_index` method is usefull to get a glimpse of the content and organization of the whole dataset, and to quickly see the short indexnames or aliases that you can use to refer to data items. In practical applications, datasets can become complex, so be sure to use the `local_root` and `max_depth` option to limit the printed information and quickly find the data items you are looking for. \n",
    "\n",
    "To add aliases to data items or Groups, you can use the `add_alias` method."
   ]
  },
  {
   "cell_type": "markdown",
   "metadata": {},
   "source": [
    "The Index allows to quickly see the internal structure of your dataset, however, it does not provide detailed information on the data items. We will now see how to retrieve it with the `SampleData` class."
   ]
  },
  {
   "cell_type": "markdown",
   "metadata": {},
   "source": [
    "### 2- The Dataset content"
   ]
  },
  {
   "cell_type": "markdown",
   "metadata": {},
   "source": [
    "The `SampleData` class provides a method to print an organized and detailed overview of the data items in the dataset, the `print_dataset_content` method. Let us see what the methods prints when called with no arguments:"
   ]
  },
  {
   "cell_type": "code",
   "execution_count": 11,
   "metadata": {},
   "outputs": [
    {
     "name": "stdout",
     "output_type": "stream",
     "text": [
      "Printing dataset content with max depth 3\n",
      "\n",
      "****** DATA SET CONTENT ******\n",
      " -- File: test_sampledata_ref.h5\n",
      " -- Size:     1.670 Mb\n",
      " -- Data Model Class: SampleData\n",
      "\n",
      " GROUP /\n",
      "=====================\n",
      " -- Parent Group : None -- Root Group\n",
      " -- Group attributes : \n",
      "\t * description : \n",
      "        This is a test dataset created by the SampleData class unit tests.\n",
      "        \n",
      "\t * sample_name : test_sample\n",
      " -- Childrens : Index, test_group, test_image, test_mesh, \n",
      "----------------\n",
      "************************************************\n",
      "\n",
      "\n",
      " GROUP test_group\n",
      "=====================\n",
      " -- Parent Group : /\n",
      " -- Group attributes : \n",
      "\t * group_type : Group\n",
      "\t * test_attribute : test\n",
      " -- Childrens : test_array, test_table, \n",
      "----------------\n",
      "****** Group /test_group CONTENT ******\n",
      "\n",
      " NODE: /test_group/test_array\n",
      "====================\n",
      " -- Parent Group : test_group\n",
      " -- Node name : test_array\n",
      " -- test_array attributes : \n",
      "\t * empty : False\n",
      "\t * node_type : data_array\n",
      "\n",
      " -- content : /test_group/test_array (CArray(51,)) 'array'\n",
      " -- Compression options for node `/test_group/test_array`:\n",
      "\tcomplevel=0, shuffle=False, bitshuffle=False, fletcher32=False, least_significant_digit=None\n",
      " --- Chunkshape: (8192,)\n",
      " -- Node memory size :    64.000 Kb\n",
      "----------------\n",
      "\n",
      " NODE: /test_group/test_table\n",
      "====================\n",
      " -- Parent Group : test_group\n",
      " -- Node name : test_table\n",
      " -- test_table attributes : \n",
      "\t * node_type : structured_array\n",
      "\n",
      " -- content : /test_group/test_table (Table(2,)) ''\n",
      " -- table description : \n",
      "{\n",
      "  \"density\": Float32Col(shape=(), dflt=0.0, pos=0),\n",
      "  \"melting_Pt\": Float32Col(shape=(), dflt=0.0, pos=1),\n",
      "  \"Chemical_comp\": StringCol(itemsize=30, shape=(), dflt=b'', pos=2)}\n",
      " -- Compression options for node `/test_group/test_table`:\n",
      "\tcomplevel=0, shuffle=False, bitshuffle=False, fletcher32=False, least_significant_digit=None\n",
      " --- Chunkshape: (1724,)\n",
      " -- Node memory size :    63.977 Kb\n",
      "----------------\n",
      "\n",
      "\n",
      "************************************************\n",
      "\n",
      "\n",
      " GROUP test_image\n",
      "=====================\n",
      " -- Parent Group : /\n",
      " -- Group attributes : \n",
      "\t * description : \n",
      "\t * dimension : [9 9 9]\n",
      "\t * empty : False\n",
      "\t * group_type : 3DImage\n",
      "\t * nodes_dimension : [10 10 10]\n",
      "\t * nodes_dimension_xdmf : [10 10 10]\n",
      "\t * origin : [-1. -1. -1.]\n",
      "\t * spacing : [0.2 0.2 0.2]\n",
      "\t * time_list : [1.0, 2.0, 3.0]\n",
      "\t * xdmf_gridname : test_image\n",
      " -- Childrens : Field_index, test_image_field, test_tensor_T1_0, test_tensor_T2_0, test_tensor_T3_0, \n",
      "----------------\n",
      "****** Group /test_image CONTENT ******\n",
      "\n",
      " NODE: /test_image/Field_index\n",
      "====================\n",
      " -- Parent Group : test_image\n",
      " -- Node name : Field_index\n",
      " -- Field_index attributes : \n",
      "\t * empty : True\n",
      "\t * node_type : string_array\n",
      "\n",
      " -- content : /test_image/Field_index (EArray(4,)) ''\n",
      " -- Compression options for node `/test_image/Field_index`:\n",
      "\tcomplevel=0, shuffle=False, bitshuffle=False, fletcher32=False, least_significant_digit=None\n",
      " --- Chunkshape: (257,)\n",
      " -- Node memory size :    63.999 Kb\n",
      "----------------\n",
      "\n",
      " NODE: /test_image/test_image_field\n",
      "====================\n",
      " -- Parent Group : test_image\n",
      " -- Node name : test_image_field\n",
      " -- test_image_field attributes : \n",
      "\t * empty : False\n",
      "\t * field_dimensionality : Scalar\n",
      "\t * field_type : Nodal_field\n",
      "\t * node_type : field_array\n",
      "\t * padding : None\n",
      "\t * parent_grid_path : /test_image\n",
      "\t * transpose_indices : [2, 1, 0]\n",
      "\t * xdmf_fieldname : test_image_field\n",
      "\t * xdmf_gridname : test_image\n",
      "\n",
      " -- content : /test_image/test_image_field (CArray(10, 10, 10)) 'test_image_field'\n",
      " -- Compression options for node `/test_image/test_image_field`:\n",
      "\tcomplevel=0, shuffle=False, bitshuffle=False, fletcher32=False, least_significant_digit=None\n",
      " --- Chunkshape: (327, 10, 10)\n",
      " -- Node memory size :    63.867 Kb\n",
      "----------------\n",
      "\n",
      " NODE: /test_image/test_tensor_T1_0\n",
      "====================\n",
      " -- Parent Group : test_image\n",
      " -- Node name : test_tensor_T1_0\n",
      " -- test_tensor_T1_0 attributes : \n",
      "\t * empty : False\n",
      "\t * field_dimensionality : Tensor\n",
      "\t * field_type : Nodal_field\n",
      "\t * node_type : field_array\n",
      "\t * padding : None\n",
      "\t * parent_grid_path : /test_image\n",
      "\t * time : 1.0\n",
      "\t * time_serie_name : test_tensor\n",
      "\t * transpose_components : [0, 4, 8, 1, 5, 6, 3, 7, 2]\n",
      "\t * transpose_indices : [2, 1, 0, 3]\n",
      "\t * xdmf_fieldname : test_tensor\n",
      "\t * xdmf_gridname : test_image\n",
      "\n",
      " -- content : /test_image/test_tensor_T1_0 (CArray(10, 10, 10, 9)) 'tensor9_T1_0'\n",
      " -- Compression options for node `/test_image/test_tensor_T1_0`:\n",
      "\tcomplevel=0, shuffle=False, bitshuffle=False, fletcher32=False, least_significant_digit=None\n",
      " --- Chunkshape: (18, 10, 10, 9)\n",
      " -- Node memory size :    63.281 Kb\n",
      "----------------\n",
      "\n",
      " NODE: /test_image/test_tensor_T2_0\n",
      "====================\n",
      " -- Parent Group : test_image\n",
      " -- Node name : test_tensor_T2_0\n",
      " -- test_tensor_T2_0 attributes : \n",
      "\t * empty : False\n",
      "\t * field_dimensionality : Tensor\n",
      "\t * field_type : Nodal_field\n",
      "\t * node_type : field_array\n",
      "\t * padding : None\n",
      "\t * parent_grid_path : /test_image\n",
      "\t * time : 2.0\n",
      "\t * time_serie_name : test_tensor\n",
      "\t * transpose_components : [0, 4, 8, 1, 5, 6, 3, 7, 2]\n",
      "\t * transpose_indices : [2, 1, 0, 3]\n",
      "\t * xdmf_fieldname : test_tensor\n",
      "\t * xdmf_gridname : test_image\n",
      "\n",
      " -- content : /test_image/test_tensor_T2_0 (CArray(10, 10, 10, 9)) 'tensor9_T2_0'\n",
      " -- Compression options for node `/test_image/test_tensor_T2_0`:\n",
      "\tcomplevel=0, shuffle=False, bitshuffle=False, fletcher32=False, least_significant_digit=None\n",
      " --- Chunkshape: (18, 10, 10, 9)\n",
      " -- Node memory size :    63.281 Kb\n",
      "----------------\n",
      "\n",
      " NODE: /test_image/test_tensor_T3_0\n",
      "====================\n",
      " -- Parent Group : test_image\n",
      " -- Node name : test_tensor_T3_0\n",
      " -- test_tensor_T3_0 attributes : \n",
      "\t * empty : False\n",
      "\t * field_dimensionality : Tensor\n",
      "\t * field_type : Nodal_field\n",
      "\t * node_type : field_array\n",
      "\t * padding : None\n",
      "\t * parent_grid_path : /test_image\n",
      "\t * time : 3.0\n",
      "\t * time_serie_name : test_tensor\n",
      "\t * transpose_components : [0, 4, 8, 1, 5, 6, 3, 7, 2]\n",
      "\t * transpose_indices : [2, 1, 0, 3]\n",
      "\t * xdmf_fieldname : test_tensor\n",
      "\t * xdmf_gridname : test_image\n",
      "\n",
      " -- content : /test_image/test_tensor_T3_0 (CArray(10, 10, 10, 9)) 'tensor9_T3_0'\n",
      " -- Compression options for node `/test_image/test_tensor_T3_0`:\n",
      "\tcomplevel=0, shuffle=False, bitshuffle=False, fletcher32=False, least_significant_digit=None\n",
      " --- Chunkshape: (18, 10, 10, 9)\n",
      " -- Node memory size :    63.281 Kb\n",
      "----------------\n",
      "\n",
      "\n",
      "************************************************\n",
      "\n",
      "\n",
      " GROUP test_mesh\n",
      "=====================\n",
      " -- Parent Group : /\n",
      " -- Group attributes : \n",
      "\t * Elements_offset : [0]\n",
      "\t * Number_of_boundary_elements : [0]\n",
      "\t * Number_of_bulk_elements : [8]\n",
      "\t * Number_of_elements : [8]\n",
      "\t * Topology : Uniform\n",
      "\t * Xdmf_elements_code : ['Triangle']\n",
      "\t * description :  \n",
      "\t * element_type : ['tri3']\n",
      "\t * elements_path : /test_mesh/Geometry/Elements\n",
      "\t * empty : False\n",
      "\t * group_type : 3DMesh\n",
      "\t * nodesID_path : /test_mesh/Geometry/Nodes_ID\n",
      "\t * nodes_path : /test_mesh/Geometry/Nodes\n",
      "\t * number_of_nodes : 6\n",
      "\t * time_list : [1.0, 2.0]\n",
      "\t * xdmf_gridname : test_mesh\n",
      " -- Childrens : Geometry, Field_index, Test_field1, Test_field2, Test_field3, Test_field4, test_vector_T1_0, test_vector_T2_0, \n",
      "----------------\n",
      "****** Group /test_mesh CONTENT ******\n",
      "\n",
      " NODE: /test_mesh/Field_index\n",
      "====================\n",
      " -- Parent Group : test_mesh\n",
      " -- Node name : Field_index\n",
      " -- Field_index attributes : \n",
      "\t * empty : True\n",
      "\t * node_type : string_array\n",
      "\n",
      " -- content : /test_mesh/Field_index (EArray(11,)) ''\n",
      " -- Compression options for node `/test_mesh/Field_index`:\n",
      "\tcomplevel=0, shuffle=False, bitshuffle=False, fletcher32=False, least_significant_digit=None\n",
      " --- Chunkshape: (257,)\n",
      " -- Node memory size :    63.999 Kb\n",
      "----------------\n",
      "\n",
      " GROUP Geometry\n",
      "=====================\n",
      " -- Parent Group : test_mesh\n",
      " -- Group attributes : \n",
      "\t * group_type : Group\n",
      " -- Childrens : ElementsTags, NodeTags, Elem_tag_type_list, Elem_tags_list, Elements, Node_tags_list, Nodes, Nodes_ID, \n",
      "----------------\n",
      "****** Group /test_mesh/Geometry CONTENT ******\n",
      "\n",
      " NODE: /test_mesh/Geometry/Elem_tag_type_list\n",
      "====================\n",
      " -- Parent Group : Geometry\n",
      " -- Node name : Elem_tag_type_list\n",
      " -- Elem_tag_type_list attributes : \n",
      "\t * empty : False\n",
      "\t * node_type : string_array\n",
      "\n",
      " -- content : /test_mesh/Geometry/Elem_tag_type_list (EArray(3,)) ''\n",
      " -- Compression options for node `/test_mesh/Geometry/Elem_tag_type_list`:\n",
      "\tcomplevel=0, shuffle=False, bitshuffle=False, fletcher32=False, least_significant_digit=None\n",
      " --- Chunkshape: (257,)\n",
      " -- Node memory size :    63.999 Kb\n",
      "----------------\n",
      "\n",
      " NODE: /test_mesh/Geometry/Elem_tags_list\n",
      "====================\n",
      " -- Parent Group : Geometry\n",
      " -- Node name : Elem_tags_list\n",
      " -- Elem_tags_list attributes : \n",
      "\t * empty : False\n",
      "\t * node_type : string_array\n",
      "\n",
      " -- content : /test_mesh/Geometry/Elem_tags_list (EArray(3,)) ''\n",
      " -- Compression options for node `/test_mesh/Geometry/Elem_tags_list`:\n",
      "\tcomplevel=0, shuffle=False, bitshuffle=False, fletcher32=False, least_significant_digit=None\n",
      " --- Chunkshape: (257,)\n",
      " -- Node memory size :    63.999 Kb\n",
      "----------------\n",
      "\n",
      " NODE: /test_mesh/Geometry/Elements\n",
      "====================\n",
      " -- Parent Group : Geometry\n",
      " -- Node name : Elements\n",
      " -- Elements attributes : \n",
      "\t * empty : False\n",
      "\t * node_type : data_array\n",
      "\n",
      " -- content : /test_mesh/Geometry/Elements (CArray(24,)) 'mesh_Elements'\n",
      " -- Compression options for node `/test_mesh/Geometry/Elements`:\n",
      "\tcomplevel=0, shuffle=False, bitshuffle=False, fletcher32=False, least_significant_digit=None\n",
      " --- Chunkshape: (8192,)\n",
      " -- Node memory size :    64.000 Kb\n",
      "----------------\n",
      "\n",
      " GROUP ElementsTags\n",
      "=====================\n",
      " -- Parent Group : Geometry\n",
      " -- Group attributes : \n",
      "\t * group_type : Group\n",
      " -- Childrens : ET_2D, ET_Bottom, ET_Top, field_2D, field_Bottom, field_Top, \n",
      "----------------         -- Use \"get_mesh_elem_tags_names\" methods to print content.\n",
      "\n",
      " GROUP NodeTags\n",
      "=====================\n",
      " -- Parent Group : Geometry\n",
      " -- Group attributes : \n",
      "\t * group_type : Group\n",
      " -- Childrens : NT_Z0_plane, NT_out_of_plane, field_Z0_plane, field_out_of_plane, \n",
      "----------------         -- Use \"get_mesh_node_tags_names\" methods to print content.\n",
      "\n",
      " NODE: /test_mesh/Geometry/Node_tags_list\n",
      "====================\n",
      " -- Parent Group : Geometry\n",
      " -- Node name : Node_tags_list\n",
      " -- Node_tags_list attributes : \n",
      "\t * empty : False\n",
      "\t * node_type : string_array\n",
      "\n",
      " -- content : /test_mesh/Geometry/Node_tags_list (EArray(2,)) ''\n",
      " -- Compression options for node `/test_mesh/Geometry/Node_tags_list`:\n",
      "\tcomplevel=0, shuffle=False, bitshuffle=False, fletcher32=False, least_significant_digit=None\n",
      " --- Chunkshape: (257,)\n",
      " -- Node memory size :    63.999 Kb\n",
      "----------------\n",
      "\n",
      " NODE: /test_mesh/Geometry/Nodes\n",
      "====================\n",
      " -- Parent Group : Geometry\n",
      " -- Node name : Nodes\n",
      " -- Nodes attributes : \n",
      "\t * empty : False\n",
      "\t * node_type : data_array\n",
      "\n",
      " -- content : /test_mesh/Geometry/Nodes (CArray(6, 3)) 'mesh_Nodes'\n",
      " -- Compression options for node `/test_mesh/Geometry/Nodes`:\n",
      "\tcomplevel=0, shuffle=False, bitshuffle=False, fletcher32=False, least_significant_digit=None\n",
      " --- Chunkshape: (2730, 3)\n",
      " -- Node memory size :    63.984 Kb\n",
      "----------------\n",
      "\n",
      " NODE: /test_mesh/Geometry/Nodes_ID\n",
      "====================\n",
      " -- Parent Group : Geometry\n",
      " -- Node name : Nodes_ID\n",
      " -- Nodes_ID attributes : \n",
      "\t * empty : False\n",
      "\t * node_type : data_array\n",
      "\n",
      " -- content : /test_mesh/Geometry/Nodes_ID (CArray(6,)) 'mesh_Nodes_ID'\n",
      " -- Compression options for node `/test_mesh/Geometry/Nodes_ID`:\n",
      "\tcomplevel=0, shuffle=False, bitshuffle=False, fletcher32=False, least_significant_digit=None\n",
      " --- Chunkshape: (8192,)\n",
      " -- Node memory size :    64.000 Kb\n",
      "----------------\n",
      "\n",
      "\n",
      " NODE: /test_mesh/Test_field1\n",
      "====================\n",
      " -- Parent Group : test_mesh\n",
      " -- Node name : Test_field1\n",
      " -- Test_field1 attributes : \n",
      "\t * empty : False\n",
      "\t * field_dimensionality : Scalar\n",
      "\t * field_type : Nodal_field\n",
      "\t * node_type : field_array\n",
      "\t * padding : None\n",
      "\t * parent_grid_path : /test_mesh\n",
      "\t * xdmf_fieldname : Test_field1\n",
      "\t * xdmf_gridname : test_mesh\n",
      "\n",
      " -- content : /test_mesh/Test_field1 (CArray(6, 1)) 'mesh_Test_field1'\n",
      " -- Compression options for node `/test_mesh/Test_field1`:\n",
      "\tcomplevel=0, shuffle=False, bitshuffle=False, fletcher32=False, least_significant_digit=None\n",
      " --- Chunkshape: (8192, 1)\n",
      " -- Node memory size :    64.000 Kb\n",
      "----------------\n",
      "\n",
      " NODE: /test_mesh/Test_field2\n",
      "====================\n",
      " -- Parent Group : test_mesh\n",
      " -- Node name : Test_field2\n",
      " -- Test_field2 attributes : \n",
      "\t * empty : False\n",
      "\t * field_dimensionality : Scalar\n",
      "\t * field_type : Nodal_field\n",
      "\t * node_type : field_array\n",
      "\t * padding : None\n",
      "\t * parent_grid_path : /test_mesh\n",
      "\t * xdmf_fieldname : Test_field2\n",
      "\t * xdmf_gridname : test_mesh\n",
      "\n",
      " -- content : /test_mesh/Test_field2 (CArray(6, 1)) 'mesh_Test_field2'\n",
      " -- Compression options for node `/test_mesh/Test_field2`:\n",
      "\tcomplevel=0, shuffle=False, bitshuffle=False, fletcher32=False, least_significant_digit=None\n",
      " --- Chunkshape: (8192, 1)\n",
      " -- Node memory size :    64.000 Kb\n",
      "----------------\n",
      "\n",
      " NODE: /test_mesh/Test_field3\n",
      "====================\n",
      " -- Parent Group : test_mesh\n",
      " -- Node name : Test_field3\n",
      " -- Test_field3 attributes : \n",
      "\t * empty : False\n",
      "\t * field_dimensionality : Scalar\n",
      "\t * field_type : Element_field\n",
      "\t * node_type : field_array\n",
      "\t * padding : bulk\n",
      "\t * parent_grid_path : /test_mesh\n",
      "\t * xdmf_fieldname : Test_field3\n",
      "\t * xdmf_gridname : test_mesh\n",
      "\n",
      " -- content : /test_mesh/Test_field3 (CArray(8, 1)) 'mesh_Test_field3'\n",
      " -- Compression options for node `/test_mesh/Test_field3`:\n",
      "\tcomplevel=0, shuffle=False, bitshuffle=False, fletcher32=False, least_significant_digit=None\n",
      " --- Chunkshape: (8192, 1)\n",
      " -- Node memory size :    64.000 Kb\n",
      "----------------\n",
      "\n",
      " NODE: /test_mesh/Test_field4\n",
      "====================\n",
      " -- Parent Group : test_mesh\n",
      " -- Node name : Test_field4\n",
      " -- Test_field4 attributes : \n",
      "\t * empty : False\n",
      "\t * field_dimensionality : Scalar\n",
      "\t * field_type : Element_field\n",
      "\t * node_type : field_array\n",
      "\t * padding : bulk\n",
      "\t * parent_grid_path : /test_mesh\n",
      "\t * xdmf_fieldname : Test_field4\n",
      "\t * xdmf_gridname : test_mesh\n",
      "\n",
      " -- content : /test_mesh/Test_field4 (CArray(8, 1)) 'mesh_Test_field4'\n",
      " -- Compression options for node `/test_mesh/Test_field4`:\n",
      "\tcomplevel=0, shuffle=False, bitshuffle=False, fletcher32=False, least_significant_digit=None\n",
      " --- Chunkshape: (8192, 1)\n",
      " -- Node memory size :    64.000 Kb\n",
      "----------------\n",
      "\n",
      " NODE: /test_mesh/test_vector_T1_0\n",
      "====================\n",
      " -- Parent Group : test_mesh\n",
      " -- Node name : test_vector_T1_0\n",
      " -- test_vector_T1_0 attributes : \n",
      "\t * empty : False\n",
      "\t * field_dimensionality : Vector\n",
      "\t * field_type : Nodal_field\n",
      "\t * node_type : field_array\n",
      "\t * padding : None\n",
      "\t * parent_grid_path : /test_mesh\n",
      "\t * time : 1.0\n",
      "\t * time_serie_name : test_vector\n",
      "\t * xdmf_fieldname : test_vector\n",
      "\t * xdmf_gridname : test_mesh\n",
      "\n",
      " -- content : /test_mesh/test_vector_T1_0 (CArray(6, 3)) 'vector_T1_0'\n",
      " -- Compression options for node `/test_mesh/test_vector_T1_0`:\n",
      "\tcomplevel=0, shuffle=False, bitshuffle=False, fletcher32=False, least_significant_digit=None\n",
      " --- Chunkshape: (2730, 3)\n",
      " -- Node memory size :    63.984 Kb\n",
      "----------------\n",
      "\n",
      " NODE: /test_mesh/test_vector_T2_0\n",
      "====================\n",
      " -- Parent Group : test_mesh\n",
      " -- Node name : test_vector_T2_0\n",
      " -- test_vector_T2_0 attributes : \n",
      "\t * empty : False\n",
      "\t * field_dimensionality : Vector\n",
      "\t * field_type : Nodal_field\n",
      "\t * node_type : field_array\n",
      "\t * padding : None\n",
      "\t * parent_grid_path : /test_mesh\n",
      "\t * time : 2.0\n",
      "\t * time_serie_name : test_vector\n",
      "\t * xdmf_fieldname : test_vector\n",
      "\t * xdmf_gridname : test_mesh\n",
      "\n",
      " -- content : /test_mesh/test_vector_T2_0 (CArray(6, 3)) 'vector_T2_0'\n",
      " -- Compression options for node `/test_mesh/test_vector_T2_0`:\n",
      "\tcomplevel=0, shuffle=False, bitshuffle=False, fletcher32=False, least_significant_digit=None\n",
      " --- Chunkshape: (2730, 3)\n",
      " -- Node memory size :    63.984 Kb\n",
      "----------------\n",
      "\n",
      "\n",
      "************************************************\n",
      "\n",
      "\n"
     ]
    }
   ],
   "source": [
    "data.print_dataset_content()"
   ]
  },
  {
   "cell_type": "markdown",
   "metadata": {},
   "source": [
    "As you can see, this method prints by increasing depth, detailed information on each Group and each data item of the dataset, with a maximum depth that can be specified with a `max_depth` argument (like the method `print_index`, that has a default value of 3). The printed output is structured by groups: each Group node is described first, followed by a Group CONTENT string that provide decripstion for all of its childrens. \n",
    "\n",
    "For each data item, or Group, the method prints their name, path, type, attributes, content, compression settings and memory size if it is an array, children names if it is a Group. Hence, when calling this method, you can see the content and organization of the dataset, all the metadata attached to all data items, and the disk size occupied by each data item. As you progress through this tutorial, you will learn the meaning of those informations for all types of *SampleData* data items.\n",
    "\n",
    "The `print_dataset_content` method has a `short` boolean argument, that allows to plot a condensed string representation of the dataset:"
   ]
  },
  {
   "cell_type": "code",
   "execution_count": 12,
   "metadata": {},
   "outputs": [
    {
     "name": "stdout",
     "output_type": "stream",
     "text": [
      "Printing dataset content with max depth 3\n",
      "  |--GROUP test_group: /test_group (Group) \n",
      "     --NODE test_array: /test_group/test_array (data_array) (   64.000 Kb)\n",
      "     --NODE test_table: /test_group/test_table (structured_array) (   63.977 Kb)\n",
      "\n",
      "  |--GROUP test_image: /test_image (3DImage) \n",
      "     --NODE Field_index: /test_image/Field_index (string_array - empty) (   63.999 Kb)\n",
      "     --NODE test_image_field: /test_image/test_image_field (field_array) (   63.867 Kb)\n",
      "     --NODE test_tensor_T1_0: /test_image/test_tensor_T1_0 (field_array) (   63.281 Kb)\n",
      "     --NODE test_tensor_T2_0: /test_image/test_tensor_T2_0 (field_array) (   63.281 Kb)\n",
      "     --NODE test_tensor_T3_0: /test_image/test_tensor_T3_0 (field_array) (   63.281 Kb)\n",
      "\n",
      "  |--GROUP test_mesh: /test_mesh (3DMesh) \n",
      "     --NODE Field_index: /test_mesh/Field_index (string_array - empty) (   63.999 Kb)\n",
      "    |--GROUP Geometry: /test_mesh/Geometry (Group) \n",
      "       --NODE Elem_tag_type_list: /test_mesh/Geometry/Elem_tag_type_list (string_array) (   63.999 Kb)\n",
      "       --NODE Elem_tags_list: /test_mesh/Geometry/Elem_tags_list (string_array) (   63.999 Kb)\n",
      "       --NODE Elements: /test_mesh/Geometry/Elements (data_array) (   64.000 Kb)\n",
      "      |--GROUP ElementsTags: /test_mesh/Geometry/ElementsTags (Group) \n",
      "         -- Use \"get_mesh_elem_tags_names\" methods to print content.\n",
      "      |--GROUP NodeTags: /test_mesh/Geometry/NodeTags (Group) \n",
      "         -- Use \"get_mesh_node_tags_names\" methods to print content.\n",
      "       --NODE Node_tags_list: /test_mesh/Geometry/Node_tags_list (string_array) (   63.999 Kb)\n",
      "       --NODE Nodes: /test_mesh/Geometry/Nodes (data_array) (   63.984 Kb)\n",
      "       --NODE Nodes_ID: /test_mesh/Geometry/Nodes_ID (data_array) (   64.000 Kb)\n",
      "\n",
      "     --NODE Test_field1: /test_mesh/Test_field1 (field_array) (   64.000 Kb)\n",
      "     --NODE Test_field2: /test_mesh/Test_field2 (field_array) (   64.000 Kb)\n",
      "     --NODE Test_field3: /test_mesh/Test_field3 (field_array) (   64.000 Kb)\n",
      "     --NODE Test_field4: /test_mesh/Test_field4 (field_array) (   64.000 Kb)\n",
      "     --NODE test_vector_T1_0: /test_mesh/test_vector_T1_0 (field_array) (   63.984 Kb)\n",
      "     --NODE test_vector_T2_0: /test_mesh/test_vector_T2_0 (field_array) (   63.984 Kb)\n",
      "\n",
      "\n"
     ]
    }
   ],
   "source": [
    "data.print_dataset_content(short=True)"
   ]
  },
  {
   "cell_type": "markdown",
   "metadata": {},
   "source": [
    "This shorter print, provide a complete and visual overview of the dataset organization, and indicate the memory size and type of each data item or Group in the dataset. The printed output distinguishes Group data items, from Nodes data item. The later regroups all types of arrays that may be stored in the HDF5 file. \n",
    "\n",
    "Both short and long version of the `print_dataset_content` output can be written into a text file, if a filename is provided as value for the `to_file` method argument:"
   ]
  },
  {
   "cell_type": "code",
   "execution_count": 13,
   "metadata": {},
   "outputs": [],
   "source": [
    "data.print_dataset_content(short=True, to_file='dataset_information.txt')"
   ]
  },
  {
   "cell_type": "code",
   "execution_count": 14,
   "metadata": {},
   "outputs": [
    {
     "name": "stdout",
     "output_type": "stream",
     "text": [
      "Printing dataset content with max depth 3\r\n",
      "  |--GROUP test_group: /test_group (Group) \r\n",
      "     --NODE test_array: /test_group/test_array (data_array) (   64.000 Kb)\r\n",
      "     --NODE test_table: /test_group/test_table (structured_array) (   63.977 Kb)\r\n",
      "\r\n",
      "  |--GROUP test_image: /test_image (3DImage) \r\n",
      "     --NODE Field_index: /test_image/Field_index (string_array - empty) (   63.999 Kb)\r\n",
      "     --NODE test_image_field: /test_image/test_image_field (field_array) (   63.867 Kb)\r\n",
      "     --NODE test_tensor_T1_0: /test_image/test_tensor_T1_0 (field_array) (   63.281 Kb)\r\n",
      "     --NODE test_tensor_T2_0: /test_image/test_tensor_T2_0 (field_array) (   63.281 Kb)\r\n",
      "     --NODE test_tensor_T3_0: /test_image/test_tensor_T3_0 (field_array) (   63.281 Kb)\r\n",
      "\r\n",
      "  |--GROUP test_mesh: /test_mesh (3DMesh) \r\n",
      "     --NODE Field_index: /test_mesh/Field_index (string_array - empty) (   63.999 Kb)\r\n",
      "    |--GROUP Geometry: /test_mesh/Geometry (Group) \r\n",
      "       --NODE Elem_tag_type_list: /test_mesh/Geometry/Elem_tag_type_list (string_array) (   63.999 Kb)\r\n",
      "       --NODE Elem_tags_list: /test_mesh/Geometry/Elem_tags_list (string_array) (   63.999 Kb)\r\n",
      "       --NODE Elements: /test_mesh/Geometry/Elements (data_array) (   64.000 Kb)\r\n",
      "      |--GROUP ElementsTags: /test_mesh/Geometry/ElementsTags (Group) \r\n",
      "         -- Use \"get_mesh_elem_tags_names\" methods to print content.\r\n",
      "      |--GROUP NodeTags: /test_mesh/Geometry/NodeTags (Group) \r\n",
      "         -- Use \"get_mesh_node_tags_names\" methods to print content.\r\n",
      "       --NODE Node_tags_list: /test_mesh/Geometry/Node_tags_list (string_array) (   63.999 Kb)\r\n",
      "       --NODE Nodes: /test_mesh/Geometry/Nodes (data_array) (   63.984 Kb)\r\n",
      "       --NODE Nodes_ID: /test_mesh/Geometry/Nodes_ID (data_array) (   64.000 Kb)\r\n",
      "\r\n",
      "     --NODE Test_field1: /test_mesh/Test_field1 (field_array) (   64.000 Kb)\r\n",
      "     --NODE Test_field2: /test_mesh/Test_field2 (field_array) (   64.000 Kb)\r\n",
      "     --NODE Test_field3: /test_mesh/Test_field3 (field_array) (   64.000 Kb)\r\n",
      "     --NODE Test_field4: /test_mesh/Test_field4 (field_array) (   64.000 Kb)\r\n",
      "     --NODE test_vector_T1_0: /test_mesh/test_vector_T1_0 (field_array) (   63.984 Kb)\r\n",
      "     --NODE test_vector_T2_0: /test_mesh/test_vector_T2_0 (field_array) (   63.984 Kb)\r\n",
      "\r\n"
     ]
    }
   ],
   "source": [
    "# Let us open the content of the created file, to see if the dataset information has been written in it:\n",
    "%cat dataset_information.txt\n",
    "\n",
    "os.remove('dataset_information.txt')"
   ]
  },
  {
   "cell_type": "markdown",
   "metadata": {},
   "source": [
    "<div class=\"alert alert-info\">\n",
    "\n",
    "**Note** \n",
    "    \n",
    "The string representation of the *SampleData* class is composed of a first part, which is the output of the `print_index` method, and a second part, that is the output of the `print_datase_content` method (short output).\n",
    "</div>"
   ]
  },
  {
   "cell_type": "code",
   "execution_count": 15,
   "metadata": {},
   "outputs": [
    {
     "name": "stdout",
     "output_type": "stream",
     "text": [
      "Dataset Content Index :\n",
      "------------------------:\n",
      "index printed with max depth `3` and under local root `/`\n",
      "\n",
      "\t Name : array                                     H5_Path : /test_group/test_array \t\n",
      "\t Name : group                                     H5_Path : /test_group \t\n",
      "\t Name : image                                     H5_Path : /test_image \t\n",
      "\t Name : image_Field_index                         H5_Path : /test_image/Field_index \t\n",
      "\t Name : mesh                                      H5_Path : /test_mesh \t\n",
      "\t Name : mesh_ElTagsList                           H5_Path : /test_mesh/Geometry/Elem_tags_list \t\n",
      "\t Name : mesh_ElTagsTypeList                       H5_Path : /test_mesh/Geometry/Elem_tag_type_list \t\n",
      "\t Name : mesh_ElemTags                             H5_Path : /test_mesh/Geometry/ElementsTags \t\n",
      "\t Name : mesh_Elements                             H5_Path : /test_mesh/Geometry/Elements \t\n",
      "\t Name : mesh_Field_index                          H5_Path : /test_mesh/Field_index \t\n",
      "\t Name : mesh_Geometry                             H5_Path : /test_mesh/Geometry \t\n",
      "\t Name : mesh_NodeTags                             H5_Path : /test_mesh/Geometry/NodeTags \t\n",
      "\t Name : mesh_NodeTagsList                         H5_Path : /test_mesh/Geometry/Node_tags_list \t\n",
      "\t Name : mesh_Nodes                                H5_Path : /test_mesh/Geometry/Nodes \t\n",
      "\t Name : mesh_Nodes_ID                             H5_Path : /test_mesh/Geometry/Nodes_ID \t\n",
      "\t Name : mesh_Test_field1                          H5_Path : /test_mesh/Test_field1 \t\n",
      "\t Name : mesh_Test_field2                          H5_Path : /test_mesh/Test_field2 \t\n",
      "\t Name : mesh_Test_field3                          H5_Path : /test_mesh/Test_field3 \t\n",
      "\t Name : mesh_Test_field4                          H5_Path : /test_mesh/Test_field4 \t\n",
      "\t Name : tensor9_T1_0                              H5_Path : /test_image/test_tensor_T1_0 \t\n",
      "\t Name : tensor9_T2_0                              H5_Path : /test_image/test_tensor_T2_0 \t\n",
      "\t Name : tensor9_T3_0                              H5_Path : /test_image/test_tensor_T3_0 \t\n",
      "\t Name : test_image_field                          H5_Path : /test_image/test_image_field \t\n",
      "\t Name : test_table                                H5_Path : /test_group/test_table \t\n",
      "\t Name : vector_T1_0                               H5_Path : /test_mesh/test_vector_T1_0 \t\n",
      "\t Name : vector_T2_0                               H5_Path : /test_mesh/test_vector_T2_0 \t\n",
      "\n",
      "Printing dataset content with max depth 3\n",
      "  |--GROUP test_group: /test_group (Group) \n",
      "     --NODE test_array: /test_group/test_array (data_array) (   64.000 Kb)\n",
      "     --NODE test_table: /test_group/test_table (structured_array) (   63.977 Kb)\n",
      "\n",
      "  |--GROUP test_image: /test_image (3DImage) \n",
      "     --NODE Field_index: /test_image/Field_index (string_array - empty) (   63.999 Kb)\n",
      "     --NODE test_image_field: /test_image/test_image_field (field_array) (   63.867 Kb)\n",
      "     --NODE test_tensor_T1_0: /test_image/test_tensor_T1_0 (field_array) (   63.281 Kb)\n",
      "     --NODE test_tensor_T2_0: /test_image/test_tensor_T2_0 (field_array) (   63.281 Kb)\n",
      "     --NODE test_tensor_T3_0: /test_image/test_tensor_T3_0 (field_array) (   63.281 Kb)\n",
      "\n",
      "  |--GROUP test_mesh: /test_mesh (3DMesh) \n",
      "     --NODE Field_index: /test_mesh/Field_index (string_array - empty) (   63.999 Kb)\n",
      "    |--GROUP Geometry: /test_mesh/Geometry (Group) \n",
      "       --NODE Elem_tag_type_list: /test_mesh/Geometry/Elem_tag_type_list (string_array) (   63.999 Kb)\n",
      "       --NODE Elem_tags_list: /test_mesh/Geometry/Elem_tags_list (string_array) (   63.999 Kb)\n",
      "       --NODE Elements: /test_mesh/Geometry/Elements (data_array) (   64.000 Kb)\n",
      "      |--GROUP ElementsTags: /test_mesh/Geometry/ElementsTags (Group) \n",
      "         -- Use \"get_mesh_elem_tags_names\" methods to print content.\n",
      "      |--GROUP NodeTags: /test_mesh/Geometry/NodeTags (Group) \n",
      "         -- Use \"get_mesh_node_tags_names\" methods to print content.\n",
      "       --NODE Node_tags_list: /test_mesh/Geometry/Node_tags_list (string_array) (   63.999 Kb)\n",
      "       --NODE Nodes: /test_mesh/Geometry/Nodes (data_array) (   63.984 Kb)\n",
      "       --NODE Nodes_ID: /test_mesh/Geometry/Nodes_ID (data_array) (   64.000 Kb)\n",
      "\n",
      "     --NODE Test_field1: /test_mesh/Test_field1 (field_array) (   64.000 Kb)\n",
      "     --NODE Test_field2: /test_mesh/Test_field2 (field_array) (   64.000 Kb)\n",
      "     --NODE Test_field3: /test_mesh/Test_field3 (field_array) (   64.000 Kb)\n",
      "     --NODE Test_field4: /test_mesh/Test_field4 (field_array) (   64.000 Kb)\n",
      "     --NODE test_vector_T1_0: /test_mesh/test_vector_T1_0 (field_array) (   63.984 Kb)\n",
      "     --NODE test_vector_T2_0: /test_mesh/test_vector_T2_0 (field_array) (   63.984 Kb)\n",
      "\n",
      "\n"
     ]
    }
   ],
   "source": [
    "# SampleData string representation :\n",
    "print(data)"
   ]
  },
  {
   "cell_type": "markdown",
   "metadata": {},
   "source": [
    "Now you know how to get a detailed overview of the dataset content. However, with large datasets, that may have a complex internal organization (many Groups, lot of data items and metadata...), the `print_dataset_content` return string can become very large. In this case, it becomes cumbersome to look for a specific information on a Group or on a particular data item. For this reason, the *SampleData* class provides methods to only print information on one or several data items of the dataset. They are presented in the next subsections."
   ]
  },
  {
   "cell_type": "markdown",
   "metadata": {},
   "source": [
    "### 3- Get information on data items"
   ]
  },
  {
   "cell_type": "markdown",
   "metadata": {},
   "source": [
    "To get information on a specific data item (including Groups), you may use the `print_node_info` method. This method has 2 arguments: the **name** argument, and the **short** argument. As explain in section II, the **name** argument can be one of the 4 possible identifier that the target node can have (name, path, indexname or alias). The **short** argument has the same effect on the printed output as for the `print_dataset_content` method. Let us look at some examples. Its default value is `False`, *i.e.* the detailed output.\n",
    "\n",
    "First, we will for instance want to have information on the Image Group that is stored in the dataset. The `print_index` and short `print_dataset_content` allowed us to see that this group has the name `test_image`, the indexname `image`, and the path `/test_image`. We will call the method with two of those identificators, and with the two possible values of the `short` argument."
   ]
  },
  {
   "cell_type": "code",
   "execution_count": 16,
   "metadata": {},
   "outputs": [
    {
     "name": "stdout",
     "output_type": "stream",
     "text": [
      "  |--GROUP test_image: /test_image (3DImage) \n",
      "\n"
     ]
    }
   ],
   "source": [
    "# Method called with data item indexname, and short output\n",
    "data.print_node_info(nodename='image', short=True)"
   ]
  },
  {
   "cell_type": "code",
   "execution_count": 17,
   "metadata": {},
   "outputs": [
    {
     "name": "stdout",
     "output_type": "stream",
     "text": [
      "\n",
      " GROUP test_image\n",
      "=====================\n",
      " -- Parent Group : /\n",
      " -- Group attributes : \n",
      "\t * description : \n",
      "\t * dimension : [9 9 9]\n",
      "\t * empty : False\n",
      "\t * group_type : 3DImage\n",
      "\t * nodes_dimension : [10 10 10]\n",
      "\t * nodes_dimension_xdmf : [10 10 10]\n",
      "\t * origin : [-1. -1. -1.]\n",
      "\t * spacing : [0.2 0.2 0.2]\n",
      "\t * time_list : [1.0, 2.0, 3.0]\n",
      "\t * xdmf_gridname : test_image\n",
      " -- Childrens : Field_index, test_image_field, test_tensor_T1_0, test_tensor_T2_0, test_tensor_T3_0, \n",
      "----------------\n",
      "\n"
     ]
    }
   ],
   "source": [
    "# Method called with data item Path and long output\n",
    "data.print_node_info(nodename='/test_image', short=False)"
   ]
  },
  {
   "cell_type": "markdown",
   "metadata": {},
   "source": [
    "You can observe that this method prints the same block of information that the one that appeared in the `print_dataset_content` method output, for the description of the *test_image* group. With this block, we can learn that this Group is a children of the root Group ('/'), that it has five childrens that are the data items named *Field_index*, *test_image_field*, and three items *test_tensor_TX_X*. We can also see its attributes names and values. Here they provide information on the nature of the Group, that is a 3D image group, and on the topology of this image (for instance, that it is a 9x9x9 voxel image, of size 0.2). Finally, we can see that grid data can be associated to a specific time. Indeed, three time values are provided for the image in the `time_list` attribute. They correspond to the time values associated to the three children arrays named *test_tensor_TX_X*.\n",
    "\n",
    "Let us now apply this method on a data item that is not a group, the `test_array` data item. The `print_index` function instructed us that this node has an alias name, that is `test_alias`. We will use it here to get information on this node, to illustrate the use of the only type of node indicator that has not been used throughout this notebook: "
   ]
  },
  {
   "cell_type": "code",
   "execution_count": 18,
   "metadata": {},
   "outputs": [
    {
     "name": "stdout",
     "output_type": "stream",
     "text": [
      "No group named test_alias\n"
     ]
    }
   ],
   "source": [
    "data.print_node_info('test_alias')"
   ]
  },
  {
   "cell_type": "markdown",
   "metadata": {},
   "source": [
    "Here, we can learn which is the Node parent, what is the node Name, see that it has no attributes, see that it is an array of shape (51,), that it is not stored with data compression (compresion level to 0), and that it occupies a disk space of 64 Kb.\n",
    "\n",
    "The `print_node_info` method is usefull to get information on a specific target, and avoir dealing with the sometimes too large output returned by the `print_dataset_content` method. "
   ]
  },
  {
   "cell_type": "markdown",
   "metadata": {},
   "source": [
    "### 4- Get information on Groups content"
   ]
  },
  {
   "cell_type": "markdown",
   "metadata": {},
   "source": [
    "The previous subsection showed that the `print_node_info` method applied on Groups returns only information about the group name, metadata and children names. The *SampleData* class offers a method that allows to print this information, with in addition, the detailed content of each children of the target group: the `print_group_content` method.\n",
    "\n",
    "Let us try it on the Mesh group of our test dataset:"
   ]
  },
  {
   "cell_type": "code",
   "execution_count": 19,
   "metadata": {},
   "outputs": [
    {
     "name": "stdout",
     "output_type": "stream",
     "text": [
      "\n",
      "****** Group test_mesh CONTENT ******\n",
      "\n",
      " NODE: /test_mesh/Field_index\n",
      "====================\n",
      " -- Parent Group : test_mesh\n",
      " -- Node name : Field_index\n",
      " -- Field_index attributes : \n",
      "\t * empty : True\n",
      "\t * node_type : string_array\n",
      "\n",
      " -- content : /test_mesh/Field_index (EArray(11,)) ''\n",
      " -- Compression options for node `/test_mesh/Field_index`:\n",
      "\tcomplevel=0, shuffle=False, bitshuffle=False, fletcher32=False, least_significant_digit=None\n",
      " --- Chunkshape: (257,)\n",
      " -- Node memory size :    63.999 Kb\n",
      "----------------\n",
      "\n",
      " GROUP Geometry\n",
      "=====================\n",
      " -- Parent Group : test_mesh\n",
      " -- Group attributes : \n",
      "\t * group_type : Group\n",
      " -- Childrens : ElementsTags, NodeTags, Elem_tag_type_list, Elem_tags_list, Elements, Node_tags_list, Nodes, Nodes_ID, \n",
      "----------------\n",
      " NODE: /test_mesh/Test_field1\n",
      "====================\n",
      " -- Parent Group : test_mesh\n",
      " -- Node name : Test_field1\n",
      " -- Test_field1 attributes : \n",
      "\t * empty : False\n",
      "\t * field_dimensionality : Scalar\n",
      "\t * field_type : Nodal_field\n",
      "\t * node_type : field_array\n",
      "\t * padding : None\n",
      "\t * parent_grid_path : /test_mesh\n",
      "\t * xdmf_fieldname : Test_field1\n",
      "\t * xdmf_gridname : test_mesh\n",
      "\n",
      " -- content : /test_mesh/Test_field1 (CArray(6, 1)) 'mesh_Test_field1'\n",
      " -- Compression options for node `/test_mesh/Test_field1`:\n",
      "\tcomplevel=0, shuffle=False, bitshuffle=False, fletcher32=False, least_significant_digit=None\n",
      " --- Chunkshape: (8192, 1)\n",
      " -- Node memory size :    64.000 Kb\n",
      "----------------\n",
      "\n",
      " NODE: /test_mesh/Test_field2\n",
      "====================\n",
      " -- Parent Group : test_mesh\n",
      " -- Node name : Test_field2\n",
      " -- Test_field2 attributes : \n",
      "\t * empty : False\n",
      "\t * field_dimensionality : Scalar\n",
      "\t * field_type : Nodal_field\n",
      "\t * node_type : field_array\n",
      "\t * padding : None\n",
      "\t * parent_grid_path : /test_mesh\n",
      "\t * xdmf_fieldname : Test_field2\n",
      "\t * xdmf_gridname : test_mesh\n",
      "\n",
      " -- content : /test_mesh/Test_field2 (CArray(6, 1)) 'mesh_Test_field2'\n",
      " -- Compression options for node `/test_mesh/Test_field2`:\n",
      "\tcomplevel=0, shuffle=False, bitshuffle=False, fletcher32=False, least_significant_digit=None\n",
      " --- Chunkshape: (8192, 1)\n",
      " -- Node memory size :    64.000 Kb\n",
      "----------------\n",
      "\n",
      " NODE: /test_mesh/Test_field3\n",
      "====================\n",
      " -- Parent Group : test_mesh\n",
      " -- Node name : Test_field3\n",
      " -- Test_field3 attributes : \n",
      "\t * empty : False\n",
      "\t * field_dimensionality : Scalar\n",
      "\t * field_type : Element_field\n",
      "\t * node_type : field_array\n",
      "\t * padding : bulk\n",
      "\t * parent_grid_path : /test_mesh\n",
      "\t * xdmf_fieldname : Test_field3\n",
      "\t * xdmf_gridname : test_mesh\n",
      "\n",
      " -- content : /test_mesh/Test_field3 (CArray(8, 1)) 'mesh_Test_field3'\n",
      " -- Compression options for node `/test_mesh/Test_field3`:\n",
      "\tcomplevel=0, shuffle=False, bitshuffle=False, fletcher32=False, least_significant_digit=None\n",
      " --- Chunkshape: (8192, 1)\n",
      " -- Node memory size :    64.000 Kb\n",
      "----------------\n",
      "\n",
      " NODE: /test_mesh/Test_field4\n",
      "====================\n",
      " -- Parent Group : test_mesh\n",
      " -- Node name : Test_field4\n",
      " -- Test_field4 attributes : \n",
      "\t * empty : False\n",
      "\t * field_dimensionality : Scalar\n",
      "\t * field_type : Element_field\n",
      "\t * node_type : field_array\n",
      "\t * padding : bulk\n",
      "\t * parent_grid_path : /test_mesh\n",
      "\t * xdmf_fieldname : Test_field4\n",
      "\t * xdmf_gridname : test_mesh\n",
      "\n",
      " -- content : /test_mesh/Test_field4 (CArray(8, 1)) 'mesh_Test_field4'\n",
      " -- Compression options for node `/test_mesh/Test_field4`:\n",
      "\tcomplevel=0, shuffle=False, bitshuffle=False, fletcher32=False, least_significant_digit=None\n",
      " --- Chunkshape: (8192, 1)\n",
      " -- Node memory size :    64.000 Kb\n",
      "----------------\n",
      "\n",
      " NODE: /test_mesh/test_vector_T1_0\n",
      "====================\n",
      " -- Parent Group : test_mesh\n",
      " -- Node name : test_vector_T1_0\n",
      " -- test_vector_T1_0 attributes : \n",
      "\t * empty : False\n",
      "\t * field_dimensionality : Vector\n",
      "\t * field_type : Nodal_field\n",
      "\t * node_type : field_array\n",
      "\t * padding : None\n",
      "\t * parent_grid_path : /test_mesh\n",
      "\t * time : 1.0\n",
      "\t * time_serie_name : test_vector\n",
      "\t * xdmf_fieldname : test_vector\n",
      "\t * xdmf_gridname : test_mesh\n",
      "\n",
      " -- content : /test_mesh/test_vector_T1_0 (CArray(6, 3)) 'vector_T1_0'\n",
      " -- Compression options for node `/test_mesh/test_vector_T1_0`:\n",
      "\tcomplevel=0, shuffle=False, bitshuffle=False, fletcher32=False, least_significant_digit=None\n",
      " --- Chunkshape: (2730, 3)\n",
      " -- Node memory size :    63.984 Kb\n",
      "----------------\n",
      "\n",
      " NODE: /test_mesh/test_vector_T2_0\n",
      "====================\n",
      " -- Parent Group : test_mesh\n",
      " -- Node name : test_vector_T2_0\n",
      " -- test_vector_T2_0 attributes : \n",
      "\t * empty : False\n",
      "\t * field_dimensionality : Vector\n",
      "\t * field_type : Nodal_field\n",
      "\t * node_type : field_array\n",
      "\t * padding : None\n",
      "\t * parent_grid_path : /test_mesh\n",
      "\t * time : 2.0\n",
      "\t * time_serie_name : test_vector\n",
      "\t * xdmf_fieldname : test_vector\n",
      "\t * xdmf_gridname : test_mesh\n",
      "\n",
      " -- content : /test_mesh/test_vector_T2_0 (CArray(6, 3)) 'vector_T2_0'\n",
      " -- Compression options for node `/test_mesh/test_vector_T2_0`:\n",
      "\tcomplevel=0, shuffle=False, bitshuffle=False, fletcher32=False, least_significant_digit=None\n",
      " --- Chunkshape: (2730, 3)\n",
      " -- Node memory size :    63.984 Kb\n",
      "----------------\n",
      "\n"
     ]
    }
   ],
   "source": [
    "data.print_group_content(groupname='test_mesh')"
   ]
  },
  {
   "cell_type": "markdown",
   "metadata": {},
   "source": [
    "Obviously, this methods is identical  to the `print_dataset_content` method, but restricted to one Group. As the first one, it has a `to_file`, a `short` and a `max_depth` arguments. These arguments work just as for `print_dataset_content` method, hence there use is not detailed here. the  However, you may see one difference here. In the output printed above, we see that the `test_mesh` group has a `Geometry` children which is a group, but whose content is not printed. The `print_group_content` has indeed, by default, a non-recursive behavior. To get a recursive print of the group content, you must set the `recursive` argument to `True`:"
   ]
  },
  {
   "cell_type": "code",
   "execution_count": 20,
   "metadata": {},
   "outputs": [
    {
     "name": "stdout",
     "output_type": "stream",
     "text": [
      "\n",
      "****** Group test_mesh CONTENT ******\n",
      "\n",
      " NODE: /test_mesh/Field_index\n",
      "====================\n",
      " -- Parent Group : test_mesh\n",
      " -- Node name : Field_index\n",
      " -- Field_index attributes : \n",
      "\t * empty : True\n",
      "\t * node_type : string_array\n",
      "\n",
      " -- content : /test_mesh/Field_index (EArray(11,)) ''\n",
      " -- Compression options for node `/test_mesh/Field_index`:\n",
      "\tcomplevel=0, shuffle=False, bitshuffle=False, fletcher32=False, least_significant_digit=None\n",
      " --- Chunkshape: (257,)\n",
      " -- Node memory size :    63.999 Kb\n",
      "----------------\n",
      "\n",
      " GROUP Geometry\n",
      "=====================\n",
      " -- Parent Group : test_mesh\n",
      " -- Group attributes : \n",
      "\t * group_type : Group\n",
      " -- Childrens : ElementsTags, NodeTags, Elem_tag_type_list, Elem_tags_list, Elements, Node_tags_list, Nodes, Nodes_ID, \n",
      "----------------\n",
      "****** Group /test_mesh/Geometry CONTENT ******\n",
      "\n",
      " NODE: /test_mesh/Geometry/Elem_tag_type_list\n",
      "====================\n",
      " -- Parent Group : Geometry\n",
      " -- Node name : Elem_tag_type_list\n",
      " -- Elem_tag_type_list attributes : \n",
      "\t * empty : False\n",
      "\t * node_type : string_array\n",
      "\n",
      " -- content : /test_mesh/Geometry/Elem_tag_type_list (EArray(3,)) ''\n",
      " -- Compression options for node `/test_mesh/Geometry/Elem_tag_type_list`:\n",
      "\tcomplevel=0, shuffle=False, bitshuffle=False, fletcher32=False, least_significant_digit=None\n",
      " --- Chunkshape: (257,)\n",
      " -- Node memory size :    63.999 Kb\n",
      "----------------\n",
      "\n",
      " NODE: /test_mesh/Geometry/Elem_tags_list\n",
      "====================\n",
      " -- Parent Group : Geometry\n",
      " -- Node name : Elem_tags_list\n",
      " -- Elem_tags_list attributes : \n",
      "\t * empty : False\n",
      "\t * node_type : string_array\n",
      "\n",
      " -- content : /test_mesh/Geometry/Elem_tags_list (EArray(3,)) ''\n",
      " -- Compression options for node `/test_mesh/Geometry/Elem_tags_list`:\n",
      "\tcomplevel=0, shuffle=False, bitshuffle=False, fletcher32=False, least_significant_digit=None\n",
      " --- Chunkshape: (257,)\n",
      " -- Node memory size :    63.999 Kb\n",
      "----------------\n",
      "\n",
      " NODE: /test_mesh/Geometry/Elements\n",
      "====================\n",
      " -- Parent Group : Geometry\n",
      " -- Node name : Elements\n",
      " -- Elements attributes : \n",
      "\t * empty : False\n",
      "\t * node_type : data_array\n",
      "\n",
      " -- content : /test_mesh/Geometry/Elements (CArray(24,)) 'mesh_Elements'\n",
      " -- Compression options for node `/test_mesh/Geometry/Elements`:\n",
      "\tcomplevel=0, shuffle=False, bitshuffle=False, fletcher32=False, least_significant_digit=None\n",
      " --- Chunkshape: (8192,)\n",
      " -- Node memory size :    64.000 Kb\n",
      "----------------\n",
      "\n",
      " GROUP ElementsTags\n",
      "=====================\n",
      " -- Parent Group : Geometry\n",
      " -- Group attributes : \n",
      "\t * group_type : Group\n",
      " -- Childrens : ET_2D, ET_Bottom, ET_Top, field_2D, field_Bottom, field_Top, \n",
      "----------------         -- Use \"get_mesh_elem_tags_names\" methods to print content.\n",
      "\n",
      " GROUP NodeTags\n",
      "=====================\n",
      " -- Parent Group : Geometry\n",
      " -- Group attributes : \n",
      "\t * group_type : Group\n",
      " -- Childrens : NT_Z0_plane, NT_out_of_plane, field_Z0_plane, field_out_of_plane, \n",
      "----------------         -- Use \"get_mesh_node_tags_names\" methods to print content.\n",
      "\n",
      " NODE: /test_mesh/Geometry/Node_tags_list\n",
      "====================\n",
      " -- Parent Group : Geometry\n",
      " -- Node name : Node_tags_list\n",
      " -- Node_tags_list attributes : \n",
      "\t * empty : False\n",
      "\t * node_type : string_array\n",
      "\n",
      " -- content : /test_mesh/Geometry/Node_tags_list (EArray(2,)) ''\n",
      " -- Compression options for node `/test_mesh/Geometry/Node_tags_list`:\n",
      "\tcomplevel=0, shuffle=False, bitshuffle=False, fletcher32=False, least_significant_digit=None\n",
      " --- Chunkshape: (257,)\n",
      " -- Node memory size :    63.999 Kb\n",
      "----------------\n",
      "\n",
      " NODE: /test_mesh/Geometry/Nodes\n",
      "====================\n",
      " -- Parent Group : Geometry\n",
      " -- Node name : Nodes\n",
      " -- Nodes attributes : \n",
      "\t * empty : False\n",
      "\t * node_type : data_array\n",
      "\n",
      " -- content : /test_mesh/Geometry/Nodes (CArray(6, 3)) 'mesh_Nodes'\n",
      " -- Compression options for node `/test_mesh/Geometry/Nodes`:\n",
      "\tcomplevel=0, shuffle=False, bitshuffle=False, fletcher32=False, least_significant_digit=None\n",
      " --- Chunkshape: (2730, 3)\n",
      " -- Node memory size :    63.984 Kb\n",
      "----------------\n",
      "\n",
      " NODE: /test_mesh/Geometry/Nodes_ID\n",
      "====================\n",
      " -- Parent Group : Geometry\n",
      " -- Node name : Nodes_ID\n",
      " -- Nodes_ID attributes : \n",
      "\t * empty : False\n",
      "\t * node_type : data_array\n",
      "\n",
      " -- content : /test_mesh/Geometry/Nodes_ID (CArray(6,)) 'mesh_Nodes_ID'\n",
      " -- Compression options for node `/test_mesh/Geometry/Nodes_ID`:\n",
      "\tcomplevel=0, shuffle=False, bitshuffle=False, fletcher32=False, least_significant_digit=None\n",
      " --- Chunkshape: (8192,)\n",
      " -- Node memory size :    64.000 Kb\n",
      "----------------\n",
      "\n",
      "\n",
      " NODE: /test_mesh/Test_field1\n",
      "====================\n",
      " -- Parent Group : test_mesh\n",
      " -- Node name : Test_field1\n",
      " -- Test_field1 attributes : \n",
      "\t * empty : False\n",
      "\t * field_dimensionality : Scalar\n",
      "\t * field_type : Nodal_field\n",
      "\t * node_type : field_array\n",
      "\t * padding : None\n",
      "\t * parent_grid_path : /test_mesh\n",
      "\t * xdmf_fieldname : Test_field1\n",
      "\t * xdmf_gridname : test_mesh\n",
      "\n",
      " -- content : /test_mesh/Test_field1 (CArray(6, 1)) 'mesh_Test_field1'\n",
      " -- Compression options for node `/test_mesh/Test_field1`:\n",
      "\tcomplevel=0, shuffle=False, bitshuffle=False, fletcher32=False, least_significant_digit=None\n",
      " --- Chunkshape: (8192, 1)\n",
      " -- Node memory size :    64.000 Kb\n",
      "----------------\n",
      "\n",
      " NODE: /test_mesh/Test_field2\n",
      "====================\n",
      " -- Parent Group : test_mesh\n",
      " -- Node name : Test_field2\n",
      " -- Test_field2 attributes : \n",
      "\t * empty : False\n",
      "\t * field_dimensionality : Scalar\n",
      "\t * field_type : Nodal_field\n",
      "\t * node_type : field_array\n",
      "\t * padding : None\n",
      "\t * parent_grid_path : /test_mesh\n",
      "\t * xdmf_fieldname : Test_field2\n",
      "\t * xdmf_gridname : test_mesh\n",
      "\n",
      " -- content : /test_mesh/Test_field2 (CArray(6, 1)) 'mesh_Test_field2'\n",
      " -- Compression options for node `/test_mesh/Test_field2`:\n",
      "\tcomplevel=0, shuffle=False, bitshuffle=False, fletcher32=False, least_significant_digit=None\n",
      " --- Chunkshape: (8192, 1)\n",
      " -- Node memory size :    64.000 Kb\n",
      "----------------\n",
      "\n",
      " NODE: /test_mesh/Test_field3\n",
      "====================\n",
      " -- Parent Group : test_mesh\n",
      " -- Node name : Test_field3\n",
      " -- Test_field3 attributes : \n",
      "\t * empty : False\n",
      "\t * field_dimensionality : Scalar\n",
      "\t * field_type : Element_field\n",
      "\t * node_type : field_array\n",
      "\t * padding : bulk\n",
      "\t * parent_grid_path : /test_mesh\n",
      "\t * xdmf_fieldname : Test_field3\n",
      "\t * xdmf_gridname : test_mesh\n",
      "\n",
      " -- content : /test_mesh/Test_field3 (CArray(8, 1)) 'mesh_Test_field3'\n",
      " -- Compression options for node `/test_mesh/Test_field3`:\n",
      "\tcomplevel=0, shuffle=False, bitshuffle=False, fletcher32=False, least_significant_digit=None\n",
      " --- Chunkshape: (8192, 1)\n",
      " -- Node memory size :    64.000 Kb\n",
      "----------------\n",
      "\n",
      " NODE: /test_mesh/Test_field4\n",
      "====================\n",
      " -- Parent Group : test_mesh\n",
      " -- Node name : Test_field4\n",
      " -- Test_field4 attributes : \n",
      "\t * empty : False\n",
      "\t * field_dimensionality : Scalar\n",
      "\t * field_type : Element_field\n",
      "\t * node_type : field_array\n",
      "\t * padding : bulk\n",
      "\t * parent_grid_path : /test_mesh\n",
      "\t * xdmf_fieldname : Test_field4\n",
      "\t * xdmf_gridname : test_mesh\n",
      "\n",
      " -- content : /test_mesh/Test_field4 (CArray(8, 1)) 'mesh_Test_field4'\n",
      " -- Compression options for node `/test_mesh/Test_field4`:\n",
      "\tcomplevel=0, shuffle=False, bitshuffle=False, fletcher32=False, least_significant_digit=None\n",
      " --- Chunkshape: (8192, 1)\n",
      " -- Node memory size :    64.000 Kb\n",
      "----------------\n",
      "\n",
      " NODE: /test_mesh/test_vector_T1_0\n",
      "====================\n",
      " -- Parent Group : test_mesh\n",
      " -- Node name : test_vector_T1_0\n",
      " -- test_vector_T1_0 attributes : \n",
      "\t * empty : False\n",
      "\t * field_dimensionality : Vector\n",
      "\t * field_type : Nodal_field\n",
      "\t * node_type : field_array\n",
      "\t * padding : None\n",
      "\t * parent_grid_path : /test_mesh\n",
      "\t * time : 1.0\n",
      "\t * time_serie_name : test_vector\n",
      "\t * xdmf_fieldname : test_vector\n",
      "\t * xdmf_gridname : test_mesh\n",
      "\n",
      " -- content : /test_mesh/test_vector_T1_0 (CArray(6, 3)) 'vector_T1_0'\n",
      " -- Compression options for node `/test_mesh/test_vector_T1_0`:\n",
      "\tcomplevel=0, shuffle=False, bitshuffle=False, fletcher32=False, least_significant_digit=None\n",
      " --- Chunkshape: (2730, 3)\n",
      " -- Node memory size :    63.984 Kb\n",
      "----------------\n",
      "\n",
      " NODE: /test_mesh/test_vector_T2_0\n",
      "====================\n",
      " -- Parent Group : test_mesh\n",
      " -- Node name : test_vector_T2_0\n",
      " -- test_vector_T2_0 attributes : \n",
      "\t * empty : False\n",
      "\t * field_dimensionality : Vector\n",
      "\t * field_type : Nodal_field\n",
      "\t * node_type : field_array\n",
      "\t * padding : None\n",
      "\t * parent_grid_path : /test_mesh\n",
      "\t * time : 2.0\n",
      "\t * time_serie_name : test_vector\n",
      "\t * xdmf_fieldname : test_vector\n",
      "\t * xdmf_gridname : test_mesh\n",
      "\n",
      " -- content : /test_mesh/test_vector_T2_0 (CArray(6, 3)) 'vector_T2_0'\n",
      " -- Compression options for node `/test_mesh/test_vector_T2_0`:\n",
      "\tcomplevel=0, shuffle=False, bitshuffle=False, fletcher32=False, least_significant_digit=None\n",
      " --- Chunkshape: (2730, 3)\n",
      " -- Node memory size :    63.984 Kb\n",
      "----------------\n",
      "\n"
     ]
    }
   ],
   "source": [
    "data.print_group_content('test_mesh', recursive=True)"
   ]
  },
  {
   "cell_type": "markdown",
   "metadata": {},
   "source": [
    "As you can see, the information on the childrens of the *Geometry* group have been printed. Note that the `max_depth` argument is considered by this method as an absolute depth, meaning that you have to specify a depth that is at least the depth of the target group to see some output printed for the group content. The default maximum depth for this method is set to a very high value of 1000. Hence, `print_group_content` prints by defaults group contents with a *recursive* behavior. Note also that `print_group_content` with the *recursive* option, is equivalent to  `print_dataset_content` but prints the dataset content as if the target group was the root."
   ]
  },
  {
   "cell_type": "markdown",
   "metadata": {},
   "source": [
    "### 5- Get information on grids"
   ]
  },
  {
   "cell_type": "markdown",
   "metadata": {},
   "source": [
    "One of the `SampleData` class main functionalities is the manipulation and storage of spatially organized data, which is handled by **Grid** groups in the data model. Because they are usually key data for mechanical sample datasets, the *SampleData* class provides a method to print Grouo informations only for Grid groups, the `print_grids_info` method:"
   ]
  },
  {
   "cell_type": "code",
   "execution_count": 21,
   "metadata": {},
   "outputs": [
    {
     "name": "stdout",
     "output_type": "stream",
     "text": [
      "\n",
      " GROUP test_image\n",
      "=====================\n",
      " -- Parent Group : /\n",
      " -- Group attributes : \n",
      "\t * description : \n",
      "\t * dimension : [9 9 9]\n",
      "\t * empty : False\n",
      "\t * group_type : 3DImage\n",
      "\t * nodes_dimension : [10 10 10]\n",
      "\t * nodes_dimension_xdmf : [10 10 10]\n",
      "\t * origin : [-1. -1. -1.]\n",
      "\t * spacing : [0.2 0.2 0.2]\n",
      "\t * time_list : [1.0, 2.0, 3.0]\n",
      "\t * xdmf_gridname : test_image\n",
      " -- Childrens : Field_index, test_image_field, test_tensor_T1_0, test_tensor_T2_0, test_tensor_T3_0, \n",
      "----------------\n",
      " GROUP test_mesh\n",
      "=====================\n",
      " -- Parent Group : /\n",
      " -- Group attributes : \n",
      "\t * Elements_offset : [0]\n",
      "\t * Number_of_boundary_elements : [0]\n",
      "\t * Number_of_bulk_elements : [8]\n",
      "\t * Number_of_elements : [8]\n",
      "\t * Topology : Uniform\n",
      "\t * Xdmf_elements_code : ['Triangle']\n",
      "\t * description :  \n",
      "\t * element_type : ['tri3']\n",
      "\t * elements_path : /test_mesh/Geometry/Elements\n",
      "\t * empty : False\n",
      "\t * group_type : 3DMesh\n",
      "\t * nodesID_path : /test_mesh/Geometry/Nodes_ID\n",
      "\t * nodes_path : /test_mesh/Geometry/Nodes\n",
      "\t * number_of_nodes : 6\n",
      "\t * time_list : [1.0, 2.0]\n",
      "\t * xdmf_gridname : test_mesh\n",
      " -- Childrens : Geometry, Field_index, Test_field1, Test_field2, Test_field3, Test_field4, test_vector_T1_0, test_vector_T2_0, \n",
      "----------------\n"
     ]
    }
   ],
   "source": [
    "data.print_grids_info()"
   ]
  },
  {
   "cell_type": "markdown",
   "metadata": {},
   "source": [
    "This method also has the `to_file` and `short` arguments of the `print_dataset_content` method:"
   ]
  },
  {
   "cell_type": "code",
   "execution_count": 22,
   "metadata": {},
   "outputs": [
    {
     "name": "stdout",
     "output_type": "stream",
     "text": [
      "  |--GROUP test_image: /test_image (3DImage) \r\n",
      "  |--GROUP test_mesh: /test_mesh (3DMesh) \r\n"
     ]
    }
   ],
   "source": [
    "data.print_grids_info(short=True, to_file='dataset_information.txt')\n",
    "%cat dataset_information.txt\n",
    "\n",
    "os.remove('dataset_information.txt')"
   ]
  },
  {
   "cell_type": "markdown",
   "metadata": {},
   "source": [
    "### 6- Get xdmf tree"
   ]
  },
  {
   "cell_type": "markdown",
   "metadata": {},
   "source": [
    "As explained in the [data management information page](./Data_Management.rst) the *SampleData* class can automatically produce a XDMF file containing metadata, describing Grid groups topology, data types and fields, contained in the HDF5 dataset. The class handles internally the construction of a XDMF tree structure that matches the data stored in the dataset, with the help of the **lxml** package. However, you may want to look at the content of the XDMF tree while you are interactively using your *SampleData* instance. In this case, you can use the `print_xdmf` method:"
   ]
  },
  {
   "cell_type": "code",
   "execution_count": 23,
   "metadata": {},
   "outputs": [
    {
     "name": "stdout",
     "output_type": "stream",
     "text": [
      "<Xdmf xmlns:xi=\"http://www.w3.org/2003/XInclude\" Version=\"2.2\">\n",
      "  <Domain>\n",
      "    <Grid Name=\"test_image\" GridType=\"Collection\" CollectionType=\"Temporal\">\n",
      "      <Grid Name=\"test_image_T0\" GridType=\"Uniform\">\n",
      "        <Time Value=\"1.0\"/>\n",
      "        <Topology TopologyType=\"3DCoRectMesh\" Dimensions=\"10 10 10\"/>\n",
      "        <Geometry Type=\"ORIGIN_DXDYDZ\">\n",
      "          <DataItem Format=\"XML\" Dimensions=\"3\">-1. -1. -1.</DataItem>\n",
      "          <DataItem Format=\"XML\" Dimensions=\"3\">0.2 0.2 0.2</DataItem>\n",
      "        </Geometry>\n",
      "        <Attribute Name=\"test_image_field\" AttributeType=\"Scalar\" Center=\"Node\">\n",
      "          <DataItem Format=\"HDF\" Dimensions=\"10  10  10\" NumberType=\"Int\" Precision=\"16\">test_sampledata_ref.h5:/test_image/test_image_field</DataItem>\n",
      "        </Attribute>\n",
      "        <Attribute Name=\"test_tensor\" AttributeType=\"Tensor\" Center=\"Node\">\n",
      "          <DataItem Format=\"HDF\" Dimensions=\"10  10  10  9\" NumberType=\"Float\" Precision=\"64\">test_sampledata_ref.h5:/test_image/test_tensor_T1_0</DataItem>\n",
      "        </Attribute>\n",
      "      </Grid>\n",
      "      <Grid Name=\"test_image_T1\" GridType=\"Uniform\">\n",
      "        <Time Value=\"2.0\"/>\n",
      "        <Topology TopologyType=\"3DCoRectMesh\" Dimensions=\"10 10 10\"/>\n",
      "        <Geometry Type=\"ORIGIN_DXDYDZ\">\n",
      "          <DataItem Format=\"XML\" Dimensions=\"3\">-1. -1. -1.</DataItem>\n",
      "          <DataItem Format=\"XML\" Dimensions=\"3\">0.2 0.2 0.2</DataItem>\n",
      "        </Geometry>\n",
      "        <Attribute Name=\"test_tensor\" AttributeType=\"Tensor\" Center=\"Node\">\n",
      "          <DataItem Format=\"HDF\" Dimensions=\"10  10  10  9\" NumberType=\"Float\" Precision=\"64\">test_sampledata_ref.h5:/test_image/test_tensor_T2_0</DataItem>\n",
      "        </Attribute>\n",
      "      </Grid>\n",
      "      <Grid Name=\"test_image_T2\" GridType=\"Uniform\">\n",
      "        <Time Value=\"3.0\"/>\n",
      "        <Topology TopologyType=\"3DCoRectMesh\" Dimensions=\"10 10 10\"/>\n",
      "        <Geometry Type=\"ORIGIN_DXDYDZ\">\n",
      "          <DataItem Format=\"XML\" Dimensions=\"3\">-1. -1. -1.</DataItem>\n",
      "          <DataItem Format=\"XML\" Dimensions=\"3\">0.2 0.2 0.2</DataItem>\n",
      "        </Geometry>\n",
      "        <Attribute Name=\"test_tensor\" AttributeType=\"Tensor\" Center=\"Node\">\n",
      "          <DataItem Format=\"HDF\" Dimensions=\"10  10  10  9\" NumberType=\"Float\" Precision=\"64\">test_sampledata_ref.h5:/test_image/test_tensor_T3_0</DataItem>\n",
      "        </Attribute>\n",
      "      </Grid>\n",
      "    </Grid>\n",
      "    <Grid Name=\"test_mesh\" GridType=\"Collection\" CollectionType=\"Temporal\">\n",
      "      <Grid Name=\"test_mesh_T0\" GridType=\"Uniform\">\n",
      "        <Time Value=\"1.0\"/>\n",
      "        <Topology TopologyType=\"Triangle\" NumberOfElements=\"8\">\n",
      "          <DataItem Format=\"HDF\" Dimensions=\"24 \" NumberType=\"Int\" Precision=\"64\">test_sampledata_ref.h5:/test_mesh/Geometry/Elements</DataItem>\n",
      "        </Topology>\n",
      "        <Geometry Type=\"XYZ\">\n",
      "          <DataItem Format=\"HDF\" Dimensions=\"6  3\" NumberType=\"Float\" Precision=\"64\">test_sampledata_ref.h5:/test_mesh/Geometry/Nodes</DataItem>\n",
      "        </Geometry>\n",
      "        <Attribute Name=\"field_Z0_plane\" AttributeType=\"Scalar\" Center=\"Node\">\n",
      "          <DataItem Format=\"HDF\" Dimensions=\"6  1\" NumberType=\"Int\" Precision=\"8\">test_sampledata_ref.h5:/test_mesh/Geometry/NodeTags/field_Z0_plane</DataItem>\n",
      "        </Attribute>\n",
      "        <Attribute Name=\"field_out_of_plane\" AttributeType=\"Scalar\" Center=\"Node\">\n",
      "          <DataItem Format=\"HDF\" Dimensions=\"6  1\" NumberType=\"Int\" Precision=\"8\">test_sampledata_ref.h5:/test_mesh/Geometry/NodeTags/field_out_of_plane</DataItem>\n",
      "        </Attribute>\n",
      "        <Attribute Name=\"field_2D\" AttributeType=\"Scalar\" Center=\"Cell\">\n",
      "          <DataItem Format=\"HDF\" Dimensions=\"8  1\" NumberType=\"Float\" Precision=\"64\">test_sampledata_ref.h5:/test_mesh/Geometry/ElementsTags/field_2D</DataItem>\n",
      "        </Attribute>\n",
      "        <Attribute Name=\"field_Top\" AttributeType=\"Scalar\" Center=\"Cell\">\n",
      "          <DataItem Format=\"HDF\" Dimensions=\"8  1\" NumberType=\"Float\" Precision=\"64\">test_sampledata_ref.h5:/test_mesh/Geometry/ElementsTags/field_Top</DataItem>\n",
      "        </Attribute>\n",
      "        <Attribute Name=\"field_Bottom\" AttributeType=\"Scalar\" Center=\"Cell\">\n",
      "          <DataItem Format=\"HDF\" Dimensions=\"8  1\" NumberType=\"Float\" Precision=\"64\">test_sampledata_ref.h5:/test_mesh/Geometry/ElementsTags/field_Bottom</DataItem>\n",
      "        </Attribute>\n",
      "        <Attribute Name=\"Test_field1\" AttributeType=\"Scalar\" Center=\"Node\">\n",
      "          <DataItem Format=\"HDF\" Dimensions=\"6  1\" NumberType=\"Float\" Precision=\"64\">test_sampledata_ref.h5:/test_mesh/Test_field1</DataItem>\n",
      "        </Attribute>\n",
      "        <Attribute Name=\"Test_field2\" AttributeType=\"Scalar\" Center=\"Node\">\n",
      "          <DataItem Format=\"HDF\" Dimensions=\"6  1\" NumberType=\"Float\" Precision=\"64\">test_sampledata_ref.h5:/test_mesh/Test_field2</DataItem>\n",
      "        </Attribute>\n",
      "        <Attribute Name=\"Test_field3\" AttributeType=\"Scalar\" Center=\"Cell\">\n",
      "          <DataItem Format=\"HDF\" Dimensions=\"8  1\" NumberType=\"Float\" Precision=\"64\">test_sampledata_ref.h5:/test_mesh/Test_field3</DataItem>\n",
      "        </Attribute>\n",
      "        <Attribute Name=\"Test_field4\" AttributeType=\"Scalar\" Center=\"Cell\">\n",
      "          <DataItem Format=\"HDF\" Dimensions=\"8  1\" NumberType=\"Float\" Precision=\"64\">test_sampledata_ref.h5:/test_mesh/Test_field4</DataItem>\n",
      "        </Attribute>\n",
      "        <Attribute Name=\"test_vector\" AttributeType=\"Vector\" Center=\"Node\">\n",
      "          <DataItem Format=\"HDF\" Dimensions=\"6  3\" NumberType=\"Float\" Precision=\"64\">test_sampledata_ref.h5:/test_mesh/test_vector_T1_0</DataItem>\n",
      "        </Attribute>\n",
      "      </Grid>\n",
      "      <Grid Name=\"test_mesh_T1\" GridType=\"Uniform\">\n",
      "        <Time Value=\"2.0\"/>\n",
      "        <Topology TopologyType=\"Triangle\" NumberOfElements=\"8\">\n",
      "          <DataItem Format=\"HDF\" Dimensions=\"24 \" NumberType=\"Int\" Precision=\"64\">test_sampledata_ref.h5:/test_mesh/Geometry/Elements</DataItem>\n",
      "        </Topology>\n",
      "        <Geometry Type=\"XYZ\">\n",
      "          <DataItem Format=\"HDF\" Dimensions=\"6  3\" NumberType=\"Float\" Precision=\"64\">test_sampledata_ref.h5:/test_mesh/Geometry/Nodes</DataItem>\n",
      "        </Geometry>\n",
      "        <Attribute Name=\"test_vector\" AttributeType=\"Vector\" Center=\"Node\">\n",
      "          <DataItem Format=\"HDF\" Dimensions=\"6  3\" NumberType=\"Float\" Precision=\"64\">test_sampledata_ref.h5:/test_mesh/test_vector_T2_0</DataItem>\n",
      "        </Attribute>\n",
      "      </Grid>\n",
      "    </Grid>\n",
      "  </Domain>\n",
      "</Xdmf>\n",
      "\n"
     ]
    }
   ],
   "source": [
    "data.print_xdmf()"
   ]
  },
  {
   "cell_type": "markdown",
   "metadata": {},
   "source": [
    "As you can observe, you will get a print of the content of the XDMF file that would be written if you would close the file right now. You can observe that the XDMF file provides information on the grids that match those given by the Groups and Nodes attributes printed above with the previously studied method: the test image is a regular grid of 10x10x10 nodes, *i.e.* a 9x9x9 voxels grid. Only one field is defined on *test_image*, *test_image_field*, whereas two are defined on *test_mesh*.\n",
    "\n",
    "This XDMF file can directly be opened in Paraview, if both file are closed. If any syntax or formatting issue is encountered when Paraview reads the XDMF file, it will return an error message and the data visualization will not be rendered. The `print_xdmf` method allows you to verify your XDMF data and syntax, to make sure that the data formatting is correct."
   ]
  },
  {
   "cell_type": "markdown",
   "metadata": {},
   "source": [
    "To generate the XDMF file associated to this tree, you can use the following method:"
   ]
  },
  {
   "cell_type": "code",
   "execution_count": 24,
   "metadata": {},
   "outputs": [
    {
     "name": "stdout",
     "output_type": "stream",
     "text": [
      "<?xml version='1.0' ?>\r\n",
      "<!DOCTYPE Xdmf SYSTEM \"Xdmf.dtd\"[]>\r\n",
      "<Xdmf xmlns:xi=\"http://www.w3.org/2003/XInclude\" Version=\"2.2\">\r\n",
      "  <Domain>\r\n",
      "    <Grid Name=\"test_image\" GridType=\"Collection\" CollectionType=\"Temporal\">\r\n",
      "      <Grid Name=\"test_image_T0\" GridType=\"Uniform\">\r\n",
      "        <Time Value=\"1.0\"/>\r\n",
      "        <Topology TopologyType=\"3DCoRectMesh\" Dimensions=\"10 10 10\"/>\r\n",
      "        <Geometry Type=\"ORIGIN_DXDYDZ\">\r\n",
      "          <DataItem Format=\"XML\" Dimensions=\"3\">-1. -1. -1.</DataItem>\r\n",
      "          <DataItem Format=\"XML\" Dimensions=\"3\">0.2 0.2 0.2</DataItem>\r\n",
      "        </Geometry>\r\n",
      "        <Attribute Name=\"test_image_field\" AttributeType=\"Scalar\" Center=\"Node\">\r\n",
      "          <DataItem Format=\"HDF\" Dimensions=\"10  10  10\" NumberType=\"Int\" Precision=\"16\">test_sampledata_ref.h5:/test_image/test_image_field</DataItem>\r\n",
      "        </Attribute>\r\n",
      "        <Attribute Name=\"test_tensor\" AttributeType=\"Tensor\" Center=\"Node\">\r\n",
      "          <DataItem Format=\"HDF\" Dimensions=\"10  10  10  9\" NumberType=\"Float\" Precision=\"64\">test_sampledata_ref.h5:/test_image/test_tensor_T1_0</DataItem>\r\n",
      "        </Attribute>\r\n",
      "      </Grid>\r\n",
      "      <Grid Name=\"test_image_T1\" GridType=\"Uniform\">\r\n",
      "        <Time Value=\"2.0\"/>\r\n",
      "        <Topology TopologyType=\"3DCoRectMesh\" Dimensions=\"10 10 10\"/>\r\n",
      "        <Geometry Type=\"ORIGIN_DXDYDZ\">\r\n",
      "          <DataItem Format=\"XML\" Dimensions=\"3\">-1. -1. -1.</DataItem>\r\n",
      "          <DataItem Format=\"XML\" Dimensions=\"3\">0.2 0.2 0.2</DataItem>\r\n",
      "        </Geometry>\r\n",
      "        <Attribute Name=\"test_tensor\" AttributeType=\"Tensor\" Center=\"Node\">\r\n",
      "          <DataItem Format=\"HDF\" Dimensions=\"10  10  10  9\" NumberType=\"Float\" Precision=\"64\">test_sampledata_ref.h5:/test_image/test_tensor_T2_0</DataItem>\r\n",
      "        </Attribute>\r\n",
      "      </Grid>\r\n",
      "      <Grid Name=\"test_image_T2\" GridType=\"Uniform\">\r\n",
      "        <Time Value=\"3.0\"/>\r\n",
      "        <Topology TopologyType=\"3DCoRectMesh\" Dimensions=\"10 10 10\"/>\r\n",
      "        <Geometry Type=\"ORIGIN_DXDYDZ\">\r\n",
      "          <DataItem Format=\"XML\" Dimensions=\"3\">-1. -1. -1.</DataItem>\r\n",
      "          <DataItem Format=\"XML\" Dimensions=\"3\">0.2 0.2 0.2</DataItem>\r\n",
      "        </Geometry>\r\n",
      "        <Attribute Name=\"test_tensor\" AttributeType=\"Tensor\" Center=\"Node\">\r\n",
      "          <DataItem Format=\"HDF\" Dimensions=\"10  10  10  9\" NumberType=\"Float\" Precision=\"64\">test_sampledata_ref.h5:/test_image/test_tensor_T3_0</DataItem>\r\n",
      "        </Attribute>\r\n",
      "      </Grid>\r\n",
      "    </Grid>\r\n",
      "    <Grid Name=\"test_mesh\" GridType=\"Collection\" CollectionType=\"Temporal\">\r\n",
      "      <Grid Name=\"test_mesh_T0\" GridType=\"Uniform\">\r\n",
      "        <Time Value=\"1.0\"/>\r\n",
      "        <Topology TopologyType=\"Triangle\" NumberOfElements=\"8\">\r\n",
      "          <DataItem Format=\"HDF\" Dimensions=\"24 \" NumberType=\"Int\" Precision=\"64\">test_sampledata_ref.h5:/test_mesh/Geometry/Elements</DataItem>\r\n",
      "        </Topology>\r\n",
      "        <Geometry Type=\"XYZ\">\r\n",
      "          <DataItem Format=\"HDF\" Dimensions=\"6  3\" NumberType=\"Float\" Precision=\"64\">test_sampledata_ref.h5:/test_mesh/Geometry/Nodes</DataItem>\r\n",
      "        </Geometry>\r\n",
      "        <Attribute Name=\"field_Z0_plane\" AttributeType=\"Scalar\" Center=\"Node\">\r\n",
      "          <DataItem Format=\"HDF\" Dimensions=\"6  1\" NumberType=\"Int\" Precision=\"8\">test_sampledata_ref.h5:/test_mesh/Geometry/NodeTags/field_Z0_plane</DataItem>\r\n",
      "        </Attribute>\r\n",
      "        <Attribute Name=\"field_out_of_plane\" AttributeType=\"Scalar\" Center=\"Node\">\r\n",
      "          <DataItem Format=\"HDF\" Dimensions=\"6  1\" NumberType=\"Int\" Precision=\"8\">test_sampledata_ref.h5:/test_mesh/Geometry/NodeTags/field_out_of_plane</DataItem>\r\n",
      "        </Attribute>\r\n",
      "        <Attribute Name=\"field_2D\" AttributeType=\"Scalar\" Center=\"Cell\">\r\n",
      "          <DataItem Format=\"HDF\" Dimensions=\"8  1\" NumberType=\"Float\" Precision=\"64\">test_sampledata_ref.h5:/test_mesh/Geometry/ElementsTags/field_2D</DataItem>\r\n",
      "        </Attribute>\r\n",
      "        <Attribute Name=\"field_Top\" AttributeType=\"Scalar\" Center=\"Cell\">\r\n",
      "          <DataItem Format=\"HDF\" Dimensions=\"8  1\" NumberType=\"Float\" Precision=\"64\">test_sampledata_ref.h5:/test_mesh/Geometry/ElementsTags/field_Top</DataItem>\r\n",
      "        </Attribute>\r\n",
      "        <Attribute Name=\"field_Bottom\" AttributeType=\"Scalar\" Center=\"Cell\">\r\n",
      "          <DataItem Format=\"HDF\" Dimensions=\"8  1\" NumberType=\"Float\" Precision=\"64\">test_sampledata_ref.h5:/test_mesh/Geometry/ElementsTags/field_Bottom</DataItem>\r\n",
      "        </Attribute>\r\n",
      "        <Attribute Name=\"Test_field1\" AttributeType=\"Scalar\" Center=\"Node\">\r\n",
      "          <DataItem Format=\"HDF\" Dimensions=\"6  1\" NumberType=\"Float\" Precision=\"64\">test_sampledata_ref.h5:/test_mesh/Test_field1</DataItem>\r\n",
      "        </Attribute>\r\n",
      "        <Attribute Name=\"Test_field2\" AttributeType=\"Scalar\" Center=\"Node\">\r\n",
      "          <DataItem Format=\"HDF\" Dimensions=\"6  1\" NumberType=\"Float\" Precision=\"64\">test_sampledata_ref.h5:/test_mesh/Test_field2</DataItem>\r\n",
      "        </Attribute>\r\n",
      "        <Attribute Name=\"Test_field3\" AttributeType=\"Scalar\" Center=\"Cell\">\r\n",
      "          <DataItem Format=\"HDF\" Dimensions=\"8  1\" NumberType=\"Float\" Precision=\"64\">test_sampledata_ref.h5:/test_mesh/Test_field3</DataItem>\r\n",
      "        </Attribute>\r\n",
      "        <Attribute Name=\"Test_field4\" AttributeType=\"Scalar\" Center=\"Cell\">\r\n",
      "          <DataItem Format=\"HDF\" Dimensions=\"8  1\" NumberType=\"Float\" Precision=\"64\">test_sampledata_ref.h5:/test_mesh/Test_field4</DataItem>\r\n",
      "        </Attribute>\r\n",
      "        <Attribute Name=\"test_vector\" AttributeType=\"Vector\" Center=\"Node\">\r\n",
      "          <DataItem Format=\"HDF\" Dimensions=\"6  3\" NumberType=\"Float\" Precision=\"64\">test_sampledata_ref.h5:/test_mesh/test_vector_T1_0</DataItem>\r\n",
      "        </Attribute>\r\n",
      "      </Grid>\r\n",
      "      <Grid Name=\"test_mesh_T1\" GridType=\"Uniform\">\r\n",
      "        <Time Value=\"2.0\"/>\r\n",
      "        <Topology TopologyType=\"Triangle\" NumberOfElements=\"8\">\r\n",
      "          <DataItem Format=\"HDF\" Dimensions=\"24 \" NumberType=\"Int\" Precision=\"64\">test_sampledata_ref.h5:/test_mesh/Geometry/Elements</DataItem>\r\n",
      "        </Topology>\r\n",
      "        <Geometry Type=\"XYZ\">\r\n",
      "          <DataItem Format=\"HDF\" Dimensions=\"6  3\" NumberType=\"Float\" Precision=\"64\">test_sampledata_ref.h5:/test_mesh/Geometry/Nodes</DataItem>\r\n",
      "        </Geometry>\r\n",
      "        <Attribute Name=\"test_vector\" AttributeType=\"Vector\" Center=\"Node\">\r\n",
      "          <DataItem Format=\"HDF\" Dimensions=\"6  3\" NumberType=\"Float\" Precision=\"64\">test_sampledata_ref.h5:/test_mesh/test_vector_T2_0</DataItem>\r\n",
      "        </Attribute>\r\n",
      "      </Grid>\r\n",
      "    </Grid>\r\n",
      "  </Domain>\r\n",
      "</Xdmf>\r\n"
     ]
    }
   ],
   "source": [
    "data.write_xdmf(filename='test.xdmf')\n",
    "%cat test.xdmf  # print XDMF file content\n",
    "\n",
    "os.remove('test.xdmf')"
   ]
  },
  {
   "cell_type": "markdown",
   "metadata": {},
   "source": [
    "This method has a `filename` argument, that can be used to specify the name of the written XDMF file. If it is not specified, the file will be written with the same basename as the HDF5 dataset file. This XDMF can be opened with Paraview to visualize the 3D data that the dataset contains. For that, the two files must be in the same directory.\n",
    "\n",
    "<div class=\"alert alert-info\">\n",
    "\n",
    "**Note** \n",
    "    \n",
    "**The XDMF file associated to the dataset is automatically written when you close a dataset.**\n",
    "</div>"
   ]
  },
  {
   "cell_type": "markdown",
   "metadata": {},
   "source": [
    "### 7- Get memory size of file and data items"
   ]
  },
  {
   "cell_type": "markdown",
   "metadata": {},
   "source": [
    "*SampleData* is designed to create large datasets, with data items that can reprensent tens Gb of data or more. Being able to easily see and identify which data items use the most disk space is a crucial aspect for data management. Until now, with the method we have reviewed, we only have been able to print the Nodes disk sizes together with a lot of other information. In order to speed up this process, the *SampleData* class has one method that allow to directly query and print only the memory size of a Node, the `get_node_disk_size` method:"
   ]
  },
  {
   "cell_type": "code",
   "execution_count": 25,
   "metadata": {},
   "outputs": [
    {
     "name": "stdout",
     "output_type": "stream",
     "text": [
      "Node test_array size on disk is    64.000 Kb\n"
     ]
    },
    {
     "data": {
      "text/plain": [
       "(64.0, 'Kb')"
      ]
     },
     "execution_count": 25,
     "metadata": {},
     "output_type": "execute_result"
    }
   ],
   "source": [
    "data.get_node_disk_size(nodename='test_array')"
   ]
  },
  {
   "cell_type": "markdown",
   "metadata": {},
   "source": [
    "As you can see, the default behavior of this method is to print a message indicating the Node disk size, but also to return a tuple containing the value of the disk size and its unit. If you want to print data in bytes, you may call this method with the `convert` argument set to `False`:"
   ]
  },
  {
   "cell_type": "code",
   "execution_count": 26,
   "metadata": {},
   "outputs": [
    {
     "name": "stdout",
     "output_type": "stream",
     "text": [
      "Node test_array size on disk is 65536.000 bytes\n"
     ]
    },
    {
     "data": {
      "text/plain": [
       "(65536, 'bytes')"
      ]
     },
     "execution_count": 26,
     "metadata": {},
     "output_type": "execute_result"
    }
   ],
   "source": [
    "data.get_node_disk_size(nodename='test_array', convert=False)"
   ]
  },
  {
   "cell_type": "markdown",
   "metadata": {},
   "source": [
    "If you want to use this method to get a numerical value within a script, but do not want the class to print anything, you can use the `print_flag` argument:"
   ]
  },
  {
   "cell_type": "code",
   "execution_count": 27,
   "metadata": {},
   "outputs": [
    {
     "name": "stdout",
     "output_type": "stream",
     "text": [
      "node size is 64.0 Kb\n",
      "node size is 65536 bytes\n"
     ]
    }
   ],
   "source": [
    "size, unit = data.get_node_disk_size(nodename='test_array', print_flag=False)\n",
    "print(f'node size is {size} {unit}')\n",
    "\n",
    "size, unit = data.get_node_disk_size(nodename='test_array', print_flag=False, convert=False)\n",
    "print(f'node size is {size} {unit}')"
   ]
  },
  {
   "cell_type": "markdown",
   "metadata": {},
   "source": [
    "The disk size of the whole HDF5 file can also be printed/returned, using the `get_file_disk_size` method, that has the same `print_flag` and `convert` arguments: "
   ]
  },
  {
   "cell_type": "code",
   "execution_count": 28,
   "metadata": {},
   "outputs": [
    {
     "name": "stdout",
     "output_type": "stream",
     "text": [
      "File size is     1.670 Mb for file \n",
      " test_sampledata_ref.h5\n",
      "\n",
      "Printed by script: file size is 1750685 bytes\n"
     ]
    }
   ],
   "source": [
    "data.get_file_disk_size()\n",
    "\n",
    "size, unit = data.get_file_disk_size(convert=False, print_flag=False)\n",
    "print(f'\\nPrinted by script: file size is {size} {unit}')"
   ]
  },
  {
   "cell_type": "markdown",
   "metadata": {},
   "source": [
    "### 8- Get nodes/groups attributes (metadata)\n"
   ]
  },
  {
   "cell_type": "markdown",
   "metadata": {},
   "source": [
    "Another central aspect of the *SampleData* class is the management of metadata, that can be attached to all Groups or Nodes of the dataset. Metadata comes in the form of HDF5 attributes, that are Name/Value pairs, and that we already encountered when exploring the outputs of methods like `print_dataset_content`, `print_node_info`...\n",
    "\n",
    "Those methods print the Group/Node attributes together with other information. To only print the attributes of a given data item, you can use the `print_node_attributes` method:"
   ]
  },
  {
   "cell_type": "code",
   "execution_count": 29,
   "metadata": {},
   "outputs": [
    {
     "name": "stdout",
     "output_type": "stream",
     "text": [
      " -- test_mesh attributes : \n",
      "\t * Elements_offset : [0]\n",
      "\t * Number_of_boundary_elements : [0]\n",
      "\t * Number_of_bulk_elements : [8]\n",
      "\t * Number_of_elements : [8]\n",
      "\t * Topology : Uniform\n",
      "\t * Xdmf_elements_code : ['Triangle']\n",
      "\t * description :  \n",
      "\t * element_type : ['tri3']\n",
      "\t * elements_path : /test_mesh/Geometry/Elements\n",
      "\t * empty : False\n",
      "\t * group_type : 3DMesh\n",
      "\t * nodesID_path : /test_mesh/Geometry/Nodes_ID\n",
      "\t * nodes_path : /test_mesh/Geometry/Nodes\n",
      "\t * number_of_nodes : 6\n",
      "\t * time_list : [1.0, 2.0]\n",
      "\t * xdmf_gridname : test_mesh\n",
      "\n"
     ]
    }
   ],
   "source": [
    "data.print_node_attributes(nodename='test_mesh')"
   ]
  },
  {
   "cell_type": "markdown",
   "metadata": {},
   "source": [
    "As you can see, this method prints a list of all data item attributes, with the format `* Name : Value \\n`.\n",
    "It allows you to quickly see what attributes are stored together with a given data item, and their values. \n",
    "\n",
    "If you want to get the value of a specific attribute, you can use the `get_attribute` method. It takes two arguments, the name of the attribute you want to retrieve, and the name of the data item where it is stored:"
   ]
  },
  {
   "cell_type": "code",
   "execution_count": 30,
   "metadata": {},
   "outputs": [
    {
     "name": "stdout",
     "output_type": "stream",
     "text": [
      "The mesh test_mesh has 6 nodes\n"
     ]
    }
   ],
   "source": [
    "Nnodes = data.get_attribute(attrname='number_of_nodes', nodename='test_mesh')\n",
    "print(f'The mesh test_mesh has {Nnodes} nodes')"
   ]
  },
  {
   "cell_type": "markdown",
   "metadata": {},
   "source": [
    "You can also get all attributes of a data item as a dictionary. In this case, you just need to specify the name of the data item from which you want attributes, and use the `get_dic_from_attributes` method:"
   ]
  },
  {
   "cell_type": "code",
   "execution_count": 31,
   "metadata": {},
   "outputs": [
    {
     "name": "stdout",
     "output_type": "stream",
     "text": [
      " Attribute Elements_offset is [0]\n",
      " Attribute Number_of_boundary_elements is [0]\n",
      " Attribute Number_of_bulk_elements is [8]\n",
      " Attribute Number_of_elements is [8]\n",
      " Attribute Topology is Uniform\n",
      " Attribute Xdmf_elements_code is ['Triangle']\n",
      " Attribute description is  \n",
      " Attribute element_type is ['tri3']\n",
      " Attribute elements_path is /test_mesh/Geometry/Elements\n",
      " Attribute empty is False\n",
      " Attribute group_type is 3DMesh\n",
      " Attribute nodesID_path is /test_mesh/Geometry/Nodes_ID\n",
      " Attribute nodes_path is /test_mesh/Geometry/Nodes\n",
      " Attribute number_of_nodes is 6\n",
      " Attribute time_list is [1.0, 2.0]\n",
      " Attribute xdmf_gridname is test_mesh\n"
     ]
    }
   ],
   "source": [
    "mesh_attrs = data.get_dic_from_attributes(nodename='test_mesh')\n",
    "\n",
    "for name, value in mesh_attrs.items():\n",
    "    print(f' Attribute {name} is {value}')"
   ]
  },
  {
   "cell_type": "markdown",
   "metadata": {},
   "source": [
    "We have now seen how to explore all of types of information that a *SampleData* dataset may contain, individually or all together, interactively, from a Python console. Let us review now how to explore the content of *SampleData* datasets with external softwares."
   ]
  },
  {
   "cell_type": "markdown",
   "metadata": {},
   "source": [
    "## III - Visualize dataset contents with Vitables"
   ]
  },
  {
   "cell_type": "markdown",
   "metadata": {},
   "source": [
    "All the information that you can get with all the methods presented in the previous section can also be accessed externally by opening the HDF5 dataset file with the **Vitables** software. This software is usually part of the *Pytables* package, that is a dependency of *pymicro*. You should be able to use it in a Python environement compatible with *pymicro*. If needed, you may refer to the *Vitables* website to find download and installations instructions for *PyPi* or *conda*: https://vitables.org/.\n",
    "\n",
    "*Vitables* provide a graphical interface that allows you to browse through all your dataset data items, and access or modify their stored data and metadata values. You may either open *Vitables* and then open your HDF5 dataset file from the *Vitables* interface, or you can directly open Vitables to read a specfic file from command line, by running:\n",
    "`vitables my_dataset_path.h5`. \n",
    "\n",
    "This command will work only if your dataset file is closed (if the *SampleData* instance still exists in your Python console, this will not work, you first need to delete your instance to close the files). \n",
    "\n",
    "However, the *SampleData* class has a specific method to allowing to open your dataset with *Vitables* interactively, directly from your Python console: the method `pause_for_visualization`. As explained just above, this method closes the HDF5 dataset, and runs in your shell the command `vitables my_dataset_path.h5`. Then, it freezes the interactive Python console and keep the dataset files closed, for as long as the *Vitables* software is running. When *Vitables* is shutdown, the *SampleData* class will reopen the HDF5 file, synchronize with them and resume the interactive Python console. \n",
    "\n",
    "<div class=\"alert alert-warning\">\n",
    "\n",
    "**Warning** \n",
    "    \n",
    "When calling the `pause_for_visualization` method from a python console (ipython, Jupyter...), you may face environment issue leading to your shell not finding the proper *Vitables* software executable. To ensure that the right *Vitables* is found, the method can take an optional argument `Vitables_path`. If this argument is passed, the method will run, after closing the HDF5 dataset, the command \n",
    "`Vitables_path my_dataset_path.h5`\n",
    "</div>\n",
    "\n",
    "\n",
    "<div class=\"alert alert-info\">\n",
    "\n",
    "**Note** \n",
    "    \n",
    "The method is not called here to allow automatic execution of the Notebook when building the documentation on a platform that do not have Vitables available.\n",
    "</div>"
   ]
  },
  {
   "cell_type": "code",
   "execution_count": 32,
   "metadata": {},
   "outputs": [],
   "source": [
    "# uncomment to test \n",
    "# data.pause_for_visualization(Vitables=True, Vitables_path='Path_to_Vitables_executable')"
   ]
  },
  {
   "cell_type": "markdown",
   "metadata": {},
   "source": [
    "Please refer to the *Vitables* documentation, that can be downloaded here https://sourceforge.net/projects/vitables/files/ViTables-3.0.0/, to learn how to browse through your HDF5 file. The Vitables software is very intuitive, you will see that it is provides a usefull and convenient tool to explore your SampleData datasets outside of your interactive Python consoles. "
   ]
  },
  {
   "cell_type": "markdown",
   "metadata": {},
   "source": [
    "## IV - Visualize datasets grids and fields with Paraview"
   ]
  },
  {
   "cell_type": "markdown",
   "metadata": {},
   "source": [
    "As for **Vitables**, the `pause_for_visualization` method allows you to open your dataset with Paraview, interactively from a Python console. \n",
    "\n",
    "Paraview will provide you with a very powerfull visualization tool to render your spatially organized data (grids) stored in your datasets. Unlike *Vitables*, *Paraview* must read a XDMF file to be able to render 3D data. Hence, if you want to open your dataset with Paraview, outside of a Python console, make sure to have Paraview in your PATH, that you have generated the XDMF file associated to your HDF5 dataset and that both are in the same directory (see above), and run in your shell the command:\n",
    "`paraview my_dataset_path.xdmf`.\n",
    "\n",
    "As you may have guessed, the `pause_for_visualization` method, when called interactively with the *Paraview* argument set to *True*, will execute those steps automatically, just like for the *Vitables* option. The dataset will remained closed and the Python console freezed for as long as you will keep the Paraview software running. When you shutdown Paraview, the *SampleData* class will reopen the HDF5 file, synchronize with them and resume the interactive Python console. \n",
    "\n",
    "<div class=\"alert alert-warning\">\n",
    "\n",
    "**Warning** \n",
    "    \n",
    "When calling the `pause_for_visualization` method from a python console (ipython, Jupyter...), you may face environment issues, leading to the interactive console not finding the proper *Paraview* executable file. To ensure that the right *Paraview* is found, the method can take an optional argument `Paraview_path`. If this argument is passed, the method will run, after closing the HDF5 and XDMF files, the command \n",
    "`Paraview_path my_dataset_path.xdmf`\n",
    "</div>"
   ]
  },
  {
   "cell_type": "code",
   "execution_count": 33,
   "metadata": {},
   "outputs": [],
   "source": [
    "# Like for Vitables --> uncomment to test\n",
    "# data.pause_for_visualization(Paraview=True, Paraview_path='Path_to_Paraview_executable')"
   ]
  },
  {
   "cell_type": "markdown",
   "metadata": {},
   "source": [
    "<div class=\"alert alert-info\">\n",
    "\n",
    "**Note** \n",
    "    \n",
    "**It is recommended to use a recent version of the Paraview software to visualize SampleData datasets (>= 5.0).**\n",
    "When opening the XDMF file, Paraview may ask you to choose a specific file reader. It is recommended to choose the \n",
    "**XDMF_reader**, and not the **Xdmf3ReaderT**, or **Xdmf3ReaderS**.\n",
    "</div>"
   ]
  },
  {
   "cell_type": "markdown",
   "metadata": {},
   "source": [
    "## V - Using command line tools"
   ]
  },
  {
   "cell_type": "markdown",
   "metadata": {},
   "source": [
    "You can also examine the content of your HDF5 datasets with generoc HDF5 command line tools, such as h5ls or h5dump:"
   ]
  },
  {
   "cell_type": "markdown",
   "metadata": {},
   "source": [
    "<div class=\"alert alert-warning\">\n",
    "\n",
    "**Warning** \n",
    "    \n",
    "In the following, executable programs that come with the HDF5 library and the Pytables package are used. If you are executing this notebook with Jupyter, you may not be able to have those executable in your path, if your environment is not suitably set. A workaround consist in finding the absolute path of the executable, and replacing the executable name in the following cells by its full path. For instance, replace \n",
    "    \n",
    "    `ptdump file.h5` \n",
    "with\n",
    "    \n",
    "    `/full/path/to/ptdump file.h5`\n",
    "    \n",
    "To find this full path, you can run in your shell the command `which ptdump`. Of course, the same applies for `h5ls` and `h5dump`.\n",
    "</div>\n",
    "\n",
    "<div class=\"alert alert-info\">\n",
    "\n",
    "**Note** \n",
    "    \n",
    "Most code lines below are commented as they produce very large outputs, that otherwise pollute the documentation if they are included in the automatic build process. Uncomment them to test them if you are using interactively these notebooks !\n",
    "</div>"
   ]
  },
  {
   "cell_type": "markdown",
   "metadata": {},
   "source": [
    "For that, you must first close your dataset. If you don't, this tools will not be able to open the HDF5 file as it is opened by the SampleData class in the Python interpretor."
   ]
  },
  {
   "cell_type": "code",
   "execution_count": 34,
   "metadata": {},
   "outputs": [],
   "source": [
    "del data "
   ]
  },
  {
   "cell_type": "code",
   "execution_count": 35,
   "metadata": {},
   "outputs": [
    {
     "name": "stdout",
     "output_type": "stream",
     "text": [
      "Index                    Group\r\n",
      "test_group               Group\r\n",
      "test_image               Group\r\n",
      "test_mesh                Group\r\n"
     ]
    }
   ],
   "source": [
    "# raw output of H5ls --> prints the childrens of the file root group\n",
    "!h5ls ../data/test_sampledata_ref.h5"
   ]
  },
  {
   "cell_type": "code",
   "execution_count": 36,
   "metadata": {},
   "outputs": [
    {
     "name": "stdout",
     "output_type": "stream",
     "text": [
      "/                        Group\r\n",
      "/Index                   Group\r\n",
      "/Index/Aliases           Group\r\n",
      "/test_group              Group\r\n",
      "/test_group/test_array   Dataset {51/8192}\r\n",
      "/test_group/test_table   Dataset {2/Inf}\r\n",
      "/test_image              Group\r\n",
      "/test_image/Field_index  Dataset {4/Inf}\r\n",
      "/test_image/test_image_field Dataset {10/327, 10, 10}\r\n",
      "/test_image/test_tensor_T1_0 Dataset {10/18, 10, 10, 9}\r\n",
      "/test_image/test_tensor_T2_0 Dataset {10/18, 10, 10, 9}\r\n",
      "/test_image/test_tensor_T3_0 Dataset {10/18, 10, 10, 9}\r\n",
      "/test_mesh               Group\r\n",
      "/test_mesh/Field_index   Dataset {11/Inf}\r\n",
      "/test_mesh/Geometry      Group\r\n",
      "/test_mesh/Geometry/Elem_tag_type_list Dataset {3/Inf}\r\n",
      "/test_mesh/Geometry/Elem_tags_list Dataset {3/Inf}\r\n",
      "/test_mesh/Geometry/Elements Dataset {24/8192}\r\n",
      "/test_mesh/Geometry/ElementsTags Group\r\n",
      "/test_mesh/Geometry/ElementsTags/ET_2D Dataset {8/8192}\r\n",
      "/test_mesh/Geometry/ElementsTags/ET_Bottom Dataset {4/8192}\r\n",
      "/test_mesh/Geometry/ElementsTags/ET_Top Dataset {4/8192}\r\n",
      "/test_mesh/Geometry/ElementsTags/field_2D Dataset {8/8192, 1}\r\n",
      "/test_mesh/Geometry/ElementsTags/field_Bottom Dataset {8/8192, 1}\r\n",
      "/test_mesh/Geometry/ElementsTags/field_Top Dataset {8/8192, 1}\r\n",
      "/test_mesh/Geometry/NodeTags Group\r\n",
      "/test_mesh/Geometry/NodeTags/NT_Z0_plane Dataset {4/8192}\r\n",
      "/test_mesh/Geometry/NodeTags/NT_out_of_plane Dataset {2/8192}\r\n",
      "/test_mesh/Geometry/NodeTags/field_Z0_plane Dataset {6/65536, 1}\r\n",
      "/test_mesh/Geometry/NodeTags/field_out_of_plane Dataset {6/65536, 1}\r\n",
      "/test_mesh/Geometry/Node_tags_list Dataset {2/Inf}\r\n",
      "/test_mesh/Geometry/Nodes Dataset {6/2730, 3}\r\n",
      "/test_mesh/Geometry/Nodes_ID Dataset {6/8192}\r\n",
      "/test_mesh/Test_field1   Dataset {6/8192, 1}\r\n",
      "/test_mesh/Test_field2   Dataset {6/8192, 1}\r\n",
      "/test_mesh/Test_field3   Dataset {8/8192, 1}\r\n",
      "/test_mesh/Test_field4   Dataset {8/8192, 1}\r\n",
      "/test_mesh/test_vector_T1_0 Dataset {6/2730, 3}\r\n",
      "/test_mesh/test_vector_T2_0 Dataset {6/2730, 3}\r\n"
     ]
    }
   ],
   "source": [
    "# recursive output of h5ls (-r option) -->  prints all data items \n",
    "!h5ls -r ../data/test_sampledata_ref.h5"
   ]
  },
  {
   "cell_type": "code",
   "execution_count": 37,
   "metadata": {},
   "outputs": [],
   "source": [
    "# recursive (-r) and detailed (-d) output of h5ls --> also print the content of the data arrays\n",
    "# !h5ls -rd ../data/test_sampledata_ref.h5"
   ]
  },
  {
   "cell_type": "code",
   "execution_count": 38,
   "metadata": {},
   "outputs": [],
   "source": [
    "# output of h5dump:\n",
    "# !h5dump ../data/test_sampledata_ref.h5"
   ]
  },
  {
   "cell_type": "markdown",
   "metadata": {},
   "source": [
    "As you can see if you uncommented and executed this cell, *h5dump* prints a a fully detailed description of your dataset: organization, data types, item names and path, and item content (value stored in arrays). As it produces a very large output, it may be convenient to write its output in a file:"
   ]
  },
  {
   "cell_type": "code",
   "execution_count": 39,
   "metadata": {},
   "outputs": [],
   "source": [
    "# !h5dump ../data/test_sampledata_ref.h5 > test_dump.txt"
   ]
  },
  {
   "cell_type": "code",
   "execution_count": 40,
   "metadata": {},
   "outputs": [],
   "source": [
    "# !cat test_dump.txt"
   ]
  },
  {
   "cell_type": "markdown",
   "metadata": {},
   "source": [
    "You can also use the command line tool of the *Pytables* software **ptdump**, that also takes as argument the HDF5 file, and has two command options, the verbose mode `-v`, and the detailed mode `-d`:"
   ]
  },
  {
   "cell_type": "code",
   "execution_count": 41,
   "metadata": {},
   "outputs": [],
   "source": [
    "# uncomment to test !\n",
    "# !ptdump ../data/test_sampledata_ref.h5"
   ]
  },
  {
   "cell_type": "code",
   "execution_count": 42,
   "metadata": {
    "scrolled": true
   },
   "outputs": [],
   "source": [
    "# uncomment to test!\n",
    "# !ptdump -v ../data/test_sampledata_ref.h5"
   ]
  },
  {
   "cell_type": "code",
   "execution_count": 43,
   "metadata": {
    "scrolled": true
   },
   "outputs": [],
   "source": [
    "# uncomment to test !\n",
    "# !ptdump -d ../data/test_sampledata_ref.h5"
   ]
  },
  {
   "cell_type": "markdown",
   "metadata": {},
   "source": [
    "**This second tutorial on Data Management with Pymicro User Guide is now finished. You should now know how to retrieve all the information you need in your datasets, and visualize 3D data with Paraview from your datasets. **"
   ]
  }
 ],
 "metadata": {
  "kernelspec": {
   "display_name": "Python 3",
   "language": "python",
   "name": "python3"
  },
  "language_info": {
   "codemirror_mode": {
    "name": "ipython",
    "version": 3
   },
   "file_extension": ".py",
   "mimetype": "text/x-python",
   "name": "python",
   "nbconvert_exporter": "python",
   "pygments_lexer": "ipython3",
   "version": "3.8.8"
  },
  "vscode": {
   "interpreter": {
    "hash": "916dbcbb3f70747c44a77c7bcd40155683ae19c65e1c03b4aa3499c5328201f1"
   }
  }
 },
 "nbformat": 4,
 "nbformat_minor": 4
}
