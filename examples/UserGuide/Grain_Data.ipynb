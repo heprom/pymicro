{
 "cells": [
  {
   "cell_type": "markdown",
   "id": "67c9e5c3-ee6f-4934-8c89-6134540ebc83",
   "metadata": {},
   "source": [
    "# Grain Data "
   ]
  },
  {
   "cell_type": "markdown",
   "id": "d8ccc98a-b48b-4469-b00d-6496403de02a",
   "metadata": {},
   "source": [
    "To study the *microstructure-properties* relationship for polycrystalline materials, collecting morphological and physical properties of the grains constituting a microstructure is an important task, that complements the study of microstructure images. This tutorial will review how to store, load and process grain data with *Pymicro*.\n",
    "\n",
    "In the `Microstructure` class data model, the `GrainData` group is aimed at storing statistical data describing the sample grains, that are mostly stored within a structured array, the **GrainDataTable**. \n",
    "\n",
    "One of Pymicro's example datasets will be used to study this group. Let's start by opening it with the `Microstructure` class and display the content of this group:"
   ]
  },
  {
   "cell_type": "code",
   "execution_count": 1,
   "id": "1ae9463c-c1e9-4a2e-be40-ae0389f809bb",
   "metadata": {},
   "outputs": [
    {
     "name": "stdout",
     "output_type": "stream",
     "text": [
      "\n",
      " GROUP GrainData\n",
      "=====================\n",
      " -- Parent Group : /\n",
      " -- Group attributes : \n",
      "\t * group_type : Data\n",
      " -- Childrens : GrainDataTable, \n",
      "----------------\n",
      "\n",
      "     --NODE GrainDataTable: /GrainData/GrainDataTable (None) (    1.436 Kb)\n",
      "\n"
     ]
    }
   ],
   "source": [
    "from config import PYMICRO_EXAMPLES_DATA_DIR # import file directory path\n",
    "import os \n",
    "\n",
    "# import Microstructure class\n",
    "from pymicro.crystal.microstructure import Microstructure \n",
    "micro = Microstructure(filename=os.path.join(PYMICRO_EXAMPLES_DATA_DIR,'t5_dct_slice_data.h5'))\n",
    "\n",
    "# display CellData group content\n",
    "micro.print_node_info('GrainData')\n",
    "micro.print_group_content('GrainData', short=True)"
   ]
  },
  {
   "cell_type": "markdown",
   "id": "3479522f-7db8-49cf-bfc3-486f386da372",
   "metadata": {},
   "source": [
    "## The Grain Data Table"
   ]
  },
  {
   "cell_type": "markdown",
   "id": "9eb22593-a8ce-49b3-9c0c-2d1c5a8288eb",
   "metadata": {},
   "source": [
    "The `GrainDataTable` mentioned above is the only data item stored in the `GrainData` group in the standard data model of the `Microstructure` class. Let's take a look at its content:"
   ]
  },
  {
   "cell_type": "code",
   "execution_count": 2,
   "id": "40064569-ba85-4a52-bc54-b46c4a931c90",
   "metadata": {},
   "outputs": [
    {
     "name": "stdout",
     "output_type": "stream",
     "text": [
      "<class 'numpy.ndarray'>\n",
      "[('bounding_box', '<i4', (3, 2)), ('center', '<f4', (3,)), ('idnumber', '<i4'), ('orientation', '<f4', (3,)), ('volume', '<f4')]\n",
      "[([[257, 498], [131, 334], [  0,   1]], [ 0.06535962, -0.13540885,  0.        ],   1, [ 0.09452096,  0.45667315, -0.1908928 ], 9.7096439e-05)\n",
      " ([[131, 382], [361, 537], [  0,   1]], [-0.08418886,  0.1768474 ,  0.        ],   3, [ 0.47176334,  0.42443925,  0.21837033], 7.6571319e-05)\n",
      " ([[169, 321], [171, 375], [  0,   1]], [-0.12312692, -0.07267088,  0.        ],   5, [ 0.7891136 , -0.56843024,  0.01993851], 4.3942415e-05)\n",
      " ([[328, 523], [311, 469], [  0,   1]], [ 0.14214575,  0.08379043,  0.        ],   6, [ 0.5407849 , -0.5829121 , -0.15143125], 5.3993688e-05)\n",
      " ([[105, 156], [301, 420], [  0,   1]], [-0.27974364,  0.04052933,  0.        ],   7, [-0.4113469 ,  0.18637992, -0.0899675 ], 1.0572632e-05)\n",
      " ([[415, 566], [131, 189], [  0,   1]], [ 0.22478512, -0.24323939,  0.        ],   9, [-0.22051871, -0.568544  , -0.26730168], 1.4035560e-05)\n",
      " ([[467, 569], [245, 391], [  0,   1]], [ 0.27332932, -0.01910632,  0.        ],  10, [ 0.7321588 ,  0.4550985 , -0.1540665 ], 2.9939783e-05)\n",
      " ([[142, 249], [291, 415], [  0,   1]], [-0.19227512,  0.04570894,  0.        ],  14, [-0.8053556 ,  0.5361014 ,  0.011616  ], 2.5060952e-05)\n",
      " ([[109, 212], [458, 539], [  0,   1]], [-0.24462087,  0.24956882,  0.        ],  16, [-0.79714507, -0.36815822, -0.23475127], 1.3780368e-05)\n",
      " ([[106, 237], [132, 214], [  0,   1]], [-0.22398418, -0.22145346,  0.        ],  17, [ 0.0384308 , -0.5491175 ,  0.08449803], 2.2212680e-05)\n",
      " ([[104, 172], [211, 312], [  0,   1]], [-0.26658773, -0.09434833,  0.        ],  18, [ 0.05181912,  0.9767362 , -0.23218708], 1.5297799e-05)\n",
      " ([[335, 448], [454, 540], [  0,   1]], [ 0.09969319,  0.24543414,  0.        ],  22, [-0.18012922,  0.6727327 ,  0.25471398], 1.7715263e-05)\n",
      " ([[320, 323], [343, 348], [  0,   1]], [-0.0077    ,  0.0259    ,  0.        ],  25, [ 0.15638582,  0.884963  , -0.22157212], 5.4879998e-09)\n",
      " ([[441, 553], [447, 539], [  0,   1]], [ 0.2280725 ,  0.24248306,  0.        ],  32, [ 0.5988454 , -0.38010532, -0.08003835], 1.8077471e-05)\n",
      " ([[499, 574], [388, 516], [  0,   1]], [ 0.29737142,  0.16697936,  0.        ],  37, [-0.7061676 ,  0.36509004,  0.0142626 ], 1.5863065e-05)\n",
      " ([[484, 567], [160, 249], [  0,   1]], [ 0.283409  , -0.16862918,  0.        ],  40, [ 0.0959702 ,  0.6410337 , -0.0187812 ], 1.5026144e-05)\n",
      " ([[237, 304], [133, 179], [  0,   1]], [-0.08731515, -0.24403782,  0.        ],  51, [ 0.62000704, -0.2996727 ,  0.11647069], 5.2163441e-06)\n",
      " ([[106, 133], [402, 467], [  0,   1]], [-0.29301223,  0.15198556,  0.        ],  52, [ 0.5636417 , -0.5580199 , -0.15464744], 3.4574400e-06)\n",
      " ([[553, 571], [358, 396], [  0,   1]], [ 0.33029434,  0.07187878,  0.        ],  98, [ 0.13639925,  0.8033593 ,  0.13590527], 1.1634560e-06)\n",
      " ([[243, 266], [366, 386], [  0,   1]], [-0.1045768 ,  0.06894867,  0.        ], 115, [-0.86381924,  0.441323  , -0.05843058], 7.2167200e-07)\n",
      " ([[104, 115], [194, 221], [  0,   1]], [-0.30526504, -0.1671011 ,  0.        ], 124, [-0.6494284 ,  0.26412636,  0.16653858], 5.0215198e-07)]\n"
     ]
    }
   ],
   "source": [
    "print(type(micro['GrainDataTable']))\n",
    "print(micro['GrainDataTable'].dtype)\n",
    "print(micro['GrainDataTable'])"
   ]
  },
  {
   "cell_type": "markdown",
   "id": "af5d0232-f77a-4f63-9184-812c8d91322a",
   "metadata": {},
   "source": [
    "<a id='l1'></a>\n",
    "### Get values from the GrainDataTable"
   ]
  },
  {
   "cell_type": "markdown",
   "id": "910c9529-12ee-4d9a-a0b1-61cb081bb48a",
   "metadata": {
    "tags": []
   },
   "source": [
    "The `GrainDataTable` stores a structured table, that can be retrieved as a *Numpy* structured array. As shown below, its fields provide the following information on the sample grains:\n",
    "\n",
    "* an identity number of the grain\n",
    "* two columns describing the grain geometry: volume and center (position of center of mass in sample)\n",
    "* the orientation of the grain provided as a **Rodrigues** vector\n",
    "* the indices of the grain bounding box in the `CellData` image field arrays\n",
    "\n",
    "To retrieve those values, you can use standard manipulation commands for `SampleData` structured tables and numpy arrays (see [dedicated tutorial](./Data_Items.ipynb)), or dedicated `Microstructure` class methods, such as `get_grain_centers`:\n",
    "\n",
    "* `get_grain_centers`\n",
    "* `get_grain_bounding_boxes`\n",
    "* `get_grain_volumes`"
   ]
  },
  {
   "cell_type": "code",
   "execution_count": 3,
   "id": "8c24724c-d9e4-47b1-9a79-4e609f018a28",
   "metadata": {},
   "outputs": [
    {
     "name": "stdout",
     "output_type": "stream",
     "text": [
      "grain ids equal ? True\n",
      "grain centers equal ? True\n",
      "grain volumes equal ? True\n",
      "grain bounding boxes equal ? True\n",
      "grain orientations equal ? True\n"
     ]
    }
   ],
   "source": [
    "import numpy as np\n",
    "\n",
    "# retrieve table as numpy structured array with SampleData dictionary like access\n",
    "GrainDataTable = micro['GrainDataTable']\n",
    "\n",
    "# get table columns from class methods and compare to arrays got with numpy array manipulation\n",
    "grain_ids = micro.get_grain_ids()\n",
    "print(f'grain ids equal ? {np.all(grain_ids == GrainDataTable[\"idnumber\"])}')\n",
    "grain_centers = micro.get_grain_centers()\n",
    "print(f'grain centers equal ? {np.all(grain_centers == GrainDataTable[\"center\"])}')\n",
    "grain_volumes = micro.get_grain_volumes()\n",
    "print(f'grain volumes equal ? {np.all(grain_volumes == GrainDataTable[\"volume\"])}')\n",
    "grain_bboxes = micro.get_grain_bounding_boxes()\n",
    "print(f'grain bounding boxes equal ? {np.all(grain_bboxes == GrainDataTable[\"bounding_box\"])}')\n",
    "grain_rodrigues = micro.get_grain_rodrigues()\n",
    "print(f'grain orientations equal ? {np.all(grain_rodrigues == GrainDataTable[\"orientation\"])}')"
   ]
  },
  {
   "cell_type": "markdown",
   "id": "9b324102-bee8-4560-99dd-426ce1d8df58",
   "metadata": {},
   "source": [
    "Other methods to get specific grain data are also available in the class interface:"
   ]
  },
  {
   "cell_type": "code",
   "execution_count": 4,
   "id": "94f2f0ea-924e-40c8-8164-ea6f67cb2610",
   "metadata": {},
   "outputs": [
    {
     "name": "stdout",
     "output_type": "stream",
     "text": [
      "The position of the 10 first grain centers of mass are:\n",
      " [[ 0.06535962 -0.13540885  0.        ]\n",
      " [-0.08418886  0.1768474   0.        ]\n",
      " [-0.12312692 -0.07267088  0.        ]\n",
      " [ 0.14214575  0.08379043  0.        ]\n",
      " [-0.27974364  0.04052933  0.        ]\n",
      " [ 0.22478512 -0.24323939  0.        ]\n",
      " [ 0.27332932 -0.01910632  0.        ]\n",
      " [-0.19227512  0.04570894  0.        ]\n",
      " [-0.24462087  0.24956882  0.        ]\n",
      " [-0.22398418 -0.22145346  0.        ]]\n",
      "\n",
      "The 10 first grain volume fractions are:\n",
      " [0.20217805 0.15943983 0.09149864 0.11242779 0.02201475 0.0292254\n",
      " 0.0623418  0.05218291 0.02869403 0.04625212]\n",
      "\n",
      "Volume fraction of grain 18 is 3.185%\n"
     ]
    }
   ],
   "source": [
    "centers = micro.get_grain_positions()\n",
    "print(f'The position of the 10 first grain centers of mass are:\\n {centers[:10]}\\n')\n",
    "\n",
    "volume_fractions = micro.get_grain_volume_fractions()\n",
    "print(f'The 10 first grain volume fractions are:\\n {volume_fractions[:10]}\\n')\n",
    "\n",
    "volume_fr = micro.get_grain_volume_fraction(18)\n",
    "print(f'Volume fraction of grain 18 is {volume_fr*100:1.3f}%')"
   ]
  },
  {
   "cell_type": "markdown",
   "id": "9be6b538-b405-4072-bfe1-bb3006681381",
   "metadata": {},
   "source": [
    "### The grains attribute"
   ]
  },
  {
   "cell_type": "markdown",
   "id": "8274deeb-7792-49d9-8520-26a70701e76b",
   "metadata": {},
   "source": [
    "The `Microstructure.grains` attribute is an alias for the *GrainDataTable* data item. As such, it allows to manipulate and interact directly with the *GrainDataTable*. You can use it to access grain data just like you would manipulate a *Numpy* structured array: "
   ]
  },
  {
   "cell_type": "code",
   "execution_count": 5,
   "id": "d8e9a2df-081e-4dd2-98d7-89b58c64c45c",
   "metadata": {},
   "outputs": [
    {
     "name": "stdout",
     "output_type": "stream",
     "text": [
      "[ 0.06535962 -0.13540885  0.        ] \n",
      "\n",
      "[[-0.4113469   0.18637992 -0.0899675 ]\n",
      " [-0.22051871 -0.568544   -0.26730168]\n",
      " [ 0.7321588   0.4550985  -0.1540665 ]\n",
      " [-0.8053556   0.5361014   0.011616  ]\n",
      " [-0.79714507 -0.36815822 -0.23475127]\n",
      " [ 0.0384308  -0.5491175   0.08449803]]\n"
     ]
    }
   ],
   "source": [
    "print(micro.grains[0]['center'],'\\n')\n",
    "print(micro.grains[4:10]['orientation'])"
   ]
  },
  {
   "cell_type": "markdown",
   "id": "78451269-e85f-49f0-bf22-1a6f2deaf903",
   "metadata": {},
   "source": [
    "Hence, getting an information on a grain whose id number is known, can be done with a call of the form `micro.grains[\"idnumber\"]['\"information\"']`."
   ]
  },
  {
   "cell_type": "markdown",
   "id": "33416b04-f69a-4c02-b6a5-853499a2b765",
   "metadata": {
    "tags": []
   },
   "source": [
    "### Iterate Grains"
   ]
  },
  {
   "cell_type": "markdown",
   "id": "f7813cea-36a3-4334-a355-e21e9a79e185",
   "metadata": {},
   "source": [
    "The `GrainDataTable` can also be iterated. The iteration is done row by row of the structured array, and the iterator return these rows during a for loop:  "
   ]
  },
  {
   "cell_type": "code",
   "execution_count": 6,
   "id": "18c6c878-eefd-468d-a07e-2a671b6efc8c",
   "metadata": {},
   "outputs": [
    {
     "name": "stdout",
     "output_type": "stream",
     "text": [
      "Grain 1 center of mass is located at [ 0.06535962 -0.13540885  0.        ]\n",
      "Grain 3 center of mass is located at [-0.08418886  0.1768474   0.        ]\n",
      "Grain 5 center of mass is located at [-0.12312692 -0.07267088  0.        ]\n",
      "Grain 6 center of mass is located at [0.14214575 0.08379043 0.        ]\n",
      "Grain 7 center of mass is located at [-0.27974364  0.04052933  0.        ]\n",
      "Grain 9 center of mass is located at [ 0.22478512 -0.24323939  0.        ]\n",
      "Grain 10 center of mass is located at [ 0.27332932 -0.01910632  0.        ]\n",
      "Grain 14 center of mass is located at [-0.19227512  0.04570894  0.        ]\n",
      "Grain 16 center of mass is located at [-0.24462087  0.24956882  0.        ]\n",
      "Grain 17 center of mass is located at [-0.22398418 -0.22145346  0.        ]\n",
      "Grain 18 center of mass is located at [-0.26658773 -0.09434833  0.        ]\n",
      "Grain 22 center of mass is located at [0.09969319 0.24543414 0.        ]\n",
      "Grain 25 center of mass is located at [-0.0077  0.0259  0.    ]\n",
      "Grain 32 center of mass is located at [0.2280725  0.24248306 0.        ]\n",
      "Grain 37 center of mass is located at [0.29737142 0.16697936 0.        ]\n",
      "Grain 40 center of mass is located at [ 0.283409   -0.16862918  0.        ]\n",
      "Grain 51 center of mass is located at [-0.08731515 -0.24403782  0.        ]\n",
      "Grain 52 center of mass is located at [-0.29301223  0.15198556  0.        ]\n",
      "Grain 98 center of mass is located at [0.33029434 0.07187878 0.        ]\n"
     ]
    }
   ],
   "source": [
    "# iterate through grains with ID number below 200 and print center of masss\n",
    "for g in micro.grains:\n",
    "    if g[\"idnumber\"] > 100:\n",
    "        break\n",
    "    print(f'Grain {g[\"idnumber\"]} center of mass is located at {g[\"center\"]}')"
   ]
  },
  {
   "cell_type": "markdown",
   "id": "2a2b5a40-d037-42ca-93cb-9f9b1f0f57ad",
   "metadata": {},
   "source": [
    "These row object can be manipulated just like *Numpy* structured arrays. They have the same fields as the `GrainDataTable`."
   ]
  },
  {
   "cell_type": "markdown",
   "id": "cbd0c134-56d8-4d25-8734-9c3f48b0d9f0",
   "metadata": {},
   "source": [
    "## Grain Objects"
   ]
  },
  {
   "cell_type": "markdown",
   "id": "11daccdf-251e-4833-843e-1525d39118d4",
   "metadata": {},
   "source": [
    "*Pymicro* also has *Grain* objects that are specific containers equivalent to a row of the dataset *GrainDataTable*. You can get them with the following methods: "
   ]
  },
  {
   "cell_type": "code",
   "execution_count": 7,
   "id": "cf4ad9b9-df95-4f28-a9a9-c964d78f55e8",
   "metadata": {
    "tags": []
   },
   "outputs": [
    {
     "name": "stdout",
     "output_type": "stream",
     "text": [
      "Grain 18 grain object:\n",
      " Grain\n",
      " * id = 18\n",
      " * Crystal Orientation \n",
      "-------------------\n",
      "orientation matrix = \n",
      " [[-0.00260576 -0.18061533 -0.9835503 ]\n",
      " [ 0.2813084   0.94370258 -0.17404314]\n",
      " [ 0.95961382 -0.2771345   0.04834955]]\n",
      "Euler angles (degrees) = (  73.891,  87.229, 259.965)\n",
      "Rodrigues vector = [ 0.05181912  0.97673618 -0.2321871 ]\n",
      "Quaternion = (0.705, <0.037, 0.689, -0.164>)\n",
      " * center [-0.26658773 -0.09434833  0.        ]\n",
      " * has vtk mesh ? False\n",
      "\n"
     ]
    }
   ],
   "source": [
    "# get the grain object of a specific grain\n",
    "grain = micro.get_grain(18)\n",
    "print(f'Grain 18 grain object:\\n {grain}')"
   ]
  },
  {
   "cell_type": "markdown",
   "id": "1c1fefcf-45e0-474f-a806-e9e5814f6cb3",
   "metadata": {},
   "source": [
    "**As you can see, a `Grain` object is essentially defined by its identity number and is crystal orientation**. In addition, it also stores the position of the grain (`center` attribute).\n",
    "\n",
    "The `Grain` class provides methods to get physical or crystallographic information on the grain (volume, Schmid factor, Bragg condition, orientation...). For instance, to compute the Schmid factor of the grain for a given slip system, you can proceed as follows:"
   ]
  },
  {
   "cell_type": "code",
   "execution_count": 8,
   "id": "39a51b43-4940-48f4-934c-2877dbe9c7be",
   "metadata": {},
   "outputs": [
    {
     "name": "stdout",
     "output_type": "stream",
     "text": [
      "Schmid factor of grain 3 for first basal slip system is 0.197\n",
      "Schmid factor of grain 18 for first basal slip system is 0.469\n"
     ]
    }
   ],
   "source": [
    "# get the lattice of the sample phase\n",
    "lattice = micro.get_phase().get_lattice()\n",
    "\n",
    "# get Schmid factor of second grain in microstructure for first basal slip system\n",
    "grain_id = GrainDataTable['idnumber'][1]\n",
    "grain = micro.get_grain(grain_id)\n",
    "Schmid = grain.schmid_factor(lattice.get_slip_systems('basal')[0]) \n",
    "print(f'Schmid factor of grain {grain.id} for first basal slip system is {Schmid:1.3f}')\n",
    "\n",
    "# get Schmid factor of grain 18 for third prismatic slip system\n",
    "grain = micro.get_grain(18)\n",
    "Schmid = grain.schmid_factor(lattice.get_slip_systems('prism')[2]) \n",
    "print(f'Schmid factor of grain {grain.id} for first basal slip system is {Schmid:1.3f}')"
   ]
  },
  {
   "cell_type": "markdown",
   "id": "50435fdd-319d-4837-9b21-0e9d2d894138",
   "metadata": {},
   "source": [
    "You may also get a list of grain objects that includes all grains in the dataset, with the `get_all_grains` method:"
   ]
  },
  {
   "cell_type": "code",
   "execution_count": 9,
   "id": "4fa413e0-a44f-42b0-b5c3-a4c87632189b",
   "metadata": {},
   "outputs": [
    {
     "name": "stdout",
     "output_type": "stream",
     "text": [
      "First 2 grain objects of the microstructure:\n",
      " [Grain\n",
      " * id = 1\n",
      " * Crystal Orientation \n",
      "-------------------\n",
      "orientation matrix = \n",
      " [[ 0.60924219 -0.23562441 -0.75716913]\n",
      " [ 0.37332066  0.92762839  0.01171575]\n",
      " [ 0.69961106 -0.28980461  0.65311381]]\n",
      "Euler angles (degrees) = (  67.499,  49.223, 270.886)\n",
      "Rodrigues vector = [ 0.09452095  0.45667314 -0.19089281]\n",
      "Quaternion = (0.893, <0.084, 0.408, -0.170>)\n",
      " * center [ 0.06535962 -0.13540885  0.        ]\n",
      " * has vtk mesh ? False\n",
      ", Grain\n",
      " * id = 3\n",
      " * Crystal Orientation \n",
      "-------------------\n",
      "orientation matrix = \n",
      " [[ 0.68583138  0.57722928 -0.44321742]\n",
      " [-0.02500761  0.62734806  0.77833736]\n",
      " [ 0.7273307  -0.52272439  0.44469011]]\n",
      "Euler angles (degrees) = (  54.296,  63.596, 330.341)\n",
      "Rodrigues vector = [0.47176333 0.42443926 0.21837032]\n",
      "Quaternion = (0.830, <0.392, 0.352, 0.181>)\n",
      " * center [-0.08418886  0.1768474   0.        ]\n",
      " * has vtk mesh ? False\n",
      "]\n"
     ]
    }
   ],
   "source": [
    "# get a list of all grain objects in the microstructure\n",
    "grains_list = micro.get_all_grains()\n",
    "print(f'First 2 grain objects of the microstructure:\\n {grains_list[:2]}')"
   ]
  },
  {
   "cell_type": "markdown",
   "id": "844cb952-4cd2-4df3-b7c0-332b8e4cc0de",
   "metadata": {},
   "source": [
    "## Set GrainDataTable values"
   ]
  },
  {
   "cell_type": "markdown",
   "id": "446b377d-5874-4d4e-965f-4bb79d874a85",
   "metadata": {},
   "source": [
    "To conclude this tutorial, we will see how to add data into the `GrainDataTable` of a dataset. First, a new microstructure must be created to serve as an example:"
   ]
  },
  {
   "cell_type": "code",
   "execution_count": 10,
   "id": "16fe3f2c-03c2-484f-995e-10e8452a96bf",
   "metadata": {},
   "outputs": [
    {
     "name": "stdout",
     "output_type": "stream",
     "text": [
      "0 phases found in the data set\n",
      "new phase added: unknown\n",
      "Current grain data table /GrainData/GrainDataTable (Table(0,)) ''\n"
     ]
    }
   ],
   "source": [
    "# create an empty Microstructure object\n",
    "micro2 = Microstructure(filename='micro_test', autodelete=True, overwrite_hdf5=True)\n",
    "# print content of grain data table\n",
    "print(f'Current grain data table {micro2.grains}')"
   ]
  },
  {
   "cell_type": "markdown",
   "id": "768ad43b-fe6e-489a-9fd4-0f77318d0db3",
   "metadata": {},
   "source": [
    "### Add grains to the Grain Data Table"
   ]
  },
  {
   "cell_type": "markdown",
   "id": "1a87445c-2522-4ebc-8995-dfcdefe52b27",
   "metadata": {},
   "source": [
    "New grains can be added to the `GrainDataTable`, it can be initialized from a list of grain orientations, with the `add_grains` method. To illustrate that, we will initialize the table of the new microstructure from the orientations of the example dataset:"
   ]
  },
  {
   "cell_type": "code",
   "execution_count": 11,
   "id": "8fde2cf7-03e2-465f-8711-e49f4f229332",
   "metadata": {},
   "outputs": [
    {
     "name": "stdout",
     "output_type": "stream",
     "text": [
      "The microstructure has 0 grains\n",
      "adding 21 grains to the microstructure\n",
      "Current grain data table content (first 5 grains) \n",
      " [([[0, 0], [0, 0], [0, 0]], [0., 0., 0.], 0, [ 0.09452096,  0.45667315, -0.1908928 ], 0.)\n",
      " ([[0, 0], [0, 0], [0, 0]], [0., 0., 0.], 1, [ 0.47176334,  0.42443925,  0.21837033], 0.)\n",
      " ([[0, 0], [0, 0], [0, 0]], [0., 0., 0.], 2, [ 0.7891136 , -0.56843024,  0.01993851], 0.)\n",
      " ([[0, 0], [0, 0], [0, 0]], [0., 0., 0.], 3, [ 0.5407849 , -0.5829121 , -0.15143125], 0.)\n",
      " ([[0, 0], [0, 0], [0, 0]], [0., 0., 0.], 4, [-0.4113469 ,  0.18637992, -0.0899675 ], 0.)]\n",
      "Current grain ids (first 10 grains) \n",
      " [0 1 2 3 4 5 6 7 8 9]\n",
      "The microstructure has 21 grains\n"
     ]
    }
   ],
   "source": [
    "# get example dataset orientations\n",
    "orientations = micro.grains[:]['orientation']\n",
    "\n",
    "# count number of grains in the table\n",
    "print(f'The microstructure has {micro2.get_number_of_grains()} grains')\n",
    "\n",
    "# add new grains to new microstructure \n",
    "# orientations in GrainDataTable are stored with Rodrigues vector \n",
    "micro2.add_grains(orientation_list=orientations, orientation_type='rod')\n",
    "\n",
    "# print content of grain data table\n",
    "print(f'Current grain data table content (first 5 grains) \\n {micro2.grains[:5]}')\n",
    "print(f'Current grain ids (first 10 grains) \\n {micro2.grains[:10][\"idnumber\"]}')\n",
    "\n",
    "# count number of grains in the table\n",
    "print(f'The microstructure has {micro2.get_number_of_grains()} grains')"
   ]
  },
  {
   "cell_type": "markdown",
   "id": "86ac5382-5d48-47b6-bf5d-48a67208a724",
   "metadata": {},
   "source": [
    "As you can see 21 new grains have been created from the crystal orientation provided to the `add_grains` method. Their `idnumber` has been initialized from 0 to the n umber of added grains, and all other values (centers, volumes, bounding boxes) have been initialized to zero. If we repeat the operation, we will add again 21 grains to the microstructure, with the same orientations: "
   ]
  },
  {
   "cell_type": "code",
   "execution_count": 12,
   "id": "620392f1-eb14-42d3-be6a-5187cb652393",
   "metadata": {},
   "outputs": [
    {
     "name": "stdout",
     "output_type": "stream",
     "text": [
      "The microstructure has 21 grains\n",
      "adding 21 grains to the microstructure\n",
      "The microstructure has now 42 grains\n"
     ]
    }
   ],
   "source": [
    "# count number of grains in the table\n",
    "print(f'The microstructure has {micro2.get_number_of_grains()} grains')\n",
    "\n",
    "# add new grains to new microstructure \n",
    "# orientations in GrainDataTable are stored with Rodrigues vector \n",
    "micro2.add_grains(orientation_list=orientations, orientation_type='rod')\n",
    "\n",
    "# count number of grains in the table\n",
    "print(f'The microstructure has now {micro2.get_number_of_grains()} grains')"
   ]
  },
  {
   "cell_type": "markdown",
   "id": "8567ab98-0473-4f0a-8512-fa57f103fbaf",
   "metadata": {},
   "source": [
    "### Set values from arrays"
   ]
  },
  {
   "cell_type": "markdown",
   "id": "8b631cff-d619-4c84-8e0a-11cb3f8f627e",
   "metadata": {},
   "source": [
    "The methods to get values from the table, such as `get_grain_centers`, that have been shown [above](#l1) , have a counterpart to set these values, such as the `set_grain_centers`:\n",
    "\n",
    "* `set_centers`\n",
    "* `set_bounding_boxes`\n",
    "* `set_volumes`\n",
    "\n",
    "These methods allow to set all the values of a `GrainDataTable` column. Hence their input must have the appropriate shape:"
   ]
  },
  {
   "cell_type": "code",
   "execution_count": 13,
   "id": "714feed3-f670-44ca-909b-c37ad1b49402",
   "metadata": {},
   "outputs": [],
   "source": [
    "# set grain centers of new microstructure from centers of example dataset\n",
    "centers = micro.get_grain_centers()\n",
    "\n",
    "# new microstructure has new 42 grains \n",
    "# set new microstructure centers : 42 values must be passed \n",
    "micro2.set_centers(np.concatenate((centers, centers)))\n",
    "\n",
    "# set grain centers of new microstructure from centers of example dataset\n",
    "volumes = micro.get_grain_volumes()\n",
    "\n",
    "# new microstructure has new 42 grains \n",
    "# set new microstructure centers : 42 values must be passed \n",
    "micro2.set_volumes(np.concatenate((volumes, volumes)))\n",
    "\n",
    "# set grain centers of new microstructure from centers of example dataset\n",
    "bbox = micro.get_grain_bounding_boxes()\n",
    "\n",
    "# new microstructure has new 42 grains \n",
    "# set new microstructure centers : 42 values must be passed \n",
    "micro2.set_bounding_boxes(np.concatenate((bbox, bbox)))"
   ]
  },
  {
   "cell_type": "code",
   "execution_count": 14,
   "id": "de7a09e5-71ff-40dc-a596-1560640bec83",
   "metadata": {},
   "outputs": [
    {
     "name": "stdout",
     "output_type": "stream",
     "text": [
      "Current grain data table \n",
      " [([[257, 498], [131, 334], [  0,   1]], [ 0.06535962, -0.13540885,  0.        ],  0, [ 0.09452096,  0.45667315, -0.1908928 ], 9.7096439e-05)\n",
      " ([[131, 382], [361, 537], [  0,   1]], [-0.08418886,  0.1768474 ,  0.        ],  1, [ 0.47176334,  0.42443925,  0.21837033], 7.6571319e-05)\n",
      " ([[169, 321], [171, 375], [  0,   1]], [-0.12312692, -0.07267088,  0.        ],  2, [ 0.7891136 , -0.56843024,  0.01993851], 4.3942415e-05)\n",
      " ([[328, 523], [311, 469], [  0,   1]], [ 0.14214575,  0.08379043,  0.        ],  3, [ 0.5407849 , -0.5829121 , -0.15143125], 5.3993688e-05)\n",
      " ([[105, 156], [301, 420], [  0,   1]], [-0.27974364,  0.04052933,  0.        ],  4, [-0.4113469 ,  0.18637992, -0.0899675 ], 1.0572632e-05)\n",
      " ([[415, 566], [131, 189], [  0,   1]], [ 0.22478512, -0.24323939,  0.        ],  5, [-0.22051871, -0.568544  , -0.26730168], 1.4035560e-05)\n",
      " ([[467, 569], [245, 391], [  0,   1]], [ 0.27332932, -0.01910632,  0.        ],  6, [ 0.7321588 ,  0.4550985 , -0.1540665 ], 2.9939783e-05)\n",
      " ([[142, 249], [291, 415], [  0,   1]], [-0.19227512,  0.04570894,  0.        ],  7, [-0.8053556 ,  0.5361014 ,  0.011616  ], 2.5060952e-05)\n",
      " ([[109, 212], [458, 539], [  0,   1]], [-0.24462087,  0.24956882,  0.        ],  8, [-0.79714507, -0.36815822, -0.23475127], 1.3780368e-05)\n",
      " ([[106, 237], [132, 214], [  0,   1]], [-0.22398418, -0.22145346,  0.        ],  9, [ 0.0384308 , -0.5491175 ,  0.08449803], 2.2212680e-05)\n",
      " ([[104, 172], [211, 312], [  0,   1]], [-0.26658773, -0.09434833,  0.        ], 10, [ 0.05181912,  0.9767362 , -0.23218708], 1.5297799e-05)\n",
      " ([[335, 448], [454, 540], [  0,   1]], [ 0.09969319,  0.24543414,  0.        ], 11, [-0.18012922,  0.6727327 ,  0.25471398], 1.7715263e-05)\n",
      " ([[320, 323], [343, 348], [  0,   1]], [-0.0077    ,  0.0259    ,  0.        ], 12, [ 0.15638582,  0.884963  , -0.22157212], 5.4879998e-09)\n",
      " ([[441, 553], [447, 539], [  0,   1]], [ 0.2280725 ,  0.24248306,  0.        ], 13, [ 0.5988454 , -0.38010532, -0.08003835], 1.8077471e-05)\n",
      " ([[499, 574], [388, 516], [  0,   1]], [ 0.29737142,  0.16697936,  0.        ], 14, [-0.7061676 ,  0.36509004,  0.0142626 ], 1.5863065e-05)\n",
      " ([[484, 567], [160, 249], [  0,   1]], [ 0.283409  , -0.16862918,  0.        ], 15, [ 0.0959702 ,  0.6410337 , -0.0187812 ], 1.5026144e-05)\n",
      " ([[237, 304], [133, 179], [  0,   1]], [-0.08731515, -0.24403782,  0.        ], 16, [ 0.62000704, -0.2996727 ,  0.11647069], 5.2163441e-06)\n",
      " ([[106, 133], [402, 467], [  0,   1]], [-0.29301223,  0.15198556,  0.        ], 17, [ 0.5636417 , -0.5580199 , -0.15464744], 3.4574400e-06)\n",
      " ([[553, 571], [358, 396], [  0,   1]], [ 0.33029434,  0.07187878,  0.        ], 18, [ 0.13639925,  0.8033593 ,  0.13590527], 1.1634560e-06)\n",
      " ([[243, 266], [366, 386], [  0,   1]], [-0.1045768 ,  0.06894867,  0.        ], 19, [-0.86381924,  0.441323  , -0.05843058], 7.2167200e-07)\n",
      " ([[104, 115], [194, 221], [  0,   1]], [-0.30526504, -0.1671011 ,  0.        ], 20, [-0.6494284 ,  0.26412636,  0.16653858], 5.0215198e-07)\n",
      " ([[257, 498], [131, 334], [  0,   1]], [ 0.06535962, -0.13540885,  0.        ], 21, [ 0.09452096,  0.45667315, -0.1908928 ], 9.7096439e-05)\n",
      " ([[131, 382], [361, 537], [  0,   1]], [-0.08418886,  0.1768474 ,  0.        ], 22, [ 0.47176334,  0.42443925,  0.21837033], 7.6571319e-05)\n",
      " ([[169, 321], [171, 375], [  0,   1]], [-0.12312692, -0.07267088,  0.        ], 23, [ 0.7891136 , -0.56843024,  0.01993851], 4.3942415e-05)\n",
      " ([[328, 523], [311, 469], [  0,   1]], [ 0.14214575,  0.08379043,  0.        ], 24, [ 0.5407849 , -0.5829121 , -0.15143125], 5.3993688e-05)\n",
      " ([[105, 156], [301, 420], [  0,   1]], [-0.27974364,  0.04052933,  0.        ], 25, [-0.4113469 ,  0.18637992, -0.0899675 ], 1.0572632e-05)\n",
      " ([[415, 566], [131, 189], [  0,   1]], [ 0.22478512, -0.24323939,  0.        ], 26, [-0.22051871, -0.568544  , -0.26730168], 1.4035560e-05)\n",
      " ([[467, 569], [245, 391], [  0,   1]], [ 0.27332932, -0.01910632,  0.        ], 27, [ 0.7321588 ,  0.4550985 , -0.1540665 ], 2.9939783e-05)\n",
      " ([[142, 249], [291, 415], [  0,   1]], [-0.19227512,  0.04570894,  0.        ], 28, [-0.8053556 ,  0.5361014 ,  0.011616  ], 2.5060952e-05)\n",
      " ([[109, 212], [458, 539], [  0,   1]], [-0.24462087,  0.24956882,  0.        ], 29, [-0.79714507, -0.36815822, -0.23475127], 1.3780368e-05)\n",
      " ([[106, 237], [132, 214], [  0,   1]], [-0.22398418, -0.22145346,  0.        ], 30, [ 0.0384308 , -0.5491175 ,  0.08449803], 2.2212680e-05)\n",
      " ([[104, 172], [211, 312], [  0,   1]], [-0.26658773, -0.09434833,  0.        ], 31, [ 0.05181912,  0.9767362 , -0.23218708], 1.5297799e-05)\n",
      " ([[335, 448], [454, 540], [  0,   1]], [ 0.09969319,  0.24543414,  0.        ], 32, [-0.18012922,  0.6727327 ,  0.25471398], 1.7715263e-05)\n",
      " ([[320, 323], [343, 348], [  0,   1]], [-0.0077    ,  0.0259    ,  0.        ], 33, [ 0.15638582,  0.884963  , -0.22157212], 5.4879998e-09)\n",
      " ([[441, 553], [447, 539], [  0,   1]], [ 0.2280725 ,  0.24248306,  0.        ], 34, [ 0.5988454 , -0.38010532, -0.08003835], 1.8077471e-05)\n",
      " ([[499, 574], [388, 516], [  0,   1]], [ 0.29737142,  0.16697936,  0.        ], 35, [-0.7061676 ,  0.36509004,  0.0142626 ], 1.5863065e-05)\n",
      " ([[484, 567], [160, 249], [  0,   1]], [ 0.283409  , -0.16862918,  0.        ], 36, [ 0.0959702 ,  0.6410337 , -0.0187812 ], 1.5026144e-05)\n",
      " ([[237, 304], [133, 179], [  0,   1]], [-0.08731515, -0.24403782,  0.        ], 37, [ 0.62000704, -0.2996727 ,  0.11647069], 5.2163441e-06)\n",
      " ([[106, 133], [402, 467], [  0,   1]], [-0.29301223,  0.15198556,  0.        ], 38, [ 0.5636417 , -0.5580199 , -0.15464744], 3.4574400e-06)\n",
      " ([[553, 571], [358, 396], [  0,   1]], [ 0.33029434,  0.07187878,  0.        ], 39, [ 0.13639925,  0.8033593 ,  0.13590527], 1.1634560e-06)\n",
      " ([[243, 266], [366, 386], [  0,   1]], [-0.1045768 ,  0.06894867,  0.        ], 40, [-0.86381924,  0.441323  , -0.05843058], 7.2167200e-07)\n",
      " ([[104, 115], [194, 221], [  0,   1]], [-0.30526504, -0.1671011 ,  0.        ], 41, [-0.6494284 ,  0.26412636,  0.16653858], 5.0215198e-07)]\n"
     ]
    }
   ],
   "source": [
    "# print content of grain data table\n",
    "print(f'Current grain data table \\n {micro2.grains[:]}')"
   ]
  },
  {
   "cell_type": "markdown",
   "id": "5c680c1f-ff8b-40d6-aa6b-0adbcfee05c3",
   "metadata": {},
   "source": [
    "The `GrainDataTable` has been now completely filled, and can be used to compute statistics or for various grain related data processings. "
   ]
  },
  {
   "cell_type": "markdown",
   "id": "e458caf7-c594-4341-b8ce-d6abdd2a5af6",
   "metadata": {},
   "source": [
    "### Setting data for a specific grain"
   ]
  },
  {
   "cell_type": "markdown",
   "id": "1afdba79-e287-4f1d-b049-f021822dece9",
   "metadata": {},
   "source": [
    "To change the data stored for a specific grain, you must iterate the table to find your grain object and set one of its values as if it was a *Numpy* structured array. Then you have to use the specific `update` method on the grain row to set the value in the dataset, as follows:"
   ]
  },
  {
   "cell_type": "code",
   "execution_count": 15,
   "id": "9d32cf45-185a-48b3-8e90-2fc01a020c30",
   "metadata": {},
   "outputs": [
    {
     "name": "stdout",
     "output_type": "stream",
     "text": [
      "The orientation of the grain is [ 0.0959702  0.6410337 -0.0187812]\n",
      "The new orientation of the grain is [0.18119627 0.76178765 0.15284005]\n",
      "The orientation of the grain is back at [ 0.0959702  0.6410337 -0.0187812]\n"
     ]
    }
   ],
   "source": [
    "# get old orientation value \n",
    "grain_orientation = micro2.GrainDataTable[15]['orientation']\n",
    "print(f'The orientation of the grain is {micro2.GrainDataTable[15][\"orientation\"]}')\n",
    "\n",
    "# iterate to find the grain and set its orientation to a random value \n",
    "for g in micro2.grains:\n",
    "    if g['idnumber'] == 15:\n",
    "        g['orientation'] = np.random.rand(3)\n",
    "        g.update()\n",
    "print(f'The new orientation of the grain is {micro2.GrainDataTable[15][\"orientation\"]}')\n",
    "\n",
    "# Set back the original value of the orientation \n",
    "for g in micro2.grains:\n",
    "    if g['idnumber'] == 15:\n",
    "        g['orientation'] = grain_orientation\n",
    "        g.update()\n",
    "\n",
    "print(f'The orientation of the grain is back at {micro2.GrainDataTable[15][\"orientation\"]}')"
   ]
  },
  {
   "cell_type": "code",
   "execution_count": 16,
   "id": "a6f2a34b-93de-44f2-89ad-673a5b637bb7",
   "metadata": {},
   "outputs": [
    {
     "name": "stdout",
     "output_type": "stream",
     "text": [
      "Microstructure Autodelete: \n",
      " Removing hdf5 file micro_test.h5\n"
     ]
    }
   ],
   "source": [
    "del micro2"
   ]
  },
  {
   "cell_type": "markdown",
   "id": "b2eb00e9-09fc-4bed-a1ea-426a0501cad3",
   "metadata": {},
   "source": [
    "### Setting grain data from the Grain Map"
   ]
  },
  {
   "cell_type": "markdown",
   "id": "e1c8ff2b-0e55-47ab-b82e-26b8cf22f0bc",
   "metadata": {},
   "source": [
    "The `GrainDataTable` contains data describing the grains position and morphology. These values can be computed from the `grain map` (see [dedicated tutorial](./Cell_Data.ipynb)), that contains the information of the geometry of each grain. Specific methods of the `Microstucture` class allow to compute those values and automatically fill the `GrainDataTable` with them. They are:\n",
    "\n",
    "* `recompute_grain_centers`: computes and fills the `center` column of the *GrainDataTable* from the grains geometry in grain map\n",
    "* `recompute_grain_volumes`: computes and fills the `volume` column of the *GrainDataTable* from the grains geometry in grain map\n",
    "* `recompute_grain_bounding_boxes`: computes and fills the `bounding_box` column of the *GrainDataTable* from the grains geometry in grain map\n",
    "\n",
    "If you need to call them all, you can do it at once with the `build_grain_table_from_grain_map`, that will first synchronize the grain ids that are in the `grain map` and the `GrainDataTable`, and then call the 3 previous methods to fill the geometric grain data in the table. Note that the \n",
    "\n",
    "**Microstructure datasets have been designed to have the `GrainDataTable` and the `grain_map` synchronized. Try to keep consistent values in your datasets to use all Pymicro's functionalities.**  \n",
    "\n",
    "This is an alternative way to initialize the `GrainDataTable` than the one shown above, that starts from grain orientations. This latter method is well suited for datasets created from imaging experiments.\n",
    "\n",
    "Here is an example of out it can be done:"
   ]
  },
  {
   "cell_type": "code",
   "execution_count": 17,
   "id": "0ff0295d-6bef-41c5-addf-daecde163cc3",
   "metadata": {},
   "outputs": [
    {
     "name": "stdout",
     "output_type": "stream",
     "text": [
      "0 phases found in the data set\n",
      "new phase added: unknown\n",
      "Current grain data table /GrainData/GrainDataTable (Table(0,)) '' \n",
      "\n"
     ]
    }
   ],
   "source": [
    "# create an empty Microstructure object\n",
    "micro2 = Microstructure(filename='micro_test', autodelete=True, overwrite_hdf5=True)\n",
    "                        \n",
    "# print content of grain data table\n",
    "print(f'Current grain data table {micro2.grains} \\n')"
   ]
  },
  {
   "cell_type": "code",
   "execution_count": 18,
   "id": "02e4858e-691f-4424-815d-c45c3c4b7e5c",
   "metadata": {},
   "outputs": [
    {
     "name": "stdout",
     "output_type": "stream",
     "text": [
      "\n",
      "adding 21 grains to the microstructure\n",
      "[([[257, 498], [131, 334], [  0,   1]], [ 0.06535962, -0.13540885,  0.        ],   1, [-2.6159715e-02, -5.1087022e-01, -5.0937504e-01], 9.7096439e-05)\n",
      " ([[131, 382], [361, 537], [  0,   1]], [-0.08418886,  0.1768474 ,  0.        ],   3, [-9.0635441e-02, -3.4260715e-03,  9.9374391e-02], 7.6571319e-05)\n",
      " ([[169, 321], [171, 375], [  0,   1]], [-0.12312692, -0.07267088,  0.        ],   5, [-2.5117931e-01, -5.7719272e-01,  2.1047381e-01], 4.3942415e-05)\n",
      " ([[328, 523], [311, 469], [  0,   1]], [ 0.14214575,  0.08379043,  0.        ],   6, [ 1.7028707e-01,  2.9738331e-01,  8.6136538e-01], 5.3993688e-05)\n",
      " ([[105, 156], [301, 420], [  0,   1]], [-0.27974364,  0.04052933,  0.        ],   7, [-1.3721985e-01, -3.3615172e-01, -3.9328018e-01], 1.0572632e-05)\n",
      " ([[415, 566], [131, 189], [  0,   1]], [ 0.22478512, -0.24323939,  0.        ],   9, [ 1.3955771e+00,  2.0641258e+00,  1.7507247e+00], 1.4035560e-05)\n",
      " ([[467, 569], [245, 391], [  0,   1]], [ 0.27332932, -0.01910632,  0.        ],  10, [ 5.4852492e-01, -2.5450132e+00,  4.1172931e-01], 2.9939783e-05)\n",
      " ([[142, 249], [291, 415], [  0,   1]], [-0.19227512,  0.04570894,  0.        ],  14, [ 9.0369767e-01,  3.3551234e-01, -2.3596170e+00], 2.5060952e-05)\n",
      " ([[109, 212], [458, 539], [  0,   1]], [-0.24462087,  0.24956882,  0.        ],  16, [ 9.7623014e-01, -2.0019872e-01,  9.6340245e-01], 1.3780368e-05)\n",
      " ([[106, 237], [132, 214], [  0,   1]], [-0.22398418, -0.22145346,  0.        ],  17, [ 4.8082457e+00,  6.0533800e+00,  1.7158341e+00], 2.2212680e-05)\n",
      " ([[104, 172], [211, 312], [  0,   1]], [-0.26658773, -0.09434833,  0.        ],  18, [-1.2494991e+01,  9.9201651e+00, -6.3427882e+00], 1.5297799e-05)\n",
      " ([[335, 448], [454, 540], [  0,   1]], [ 0.09969319,  0.24543414,  0.        ],  22, [-2.6403944e+00, -7.2602969e-01, -1.3909923e+00], 1.7715263e-05)\n",
      " ([[320, 323], [343, 348], [  0,   1]], [-0.0077    ,  0.0259    ,  0.        ],  25, [ 4.7628027e-01, -2.3429942e-01, -3.7962213e-01], 5.4879998e-09)\n",
      " ([[441, 553], [447, 539], [  0,   1]], [ 0.2280725 ,  0.24248306,  0.        ],  32, [ 3.2782443e+00,  1.5378791e+00, -6.8431908e-01], 1.8077471e-05)\n",
      " ([[499, 574], [388, 516], [  0,   1]], [ 0.29737142,  0.16697936,  0.        ],  37, [ 4.1303009e-01, -1.7133743e-01,  1.0939438e+00], 1.5863065e-05)\n",
      " ([[484, 567], [160, 249], [  0,   1]], [ 0.283409  , -0.16862918,  0.        ],  40, [-4.9299634e-01,  3.0369303e-01, -2.7360412e-01], 1.5026144e-05)\n",
      " ([[237, 304], [133, 179], [  0,   1]], [-0.08731515, -0.24403782,  0.        ],  51, [-1.5064347e+00, -2.8700313e-01, -9.8722839e-01], 5.2163441e-06)\n",
      " ([[106, 133], [402, 467], [  0,   1]], [-0.29301223,  0.15198556,  0.        ],  52, [ 4.1294199e-01, -6.2775993e-01, -6.2653840e-01], 3.4574400e-06)\n",
      " ([[553, 571], [358, 396], [  0,   1]], [ 0.33029434,  0.07187878,  0.        ],  98, [-1.8163548e+02, -3.3973927e+00, -5.2484394e+01], 1.1634560e-06)\n",
      " ([[243, 266], [366, 386], [  0,   1]], [-0.1045768 ,  0.06894867,  0.        ], 115, [ 2.9755764e+00, -9.0025473e+00,  9.2779951e+00], 7.2167200e-07)\n",
      " ([[104, 115], [194, 221], [  0,   1]], [-0.30526504, -0.1671011 ,  0.        ], 124, [ 1.3159384e-01, -1.2163057e+00, -2.2040234e+00], 5.0215198e-07)]\n"
     ]
    }
   ],
   "source": [
    "# set the grain map from example dataset \n",
    "micro2.set_grain_map(micro.get_grain_map(), voxel_size=micro.get_attribute('spacing','CellData')[0])\n",
    "\n",
    "# build the grain data table from the grain map\n",
    "micro2.build_grain_table_from_grain_map()\n",
    "\n",
    "# print new grain data table\n",
    "print(micro2.GrainDataTable)"
   ]
  },
  {
   "cell_type": "markdown",
   "id": "9ef09f4e-e617-4fb1-a1c1-6c493166231f",
   "metadata": {
    "tags": []
   },
   "source": [
    "The table has been created with its `'center', 'bounding_box', 'volume'` columns that have been computed from the `grain_map`. The grain orientations have been initialized with a random value. To set user defined values, the `set_orientations` method can be used:"
   ]
  },
  {
   "cell_type": "code",
   "execution_count": 19,
   "id": "f1604f10-af4d-453f-a29c-e76bff365bfc",
   "metadata": {},
   "outputs": [
    {
     "name": "stdout",
     "output_type": "stream",
     "text": [
      "[([[257, 498], [131, 334], [  0,   1]], [ 0.06535962, -0.13540885,  0.        ],   1, [ 0.09452096,  0.45667315, -0.1908928 ], 9.7096439e-05)\n",
      " ([[131, 382], [361, 537], [  0,   1]], [-0.08418886,  0.1768474 ,  0.        ],   3, [ 0.47176334,  0.42443925,  0.21837033], 7.6571319e-05)\n",
      " ([[169, 321], [171, 375], [  0,   1]], [-0.12312692, -0.07267088,  0.        ],   5, [ 0.7891136 , -0.56843024,  0.01993851], 4.3942415e-05)\n",
      " ([[328, 523], [311, 469], [  0,   1]], [ 0.14214575,  0.08379043,  0.        ],   6, [ 0.5407849 , -0.5829121 , -0.15143125], 5.3993688e-05)\n",
      " ([[105, 156], [301, 420], [  0,   1]], [-0.27974364,  0.04052933,  0.        ],   7, [-0.4113469 ,  0.18637992, -0.0899675 ], 1.0572632e-05)\n",
      " ([[415, 566], [131, 189], [  0,   1]], [ 0.22478512, -0.24323939,  0.        ],   9, [-0.22051871, -0.568544  , -0.26730168], 1.4035560e-05)\n",
      " ([[467, 569], [245, 391], [  0,   1]], [ 0.27332932, -0.01910632,  0.        ],  10, [ 0.7321588 ,  0.4550985 , -0.1540665 ], 2.9939783e-05)\n",
      " ([[142, 249], [291, 415], [  0,   1]], [-0.19227512,  0.04570894,  0.        ],  14, [-0.8053556 ,  0.5361014 ,  0.011616  ], 2.5060952e-05)\n",
      " ([[109, 212], [458, 539], [  0,   1]], [-0.24462087,  0.24956882,  0.        ],  16, [-0.79714507, -0.36815822, -0.23475127], 1.3780368e-05)\n",
      " ([[106, 237], [132, 214], [  0,   1]], [-0.22398418, -0.22145346,  0.        ],  17, [ 0.0384308 , -0.5491175 ,  0.08449803], 2.2212680e-05)\n",
      " ([[104, 172], [211, 312], [  0,   1]], [-0.26658773, -0.09434833,  0.        ],  18, [ 0.05181912,  0.9767362 , -0.23218708], 1.5297799e-05)\n",
      " ([[335, 448], [454, 540], [  0,   1]], [ 0.09969319,  0.24543414,  0.        ],  22, [-0.18012922,  0.6727327 ,  0.25471398], 1.7715263e-05)\n",
      " ([[320, 323], [343, 348], [  0,   1]], [-0.0077    ,  0.0259    ,  0.        ],  25, [ 0.15638582,  0.884963  , -0.22157212], 5.4879998e-09)\n",
      " ([[441, 553], [447, 539], [  0,   1]], [ 0.2280725 ,  0.24248306,  0.        ],  32, [ 0.5988454 , -0.38010532, -0.08003835], 1.8077471e-05)\n",
      " ([[499, 574], [388, 516], [  0,   1]], [ 0.29737142,  0.16697936,  0.        ],  37, [-0.7061676 ,  0.36509004,  0.0142626 ], 1.5863065e-05)\n",
      " ([[484, 567], [160, 249], [  0,   1]], [ 0.283409  , -0.16862918,  0.        ],  40, [ 0.0959702 ,  0.6410337 , -0.0187812 ], 1.5026144e-05)\n",
      " ([[237, 304], [133, 179], [  0,   1]], [-0.08731515, -0.24403782,  0.        ],  51, [ 0.62000704, -0.2996727 ,  0.11647069], 5.2163441e-06)\n",
      " ([[106, 133], [402, 467], [  0,   1]], [-0.29301223,  0.15198556,  0.        ],  52, [ 0.5636417 , -0.5580199 , -0.15464744], 3.4574400e-06)\n",
      " ([[553, 571], [358, 396], [  0,   1]], [ 0.33029434,  0.07187878,  0.        ],  98, [ 0.13639925,  0.8033593 ,  0.13590527], 1.1634560e-06)\n",
      " ([[243, 266], [366, 386], [  0,   1]], [-0.1045768 ,  0.06894867,  0.        ], 115, [-0.86381924,  0.441323  , -0.05843058], 7.2167200e-07)\n",
      " ([[104, 115], [194, 221], [  0,   1]], [-0.30526504, -0.1671011 ,  0.        ], 124, [-0.6494284 ,  0.26412636,  0.16653858], 5.0215198e-07)]\n"
     ]
    }
   ],
   "source": [
    "# get orientations from example dataset\n",
    "orientations = micro.get_grain_rodrigues()\n",
    "\n",
    "# set orientations in new microstructure\n",
    "micro2.set_orientations(orientations)\n",
    "\n",
    "# print content of grain data table\n",
    "print(micro2.GrainDataTable)"
   ]
  },
  {
   "cell_type": "markdown",
   "id": "e6d8b8eb-3922-49f5-97c8-1ec308054ae8",
   "metadata": {},
   "source": [
    "This concludes the tutorial on Pymicro's grain data !"
   ]
  },
  {
   "cell_type": "code",
   "execution_count": 20,
   "id": "01a3a721-387c-4d7a-b059-4037cbc70973",
   "metadata": {},
   "outputs": [
    {
     "name": "stdout",
     "output_type": "stream",
     "text": [
      "Microstructure Autodelete: \n",
      " Removing hdf5 file micro_test.h5\n"
     ]
    }
   ],
   "source": [
    "del micro2\n",
    "del micro"
   ]
  }
 ],
 "metadata": {
  "kernelspec": {
   "display_name": "Python 3",
   "language": "python",
   "name": "python3"
  },
  "language_info": {
   "codemirror_mode": {
    "name": "ipython",
    "version": 3
   },
   "file_extension": ".py",
   "mimetype": "text/x-python",
   "name": "python",
   "nbconvert_exporter": "python",
   "pygments_lexer": "ipython3",
   "version": "3.8.8"
  }
 },
 "nbformat": 4,
 "nbformat_minor": 5
}
