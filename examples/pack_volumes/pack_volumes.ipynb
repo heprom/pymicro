{
 "cells": [
  {
   "cell_type": "code",
   "execution_count": null,
   "metadata": {},
   "outputs": [],
   "source": [
    "# change this to whatever works to you\n",
    "# you should be in the directory of the notebook\n",
    "%cd pack_tutorial/   "
   ]
  },
  {
   "cell_type": "code",
   "execution_count": 65,
   "metadata": {},
   "outputs": [
    {
     "data": {
      "text/markdown": [
       "# Compressing X-ray tomography volumes with multiple semantic segmentations (voxel-wise categorical values)\n",
       "\n",
       "## Install\n",
       "\n",
       "Install a minimal conda env for the pack_volumes.ipynb example.\n",
       "\n",
       "My conda version:\n",
       "\n",
       "`conda -V`\n",
       "\n",
       "```\n",
       "conda 4.9.0\n",
       "```\n",
       "### Create a conda env\n",
       "\n",
       "Sequence of commands that I did:\n",
       "\n",
       "```\n",
       "conda create --name packenv python=3.8\n",
       "conda activate packenv\n",
       "conda install -c conda-forge basictools lxml pytables ipykernel\n",
       "```\n",
       "### `pymicro`\n",
       "\n",
       "`pymicro` is not on conda, so let's install it with pip\n",
       "\n",
       "```\n",
       "~/.conda/envs/packenv/bin/pip install git+https://github.com/heprom/pymicro.git\n",
       "```\n",
       "\n",
       "You might have to change the path to get the correct pip (in your conda env). \n",
       "\n",
       "You should look for the `pip` file at somewhere like `/path/to/my/env/bin/`.\n",
       "\n",
       "### `jupyter lab` (or `jupyter notebook` if you prefer)\n",
       "\n",
       "#### option 1\n",
       "\n",
       "If you want to install jupyter notebook/lab in the same env:\n",
       "\n",
       "```\n",
       "conda install -c conda-forge jupyterlab\n",
       "```\n",
       "\n",
       "#### option 2\n",
       "\n",
       "If you already have a jupyter notebook/lab installed, you can create a kernel in env you just created (`packenv`) and use it from there:\n",
       "\n",
       "```\n",
       "ipython kernel install --user --name=packenv\n",
       "```\n",
       "\n",
       "Restart your jupyter notebook/lab sever (or launch another one with a custom port).\n",
       "You will see the kernel `packenv` available.\n",
       "\n",
       "Then:\n",
       "\n",
       "```\n",
       "conda deactivate\n",
       "```\n",
       "\n",
       "Have fun (:\n",
       "\n",
       "## Env\n",
       "\n",
       "See the files:\n",
       " - `packenv-hist.yml`: from `conda env export --from-history`\n",
       " - `packenv.yml`: from `conda env export`\n",
       " \n",
       "## Data\n",
       "\n",
       "The files used in this example can be downloaded in the link below. \n",
       "\n",
       "[![DOI](https://zenodo.org/badge/DOI/10.5281/zenodo.4587757.svg)](https://doi.org/10.5281/zenodo.4587757)\n",
       "\n",
       "\n",
       "Extract them to a folder `raws` in the same directory of the tutorial. \n",
       "\n",
       "These are mock volumes from a glass fiber-reinforced polyamide 66 (`pa66`) image.\n",
       "\n",
       "---\n",
       "\n",
       "author: [joaopcbertoldo](joaopcbertoldo.github.io)\n",
       "\n",
       "---\n",
       "\n",
       "# Todos\n",
       "\n",
       " - reload data after writing it\n",
       " - plot it\n",
       " - get the last bit of the tutorial and put it with the published data to show how to open a sample data\n"
      ],
      "text/plain": [
       "<IPython.core.display.Markdown object>"
      ]
     },
     "metadata": {},
     "output_type": "display_data"
    }
   ],
   "source": [
    "from IPython.display import display, Markdown\n",
    "from pathlib import Path\n",
    "\n",
    "readme = Path(\"./readme.md\").absolute()\n",
    "\n",
    "with readme.open(\"r\") as f:\n",
    "    display(Markdown(f.read()))"
   ]
  },
  {
   "cell_type": "code",
   "execution_count": 3,
   "metadata": {},
   "outputs": [],
   "source": [
    "from copy import copy\n",
    "import os\n",
    "\n",
    "import numpy as np\n",
    "from matplotlib import pyplot as plt\n",
    "import tables\n",
    "import pymicro\n",
    "from pymicro.file.file_utils import HST_read\n",
    "from pymicro.core.samples import SampleData"
   ]
  },
  {
   "cell_type": "markdown",
   "metadata": {},
   "source": [
    "# Loading the data"
   ]
  },
  {
   "cell_type": "code",
   "execution_count": 4,
   "metadata": {},
   "outputs": [],
   "source": [
    "data_dir = Path(\"./raws\").absolute()"
   ]
  },
  {
   "cell_type": "code",
   "execution_count": 5,
   "metadata": {},
   "outputs": [
    {
     "data": {
      "text/plain": [
       "['.ipynb_checkpoints',\n",
       " 'crack.prediction.raw',\n",
       " 'crack.prediction.raw.info',\n",
       " 'crack.raw',\n",
       " 'crack.raw.info',\n",
       " 'pa66.ground_truth.raw',\n",
       " 'pa66.ground_truth.raw.info',\n",
       " 'pa66.raw',\n",
       " 'pa66.raw.info',\n",
       " 'pa66.test.error_volume.raw',\n",
       " 'pa66.test.error_volume.raw.info',\n",
       " 'pa66.test.prediction.raw',\n",
       " 'pa66.test.prediction.raw.info']"
      ]
     },
     "execution_count": 5,
     "metadata": {},
     "output_type": "execute_result"
    }
   ],
   "source": [
    "sorted(os.listdir(data_dir))"
   ]
  },
  {
   "cell_type": "code",
   "execution_count": 6,
   "metadata": {},
   "outputs": [],
   "source": [
    "pa66 = dict(\n",
    "    data=\"pa66.raw\",\n",
    "    ground_truth=\"pa66.ground_truth.raw\",\n",
    "    prediction=\"pa66.test.prediction.raw\",\n",
    "    error=\"pa66.test.error_volume.raw\",\n",
    ")\n",
    "\n",
    "crack = dict(\n",
    "    data=\"crack.raw\",\n",
    "    prediction=\"crack.prediction.raw\",\n",
    ")\n",
    "\n",
    "\n",
    "# transform the filenames in Path objects - it's handier (8\n",
    "pa66 = {\n",
    "    key: data_dir / fname \n",
    "    for key, fname in pa66.items()\n",
    "}\n",
    "\n",
    "crack = {\n",
    "    key: data_dir / fname \n",
    "    for key, fname in crack.items()\n",
    "}"
   ]
  },
  {
   "cell_type": "markdown",
   "metadata": {},
   "source": [
    "File sizes"
   ]
  },
  {
   "cell_type": "code",
   "execution_count": 7,
   "metadata": {},
   "outputs": [],
   "source": [
    "def show_file_sizes(files_dic):\n",
    "    for key, file in files_dic.items():\n",
    "        print(f\"{key}: {file.stat().st_size / 1024**3:.2f} GB\")"
   ]
  },
  {
   "cell_type": "code",
   "execution_count": 8,
   "metadata": {},
   "outputs": [
    {
     "name": "stdout",
     "output_type": "stream",
     "text": [
      "data: 0.06 GB\n",
      "ground_truth: 0.06 GB\n",
      "prediction: 0.02 GB\n",
      "error: 0.02 GB\n"
     ]
    }
   ],
   "source": [
    "show_file_sizes(pa66)"
   ]
  },
  {
   "cell_type": "markdown",
   "metadata": {},
   "source": [
    "Notice that 2 of the files have 1900 z-slices (the bigger ones), and 2 have 300 z-slices (the test set, a subvolume of the others)."
   ]
  },
  {
   "cell_type": "code",
   "execution_count": 9,
   "metadata": {},
   "outputs": [],
   "source": [
    "def show_info_files(files_dic):\n",
    "\n",
    "    for key, file in files_dic.items():\n",
    "\n",
    "        info_file = file.with_suffix(\".raw.info\")\n",
    "        print(f\"{info_file.name}\")\n",
    "\n",
    "        with info_file.open(\"r\") as f:\n",
    "            print(f.read(), \"\\n\")"
   ]
  },
  {
   "cell_type": "code",
   "execution_count": 10,
   "metadata": {},
   "outputs": [
    {
     "name": "stdout",
     "output_type": "stream",
     "text": [
      "pa66.raw.info\n",
      "! PyHST_SLAVE VOLUME INFO FILE\n",
      "NUM_X = 1300\n",
      "NUM_Y = 1040\n",
      "NUM_Z =   50\n",
      "DATA_TYPE = uint8\n",
      " \n",
      "\n",
      "pa66.ground_truth.raw.info\n",
      "! PyHST_SLAVE VOLUME INFO FILE\n",
      "NUM_X = 1300\n",
      "NUM_Y = 1040\n",
      "NUM_Z =   50\n",
      "DATA_TYPE = uint8\n",
      " \n",
      "\n",
      "pa66.test.prediction.raw.info\n",
      "! PyHST_SLAVE VOLUME INFO FILE\n",
      "NUM_X = 1300\n",
      "NUM_Y = 1040\n",
      "NUM_Z =   15\n",
      "DATA_TYPE = uint8\n",
      " \n",
      "\n",
      "pa66.test.error_volume.raw.info\n",
      "! PyHST_SLAVE VOLUME INFO FILE\n",
      "NUM_X = 1300\n",
      "NUM_Y = 1040\n",
      "NUM_Z =   15\n",
      "DATA_TYPE = uint8\n",
      " \n",
      "\n"
     ]
    }
   ],
   "source": [
    "show_info_files(pa66)"
   ]
  },
  {
   "cell_type": "code",
   "execution_count": 12,
   "metadata": {},
   "outputs": [],
   "source": [
    "# I am doing this automatically because all my files are \n",
    "# conveniently in the same data type, but you could \n",
    "# do this manually as well\n",
    "\n",
    "pa66_volumes = {\n",
    "    key: HST_read(\n",
    "        str(file),\n",
    "        autoparse_filename=False,\n",
    "        data_type=np.uint8,\n",
    "    )\n",
    "    for key, file in pa66.items()  # pa66 here\n",
    "}"
   ]
  },
  {
   "cell_type": "code",
   "execution_count": 13,
   "metadata": {},
   "outputs": [],
   "source": [
    "def check_volumes(volumes_dic):\n",
    "    for key, arr in volumes_dic.items():\n",
    "        print(f\"{key=} \\n{arr.dtype=} \\n{arr.shape=}\\n\")"
   ]
  },
  {
   "cell_type": "code",
   "execution_count": 14,
   "metadata": {},
   "outputs": [
    {
     "name": "stdout",
     "output_type": "stream",
     "text": [
      "key='data' \n",
      "arr.dtype=dtype('uint8') \n",
      "arr.shape=(1300, 1040, 50)\n",
      "\n",
      "key='ground_truth' \n",
      "arr.dtype=dtype('uint8') \n",
      "arr.shape=(1300, 1040, 50)\n",
      "\n",
      "key='prediction' \n",
      "arr.dtype=dtype('uint8') \n",
      "arr.shape=(1300, 1040, 15)\n",
      "\n",
      "key='error' \n",
      "arr.dtype=dtype('uint8') \n",
      "arr.shape=(1300, 1040, 15)\n",
      "\n"
     ]
    }
   ],
   "source": [
    "check_volumes(pa66_volumes)"
   ]
  },
  {
   "cell_type": "markdown",
   "metadata": {},
   "source": [
    "# Building the `SampleData` object\n",
    "\n",
    "This is where we put things in an `.h5`"
   ]
  },
  {
   "cell_type": "code",
   "execution_count": 15,
   "metadata": {},
   "outputs": [],
   "source": [
    "# the compression algorithm\n",
    "ft = tables.Filters(\n",
    "    complevel=9, \n",
    "    complib='zlib', \n",
    "    shuffle=True, \n",
    "    bitshuffle=False,\n",
    ")"
   ]
  },
  {
   "cell_type": "markdown",
   "metadata": {},
   "source": [
    "## `SampleData`"
   ]
  },
  {
   "cell_type": "code",
   "execution_count": 16,
   "metadata": {},
   "outputs": [],
   "source": [
    "bibtex_citation = \"TO BE UPDATED\"\n",
    "\n",
    "sample_description=\"\"\\\n",
    "\"Glass fiber-reinforced Poly Amide 66 3D X-ray \"\\\n",
    "\"tomography dataset for deep learning segmentation.\\n\"\\\n",
    "f\"If you use this volume, please cite us: {bibtex_citation}\"\n",
    "\n",
    "sample = SampleData(\n",
    "    filename=\"pa66_volumes\",  # for \"PolyAmide66\"\n",
    "    sample_name=\"pa66_volumes\", \n",
    "    sample_description=sample_description,\n",
    "    filters=ft,\n",
    "    replace=True,\n",
    ")"
   ]
  },
  {
   "cell_type": "markdown",
   "metadata": {},
   "source": [
    "## all sets image (train, val, test)"
   ]
  },
  {
   "cell_type": "markdown",
   "metadata": {},
   "source": [
    "data"
   ]
  },
  {
   "cell_type": "code",
   "execution_count": 17,
   "metadata": {},
   "outputs": [],
   "source": [
    "sample.add_image_from_field(\n",
    "    location=\"/\",\n",
    "    imagename=\"pa66\",\n",
    "    fieldname=\"data\",\n",
    "    field_array=pa66_volumes[\"data\"],\n",
    "    filters=ft,\n",
    "    origin=np.array([0, 0, 0]),\n",
    "    replace=True,\n",
    ")"
   ]
  },
  {
   "cell_type": "code",
   "execution_count": 18,
   "metadata": {},
   "outputs": [],
   "source": [
    "sample.set_description(\n",
    "    \"Annotated dataset, used for training, validation, and test.\", \n",
    "    node=\"/pa66\"\n",
    ")"
   ]
  },
  {
   "cell_type": "code",
   "execution_count": 19,
   "metadata": {},
   "outputs": [],
   "source": [
    "sample.set_description(\n",
    "    \"Data (gray level image stack)\", \n",
    "    node=\"/pa66/data\",\n",
    ")"
   ]
  },
  {
   "cell_type": "code",
   "execution_count": 20,
   "metadata": {},
   "outputs": [
    {
     "data": {
      "text/plain": [
       "Dataset Content Index :\n",
       "------------------------:\n",
       "index printed with max depth `3` and under local root `/`\n",
       "\n",
       "\t Name : pa66                                      H5_Path : /pa66 \t\n",
       "\t Name : data                                      H5_Path : /pa66/data \t\n",
       "\n",
       "****** DATA SET CONTENT ******\n",
       " -- File: pa66_volumes.h5\n",
       " -- Size:    55.050 Mb\n",
       " -- Data Model Class: SampleData\n",
       "\n",
       " Group /\n",
       "=====================\n",
       " -- Parent Group : /\n",
       " -- Group attributes : \n",
       "\t description : Glass fiber-reinforced Poly Amide 66 3D X-ray tomography dataset for deep learning segmentation.\n",
       "If you use this volume, please cite us: TO BE UPDATED\n",
       "\t sample_name : pa66_volumes\n",
       " -- Childrens : Index, pa66, \n",
       "----------------\n",
       "************************************************\n",
       " Group pa66\n",
       "=====================\n",
       " -- Parent Group : /\n",
       " -- Group attributes : \n",
       "\t Field_index : ['data']\n",
       "\t description : Annotated dataset, used for training, validation, and test.\n",
       "\t dimension : [1300 1040   50]\n",
       "\t empty : False\n",
       "\t group_type : 3DImage\n",
       "\t nodes_dimension : [1301 1041   51]\n",
       "\t nodes_dimension_xdmf : [1041 1301   51]\n",
       "\t origin : [0 0 0]\n",
       "\t spacing : [1. 1. 1.]\n",
       "\t xdmf_gridname : pa66\n",
       " -- Childrens : data, \n",
       "----------------\n",
       "\n",
       "****** Group /pa66 CONTENT ******\n",
       " Node /pa66/data\n",
       "====================\n",
       " -- Parent Group : pa66\n",
       " -- Node name : data\n",
       " -- Node attributes : \n",
       "\t description : Data (gray level image stack)\n",
       "\t empty : False\n",
       "\t field_dimensionality : Scalar\n",
       "\t field_type : Element_field\n",
       "\t padding : None\n",
       "\t parent_grid_path : /pa66\n",
       "\t transpose_indices : [2, 1, 0]\n",
       "\t xdmf_fieldname : data\n",
       "\t xdmf_gridname : pa66\n",
       " -- content : /pa66/data (CArray(50, 1040, 1300), shuffle, zlib(9)) 'data'\n",
       " -- Compression options for node `/pa66/data`:\n",
       "\tcomplevel=9, complib='zlib', shuffle=True, bitshuffle=False, fletcher32=False, least_significant_digit=None\n",
       " -- Node size :    56.623 Mb\n",
       "----------------\n",
       "************************************************"
      ]
     },
     "execution_count": 20,
     "metadata": {},
     "output_type": "execute_result"
    }
   ],
   "source": [
    "sample"
   ]
  },
  {
   "cell_type": "markdown",
   "metadata": {},
   "source": [
    "##### ground truth"
   ]
  },
  {
   "cell_type": "code",
   "execution_count": 21,
   "metadata": {},
   "outputs": [
    {
     "data": {
      "text/plain": [
       "/pa66/ground_truth (CArray(50, 1040, 1300), shuffle, zlib(9)) 'ground_truth'\n",
       "  atom := UInt8Atom(shape=(), dflt=0)\n",
       "  maindim := 0\n",
       "  flavor := 'numpy'\n",
       "  byteorder := 'irrelevant'\n",
       "  chunkshape := (1, 100, 1300)"
      ]
     },
     "execution_count": 21,
     "metadata": {},
     "output_type": "execute_result"
    }
   ],
   "source": [
    "sample.add_field(\n",
    "    gridname=\"/pa66\",\n",
    "    fieldname=\"ground_truth\",\n",
    "    array=pa66_volumes[\"ground_truth\"],\n",
    "    filters=ft,\n",
    "    replace=True,\n",
    ")"
   ]
  },
  {
   "cell_type": "code",
   "execution_count": 22,
   "metadata": {},
   "outputs": [],
   "source": [
    "sample.set_description(\n",
    "    \"Ground truth prediction. \"\\\n",
    "    \"Values are 0, 1, and 2, respectively corresponding \"\n",
    "    \"to the phases matrix, fiber, and porosity.\", \n",
    "    node=\"/pa66/ground_truth\",\n",
    ")"
   ]
  },
  {
   "cell_type": "markdown",
   "metadata": {},
   "source": [
    "## test set image"
   ]
  },
  {
   "cell_type": "markdown",
   "metadata": {},
   "source": [
    "prediction"
   ]
  },
  {
   "cell_type": "markdown",
   "metadata": {},
   "source": [
    "notice that the origin is different"
   ]
  },
  {
   "cell_type": "code",
   "execution_count": 23,
   "metadata": {},
   "outputs": [],
   "source": [
    "sample.add_image_from_field(\n",
    "    location=\"/\",\n",
    "    imagename=\"pa66_test\",\n",
    "    fieldname=\"prediction\",\n",
    "    field_array=pa66_volumes[\"prediction\"],\n",
    "    filters=ft,\n",
    "    origin=np.array([0, 0, 7]),  # todo change me to 1600\n",
    "    replace=True,\n",
    ")"
   ]
  },
  {
   "cell_type": "code",
   "execution_count": 24,
   "metadata": {},
   "outputs": [],
   "source": [
    "sample.set_description(\n",
    "    \"Test set (last 300 layers of the volume).\", \n",
    "    node=\"/pa66_test\"\n",
    ")"
   ]
  },
  {
   "cell_type": "code",
   "execution_count": 25,
   "metadata": {},
   "outputs": [],
   "source": [
    "sample.set_description(\n",
    "    \"Prediction generated by a 2d u-net model.\", \n",
    "    node=\"/pa66_test/prediction\",\n",
    ")"
   ]
  },
  {
   "cell_type": "markdown",
   "metadata": {},
   "source": [
    "errors"
   ]
  },
  {
   "cell_type": "code",
   "execution_count": 26,
   "metadata": {},
   "outputs": [
    {
     "data": {
      "text/plain": [
       "/pa66_test/error (CArray(15, 1040, 1300), shuffle, zlib(9)) 'error'\n",
       "  atom := UInt8Atom(shape=(), dflt=0)\n",
       "  maindim := 0\n",
       "  flavor := 'numpy'\n",
       "  byteorder := 'irrelevant'\n",
       "  chunkshape := (1, 100, 1300)"
      ]
     },
     "execution_count": 26,
     "metadata": {},
     "output_type": "execute_result"
    }
   ],
   "source": [
    "sample.add_field(\n",
    "    gridname=\"/pa66_test\",\n",
    "    fieldname=\"error\",\n",
    "    array=pa66_volumes[\"error\"],\n",
    "    filters=ft,\n",
    "    replace=True,\n",
    ")"
   ]
  },
  {
   "cell_type": "code",
   "execution_count": 27,
   "metadata": {},
   "outputs": [],
   "source": [
    "sample.set_description(\n",
    "    \"Disagreement between the ground truth and \"\n",
    "    \"the model's prediction on the test set: \"\n",
    "    \"1 means 'incorrect', 0 means 'correct'.\", \n",
    "    node=\"/pa66_test/error\",\n",
    ")"
   ]
  },
  {
   "cell_type": "code",
   "execution_count": 28,
   "metadata": {},
   "outputs": [
    {
     "data": {
      "text/plain": [
       "Dataset Content Index :\n",
       "------------------------:\n",
       "index printed with max depth `3` and under local root `/`\n",
       "\n",
       "\t Name : pa66                                      H5_Path : /pa66 \t\n",
       "\t Name : data                                      H5_Path : /pa66/data \t\n",
       "\t Name : ground_truth                              H5_Path : /pa66/ground_truth \t\n",
       "\t Name : pa66_test                                 H5_Path : /pa66_test \t\n",
       "\t Name : prediction                                H5_Path : /pa66_test/prediction \t\n",
       "\t Name : error                                     H5_Path : /pa66_test/error \t\n",
       "\n",
       "****** DATA SET CONTENT ******\n",
       " -- File: pa66_volumes.h5\n",
       " -- Size:    60.200 Mb\n",
       " -- Data Model Class: SampleData\n",
       "\n",
       " Group /\n",
       "=====================\n",
       " -- Parent Group : /\n",
       " -- Group attributes : \n",
       "\t description : Glass fiber-reinforced Poly Amide 66 3D X-ray tomography dataset for deep learning segmentation.\n",
       "If you use this volume, please cite us: TO BE UPDATED\n",
       "\t sample_name : pa66_volumes\n",
       " -- Childrens : Index, pa66, pa66_test, \n",
       "----------------\n",
       "************************************************\n",
       " Group pa66\n",
       "=====================\n",
       " -- Parent Group : /\n",
       " -- Group attributes : \n",
       "\t Field_index : ['data', 'ground_truth']\n",
       "\t description : Annotated dataset, used for training, validation, and test.\n",
       "\t dimension : [1300 1040   50]\n",
       "\t empty : False\n",
       "\t group_type : 3DImage\n",
       "\t nodes_dimension : [1301 1041   51]\n",
       "\t nodes_dimension_xdmf : [1041 1301   51]\n",
       "\t origin : [0 0 0]\n",
       "\t spacing : [1. 1. 1.]\n",
       "\t xdmf_gridname : pa66\n",
       " -- Childrens : data, ground_truth, \n",
       "----------------\n",
       "\n",
       "****** Group /pa66 CONTENT ******\n",
       " Node /pa66/data\n",
       "====================\n",
       " -- Parent Group : pa66\n",
       " -- Node name : data\n",
       " -- Node attributes : \n",
       "\t description : Data (gray level image stack)\n",
       "\t empty : False\n",
       "\t field_dimensionality : Scalar\n",
       "\t field_type : Element_field\n",
       "\t padding : None\n",
       "\t parent_grid_path : /pa66\n",
       "\t transpose_indices : [2, 1, 0]\n",
       "\t xdmf_fieldname : data\n",
       "\t xdmf_gridname : pa66\n",
       " -- content : /pa66/data (CArray(50, 1040, 1300), shuffle, zlib(9)) 'data'\n",
       " -- Compression options for node `/pa66/data`:\n",
       "\tcomplevel=9, complib='zlib', shuffle=True, bitshuffle=False, fletcher32=False, least_significant_digit=None\n",
       " -- Node size :    56.623 Mb\n",
       "----------------\n",
       " Node /pa66/ground_truth\n",
       "====================\n",
       " -- Parent Group : pa66\n",
       " -- Node name : ground_truth\n",
       " -- Node attributes : \n",
       "\t description : Ground truth prediction. Values are 0, 1, and 2, respectively corresponding to the phases matrix, fiber, and porosity.\n",
       "\t empty : False\n",
       "\t field_dimensionality : Scalar\n",
       "\t field_type : Element_field\n",
       "\t padding : None\n",
       "\t parent_grid_path : /pa66\n",
       "\t transpose_indices : [2, 1, 0]\n",
       "\t xdmf_fieldname : ground_truth\n",
       "\t xdmf_gridname : pa66\n",
       " -- content : /pa66/ground_truth (CArray(50, 1040, 1300), shuffle, zlib(9)) 'ground_truth'\n",
       " -- Compression options for node `/pa66/ground_truth`:\n",
       "\tcomplevel=9, complib='zlib', shuffle=True, bitshuffle=False, fletcher32=False, least_significant_digit=None\n",
       " -- Node size :     2.629 Mb\n",
       "----------------\n",
       "************************************************\n",
       " Group pa66_test\n",
       "=====================\n",
       " -- Parent Group : /\n",
       " -- Group attributes : \n",
       "\t Field_index : ['prediction', 'error']\n",
       "\t description : Test set (last 300 layers of the volume).\n",
       "\t dimension : [1300 1040   15]\n",
       "\t empty : False\n",
       "\t group_type : 3DImage\n",
       "\t nodes_dimension : [1301 1041   16]\n",
       "\t nodes_dimension_xdmf : [1041 1301   16]\n",
       "\t origin : [0 0 7]\n",
       "\t spacing : [1. 1. 1.]\n",
       "\t xdmf_gridname : pa66_test\n",
       " -- Childrens : prediction, error, \n",
       "----------------\n",
       "\n",
       "****** Group /pa66_test CONTENT ******\n",
       " Node /pa66_test/error\n",
       "====================\n",
       " -- Parent Group : pa66_test\n",
       " -- Node name : error\n",
       " -- Node attributes : \n",
       "\t description : Disagreement between the ground truth and the model's prediction on the test set: 1 means 'incorrect', 0 means 'correct'.\n",
       "\t empty : False\n",
       "\t field_dimensionality : Scalar\n",
       "\t field_type : Element_field\n",
       "\t padding : None\n",
       "\t parent_grid_path : /pa66_test\n",
       "\t transpose_indices : [2, 1, 0]\n",
       "\t xdmf_fieldname : error\n",
       "\t xdmf_gridname : pa66_test\n",
       " -- content : /pa66_test/error (CArray(15, 1040, 1300), shuffle, zlib(9)) 'error'\n",
       " -- Compression options for node `/pa66_test/error`:\n",
       "\tcomplevel=9, complib='zlib', shuffle=True, bitshuffle=False, fletcher32=False, least_significant_digit=None\n",
       " -- Node size :   302.895 Kb\n",
       "----------------\n",
       " Node /pa66_test/prediction\n",
       "====================\n",
       " -- Parent Group : pa66_test\n",
       " -- Node name : prediction\n",
       " -- Node attributes : \n",
       "\t description : Prediction generated by a 2d u-net model.\n",
       "\t empty : False\n",
       "\t field_dimensionality : Scalar\n",
       "\t field_type : Element_field\n",
       "\t padding : None\n",
       "\t parent_grid_path : /pa66_test\n",
       "\t transpose_indices : [2, 1, 0]\n",
       "\t xdmf_fieldname : prediction\n",
       "\t xdmf_gridname : pa66_test\n",
       " -- content : /pa66_test/prediction (CArray(15, 1040, 1300), shuffle, zlib(9)) 'prediction'\n",
       " -- Compression options for node `/pa66_test/prediction`:\n",
       "\tcomplevel=9, complib='zlib', shuffle=True, bitshuffle=False, fletcher32=False, least_significant_digit=None\n",
       " -- Node size :   740.356 Kb\n",
       "----------------\n",
       "************************************************"
      ]
     },
     "execution_count": 28,
     "metadata": {},
     "output_type": "execute_result"
    }
   ],
   "source": [
    "sample"
   ]
  },
  {
   "cell_type": "markdown",
   "metadata": {},
   "source": [
    "[![DOI](https://zenodo.org/badge/DOI/10.5281/zenodo.4587757.svg)](https://doi.org/10.5281/zenodo.4587757)# crack\n",
    "\n",
    "adding an image of another volume"
   ]
  },
  {
   "cell_type": "code",
   "execution_count": 29,
   "metadata": {},
   "outputs": [
    {
     "name": "stdout",
     "output_type": "stream",
     "text": [
      "data: 0.14 GB\n",
      "prediction: 0.14 GB\n"
     ]
    }
   ],
   "source": [
    "show_file_sizes(crack)"
   ]
  },
  {
   "cell_type": "code",
   "execution_count": 30,
   "metadata": {},
   "outputs": [
    {
     "name": "stdout",
     "output_type": "stream",
     "text": [
      "crack.raw.info\n",
      "! PyHST_SLAVE VOLUME INFO FILE\n",
      "NUM_X = 1579\n",
      "NUM_Y = 1845\n",
      "NUM_Z =   50\n",
      "DATA_TYPE = uint8\n",
      " \n",
      "\n",
      "crack.prediction.raw.info\n",
      "! PyHST_SLAVE VOLUME INFO FILE\n",
      "NUM_X = 1579\n",
      "NUM_Y = 1845\n",
      "NUM_Z =   50\n",
      "DATA_TYPE = uint8\n",
      " \n",
      "\n"
     ]
    }
   ],
   "source": [
    "show_info_files(crack)"
   ]
  },
  {
   "cell_type": "code",
   "execution_count": 31,
   "metadata": {},
   "outputs": [],
   "source": [
    "crack_volumes = {\n",
    "    key: HST_read(\n",
    "        str(file),\n",
    "        autoparse_filename=False,\n",
    "        data_type=np.uint8,\n",
    "        zrange=range(50),  # todo: removeme\n",
    "    )\n",
    "    for key, file in crack.items()  # crack here\n",
    "}"
   ]
  },
  {
   "cell_type": "code",
   "execution_count": 32,
   "metadata": {},
   "outputs": [
    {
     "name": "stdout",
     "output_type": "stream",
     "text": [
      "key='data' \n",
      "arr.dtype=dtype('uint8') \n",
      "arr.shape=(1579, 1845, 50)\n",
      "\n",
      "key='prediction' \n",
      "arr.dtype=dtype('uint8') \n",
      "arr.shape=(1579, 1845, 50)\n",
      "\n"
     ]
    }
   ],
   "source": [
    "check_volumes(crack_volumes)"
   ]
  },
  {
   "cell_type": "markdown",
   "metadata": {},
   "source": [
    "##### data"
   ]
  },
  {
   "cell_type": "code",
   "execution_count": 33,
   "metadata": {},
   "outputs": [],
   "source": [
    "sample.add_image_from_field(\n",
    "    location=\"/\",\n",
    "    imagename=\"crack\",\n",
    "    fieldname=\"crack_data\",\n",
    "    indexname=\"crack\",\n",
    "    field_array=crack_volumes[\"data\"],\n",
    "    filters=ft,\n",
    "    origin=np.array([0, 0, 0]),\n",
    "    replace=True,\n",
    ")"
   ]
  },
  {
   "cell_type": "code",
   "execution_count": 34,
   "metadata": {},
   "outputs": [],
   "source": [
    "sample.set_description(\n",
    "    \"Unannotated volume of glass-reinforced polyamide 66 submited to \"\\\n",
    "    \"a biaxial test, containg a crack issued from the experiment.\", \n",
    "    node=\"/crack\"\n",
    ")"
   ]
  },
  {
   "cell_type": "code",
   "execution_count": 35,
   "metadata": {},
   "outputs": [],
   "source": [
    "sample.set_description(\n",
    "    \"Data (gray level image stack).\", \n",
    "    node=\"/crack/crack_data\",\n",
    ")"
   ]
  },
  {
   "cell_type": "markdown",
   "metadata": {},
   "source": [
    "##### prediction"
   ]
  },
  {
   "cell_type": "code",
   "execution_count": 36,
   "metadata": {},
   "outputs": [
    {
     "data": {
      "text/plain": [
       "/crack/crack_prediction (CArray(50, 1845, 1579), shuffle, zlib(9)) 'crack_prediction'\n",
       "  atom := UInt8Atom(shape=(), dflt=0)\n",
       "  maindim := 0\n",
       "  flavor := 'numpy'\n",
       "  byteorder := 'irrelevant'\n",
       "  chunkshape := (1, 166, 1579)"
      ]
     },
     "execution_count": 36,
     "metadata": {},
     "output_type": "execute_result"
    }
   ],
   "source": [
    "sample.add_field(\n",
    "    gridname=\"/crack\",\n",
    "    fieldname=\"crack_prediction\",\n",
    "    array=crack_volumes[\"prediction\"],\n",
    "    filters=ft,\n",
    "    replace=True,\n",
    ")"
   ]
  },
  {
   "cell_type": "code",
   "execution_count": 37,
   "metadata": {},
   "outputs": [],
   "source": [
    "sample.set_description(\n",
    "    \"Segmentation predicted by the model trained on the other dataset.\", \n",
    "    node=\"/crack/crack_prediction\",\n",
    ")"
   ]
  },
  {
   "cell_type": "markdown",
   "metadata": {},
   "source": [
    "## metadata"
   ]
  },
  {
   "cell_type": "code",
   "execution_count": 38,
   "metadata": {},
   "outputs": [],
   "source": [
    "voxel_size = np.array([1.3, 1.3, 1.3])\n",
    "\n",
    "sample.set_voxel_size(\"pa66\", voxel_size)\n",
    "sample.set_voxel_size(\"pa66_test\", voxel_size)\n",
    "sample.set_voxel_size(\"crack\", voxel_size)"
   ]
  },
  {
   "cell_type": "code",
   "execution_count": 39,
   "metadata": {},
   "outputs": [],
   "source": [
    "class_mapping = dict(\n",
    "    matrix=0,\n",
    "    fiber=1,\n",
    "    porosity=2,\n",
    ")\n",
    "\n",
    "error_mapping = dict(\n",
    "    correct=0,\n",
    "    error=1,\n",
    ")\n",
    "\n",
    "data_split = dict(\n",
    "    train=dict(\n",
    "        x_range=[0, 1300],\n",
    "        y_range=[0, 1040],\n",
    "        z_range=[0, 1300],\n",
    "    ),\n",
    "    val=dict(\n",
    "        x_range=[0, 1300],\n",
    "        y_range=[0, 1040],\n",
    "        z_range=[1078, 1206],\n",
    "    ),\n",
    "    test=dict(\n",
    "        x_range=[0, 1300],\n",
    "        y_range=[0, 1040],\n",
    "        z_range=[1300, 1600],\n",
    "    ),\n",
    ")"
   ]
  },
  {
   "cell_type": "code",
   "execution_count": 40,
   "metadata": {},
   "outputs": [],
   "source": [
    "sample.add_attributes(\n",
    "    dict(data_split=copy(data_split)), \n",
    "    \"/pa66\",\n",
    ")"
   ]
  },
  {
   "cell_type": "code",
   "execution_count": 41,
   "metadata": {},
   "outputs": [],
   "source": [
    "sample.add_attributes(\n",
    "    dict(class_mapping=copy(class_mapping)),\n",
    "    \"/pa66/ground_truth\"\n",
    ")"
   ]
  },
  {
   "cell_type": "code",
   "execution_count": 42,
   "metadata": {},
   "outputs": [],
   "source": [
    "sample.add_attributes(\n",
    "    dict(class_mapping=copy(class_mapping)), \n",
    "    \"/pa66_test/prediction\",\n",
    ")"
   ]
  },
  {
   "cell_type": "code",
   "execution_count": 43,
   "metadata": {},
   "outputs": [],
   "source": [
    "sample.add_attributes(\n",
    "    dict(error_mapping=copy(error_mapping)), \n",
    "    \"/pa66_test/prediction\",\n",
    ")"
   ]
  },
  {
   "cell_type": "code",
   "execution_count": 44,
   "metadata": {},
   "outputs": [],
   "source": [
    "sample.add_attributes(\n",
    "    dict(class_mapping=copy(class_mapping)), \n",
    "    \"/crack/crack_prediction\",\n",
    ")"
   ]
  },
  {
   "cell_type": "code",
   "execution_count": 45,
   "metadata": {},
   "outputs": [],
   "source": [
    "sample.sync()"
   ]
  },
  {
   "cell_type": "code",
   "execution_count": 46,
   "metadata": {},
   "outputs": [],
   "source": [
    "del sample"
   ]
  },
  {
   "cell_type": "markdown",
   "metadata": {},
   "source": [
    "# Test "
   ]
  },
  {
   "cell_type": "markdown",
   "metadata": {},
   "source": [
    "## load "
   ]
  },
  {
   "cell_type": "code",
   "execution_count": 47,
   "metadata": {},
   "outputs": [
    {
     "ename": "NameError",
     "evalue": "name 'sample' is not defined",
     "output_type": "error",
     "traceback": [
      "\u001b[0;31m---------------------------------------------------------------------------\u001b[0m",
      "\u001b[0;31mNameError\u001b[0m                                 Traceback (most recent call last)",
      "\u001b[0;32m<ipython-input-47-5f34ec0bfeac>\u001b[0m in \u001b[0;36m<module>\u001b[0;34m\u001b[0m\n\u001b[0;32m----> 1\u001b[0;31m \u001b[0msample\u001b[0m\u001b[0;34m\u001b[0m\u001b[0;34m\u001b[0m\u001b[0m\n\u001b[0m",
      "\u001b[0;31mNameError\u001b[0m: name 'sample' is not defined"
     ]
    }
   ],
   "source": [
    "sample"
   ]
  },
  {
   "cell_type": "markdown",
   "metadata": {},
   "source": [
    ":point-up: that should give a `NameError`"
   ]
  },
  {
   "cell_type": "code",
   "execution_count": 48,
   "metadata": {},
   "outputs": [],
   "source": [
    "reloaded_sample = SampleData(\"pa66_volumes\")"
   ]
  },
  {
   "cell_type": "markdown",
   "metadata": {},
   "source": [
    "check that all the info is back there"
   ]
  },
  {
   "cell_type": "code",
   "execution_count": 50,
   "metadata": {},
   "outputs": [
    {
     "data": {
      "text/plain": [
       "Dataset Content Index :\n",
       "------------------------:\n",
       "index printed with max depth `3` and under local root `/`\n",
       "\n",
       "\t Name : crack                                     H5_Path : /crack \t\n",
       "\t Name : crack_data                                H5_Path : /crack/crack_data \t\n",
       "\t Name : crack_prediction                          H5_Path : /crack/crack_prediction \t\n",
       "\t Name : data                                      H5_Path : /pa66/data \t\n",
       "\t Name : error                                     H5_Path : /pa66_test/error \t\n",
       "\t Name : ground_truth                              H5_Path : /pa66/ground_truth \t\n",
       "\t Name : pa66                                      H5_Path : /pa66 \t\n",
       "\t Name : pa66_test                                 H5_Path : /pa66_test \t\n",
       "\t Name : prediction                                H5_Path : /pa66_test/prediction \t\n",
       "\n",
       "****** DATA SET CONTENT ******\n",
       " -- File: pa66_volumes.h5\n",
       " -- Size:   165.840 Mb\n",
       " -- Data Model Class: SampleData\n",
       "\n",
       " Group /\n",
       "=====================\n",
       " -- Parent Group : /\n",
       " -- Group attributes : \n",
       "\t description : Glass fiber-reinforced Poly Amide 66 3D X-ray tomography dataset for deep learning segmentation.\n",
       "If you use this volume, please cite us: TO BE UPDATED\n",
       "\t sample_name : pa66_volumes\n",
       " -- Childrens : Index, crack, pa66, pa66_test, \n",
       "----------------\n",
       "************************************************\n",
       " Group crack\n",
       "=====================\n",
       " -- Parent Group : /\n",
       " -- Group attributes : \n",
       "\t Field_index : ['crack_data', 'crack_prediction']\n",
       "\t description : Unannotated volume of glass-reinforced polyamide 66 submited to a biaxial test, containg a crack issued from the experiment.\n",
       "\t dimension : [1579 1845   50]\n",
       "\t empty : False\n",
       "\t group_type : 3DImage\n",
       "\t nodes_dimension : [1580 1846   51]\n",
       "\t nodes_dimension_xdmf : [1846 1580   51]\n",
       "\t origin : [0 0 0]\n",
       "\t spacing : [1.3 1.3 1.3]\n",
       "\t xdmf_gridname : crack\n",
       " -- Childrens : crack_data, crack_prediction, \n",
       "----------------\n",
       "\n",
       "****** Group /crack CONTENT ******\n",
       " Node /crack/crack_data\n",
       "====================\n",
       " -- Parent Group : crack\n",
       " -- Node name : crack_data\n",
       " -- Node attributes : \n",
       "\t description : Data (gray level image stack).\n",
       "\t empty : False\n",
       "\t field_dimensionality : Scalar\n",
       "\t field_type : Element_field\n",
       "\t padding : None\n",
       "\t parent_grid_path : /crack\n",
       "\t transpose_indices : [2, 1, 0]\n",
       "\t xdmf_fieldname : crack_data\n",
       "\t xdmf_gridname : crack\n",
       " -- content : /crack/crack_data (CArray(50, 1845, 1579), shuffle, zlib(9)) 'crack_data'\n",
       " -- Compression options for node `/crack/crack_data`:\n",
       "\tcomplevel=9, complib='zlib', shuffle=True, bitshuffle=False, fletcher32=False, least_significant_digit=None\n",
       " -- Node size :   102.768 Mb\n",
       "----------------\n",
       " Node /crack/crack_prediction\n",
       "====================\n",
       " -- Parent Group : crack\n",
       " -- Node name : crack_prediction\n",
       " -- Node attributes : \n",
       "\t class_mapping : {'matrix': 0, 'fiber': 1, 'porosity': 2}\n",
       "\t description : Segmentation predicted by the model trained on the other dataset.\n",
       "\t empty : False\n",
       "\t field_dimensionality : Scalar\n",
       "\t field_type : Element_field\n",
       "\t padding : None\n",
       "\t parent_grid_path : /crack\n",
       "\t transpose_indices : [2, 1, 0]\n",
       "\t xdmf_fieldname : crack_prediction\n",
       "\t xdmf_gridname : crack\n",
       " -- content : /crack/crack_prediction (CArray(50, 1845, 1579), shuffle, zlib(9)) 'crack_prediction'\n",
       " -- Compression options for node `/crack/crack_prediction`:\n",
       "\tcomplevel=9, complib='zlib', shuffle=True, bitshuffle=False, fletcher32=False, least_significant_digit=None\n",
       " -- Node size :     2.621 Mb\n",
       "----------------\n",
       "************************************************\n",
       " Group pa66\n",
       "=====================\n",
       " -- Parent Group : /\n",
       " -- Group attributes : \n",
       "\t Field_index : ['data', 'ground_truth']\n",
       "\t data_split : {'train': {'x_range': [0, 1300], 'y_range': [0, 1040], 'z_range': [0, 1300]}, 'val': {'x_range': [0, 1300], 'y_range': [0, 1040], 'z_range': [1078, 1206]}, 'test': {'x_range': [0, 1300], 'y_range': [0, 1040], 'z_range': [1300, 1600]}}\n",
       "\t description : Annotated dataset, used for training, validation, and test.\n",
       "\t dimension : [1300 1040   50]\n",
       "\t empty : False\n",
       "\t group_type : 3DImage\n",
       "\t nodes_dimension : [1301 1041   51]\n",
       "\t nodes_dimension_xdmf : [1041 1301   51]\n",
       "\t origin : [0 0 0]\n",
       "\t spacing : [1.3 1.3 1.3]\n",
       "\t xdmf_gridname : pa66\n",
       " -- Childrens : data, ground_truth, \n",
       "----------------\n",
       "\n",
       "****** Group /pa66 CONTENT ******\n",
       " Node /pa66/data\n",
       "====================\n",
       " -- Parent Group : pa66\n",
       " -- Node name : data\n",
       " -- Node attributes : \n",
       "\t description : Data (gray level image stack)\n",
       "\t empty : False\n",
       "\t field_dimensionality : Scalar\n",
       "\t field_type : Element_field\n",
       "\t padding : None\n",
       "\t parent_grid_path : /pa66\n",
       "\t transpose_indices : [2, 1, 0]\n",
       "\t xdmf_fieldname : data\n",
       "\t xdmf_gridname : pa66\n",
       " -- content : /pa66/data (CArray(50, 1040, 1300), shuffle, zlib(9)) 'data'\n",
       " -- Compression options for node `/pa66/data`:\n",
       "\tcomplevel=9, complib='zlib', shuffle=True, bitshuffle=False, fletcher32=False, least_significant_digit=None\n",
       " -- Node size :    56.623 Mb\n",
       "----------------\n",
       " Node /pa66/ground_truth\n",
       "====================\n",
       " -- Parent Group : pa66\n",
       " -- Node name : ground_truth\n",
       " -- Node attributes : \n",
       "\t class_mapping : {'matrix': 0, 'fiber': 1, 'porosity': 2}\n",
       "\t description : Ground truth prediction. Values are 0, 1, and 2, respectively corresponding to the phases matrix, fiber, and porosity.\n",
       "\t empty : False\n",
       "\t field_dimensionality : Scalar\n",
       "\t field_type : Element_field\n",
       "\t padding : None\n",
       "\t parent_grid_path : /pa66\n",
       "\t transpose_indices : [2, 1, 0]\n",
       "\t xdmf_fieldname : ground_truth\n",
       "\t xdmf_gridname : pa66\n",
       " -- content : /pa66/ground_truth (CArray(50, 1040, 1300), shuffle, zlib(9)) 'ground_truth'\n",
       " -- Compression options for node `/pa66/ground_truth`:\n",
       "\tcomplevel=9, complib='zlib', shuffle=True, bitshuffle=False, fletcher32=False, least_significant_digit=None\n",
       " -- Node size :     2.629 Mb\n",
       "----------------\n",
       "************************************************\n",
       " Group pa66_test\n",
       "=====================\n",
       " -- Parent Group : /\n",
       " -- Group attributes : \n",
       "\t Field_index : ['prediction', 'error']\n",
       "\t description : Test set (last 300 layers of the volume).\n",
       "\t dimension : [1300 1040   15]\n",
       "\t empty : False\n",
       "\t group_type : 3DImage\n",
       "\t nodes_dimension : [1301 1041   16]\n",
       "\t nodes_dimension_xdmf : [1041 1301   16]\n",
       "\t origin : [0 0 7]\n",
       "\t spacing : [1.3 1.3 1.3]\n",
       "\t xdmf_gridname : pa66_test\n",
       " -- Childrens : error, prediction, \n",
       "----------------\n",
       "\n",
       "****** Group /pa66_test CONTENT ******\n",
       " Node /pa66_test/error\n",
       "====================\n",
       " -- Parent Group : pa66_test\n",
       " -- Node name : error\n",
       " -- Node attributes : \n",
       "\t description : Disagreement between the ground truth and the model's prediction on the test set: 1 means 'incorrect', 0 means 'correct'.\n",
       "\t empty : False\n",
       "\t field_dimensionality : Scalar\n",
       "\t field_type : Element_field\n",
       "\t padding : None\n",
       "\t parent_grid_path : /pa66_test\n",
       "\t transpose_indices : [2, 1, 0]\n",
       "\t xdmf_fieldname : error\n",
       "\t xdmf_gridname : pa66_test\n",
       " -- content : /pa66_test/error (CArray(15, 1040, 1300), shuffle, zlib(9)) 'error'\n",
       " -- Compression options for node `/pa66_test/error`:\n",
       "\tcomplevel=9, complib='zlib', shuffle=True, bitshuffle=False, fletcher32=False, least_significant_digit=None\n",
       " -- Node size :   302.895 Kb\n",
       "----------------\n",
       " Node /pa66_test/prediction\n",
       "====================\n",
       " -- Parent Group : pa66_test\n",
       " -- Node name : prediction\n",
       " -- Node attributes : \n",
       "\t class_mapping : {'matrix': 0, 'fiber': 1, 'porosity': 2}\n",
       "\t description : Prediction generated by a 2d u-net model.\n",
       "\t empty : False\n",
       "\t error_mapping : {'correct': 0, 'error': 1}\n",
       "\t field_dimensionality : Scalar\n",
       "\t field_type : Element_field\n",
       "\t padding : None\n",
       "\t parent_grid_path : /pa66_test\n",
       "\t transpose_indices : [2, 1, 0]\n",
       "\t xdmf_fieldname : prediction\n",
       "\t xdmf_gridname : pa66_test\n",
       " -- content : /pa66_test/prediction (CArray(15, 1040, 1300), shuffle, zlib(9)) 'prediction'\n",
       " -- Compression options for node `/pa66_test/prediction`:\n",
       "\tcomplevel=9, complib='zlib', shuffle=True, bitshuffle=False, fletcher32=False, least_significant_digit=None\n",
       " -- Node size :   740.356 Kb\n",
       "----------------\n",
       "************************************************"
      ]
     },
     "execution_count": 50,
     "metadata": {},
     "output_type": "execute_result"
    }
   ],
   "source": [
    "reloaded_sample"
   ]
  },
  {
   "cell_type": "markdown",
   "metadata": {},
   "source": [
    "## plot"
   ]
  },
  {
   "cell_type": "raw",
   "metadata": {},
   "source": [
    "reloaded_sample.get_field(\"pa66_test/prediction\", unpad_field=False)"
   ]
  },
  {
   "cell_type": "raw",
   "metadata": {},
   "source": [
    "test_im = reloaded_sample.get_image(\"pa66_test\")"
   ]
  },
  {
   "cell_type": "raw",
   "metadata": {},
   "source": [
    "test_im"
   ]
  },
  {
   "cell_type": "raw",
   "metadata": {},
   "source": [
    "plt.imshow(...)"
   ]
  },
  {
   "cell_type": "code",
   "execution_count": null,
   "metadata": {},
   "outputs": [],
   "source": []
  }
 ],
 "metadata": {
  "kernelspec": {
   "display_name": "packenv",
   "language": "python",
   "name": "packenv"
  },
  "language_info": {
   "codemirror_mode": {
    "name": "ipython",
    "version": 3
   },
   "file_extension": ".py",
   "mimetype": "text/x-python",
   "name": "python",
   "nbconvert_exporter": "python",
   "pygments_lexer": "ipython3",
   "version": "3.8.8"
  }
 },
 "nbformat": 4,
 "nbformat_minor": 4
}
